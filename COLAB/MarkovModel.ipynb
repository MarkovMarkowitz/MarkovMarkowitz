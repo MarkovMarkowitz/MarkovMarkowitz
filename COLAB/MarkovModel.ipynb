{
  "cells": [
    {
      "cell_type": "markdown",
      "metadata": {
        "id": "view-in-github",
        "colab_type": "text"
      },
      "source": [
        "<a href=\"https://colab.research.google.com/github/MarkovMarkowitz/MarkovMarkowitz/blob/main/MarkovModel.ipynb\" target=\"_parent\"><img src=\"https://colab.research.google.com/assets/colab-badge.svg\" alt=\"Open In Colab\"/></a>"
      ]
    },
    {
      "cell_type": "code",
      "execution_count": 2,
      "id": "6f5ea911-19fc-48ed-93f4-50f44fc27afc",
      "metadata": {
        "id": "6f5ea911-19fc-48ed-93f4-50f44fc27afc",
        "outputId": "ac17d796-b207-47f5-b916-904fd02d8299",
        "colab": {
          "base_uri": "https://localhost:8080/"
        }
      },
      "outputs": [
        {
          "output_type": "stream",
          "name": "stdout",
          "text": [
            "\r[*********************100%%**********************]  1 of 1 completed\n",
            "State             (-inf, -0.025]  (-0.025, -0.015]  (-0.015, -0.005]  \\\n",
            "State                                                                  \n",
            "(-inf, -0.025]          0.209302          0.139535          0.046512   \n",
            "(-0.025, -0.015]        0.105263          0.236842          0.210526   \n",
            "(-0.015, -0.005]        0.222222          0.111111          0.074074   \n",
            "(-0.005, 0.005]         0.041667          0.083333          0.041667   \n",
            "(0.005, 0.015]          0.217391          0.043478          0.173913   \n",
            "(0.015, 0.025]          0.321429          0.142857          0.000000   \n",
            "(0.025, inf]            0.138462          0.200000          0.153846   \n",
            "\n",
            "State             (-0.005, 0.005]  (0.005, 0.015]  (0.015, 0.025]  \\\n",
            "State                                                               \n",
            "(-inf, -0.025]           0.116279        0.093023        0.093023   \n",
            "(-0.025, -0.015]         0.157895        0.157895        0.000000   \n",
            "(-0.015, -0.005]         0.000000        0.185185        0.148148   \n",
            "(-0.005, 0.005]          0.125000        0.125000        0.250000   \n",
            "(0.005, 0.015]           0.086957        0.086957        0.043478   \n",
            "(0.015, 0.025]           0.107143        0.035714        0.142857   \n",
            "(0.025, inf]             0.076923        0.030769        0.138462   \n",
            "\n",
            "State             (0.025, inf]  \n",
            "State                           \n",
            "(-inf, -0.025]        0.302326  \n",
            "(-0.025, -0.015]      0.131579  \n",
            "(-0.015, -0.005]      0.259259  \n",
            "(-0.005, 0.005]       0.333333  \n",
            "(0.005, 0.015]        0.347826  \n",
            "(0.015, 0.025]        0.250000  \n",
            "(0.025, inf]          0.261538  \n"
          ]
        }
      ],
      "source": [
        "#!pip install yfinance\n",
        "import pandas as pd\n",
        "import numpy as np\n",
        "import yfinance as yf\n",
        "\n",
        "# Download historical market data\n",
        "data = yf.download('ASELS.IS','2022-09-09','2023-09-09')\n",
        "\n",
        "# Compute daily returns\n",
        "data['Return'] = data['Close'].pct_change()\n",
        "\n",
        "# Define the states\n",
        "state_bins = [-np.inf, -0.025, -0.015, -0.005, 0.005, 0.015, 0.025, np.inf]\n",
        "data['State'] = pd.cut(data['Return'], bins=state_bins)\n",
        "\n",
        "# Drop the first row since it has a NaN return\n",
        "data = data.dropna()\n",
        "\n",
        "# Calculate the transition matrix\n",
        "transition_matrix = pd.crosstab(data['State'], data['State'].shift(-1), normalize='index')\n",
        "\n",
        "# Print the transition matrix\n",
        "print(transition_matrix)\n",
        "\n",
        "\n"
      ]
    },
    {
      "cell_type": "code",
      "execution_count": 3,
      "id": "3be9cfd9-a826-41f1-9117-d269427f8238",
      "metadata": {
        "id": "3be9cfd9-a826-41f1-9117-d269427f8238",
        "outputId": "8364f7b9-92ae-4251-d10e-edbd5da8680d",
        "colab": {
          "base_uri": "https://localhost:8080/"
        }
      },
      "outputs": [
        {
          "output_type": "execute_result",
          "data": {
            "text/plain": [
              "Date\n",
              "2022-09-12    0.099591\n",
              "2022-09-13   -0.069479\n",
              "2022-09-14    0.100000\n",
              "2022-09-15    0.026061\n",
              "2022-09-16   -0.001772\n",
              "                ...   \n",
              "2023-09-04   -0.004132\n",
              "2023-09-05   -0.001556\n",
              "2023-09-06    0.069610\n",
              "2023-09-07    0.019913\n",
              "2023-09-08    0.035714\n",
              "Name: Return, Length: 249, dtype: float64"
            ]
          },
          "metadata": {},
          "execution_count": 3
        }
      ],
      "source": [
        "data.Return"
      ]
    },
    {
      "cell_type": "code",
      "execution_count": 4,
      "id": "3a6ab790-6eef-401b-9ac2-f5bd2225fed6",
      "metadata": {
        "id": "3a6ab790-6eef-401b-9ac2-f5bd2225fed6",
        "outputId": "2f831df2-a635-4b99-ffd9-ff1182269670",
        "colab": {
          "base_uri": "https://localhost:8080/"
        }
      },
      "outputs": [
        {
          "output_type": "stream",
          "name": "stdout",
          "text": [
            "Predicted next state: (0.025, inf]\n"
          ]
        }
      ],
      "source": [
        "# Make a prediction from a given state\n",
        "\n",
        "current_state = data['State'].iloc[-1]\n",
        "#next_state = np.random.choice(transition_matrix.columns, p=transition_matrix.loc[current_state].values)\n",
        "next_state = transition_matrix.loc[current_state].idxmax()\n",
        "print(f'Predicted next state: {next_state}')"
      ]
    },
    {
      "cell_type": "code",
      "execution_count": 5,
      "id": "1771689b-4194-4c7a-98db-aa50a2a197dd",
      "metadata": {
        "id": "1771689b-4194-4c7a-98db-aa50a2a197dd",
        "outputId": "589d093f-bc50-4f61-e64b-13f84ec2fd3a",
        "colab": {
          "base_uri": "https://localhost:8080/"
        }
      },
      "outputs": [
        {
          "output_type": "execute_result",
          "data": {
            "text/plain": [
              "Interval(0.025, inf, closed='right')"
            ]
          },
          "metadata": {},
          "execution_count": 5
        }
      ],
      "source": [
        "data['State'][3]\n"
      ]
    },
    {
      "cell_type": "code",
      "execution_count": 5,
      "id": "fe4e1e7c-78b8-4e3a-a2fe-ad82b0e19c48",
      "metadata": {
        "id": "fe4e1e7c-78b8-4e3a-a2fe-ad82b0e19c48"
      },
      "outputs": [],
      "source": []
    }
  ],
  "metadata": {
    "kernelspec": {
      "display_name": "Python 3 (ipykernel)",
      "language": "python",
      "name": "python3"
    },
    "language_info": {
      "codemirror_mode": {
        "name": "ipython",
        "version": 3
      },
      "file_extension": ".py",
      "mimetype": "text/x-python",
      "name": "python",
      "nbconvert_exporter": "python",
      "pygments_lexer": "ipython3",
      "version": "3.11.3"
    },
    "colab": {
      "provenance": [],
      "include_colab_link": true
    }
  },
  "nbformat": 4,
  "nbformat_minor": 5
}