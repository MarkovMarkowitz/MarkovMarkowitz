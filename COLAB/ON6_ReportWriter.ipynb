{
  "nbformat": 4,
  "nbformat_minor": 0,
  "metadata": {
    "colab": {
      "provenance": [],
      "authorship_tag": "ABX9TyNccjIyw3v6mzFCQKA2EFQo",
      "include_colab_link": true
    },
    "kernelspec": {
      "name": "python3",
      "display_name": "Python 3"
    },
    "language_info": {
      "name": "python"
    }
  },
  "cells": [
    {
      "cell_type": "markdown",
      "metadata": {
        "id": "view-in-github",
        "colab_type": "text"
      },
      "source": [
        "<a href=\"https://colab.research.google.com/github/MarkovMarkowitz/MarkovMarkowitz/blob/main/ON6_ReportWriter.ipynb\" target=\"_parent\"><img src=\"https://colab.research.google.com/assets/colab-badge.svg\" alt=\"Open In Colab\"/></a>"
      ]
    },
    {
      "cell_type": "code",
      "execution_count": null,
      "metadata": {
        "id": "0WK0BTGEedwu"
      },
      "outputs": [],
      "source": [
        "!pip install jupyter_contrib_nbextensions\n",
        "!jupyter nbconvert --no-input --to html ON2_Markowitz_Efficient_Frontier_v3_Analysis.ipynb\n",
        "\n",
        "cd C:\\Users\\aulku\\Desktop\\MM\\My Yahoo Portfolios\\\n",
        "\n",
        "\"c:\\Program Files\\wkhtmltopdf\\bin\\wkhtmltopdf\" ON2_Markowitz_Efficient_Frontier_v3_Analysis.html ON2_Markowitz_Efficient_Frontier_v3_Analysis.pdf"
      ]
    }
  ]
}