{
  "nbformat": 4,
  "nbformat_minor": 0,
  "metadata": {
    "colab": {
      "provenance": [],
      "authorship_tag": "ABX9TyMOQlCa3WY2pj6+Vi5yR1jv",
      "include_colab_link": true
    },
    "kernelspec": {
      "name": "python3",
      "display_name": "Python 3"
    },
    "language_info": {
      "name": "python"
    }
  },
  "cells": [
    {
      "cell_type": "markdown",
      "metadata": {
        "id": "view-in-github",
        "colab_type": "text"
      },
      "source": [
        "<a href=\"https://colab.research.google.com/github/MarkovMarkowitz/MarkovMarkowitz/blob/main/ON6_MyFirstMachineLearningCodeforAssetPriceEstimation.ipynb\" target=\"_parent\"><img src=\"https://colab.research.google.com/assets/colab-badge.svg\" alt=\"Open In Colab\"/></a>"
      ]
    },
    {
      "cell_type": "markdown",
      "source": [
        "One of the simplest (if not the simplest) models that we can train with machine learning is the linear regression model. Linear regression imposes $g(.)$ to be a linear function of the inputs to predict the labels. A linear model makes a prediction by simply computing a sum of the input features, each multiplied by a parameter, plus a constant called the bias term (also \"intercept\"):\n",
        "$$\n",
        "\\begin{align*}\n",
        "\\widehat{y} = g(X) = \\theta_0 + \\theta_1 x_1 + \\theta_2 x_2 + ... + \\theta_n x_n\n",
        "\\end{align*}\n",
        "$$\n",
        "where\n",
        "* $\\widehat{y}$ is the predicted value for the label.\n",
        "* $n$ is the number of features.\n",
        "* $x_j$ is the $j^{th}$ input feature.\n",
        "* $\\theta_k$ is the $k^{th}$ model parameter, including the bias term $\\theta_0$.\n",
        "\n",
        "Suppose that our training sample contains $m$ instances of labels and input features. Then, the instance $i$ is represented by a label $y^{(i)}$ and a row vector of features\n",
        "$$\n",
        "\\begin{align*}\n",
        "x^{(i)}= \\left(x_0^{(i)}, x_1^{(i)}, x_2^{(i)}, \\cdots , x_n^{(i)}\\right)\n",
        "\\end{align*}\n",
        "$$\n",
        "\n",
        "where the input $x_0$ takes a value of one in all instances, in association with the bias term.\n",
        "\n",
        "To train the model, we need a criterion to determine how the model fits the training data. The most common performance measure of a regression model is the mean squared error (MSE). Therefore, if we stack the model parameters in a $n\\times 1$ column vector $\\theta$, we need to find the values for each element of that vector that solves:\n",
        "$$\n",
        "\\begin{align*}\n",
        "\\underset{\\theta}\\min \\frac{1}{m}\\sum_{i=1}^m \\left(y^{(i)} - x^{(i)}\\theta\\right)^2\n",
        "\\end{align*}\n",
        "$$\n",
        "\n",
        "The solution to this problem, $\\widehat{\\theta}$, leads to a closed form expression, called the *Normal Equation*:\n",
        "\n",
        "$$\n",
        "\\begin{align}\n",
        "\\widehat{\\theta}=(X^TX)^{-1}X^Ty\n",
        "\\end{align}\n",
        "$$\n",
        "\n",
        "where $X^T$ is the transpose of the feature matrix $X$. The computations involved for such solution, particularly the inverse part, are extremely costly when we have information on a large number of features or too many instances to fit in the memory of the computer.\n",
        "\n",
        "In machine learning applications, we usually opt for a generic optimization algorithm that is capable of finding optimal solutions to a wide range of problems: **Gradient Descent**. The idea behind this algorithm is to adjust gradually the parameters of the model in order to minimize a cost function, in our case the MSE. The method measures the local gradient of the cost function with respect to a parameter and tweaks the parameters in the direction of the descendent gradient. When the gradient is zero, we have reached a minimum.\n",
        "\n",
        "An important element of gradient descent is the *learning rate* hyperparameter (more on hyperparameters later). The learning rate determines the size of the adjustment of the parameters after each evaluation of the gradient. A too low learning rate will lead to many iterations in the algorithm; a too high learning rate will lead to divergence in the algorithm.\n",
        "\n",
        "One option to proceed is to fill $\\theta$ with random values, *random initialization*, and then improve the cost function gradually until the algorithm converges to a minimum. Fortunately, the MSE cost function for a linear regression model happens to be a *convex function* that has one global minimum. Hence, Gradient Descent is guaranteed to approach arbitrarily close to the unique minimum, as long as the learning rate is not too high. Moreover, transforming the input features to have a similar scale among them will also help to increase the speed of convergence.\n",
        "\n",
        "To implement gradient descent, we need to compute the gradient of the cost function with respect to each model parameter $\\theta_k$, that is, the *partial derivative*. When we use the MSE as a cost function, the partial derivative is given by:\n",
        "$$\n",
        "\\begin{align*}\n",
        "\\frac{\\partial}{\\partial\\theta_j}MSE(\\theta)=-\\frac{2}{m}\\sum_{i=1}^m \\left(y^{(i)}-x^{(i)}\\theta\\right)x_j^{(i)}\n",
        "\\end{align*}\n",
        "$$\n",
        "Notice that the partial derivative with respect to $\\theta_0$ *assumes* that $x_{0}^{(i)}=1$ for all $i$. If we stack all the partial derivatives in a column vector, we obtain the gradient $\\nabla_{\\theta} MSE(\\theta)$, and each step in Gradient Descent leads to an update of the parameter vector given by:\n",
        "$$\n",
        "\\begin{align*}\n",
        "\\theta^{[next\\ step]}=\\theta^{[previous\\ step]} - \\eta \\nabla_{\\theta} MSE\\left(\\theta^{[previous\\ step]}\\right)\n",
        "\\end{align*}\n",
        "$$\n",
        "where $\\eta>0$ is the learning rate. We stop the algorithm when the gradient vector becomes tiny, below a tolerance $\\epsilon$. To find a good learning rate, we can perform a grid search and eliminate models with a too slow convergence.\n",
        "\n",
        "The Gradient Descent algorithm introduced above is called *Batch Gradient Descent*; it uses the whole batch of training data at every step to update the parameters. This method can be slow on very large training sets. To reduce the computational cost of each step we can opt for *Stochastic Gradient Descent*, which computes the gradient at each step based on a single instance picked at random, or for *Mini-Batch Gradient Descent*, which computes the gradients at each step based on random sets of instances (called mini-batches).\n",
        "\n",
        "With all these concepts in mind, let's train our linear model and determine its ability predict future returns in the training sample. First, we load some libraries needed in this notebook. The Scikit-Learn library will be useful in all the applications of this module.\n"
      ],
      "metadata": {
        "id": "--wzH9ltM0Fu"
      }
    },
    {
      "cell_type": "code",
      "execution_count": 17,
      "metadata": {
        "colab": {
          "base_uri": "https://localhost:8080/"
        },
        "id": "0HEzHsGqKY8P",
        "outputId": "86675268-c579-4389-965d-44760c32706f"
      },
      "outputs": [
        {
          "output_type": "stream",
          "name": "stdout",
          "text": [
            "\r[*********************100%%**********************]  1 of 1 completed\n"
          ]
        }
      ],
      "source": [
        "DAYS_FORWARD = 1\n",
        "TEST_SIZE = 0.25\n",
        "\n",
        "import numpy as np\n",
        "import yfinance as yf\n",
        "\n",
        "# Getting historical market data from SPY (ETF) (SPY)\n",
        "df = yf.download(\"THYAO.IS\", start=\"2010-01-01\", end=\"2023-11-23\")"
      ]
    },
    {
      "cell_type": "code",
      "source": [
        "import matplotlib.pyplot as plt\n",
        "\n",
        "plt.figure(figsize=(15, 7))\n",
        "plt.plot(df.index, df[\"Adj Close\"], label=\"Daily Prices of SPY\")\n",
        "plt.legend()\n",
        "plt.show()"
      ],
      "metadata": {
        "colab": {
          "base_uri": "https://localhost:8080/",
          "height": 599
        },
        "id": "ikMDGsHOKnQU",
        "outputId": "70a58704-3686-46cd-c5a2-6a41d2f4bbc2"
      },
      "execution_count": 18,
      "outputs": [
        {
          "output_type": "display_data",
          "data": {
            "text/plain": [
              "<Figure size 1500x700 with 1 Axes>"
            ],
            "image/png": "[encoded data removed]"
          },
          "metadata": {}
        }
      ]
    },
    {
      "cell_type": "code",
      "source": [
        "df[\"Ret\"] = df[\"Adj Close\"].pct_change()\n",
        "\n",
        "name = \"Ret\"\n",
        "df[\"Ret10_i\"] = (\n",
        "    df[name].rolling(10).apply(lambda x: 100 * ((np.prod(1 + x)) ** (1 / 10) - 1))\n",
        ")\n",
        "df[\"Ret25_i\"] = (\n",
        "    df[name].rolling(25).apply(lambda x: 100 * ((np.prod(1 + x)) ** (1 / 25) - 1))\n",
        ")\n",
        "df[\"Ret60_i\"] = (\n",
        "    df[name].rolling(60).apply(lambda x: 100 * ((np.prod(1 + x)) ** (1 / 60) - 1))\n",
        ")\n",
        "df[\"Ret120_i\"] = (\n",
        "    df[name].rolling(120).apply(lambda x: 100 * ((np.prod(1 + x)) ** (1 / 120) - 1))\n",
        ")\n",
        "df[\"Ret240_i\"] = (\n",
        "    df[name].rolling(240).apply(lambda x: 100 * ((np.prod(1 + x)) ** (1 / 240) - 1))\n",
        ")\n",
        "\n",
        "del df[\"Open\"]\n",
        "del df[\"Close\"]\n",
        "del df[\"High\"]\n",
        "del df[\"Low\"]\n",
        "del df[\"Volume\"]\n",
        "del df[\"Adj Close\"]\n",
        "\n",
        "df = df.dropna()\n",
        "df.tail(10)"
      ],
      "metadata": {
        "colab": {
          "base_uri": "https://localhost:8080/",
          "height": 394
        },
        "id": "zR6XfcDYKnet",
        "outputId": "ecf17ad3-9332-45dd-f5cf-d96efff0f6f3"
      },
      "execution_count": 19,
      "outputs": [
        {
          "output_type": "execute_result",
          "data": {
            "text/plain": [
              "                 Ret   Ret10_i   Ret25_i   Ret60_i  Ret120_i  Ret240_i\n",
              "Date                                                                  \n",
              "2023-11-09  0.006999  0.722984 -0.191500 -0.167114  0.460734  0.298777\n",
              "2023-11-10 -0.004778  0.534826 -0.159039 -0.224028  0.438615  0.300132\n",
              "2023-11-13  0.013531  0.591584  0.087111 -0.132323  0.456689  0.297590\n",
              "2023-11-14  0.021103  0.875844 -0.016834 -0.147135  0.484200  0.301571\n",
              "2023-11-15 -0.006326  0.774804  0.094530 -0.131140  0.470729  0.285345\n",
              "2023-11-16  0.036927  0.916426  0.327945  0.031686  0.451399  0.296650\n",
              "2023-11-17  0.040729  1.198236  0.540416  0.163579  0.463330  0.298284\n",
              "2023-11-20  0.001967  1.195724  0.533864  0.113418  0.459260  0.286205\n",
              "2023-11-21  0.053974  1.738091  0.707717  0.079487  0.521712  0.275904\n",
              "2023-11-22 -0.024209  1.373048  0.765934  0.092241  0.482755  0.274808"
            ],
            "text/html": [
              "\n",
              "  <div id=\"df-4818fd90-05fc-45c0-be5a-10ddf2b83202\" class=\"colab-df-container\">\n",
              "    <div>\n",
              "<style scoped>\n",
              "    .dataframe tbody tr th:only-of-type {\n",
              "        vertical-align: middle;\n",
              "    }\n",
              "\n",
              "    .dataframe tbody tr th {\n",
              "        vertical-align: top;\n",
              "    }\n",
              "\n",
              "    .dataframe thead th {\n",
              "        text-align: right;\n",
              "    }\n",
              "</style>\n",
              "<table border=\"1\" class=\"dataframe\">\n",
              "  <thead>\n",
              "    <tr style=\"text-align: right;\">\n",
              "      <th></th>\n",
              "      <th>Ret</th>\n",
              "      <th>Ret10_i</th>\n",
              "      <th>Ret25_i</th>\n",
              "      <th>Ret60_i</th>\n",
              "      <th>Ret120_i</th>\n",
              "      <th>Ret240_i</th>\n",
              "    </tr>\n",
              "    <tr>\n",
              "      <th>Date</th>\n",
              "      <th></th>\n",
              "      <th></th>\n",
              "      <th></th>\n",
              "      <th></th>\n",
              "      <th></th>\n",
              "      <th></th>\n",
              "    </tr>\n",
              "  </thead>\n",
              "  <tbody>\n",
              "    <tr>\n",
              "      <th>2023-11-09</th>\n",
              "      <td>0.006999</td>\n",
              "      <td>0.722984</td>\n",
              "      <td>-0.191500</td>\n",
              "      <td>-0.167114</td>\n",
              "      <td>0.460734</td>\n",
              "      <td>0.298777</td>\n",
              "    </tr>\n",
              "    <tr>\n",
              "      <th>2023-11-10</th>\n",
              "      <td>-0.004778</td>\n",
              "      <td>0.534826</td>\n",
              "      <td>-0.159039</td>\n",
              "      <td>-0.224028</td>\n",
              "      <td>0.438615</td>\n",
              "      <td>0.300132</td>\n",
              "    </tr>\n",
              "    <tr>\n",
              "      <th>2023-11-13</th>\n",
              "      <td>0.013531</td>\n",
              "      <td>0.591584</td>\n",
              "      <td>0.087111</td>\n",
              "      <td>-0.132323</td>\n",
              "      <td>0.456689</td>\n",
              "      <td>0.297590</td>\n",
              "    </tr>\n",
              "    <tr>\n",
              "      <th>2023-11-14</th>\n",
              "      <td>0.021103</td>\n",
              "      <td>0.875844</td>\n",
              "      <td>-0.016834</td>\n",
              "      <td>-0.147135</td>\n",
              "      <td>0.484200</td>\n",
              "      <td>0.301571</td>\n",
              "    </tr>\n",
              "    <tr>\n",
              "      <th>2023-11-15</th>\n",
              "      <td>-0.006326</td>\n",
              "      <td>0.774804</td>\n",
              "      <td>0.094530</td>\n",
              "      <td>-0.131140</td>\n",
              "      <td>0.470729</td>\n",
              "      <td>0.285345</td>\n",
              "    </tr>\n",
              "    <tr>\n",
              "      <th>2023-11-16</th>\n",
              "      <td>0.036927</td>\n",
              "      <td>0.916426</td>\n",
              "      <td>0.327945</td>\n",
              "      <td>0.031686</td>\n",
              "      <td>0.451399</td>\n",
              "      <td>0.296650</td>\n",
              "    </tr>\n",
              "    <tr>\n",
              "      <th>2023-11-17</th>\n",
              "      <td>0.040729</td>\n",
              "      <td>1.198236</td>\n",
              "      <td>0.540416</td>\n",
              "      <td>0.163579</td>\n",
              "      <td>0.463330</td>\n",
              "      <td>0.298284</td>\n",
              "    </tr>\n",
              "    <tr>\n",
              "      <th>2023-11-20</th>\n",
              "      <td>0.001967</td>\n",
              "      <td>1.195724</td>\n",
              "      <td>0.533864</td>\n",
              "      <td>0.113418</td>\n",
              "      <td>0.459260</td>\n",
              "      <td>0.286205</td>\n",
              "    </tr>\n",
              "    <tr>\n",
              "      <th>2023-11-21</th>\n",
              "      <td>0.053974</td>\n",
              "      <td>1.738091</td>\n",
              "      <td>0.707717</td>\n",
              "      <td>0.079487</td>\n",
              "      <td>0.521712</td>\n",
              "      <td>0.275904</td>\n",
              "    </tr>\n",
              "    <tr>\n",
              "      <th>2023-11-22</th>\n",
              "      <td>-0.024209</td>\n",
              "      <td>1.373048</td>\n",
              "      <td>0.765934</td>\n",
              "      <td>0.092241</td>\n",
              "      <td>0.482755</td>\n",
              "      <td>0.274808</td>\n",
              "    </tr>\n",
              "  </tbody>\n",
              "</table>\n",
              "</div>\n",
              "    <div class=\"colab-df-buttons\">\n",
              "\n",
              "  <div class=\"colab-df-container\">\n",
              "    <button class=\"colab-df-convert\" onclick=\"convertToInteractive('df-4818fd90-05fc-45c0-be5a-10ddf2b83202')\"\n",
              "            title=\"Convert this dataframe to an interactive table.\"\n",
              "            style=\"display:none;\">\n",
              "\n",
              "  <svg xmlns=\"http://www.w3.org/2000/svg\" height=\"24px\" viewBox=\"0 -960 960 960\">\n",
              "    <path d=\"M120-120v-720h720v720H120Zm60-500h600v-160H180v160Zm220 220h160v-160H400v160Zm0 220h160v-160H400v160ZM180-400h160v-160H180v160Zm440 0h160v-160H620v160ZM180-180h160v-160H180v160Zm440 0h160v-160H620v160Z\"/>\n",
              "  </svg>\n",
              "    </button>\n",
              "\n",
              "  <style>\n",
              "    .colab-df-container {\n",
              "      display:flex;\n",
              "      gap: 12px;\n",
              "    }\n",
              "\n",
              "    .colab-df-convert {\n",
              "      background-color: #E8F0FE;\n",
              "      border: none;\n",
              "      border-radius: 50%;\n",
              "      cursor: pointer;\n",
              "      display: none;\n",
              "      fill: #1967D2;\n",
              "      height: 32px;\n",
              "      padding: 0 0 0 0;\n",
              "      width: 32px;\n",
              "    }\n",
              "\n",
              "    .colab-df-convert:hover {\n",
              "      background-color: #E2EBFA;\n",
              "      box-shadow: 0px 1px 2px rgba(60, 64, 67, 0.3), 0px 1px 3px 1px rgba(60, 64, 67, 0.15);\n",
              "      fill: #174EA6;\n",
              "    }\n",
              "\n",
              "    .colab-df-buttons div {\n",
              "      margin-bottom: 4px;\n",
              "    }\n",
              "\n",
              "    [theme=dark] .colab-df-convert {\n",
              "      background-color: #3B4455;\n",
              "      fill: #D2E3FC;\n",
              "    }\n",
              "\n",
              "    [theme=dark] .colab-df-convert:hover {\n",
              "      background-color: #434B5C;\n",
              "      box-shadow: 0px 1px 3px 1px rgba(0, 0, 0, 0.15);\n",
              "      filter: drop-shadow(0px 1px 2px rgba(0, 0, 0, 0.3));\n",
              "      fill: #FFFFFF;\n",
              "    }\n",
              "  </style>\n",
              "\n",
              "    <script>\n",
              "      const buttonEl =\n",
              "        document.querySelector('#df-4818fd90-05fc-45c0-be5a-10ddf2b83202 button.colab-df-convert');\n",
              "      buttonEl.style.display =\n",
              "        google.colab.kernel.accessAllowed ? 'block' : 'none';\n",
              "\n",
              "      async function convertToInteractive(key) {\n",
              "        const element = document.querySelector('#df-4818fd90-05fc-45c0-be5a-10ddf2b83202');\n",
              "        const dataTable =\n",
              "          await google.colab.kernel.invokeFunction('convertToInteractive',\n",
              "                                                    [key], {});\n",
              "        if (!dataTable) return;\n",
              "\n",
              "        const docLinkHtml = 'Like what you see? Visit the ' +\n",
              "          '<a target=\"_blank\" href=https://colab.research.google.com/notebooks/data_table.ipynb>data table notebook</a>'\n",
              "          + ' to learn more about interactive tables.';\n",
              "        element.innerHTML = '';\n",
              "        dataTable['output_type'] = 'display_data';\n",
              "        await google.colab.output.renderOutput(dataTable, element);\n",
              "        const docLink = document.createElement('div');\n",
              "        docLink.innerHTML = docLinkHtml;\n",
              "        element.appendChild(docLink);\n",
              "      }\n",
              "    </script>\n",
              "  </div>\n",
              "\n",
              "\n",
              "<div id=\"df-ea4d8b75-1d50-4fb7-ba61-4bc0576885c6\">\n",
              "  <button class=\"colab-df-quickchart\" onclick=\"quickchart('df-ea4d8b75-1d50-4fb7-ba61-4bc0576885c6')\"\n",
              "            title=\"Suggest charts\"\n",
              "            style=\"display:none;\">\n",
              "\n",
              "<svg xmlns=\"http://www.w3.org/2000/svg\" height=\"24px\"viewBox=\"0 0 24 24\"\n",
              "     width=\"24px\">\n",
              "    <g>\n",
              "        <path d=\"M19 3H5c-1.1 0-2 .9-2 2v14c0 1.1.9 2 2 2h14c1.1 0 2-.9 2-2V5c0-1.1-.9-2-2-2zM9 17H7v-7h2v7zm4 0h-2V7h2v10zm4 0h-2v-4h2v4z\"/>\n",
              "    </g>\n",
              "</svg>\n",
              "  </button>\n",
              "\n",
              "<style>\n",
              "  .colab-df-quickchart {\n",
              "      --bg-color: #E8F0FE;\n",
              "      --fill-color: #1967D2;\n",
              "      --hover-bg-color: #E2EBFA;\n",
              "      --hover-fill-color: #174EA6;\n",
              "      --disabled-fill-color: #AAA;\n",
              "      --disabled-bg-color: #DDD;\n",
              "  }\n",
              "\n",
              "  [theme=dark] .colab-df-quickchart {\n",
              "      --bg-color: #3B4455;\n",
              "      --fill-color: #D2E3FC;\n",
              "      --hover-bg-color: #434B5C;\n",
              "      --hover-fill-color: #FFFFFF;\n",
              "      --disabled-bg-color: #3B4455;\n",
              "      --disabled-fill-color: #666;\n",
              "  }\n",
              "\n",
              "  .colab-df-quickchart {\n",
              "    background-color: var(--bg-color);\n",
              "    border: none;\n",
              "    border-radius: 50%;\n",
              "    cursor: pointer;\n",
              "    display: none;\n",
              "    fill: var(--fill-color);\n",
              "    height: 32px;\n",
              "    padding: 0;\n",
              "    width: 32px;\n",
              "  }\n",
              "\n",
              "  .colab-df-quickchart:hover {\n",
              "    background-color: var(--hover-bg-color);\n",
              "    box-shadow: 0 1px 2px rgba(60, 64, 67, 0.3), 0 1px 3px 1px rgba(60, 64, 67, 0.15);\n",
              "    fill: var(--button-hover-fill-color);\n",
              "  }\n",
              "\n",
              "  .colab-df-quickchart-complete:disabled,\n",
              "  .colab-df-quickchart-complete:disabled:hover {\n",
              "    background-color: var(--disabled-bg-color);\n",
              "    fill: var(--disabled-fill-color);\n",
              "    box-shadow: none;\n",
              "  }\n",
              "\n",
              "  .colab-df-spinner {\n",
              "    border: 2px solid var(--fill-color);\n",
              "    border-color: transparent;\n",
              "    border-bottom-color: var(--fill-color);\n",
              "    animation:\n",
              "      spin 1s steps(1) infinite;\n",
              "  }\n",
              "\n",
              "  @keyframes spin {\n",
              "    0% {\n",
              "      border-color: transparent;\n",
              "      border-bottom-color: var(--fill-color);\n",
              "      border-left-color: var(--fill-color);\n",
              "    }\n",
              "    20% {\n",
              "      border-color: transparent;\n",
              "      border-left-color: var(--fill-color);\n",
              "      border-top-color: var(--fill-color);\n",
              "    }\n",
              "    30% {\n",
              "      border-color: transparent;\n",
              "      border-left-color: var(--fill-color);\n",
              "      border-top-color: var(--fill-color);\n",
              "      border-right-color: var(--fill-color);\n",
              "    }\n",
              "    40% {\n",
              "      border-color: transparent;\n",
              "      border-right-color: var(--fill-color);\n",
              "      border-top-color: var(--fill-color);\n",
              "    }\n",
              "    60% {\n",
              "      border-color: transparent;\n",
              "      border-right-color: var(--fill-color);\n",
              "    }\n",
              "    80% {\n",
              "      border-color: transparent;\n",
              "      border-right-color: var(--fill-color);\n",
              "      border-bottom-color: var(--fill-color);\n",
              "    }\n",
              "    90% {\n",
              "      border-color: transparent;\n",
              "      border-bottom-color: var(--fill-color);\n",
              "    }\n",
              "  }\n",
              "</style>\n",
              "\n",
              "  <script>\n",
              "    async function quickchart(key) {\n",
              "      const quickchartButtonEl =\n",
              "        document.querySelector('#' + key + ' button');\n",
              "      quickchartButtonEl.disabled = true;  // To prevent multiple clicks.\n",
              "      quickchartButtonEl.classList.add('colab-df-spinner');\n",
              "      try {\n",
              "        const charts = await google.colab.kernel.invokeFunction(\n",
              "            'suggestCharts', [key], {});\n",
              "      } catch (error) {\n",
              "        console.error('Error during call to suggestCharts:', error);\n",
              "      }\n",
              "      quickchartButtonEl.classList.remove('colab-df-spinner');\n",
              "      quickchartButtonEl.classList.add('colab-df-quickchart-complete');\n",
              "    }\n",
              "    (() => {\n",
              "      let quickchartButtonEl =\n",
              "        document.querySelector('#df-ea4d8b75-1d50-4fb7-ba61-4bc0576885c6 button');\n",
              "      quickchartButtonEl.style.display =\n",
              "        google.colab.kernel.accessAllowed ? 'block' : 'none';\n",
              "    })();\n",
              "  </script>\n",
              "</div>\n",
              "    </div>\n",
              "  </div>\n"
            ]
          },
          "metadata": {},
          "execution_count": 19
        }
      ]
    },
    {
      "cell_type": "code",
      "source": [
        "df[\"Ret25\"] = df[\"Ret25_i\"].shift(-DAYS_FORWARD)\n",
        "df = df.dropna()\n",
        "df.tail(10)"
      ],
      "metadata": {
        "colab": {
          "base_uri": "https://localhost:8080/",
          "height": 498
        },
        "id": "tsm3NvXQKnlJ",
        "outputId": "f77f5737-0b53-435e-e523-5ee968fc0b74"
      },
      "execution_count": 20,
      "outputs": [
        {
          "output_type": "stream",
          "name": "stderr",
          "text": [
            "<ipython-input-20-225a2afff360>:1: SettingWithCopyWarning: \n",
            "A value is trying to be set on a copy of a slice from a DataFrame.\n",
            "Try using .loc[row_indexer,col_indexer] = value instead\n",
            "\n",
            "See the caveats in the documentation: https://pandas.pydata.org/pandas-docs/stable/user_guide/indexing.html#returning-a-view-versus-a-copy\n",
            "  df[\"Ret25\"] = df[\"Ret25_i\"].shift(-DAYS_FORWARD)\n"
          ]
        },
        {
          "output_type": "execute_result",
          "data": {
            "text/plain": [
              "                 Ret   Ret10_i   Ret25_i   Ret60_i  Ret120_i  Ret240_i  \\\n",
              "Date                                                                     \n",
              "2023-11-08  0.011504  1.194759 -0.169438 -0.212363  0.426962  0.300719   \n",
              "2023-11-09  0.006999  0.722984 -0.191500 -0.167114  0.460734  0.298777   \n",
              "2023-11-10 -0.004778  0.534826 -0.159039 -0.224028  0.438615  0.300132   \n",
              "2023-11-13  0.013531  0.591584  0.087111 -0.132323  0.456689  0.297590   \n",
              "2023-11-14  0.021103  0.875844 -0.016834 -0.147135  0.484200  0.301571   \n",
              "2023-11-15 -0.006326  0.774804  0.094530 -0.131140  0.470729  0.285345   \n",
              "2023-11-16  0.036927  0.916426  0.327945  0.031686  0.451399  0.296650   \n",
              "2023-11-17  0.040729  1.198236  0.540416  0.163579  0.463330  0.298284   \n",
              "2023-11-20  0.001967  1.195724  0.533864  0.113418  0.459260  0.286205   \n",
              "2023-11-21  0.053974  1.738091  0.707717  0.079487  0.521712  0.275904   \n",
              "\n",
              "               Ret25  \n",
              "Date                  \n",
              "2023-11-08 -0.191500  \n",
              "2023-11-09 -0.159039  \n",
              "2023-11-10  0.087111  \n",
              "2023-11-13 -0.016834  \n",
              "2023-11-14  0.094530  \n",
              "2023-11-15  0.327945  \n",
              "2023-11-16  0.540416  \n",
              "2023-11-17  0.533864  \n",
              "2023-11-20  0.707717  \n",
              "2023-11-21  0.765934  "
            ],
            "text/html": [
              "\n",
              "  <div id=\"df-f9968bb6-ad31-43da-9c91-abb880e089b7\" class=\"colab-df-container\">\n",
              "    <div>\n",
              "<style scoped>\n",
              "    .dataframe tbody tr th:only-of-type {\n",
              "        vertical-align: middle;\n",
              "    }\n",
              "\n",
              "    .dataframe tbody tr th {\n",
              "        vertical-align: top;\n",
              "    }\n",
              "\n",
              "    .dataframe thead th {\n",
              "        text-align: right;\n",
              "    }\n",
              "</style>\n",
              "<table border=\"1\" class=\"dataframe\">\n",
              "  <thead>\n",
              "    <tr style=\"text-align: right;\">\n",
              "      <th></th>\n",
              "      <th>Ret</th>\n",
              "      <th>Ret10_i</th>\n",
              "      <th>Ret25_i</th>\n",
              "      <th>Ret60_i</th>\n",
              "      <th>Ret120_i</th>\n",
              "      <th>Ret240_i</th>\n",
              "      <th>Ret25</th>\n",
              "    </tr>\n",
              "    <tr>\n",
              "      <th>Date</th>\n",
              "      <th></th>\n",
              "      <th></th>\n",
              "      <th></th>\n",
              "      <th></th>\n",
              "      <th></th>\n",
              "      <th></th>\n",
              "      <th></th>\n",
              "    </tr>\n",
              "  </thead>\n",
              "  <tbody>\n",
              "    <tr>\n",
              "      <th>2023-11-08</th>\n",
              "      <td>0.011504</td>\n",
              "      <td>1.194759</td>\n",
              "      <td>-0.169438</td>\n",
              "      <td>-0.212363</td>\n",
              "      <td>0.426962</td>\n",
              "      <td>0.300719</td>\n",
              "      <td>-0.191500</td>\n",
              "    </tr>\n",
              "    <tr>\n",
              "      <th>2023-11-09</th>\n",
              "      <td>0.006999</td>\n",
              "      <td>0.722984</td>\n",
              "      <td>-0.191500</td>\n",
              "      <td>-0.167114</td>\n",
              "      <td>0.460734</td>\n",
              "      <td>0.298777</td>\n",
              "      <td>-0.159039</td>\n",
              "    </tr>\n",
              "    <tr>\n",
              "      <th>2023-11-10</th>\n",
              "      <td>-0.004778</td>\n",
              "      <td>0.534826</td>\n",
              "      <td>-0.159039</td>\n",
              "      <td>-0.224028</td>\n",
              "      <td>0.438615</td>\n",
              "      <td>0.300132</td>\n",
              "      <td>0.087111</td>\n",
              "    </tr>\n",
              "    <tr>\n",
              "      <th>2023-11-13</th>\n",
              "      <td>0.013531</td>\n",
              "      <td>0.591584</td>\n",
              "      <td>0.087111</td>\n",
              "      <td>-0.132323</td>\n",
              "      <td>0.456689</td>\n",
              "      <td>0.297590</td>\n",
              "      <td>-0.016834</td>\n",
              "    </tr>\n",
              "    <tr>\n",
              "      <th>2023-11-14</th>\n",
              "      <td>0.021103</td>\n",
              "      <td>0.875844</td>\n",
              "      <td>-0.016834</td>\n",
              "      <td>-0.147135</td>\n",
              "      <td>0.484200</td>\n",
              "      <td>0.301571</td>\n",
              "      <td>0.094530</td>\n",
              "    </tr>\n",
              "    <tr>\n",
              "      <th>2023-11-15</th>\n",
              "      <td>-0.006326</td>\n",
              "      <td>0.774804</td>\n",
              "      <td>0.094530</td>\n",
              "      <td>-0.131140</td>\n",
              "      <td>0.470729</td>\n",
              "      <td>0.285345</td>\n",
              "      <td>0.327945</td>\n",
              "    </tr>\n",
              "    <tr>\n",
              "      <th>2023-11-16</th>\n",
              "      <td>0.036927</td>\n",
              "      <td>0.916426</td>\n",
              "      <td>0.327945</td>\n",
              "      <td>0.031686</td>\n",
              "      <td>0.451399</td>\n",
              "      <td>0.296650</td>\n",
              "      <td>0.540416</td>\n",
              "    </tr>\n",
              "    <tr>\n",
              "      <th>2023-11-17</th>\n",
              "      <td>0.040729</td>\n",
              "      <td>1.198236</td>\n",
              "      <td>0.540416</td>\n",
              "      <td>0.163579</td>\n",
              "      <td>0.463330</td>\n",
              "      <td>0.298284</td>\n",
              "      <td>0.533864</td>\n",
              "    </tr>\n",
              "    <tr>\n",
              "      <th>2023-11-20</th>\n",
              "      <td>0.001967</td>\n",
              "      <td>1.195724</td>\n",
              "      <td>0.533864</td>\n",
              "      <td>0.113418</td>\n",
              "      <td>0.459260</td>\n",
              "      <td>0.286205</td>\n",
              "      <td>0.707717</td>\n",
              "    </tr>\n",
              "    <tr>\n",
              "      <th>2023-11-21</th>\n",
              "      <td>0.053974</td>\n",
              "      <td>1.738091</td>\n",
              "      <td>0.707717</td>\n",
              "      <td>0.079487</td>\n",
              "      <td>0.521712</td>\n",
              "      <td>0.275904</td>\n",
              "      <td>0.765934</td>\n",
              "    </tr>\n",
              "  </tbody>\n",
              "</table>\n",
              "</div>\n",
              "    <div class=\"colab-df-buttons\">\n",
              "\n",
              "  <div class=\"colab-df-container\">\n",
              "    <button class=\"colab-df-convert\" onclick=\"convertToInteractive('df-f9968bb6-ad31-43da-9c91-abb880e089b7')\"\n",
              "            title=\"Convert this dataframe to an interactive table.\"\n",
              "            style=\"display:none;\">\n",
              "\n",
              "  <svg xmlns=\"http://www.w3.org/2000/svg\" height=\"24px\" viewBox=\"0 -960 960 960\">\n",
              "    <path d=\"M120-120v-720h720v720H120Zm60-500h600v-160H180v160Zm220 220h160v-160H400v160Zm0 220h160v-160H400v160ZM180-400h160v-160H180v160Zm440 0h160v-160H620v160ZM180-180h160v-160H180v160Zm440 0h160v-160H620v160Z\"/>\n",
              "  </svg>\n",
              "    </button>\n",
              "\n",
              "  <style>\n",
              "    .colab-df-container {\n",
              "      display:flex;\n",
              "      gap: 12px;\n",
              "    }\n",
              "\n",
              "    .colab-df-convert {\n",
              "      background-color: #E8F0FE;\n",
              "      border: none;\n",
              "      border-radius: 50%;\n",
              "      cursor: pointer;\n",
              "      display: none;\n",
              "      fill: #1967D2;\n",
              "      height: 32px;\n",
              "      padding: 0 0 0 0;\n",
              "      width: 32px;\n",
              "    }\n",
              "\n",
              "    .colab-df-convert:hover {\n",
              "      background-color: #E2EBFA;\n",
              "      box-shadow: 0px 1px 2px rgba(60, 64, 67, 0.3), 0px 1px 3px 1px rgba(60, 64, 67, 0.15);\n",
              "      fill: #174EA6;\n",
              "    }\n",
              "\n",
              "    .colab-df-buttons div {\n",
              "      margin-bottom: 4px;\n",
              "    }\n",
              "\n",
              "    [theme=dark] .colab-df-convert {\n",
              "      background-color: #3B4455;\n",
              "      fill: #D2E3FC;\n",
              "    }\n",
              "\n",
              "    [theme=dark] .colab-df-convert:hover {\n",
              "      background-color: #434B5C;\n",
              "      box-shadow: 0px 1px 3px 1px rgba(0, 0, 0, 0.15);\n",
              "      filter: drop-shadow(0px 1px 2px rgba(0, 0, 0, 0.3));\n",
              "      fill: #FFFFFF;\n",
              "    }\n",
              "  </style>\n",
              "\n",
              "    <script>\n",
              "      const buttonEl =\n",
              "        document.querySelector('#df-f9968bb6-ad31-43da-9c91-abb880e089b7 button.colab-df-convert');\n",
              "      buttonEl.style.display =\n",
              "        google.colab.kernel.accessAllowed ? 'block' : 'none';\n",
              "\n",
              "      async function convertToInteractive(key) {\n",
              "        const element = document.querySelector('#df-f9968bb6-ad31-43da-9c91-abb880e089b7');\n",
              "        const dataTable =\n",
              "          await google.colab.kernel.invokeFunction('convertToInteractive',\n",
              "                                                    [key], {});\n",
              "        if (!dataTable) return;\n",
              "\n",
              "        const docLinkHtml = 'Like what you see? Visit the ' +\n",
              "          '<a target=\"_blank\" href=https://colab.research.google.com/notebooks/data_table.ipynb>data table notebook</a>'\n",
              "          + ' to learn more about interactive tables.';\n",
              "        element.innerHTML = '';\n",
              "        dataTable['output_type'] = 'display_data';\n",
              "        await google.colab.output.renderOutput(dataTable, element);\n",
              "        const docLink = document.createElement('div');\n",
              "        docLink.innerHTML = docLinkHtml;\n",
              "        element.appendChild(docLink);\n",
              "      }\n",
              "    </script>\n",
              "  </div>\n",
              "\n",
              "\n",
              "<div id=\"df-cc688b63-902e-460d-95d3-c2e4ec77747b\">\n",
              "  <button class=\"colab-df-quickchart\" onclick=\"quickchart('df-cc688b63-902e-460d-95d3-c2e4ec77747b')\"\n",
              "            title=\"Suggest charts\"\n",
              "            style=\"display:none;\">\n",
              "\n",
              "<svg xmlns=\"http://www.w3.org/2000/svg\" height=\"24px\"viewBox=\"0 0 24 24\"\n",
              "     width=\"24px\">\n",
              "    <g>\n",
              "        <path d=\"M19 3H5c-1.1 0-2 .9-2 2v14c0 1.1.9 2 2 2h14c1.1 0 2-.9 2-2V5c0-1.1-.9-2-2-2zM9 17H7v-7h2v7zm4 0h-2V7h2v10zm4 0h-2v-4h2v4z\"/>\n",
              "    </g>\n",
              "</svg>\n",
              "  </button>\n",
              "\n",
              "<style>\n",
              "  .colab-df-quickchart {\n",
              "      --bg-color: #E8F0FE;\n",
              "      --fill-color: #1967D2;\n",
              "      --hover-bg-color: #E2EBFA;\n",
              "      --hover-fill-color: #174EA6;\n",
              "      --disabled-fill-color: #AAA;\n",
              "      --disabled-bg-color: #DDD;\n",
              "  }\n",
              "\n",
              "  [theme=dark] .colab-df-quickchart {\n",
              "      --bg-color: #3B4455;\n",
              "      --fill-color: #D2E3FC;\n",
              "      --hover-bg-color: #434B5C;\n",
              "      --hover-fill-color: #FFFFFF;\n",
              "      --disabled-bg-color: #3B4455;\n",
              "      --disabled-fill-color: #666;\n",
              "  }\n",
              "\n",
              "  .colab-df-quickchart {\n",
              "    background-color: var(--bg-color);\n",
              "    border: none;\n",
              "    border-radius: 50%;\n",
              "    cursor: pointer;\n",
              "    display: none;\n",
              "    fill: var(--fill-color);\n",
              "    height: 32px;\n",
              "    padding: 0;\n",
              "    width: 32px;\n",
              "  }\n",
              "\n",
              "  .colab-df-quickchart:hover {\n",
              "    background-color: var(--hover-bg-color);\n",
              "    box-shadow: 0 1px 2px rgba(60, 64, 67, 0.3), 0 1px 3px 1px rgba(60, 64, 67, 0.15);\n",
              "    fill: var(--button-hover-fill-color);\n",
              "  }\n",
              "\n",
              "  .colab-df-quickchart-complete:disabled,\n",
              "  .colab-df-quickchart-complete:disabled:hover {\n",
              "    background-color: var(--disabled-bg-color);\n",
              "    fill: var(--disabled-fill-color);\n",
              "    box-shadow: none;\n",
              "  }\n",
              "\n",
              "  .colab-df-spinner {\n",
              "    border: 2px solid var(--fill-color);\n",
              "    border-color: transparent;\n",
              "    border-bottom-color: var(--fill-color);\n",
              "    animation:\n",
              "      spin 1s steps(1) infinite;\n",
              "  }\n",
              "\n",
              "  @keyframes spin {\n",
              "    0% {\n",
              "      border-color: transparent;\n",
              "      border-bottom-color: var(--fill-color);\n",
              "      border-left-color: var(--fill-color);\n",
              "    }\n",
              "    20% {\n",
              "      border-color: transparent;\n",
              "      border-left-color: var(--fill-color);\n",
              "      border-top-color: var(--fill-color);\n",
              "    }\n",
              "    30% {\n",
              "      border-color: transparent;\n",
              "      border-left-color: var(--fill-color);\n",
              "      border-top-color: var(--fill-color);\n",
              "      border-right-color: var(--fill-color);\n",
              "    }\n",
              "    40% {\n",
              "      border-color: transparent;\n",
              "      border-right-color: var(--fill-color);\n",
              "      border-top-color: var(--fill-color);\n",
              "    }\n",
              "    60% {\n",
              "      border-color: transparent;\n",
              "      border-right-color: var(--fill-color);\n",
              "    }\n",
              "    80% {\n",
              "      border-color: transparent;\n",
              "      border-right-color: var(--fill-color);\n",
              "      border-bottom-color: var(--fill-color);\n",
              "    }\n",
              "    90% {\n",
              "      border-color: transparent;\n",
              "      border-bottom-color: var(--fill-color);\n",
              "    }\n",
              "  }\n",
              "</style>\n",
              "\n",
              "  <script>\n",
              "    async function quickchart(key) {\n",
              "      const quickchartButtonEl =\n",
              "        document.querySelector('#' + key + ' button');\n",
              "      quickchartButtonEl.disabled = true;  // To prevent multiple clicks.\n",
              "      quickchartButtonEl.classList.add('colab-df-spinner');\n",
              "      try {\n",
              "        const charts = await google.colab.kernel.invokeFunction(\n",
              "            'suggestCharts', [key], {});\n",
              "      } catch (error) {\n",
              "        console.error('Error during call to suggestCharts:', error);\n",
              "      }\n",
              "      quickchartButtonEl.classList.remove('colab-df-spinner');\n",
              "      quickchartButtonEl.classList.add('colab-df-quickchart-complete');\n",
              "    }\n",
              "    (() => {\n",
              "      let quickchartButtonEl =\n",
              "        document.querySelector('#df-cc688b63-902e-460d-95d3-c2e4ec77747b button');\n",
              "      quickchartButtonEl.style.display =\n",
              "        google.colab.kernel.accessAllowed ? 'block' : 'none';\n",
              "    })();\n",
              "  </script>\n",
              "</div>\n",
              "    </div>\n",
              "  </div>\n"
            ]
          },
          "metadata": {},
          "execution_count": 20
        }
      ]
    },
    {
      "cell_type": "code",
      "source": [
        "import matplotlib.pyplot as plt\n",
        "from sklearn import linear_model\n",
        "from sklearn.metrics import mean_squared_error, r2_score"
      ],
      "metadata": {
        "id": "UweDv1O2Knqk"
      },
      "execution_count": 21,
      "outputs": []
    },
    {
      "cell_type": "code",
      "source": [
        "Xdf, ydf = df.iloc[:, 0:-1], df.iloc[:, -1]\n",
        "X = Xdf.astype(\"float32\")\n",
        "y = ydf.astype(\"float32\")\n",
        "print(X.shape, y.shape)"
      ],
      "metadata": {
        "colab": {
          "base_uri": "https://localhost:8080/"
        },
        "id": "Q4aNpSORKnuv",
        "outputId": "7103e21d-5798-4cbe-80c5-11ac10e2569d"
      },
      "execution_count": 22,
      "outputs": [
        {
          "output_type": "stream",
          "name": "stdout",
          "text": [
            "(3331, 6) (3331,)\n"
          ]
        }
      ]
    },
    {
      "cell_type": "code",
      "source": [
        "reg = linear_model.LinearRegression().fit(X, y)"
      ],
      "metadata": {
        "id": "hhdS9qHdKnzT"
      },
      "execution_count": 23,
      "outputs": []
    },
    {
      "cell_type": "code",
      "source": [
        "reg.coef_"
      ],
      "metadata": {
        "colab": {
          "base_uri": "https://localhost:8080/"
        },
        "id": "Y6dMg1JcK7Kr",
        "outputId": "64db594e-6c6a-435d-a29c-8bef3ac44914"
      },
      "execution_count": 24,
      "outputs": [
        {
          "output_type": "execute_result",
          "data": {
            "text/plain": [
              "array([-0.17489062,  0.03104758,  0.9349917 , -0.00471953,  0.00205089,\n",
              "        0.02217805], dtype=float32)"
            ]
          },
          "metadata": {},
          "execution_count": 24
        }
      ]
    },
    {
      "cell_type": "code",
      "source": [
        "reg.intercept_"
      ],
      "metadata": {
        "colab": {
          "base_uri": "https://localhost:8080/"
        },
        "id": "AcJfUuF4K7Sb",
        "outputId": "9002405b-9304-46e8-f7a0-79fd9089e4d6"
      },
      "execution_count": 25,
      "outputs": [
        {
          "output_type": "execute_result",
          "data": {
            "text/plain": [
              "0.0024144575"
            ]
          },
          "metadata": {},
          "execution_count": 25
        }
      ]
    },
    {
      "cell_type": "code",
      "source": [
        "reg.score(X, y)  # R-squared"
      ],
      "metadata": {
        "colab": {
          "base_uri": "https://localhost:8080/"
        },
        "id": "cmrcHC6MK7WB",
        "outputId": "496aa130-063b-4798-a719-ac3c84f9150f"
      },
      "execution_count": 26,
      "outputs": [
        {
          "output_type": "execute_result",
          "data": {
            "text/plain": [
              "0.9368831056485254"
            ]
          },
          "metadata": {},
          "execution_count": 26
        }
      ]
    },
    {
      "cell_type": "code",
      "source": [
        "# Make predictions\n",
        "y_pred = reg.predict(X)\n",
        "\n",
        "# The coefficients\n",
        "print(\"Coefficients: \\n\", reg.coef_)\n",
        "# The mean squared error\n",
        "print(\"Mean squared error: %.5f\" % mean_squared_error(y, y_pred))\n",
        "# The coefficient of determination: 1 is perfect prediction\n",
        "print(\n",
        "    \"Coefficient of determination (R2): %.5f\" % r2_score(y, y_pred)\n",
        ")  # Another way to compute the R-squared"
      ],
      "metadata": {
        "colab": {
          "base_uri": "https://localhost:8080/"
        },
        "id": "-zWaBhjzK7at",
        "outputId": "64192e79-d6b5-48be-f428-66afb439d6e9"
      },
      "execution_count": 27,
      "outputs": [
        {
          "output_type": "stream",
          "name": "stdout",
          "text": [
            "Coefficients: \n",
            " [-0.17489062  0.03104758  0.9349917  -0.00471953  0.00205089  0.02217805]\n",
            "Mean squared error: 0.01876\n",
            "Coefficient of determination (R2): 0.93688\n"
          ]
        }
      ]
    },
    {
      "cell_type": "code",
      "source": [
        "# Plot outputs\n",
        "plt.scatter(y_pred, y)\n",
        "plt.plot([-1, 1], [-1, 1], color=\"black\", linewidth=2)\n",
        "plt.show()"
      ],
      "metadata": {
        "colab": {
          "base_uri": "https://localhost:8080/",
          "height": 430
        },
        "id": "17khpSa4K7gB",
        "outputId": "82c3bb16-a795-431b-9c7f-a33bdde66b11"
      },
      "execution_count": 28,
      "outputs": [
        {
          "output_type": "display_data",
          "data": {
            "text/plain": [
              "<Figure size 640x480 with 1 Axes>"
            ],
            "image/png": "[encoded data removed]"
          },
          "metadata": {}
        }
      ]
    },
    {
      "cell_type": "code",
      "source": [
        "from sklearn.model_selection import train_test_split\n",
        "\n",
        "X_train, X_test, y_train, y_test = train_test_split(\n",
        "    X, y, test_size=int(len(y) * TEST_SIZE), shuffle=False\n",
        ")\n",
        "print(X_train.shape, X_test.shape, y_train.shape, y_test.shape)"
      ],
      "metadata": {
        "colab": {
          "base_uri": "https://localhost:8080/"
        },
        "id": "Z5GrwIv9K7iG",
        "outputId": "e69515e4-2b8b-4b2a-ef4b-a2caf46b25cf"
      },
      "execution_count": 29,
      "outputs": [
        {
          "output_type": "stream",
          "name": "stdout",
          "text": [
            "(2499, 6) (832, 6) (2499,) (832,)\n"
          ]
        }
      ]
    },
    {
      "cell_type": "code",
      "source": [
        "reg = linear_model.LinearRegression().fit(X_train, y_train)"
      ],
      "metadata": {
        "id": "2Uy-FsuMK7l-"
      },
      "execution_count": 32,
      "outputs": []
    },
    {
      "cell_type": "code",
      "source": [
        "# Make predictions in the training sample\n",
        "y_pred = reg.predict(X_train)\n",
        "\n",
        "# The coefficients\n",
        "print(\"Coefficients: \\n\", reg.coef_)\n",
        "# The mean squared error\n",
        "print(\"Mean squared error: %.5f\" % mean_squared_error(y_train, y_pred))\n",
        "# The coefficient of determination: 1 is perfect prediction\n",
        "print(\"Coefficient of determination (R2): %.5f\" % r2_score(y_train, y_pred))"
      ],
      "metadata": {
        "colab": {
          "base_uri": "https://localhost:8080/"
        },
        "id": "PGYjLozLLk7R",
        "outputId": "a85d0858-b89a-4182-edd1-af1cc14c7b9b"
      },
      "execution_count": 33,
      "outputs": [
        {
          "output_type": "stream",
          "name": "stdout",
          "text": [
            "Coefficients: \n",
            " [-0.25574613  0.04311109  0.9254981  -0.0095997   0.01774473  0.00391004]\n",
            "Mean squared error: 0.01624\n",
            "Coefficient of determination (R2): 0.93607\n"
          ]
        }
      ]
    },
    {
      "cell_type": "code",
      "source": [
        "# Make predictions in the test sample\n",
        "y_pred_test = reg.predict(X_test)\n",
        "\n",
        "# The coefficients\n",
        "print(\"Coefficients: \\n\", reg.coef_)\n",
        "# The mean squared error\n",
        "print(\n",
        "    \"Mean squared error (out-of-sample): %.5f\" % mean_squared_error(y_test, y_pred_test)\n",
        ")\n",
        "# The coefficient of determination: 1 is perfect prediction\n",
        "print(\n",
        "    \"Coefficient of determination (R2 out-of-sample): %.5f\"\n",
        "    % r2_score(y_test, y_pred_test)\n",
        ")"
      ],
      "metadata": {
        "colab": {
          "base_uri": "https://localhost:8080/"
        },
        "id": "e_PEJfKNMUsw",
        "outputId": "4106ef14-a88a-475c-d8fc-a23e50c18a3b"
      },
      "execution_count": 35,
      "outputs": [
        {
          "output_type": "stream",
          "name": "stdout",
          "text": [
            "Coefficients: \n",
            " [-0.25574613  0.04311109  0.9254981  -0.0095997   0.01774473  0.00391004]\n",
            "Mean squared error (out-of-sample): 0.02658\n",
            "Coefficient of determination (R2 out-of-sample): 0.92494\n"
          ]
        }
      ]
    },
    {
      "cell_type": "code",
      "source": [
        "# Plot outputs\n",
        "plt.scatter(y_pred, y_train, label=\"Train\")\n",
        "plt.scatter(y_pred_test, y_test, label=\"Test\")\n",
        "plt.plot([-0.5, 0.5], [-1, 1], color=\"black\", linewidth=2)\n",
        "legend = plt.legend(loc=\"upper left\", shadow=True)\n",
        "plt.show()"
      ],
      "metadata": {
        "colab": {
          "base_uri": "https://localhost:8080/",
          "height": 430
        },
        "id": "b2oJTAOGMF-n",
        "outputId": "b06d7fa0-0e01-4bcd-9e96-b3244dec784c"
      },
      "execution_count": 36,
      "outputs": [
        {
          "output_type": "display_data",
          "data": {
            "text/plain": [
              "<Figure size 640x480 with 1 Axes>"
            ],
            "image/png": "[encoded data removed]"
          },
          "metadata": {}
        }
      ]
    },
    {
      "cell_type": "code",
      "source": [
        "# Polynomial regression\n",
        "Xpoly = X\n",
        "for pp in range(2, 5):\n",
        "    Xpoly = np.concatenate((Xpoly, np.power(X, pp)), axis=1)\n",
        "\n",
        "X_train, X_test, y_train, y_test = train_test_split(\n",
        "    Xpoly, y, test_size=int(len(y) * 0.5), shuffle=False\n",
        ")\n",
        "print(X_train.shape, X_test.shape, y_train.shape, y_test.shape)\n",
        "\n",
        "reg = linear_model.LinearRegression().fit(X_train, y_train)\n",
        "\n",
        "# Make predictions in the training sample\n",
        "y_pred = reg.predict(X_train)\n",
        "\n",
        "# The coefficients\n",
        "print(\"Coefficients: \\n\", reg.coef_)\n",
        "# The mean squared error\n",
        "print(\"Mean squared error: %.5f\" % mean_squared_error(y_train, y_pred))\n",
        "# The coefficient of determination: 1 is perfect prediction\n",
        "print(\"Coefficient of determination (R2): %.5f\" % r2_score(y_train, y_pred))\n",
        "\n",
        "# Make predictions in the test sample\n",
        "y_pred_test = reg.predict(X_test)\n",
        "\n",
        "# The coefficients\n",
        "print(\"Coefficients: \\n\", reg.coef_)\n",
        "# The mean squared error\n",
        "print(\n",
        "    \"Mean squared error (out-of-sample): %.5f\" % mean_squared_error(y_test, y_pred_test)\n",
        ")\n",
        "# The coefficient of determination: 1 is perfect prediction\n",
        "print(\n",
        "    \"Coefficient of determination (R2 out-of-sample): %.5f\"\n",
        "    % r2_score(y_test, y_pred_test)\n",
        ")\n",
        "\n",
        "# Plot outputs\n",
        "plt.scatter(y_pred, y_train, label=\"Train\")\n",
        "plt.scatter(y_pred_test, y_test, label=\"Test\")\n",
        "plt.plot([-1, 1], [-1, 1], color=\"black\", linewidth=2)\n",
        "legend = plt.legend(loc=\"upper left\", shadow=True)\n",
        "plt.show()"
      ],
      "metadata": {
        "colab": {
          "base_uri": "https://localhost:8080/",
          "height": 760
        },
        "id": "R-HxOwF5MNBD",
        "outputId": "f8c8243c-06ba-43ba-cf21-666522c30cc1"
      },
      "execution_count": 37,
      "outputs": [
        {
          "output_type": "stream",
          "name": "stdout",
          "text": [
            "(1666, 24) (1665, 24) (1666,) (1665,)\n",
            "Coefficients: \n",
            " [-1.1409168e-01  3.8500011e-02  9.2009753e-01 -2.5929771e-02\n",
            "  6.3219376e-02 -2.2181429e-02 -4.5821428e+00  1.5675101e-02\n",
            "  1.1919019e-02  1.5364613e-01 -8.2128555e-02 -2.8674897e-02\n",
            "  1.2882608e+01 -2.7733222e-03  5.0130393e-03  9.8924555e-02\n",
            " -2.8147024e-01  1.1606647e-01  6.7398792e+02 -2.6951730e-03\n",
            " -1.0137907e-02 -3.9025536e-01  8.0231446e-01 -1.0795093e-01]\n",
            "Mean squared error: 0.01396\n",
            "Coefficient of determination (R2): 0.92961\n",
            "Coefficients: \n",
            " [-1.1409168e-01  3.8500011e-02  9.2009753e-01 -2.5929771e-02\n",
            "  6.3219376e-02 -2.2181429e-02 -4.5821428e+00  1.5675101e-02\n",
            "  1.1919019e-02  1.5364613e-01 -8.2128555e-02 -2.8674897e-02\n",
            "  1.2882608e+01 -2.7733222e-03  5.0130393e-03  9.8924555e-02\n",
            " -2.8147024e-01  1.1606647e-01  6.7398792e+02 -2.6951730e-03\n",
            " -1.0137907e-02 -3.9025536e-01  8.0231446e-01 -1.0795093e-01]\n",
            "Mean squared error (out-of-sample): 0.03053\n",
            "Coefficient of determination (R2 out-of-sample): 0.91885\n"
          ]
        },
        {
          "output_type": "display_data",
          "data": {
            "text/plain": [
              "<Figure size 640x480 with 1 Axes>"
            ],
            "image/png": "[encoded data removed]"
          },
          "metadata": {}
        }
      ]
    },
    {
      "cell_type": "code",
      "source": [],
      "metadata": {
        "id": "IOeNE415Mc_y"
      },
      "execution_count": null,
      "outputs": []
    }
  ]
}