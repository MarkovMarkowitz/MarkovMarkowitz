{
  "nbformat": 4,
  "nbformat_minor": 0,
  "metadata": {
    "colab": {
      "provenance": [],
      "toc_visible": true,
      "authorship_tag": "ABX9TyNPcCVkpD49nKZfXLS+aHsk",
      "include_colab_link": true
    },
    "kernelspec": {
      "name": "python3",
      "display_name": "Python 3"
    },
    "language_info": {
      "name": "python"
    }
  },
  "cells": [
    {
      "cell_type": "markdown",
      "metadata": {
        "id": "view-in-github",
        "colab_type": "text"
      },
      "source": [
        "<a href=\"https://colab.research.google.com/github/MarkovMarkowitz/MarkovMarkowitz/blob/main/MortgagePaymentCalculator.ipynb\" target=\"_parent\"><img src=\"https://colab.research.google.com/assets/colab-badge.svg\" alt=\"Open In Colab\"/></a>"
      ]
    },
    {
      "cell_type": "code",
      "execution_count": 2,
      "metadata": {
        "colab": {
          "base_uri": "https://localhost:8080/"
        },
        "id": "tMEldG8gaNfZ",
        "outputId": "eb19e576-75e4-4451-c9df-23bb430d6c6e"
      },
      "outputs": [
        {
          "output_type": "stream",
          "name": "stdout",
          "text": [
            "Collecting numpy_financial\n",
            "  Downloading numpy_financial-1.0.0-py3-none-any.whl (14 kB)\n",
            "Requirement already satisfied: numpy>=1.15 in /usr/local/lib/python3.10/dist-packages (from numpy_financial) (1.22.4)\n",
            "Installing collected packages: numpy_financial\n",
            "Successfully installed numpy_financial-1.0.0\n"
          ]
        }
      ],
      "source": [
        "!pip install numpy_financial\n",
        "\n",
        "import pandas as pd\n",
        "import numpy_financial as npf\n",
        "from datetime import date\n",
        "\n",
        "def fixed_rate_mortgage(interest: float, years: int, payments_year: int, mortgage: int, start_date: str):\n",
        "  periods = years * payments_year\n",
        "  df = pd.DataFrame(index=range(1, periods+1))\n",
        "  df[\"Date\"] = pd.date_range(start_date, periods=periods, freq='MS', name='Payment Date').date\n",
        "  df[\"Payment\"] = -1 * npf.pmt(interest/12, periods,mortgage)\n",
        "  df[\"Interest Paid\"] = -1 * npf.ipmt(interest/payments_year, df.index, periods,mortgage)\n",
        "  df[\"Principal Paid\"] = -1 * npf.ppmt(interest/payments_year, df.index, periods,mortgage)\n",
        "  df['Ending Balance'] = mortgage - df['Principal Paid'].cumsum()\n",
        "  df[df['Ending Balance'] < 0] = 0\n",
        "  total_loan = loan + df['Interest Paid'].sum()\n",
        "  with pd.option_context(\n",
        "      'display.max_columns', None,\n",
        "      'display.float_format', '${:,.2f}'.format):\n",
        "    print(df)\n",
        "  print(f\"\\nTotal of the loan is: ${total_loan:,.2f}.\\n\")\n",
        "  return df"
      ]
    },
    {
      "cell_type": "code",
      "source": [
        "interest = 0.04\n",
        "years = 30\n",
        "payments_year = 12\n",
        "\n",
        "#loan = input(\"Write the amount you want to loan \\n\")\n",
        "#loan = float(loan)\n",
        "loan = 1000000\n",
        "\n",
        "#start_date = input(\"What is the start date, in YYYY-MM-DD format\")\n",
        "start_date = \"2001-01-01\"\n",
        "year, month, day = map(int, start_date.split(\"-\"))\n",
        "start_date = date(year, month, day)\n",
        "\n",
        "mydf = fixed_rate_mortgage(interest, years, payments_year, loan, start_date)"
      ],
      "metadata": {
        "colab": {
          "base_uri": "https://localhost:8080/"
        },
        "id": "DXGfk9kVaPBc",
        "outputId": "bca7a0a7-4be5-4f74-cae5-69ccd03a06d2"
      },
      "execution_count": 3,
      "outputs": [
        {
          "output_type": "stream",
          "name": "stdout",
          "text": [
            "           Date   Payment  Interest Paid  Principal Paid  Ending Balance\n",
            "1    2001-01-01 $4,774.15      $3,333.33       $1,440.82     $998,559.18\n",
            "2    2001-02-01 $4,774.15      $3,328.53       $1,445.62     $997,113.56\n",
            "3    2001-03-01 $4,774.15      $3,323.71       $1,450.44     $995,663.12\n",
            "4    2001-04-01 $4,774.15      $3,318.88       $1,455.28     $994,207.84\n",
            "5    2001-05-01 $4,774.15      $3,314.03       $1,460.13     $992,747.71\n",
            "..          ...       ...            ...             ...             ...\n",
            "356  2030-08-01 $4,774.15         $78.78       $4,695.37      $18,938.53\n",
            "357  2030-09-01 $4,774.15         $63.13       $4,711.02      $14,227.50\n",
            "358  2030-10-01 $4,774.15         $47.43       $4,726.73       $9,500.78\n",
            "359  2030-11-01 $4,774.15         $31.67       $4,742.48       $4,758.29\n",
            "360  2030-12-01 $4,774.15         $15.86       $4,758.29           $0.00\n",
            "\n",
            "[360 rows x 5 columns]\n",
            "\n",
            "Total of the loan is: $1,718,695.06.\n",
            "\n"
          ]
        }
      ]
    },
    {
      "cell_type": "code",
      "source": [
        "mydf.to_csv(f\"Montly_Payment_Plan_IR={interest}_YR={years}_RCP.csv\")"
      ],
      "metadata": {
        "id": "ORA9KKtyabqd"
      },
      "execution_count": 4,
      "outputs": []
    },
    {
      "cell_type": "code",
      "source": [
        "mydf"
      ],
      "metadata": {
        "colab": {
          "base_uri": "https://localhost:8080/",
          "height": 424
        },
        "id": "ks2QsTyYafJ7",
        "outputId": "76ec9d23-f2a2-4379-c5c9-7495a8360a58"
      },
      "execution_count": 5,
      "outputs": [
        {
          "output_type": "execute_result",
          "data": {
            "text/plain": [
              "           Date      Payment  Interest Paid  Principal Paid  Ending Balance\n",
              "1    2001-01-01  4774.152955    3333.333333     1440.819621    9.985592e+05\n",
              "2    2001-02-01  4774.152955    3328.530601     1445.622353    9.971136e+05\n",
              "3    2001-03-01  4774.152955    3323.711860     1450.441095    9.956631e+05\n",
              "4    2001-04-01  4774.152955    3318.877056     1455.275898    9.942078e+05\n",
              "5    2001-05-01  4774.152955    3314.026137     1460.126818    9.927477e+05\n",
              "..          ...          ...            ...             ...             ...\n",
              "356  2030-08-01  4774.152955      78.779671     4695.373283    1.893853e+04\n",
              "357  2030-09-01  4774.152955      63.128427     4711.024527    1.422750e+04\n",
              "358  2030-10-01  4774.152955      47.425012     4726.727943    9.500776e+03\n",
              "359  2030-11-01  4774.152955      31.669252     4742.483702    4.758292e+03\n",
              "360  2030-12-01  4774.152955      15.860973     4758.291981    2.316665e-08\n",
              "\n",
              "[360 rows x 5 columns]"
            ],
            "text/html": [
              "\n",
              "\n",
              "  <div id=\"df-58dbfde8-d5fd-40a2-b637-e1c0f3c4e141\">\n",
              "    <div class=\"colab-df-container\">\n",
              "      <div>\n",
              "<style scoped>\n",
              "    .dataframe tbody tr th:only-of-type {\n",
              "        vertical-align: middle;\n",
              "    }\n",
              "\n",
              "    .dataframe tbody tr th {\n",
              "        vertical-align: top;\n",
              "    }\n",
              "\n",
              "    .dataframe thead th {\n",
              "        text-align: right;\n",
              "    }\n",
              "</style>\n",
              "<table border=\"1\" class=\"dataframe\">\n",
              "  <thead>\n",
              "    <tr style=\"text-align: right;\">\n",
              "      <th></th>\n",
              "      <th>Date</th>\n",
              "      <th>Payment</th>\n",
              "      <th>Interest Paid</th>\n",
              "      <th>Principal Paid</th>\n",
              "      <th>Ending Balance</th>\n",
              "    </tr>\n",
              "  </thead>\n",
              "  <tbody>\n",
              "    <tr>\n",
              "      <th>1</th>\n",
              "      <td>2001-01-01</td>\n",
              "      <td>4774.152955</td>\n",
              "      <td>3333.333333</td>\n",
              "      <td>1440.819621</td>\n",
              "      <td>9.985592e+05</td>\n",
              "    </tr>\n",
              "    <tr>\n",
              "      <th>2</th>\n",
              "      <td>2001-02-01</td>\n",
              "      <td>4774.152955</td>\n",
              "      <td>3328.530601</td>\n",
              "      <td>1445.622353</td>\n",
              "      <td>9.971136e+05</td>\n",
              "    </tr>\n",
              "    <tr>\n",
              "      <th>3</th>\n",
              "      <td>2001-03-01</td>\n",
              "      <td>4774.152955</td>\n",
              "      <td>3323.711860</td>\n",
              "      <td>1450.441095</td>\n",
              "      <td>9.956631e+05</td>\n",
              "    </tr>\n",
              "    <tr>\n",
              "      <th>4</th>\n",
              "      <td>2001-04-01</td>\n",
              "      <td>4774.152955</td>\n",
              "      <td>3318.877056</td>\n",
              "      <td>1455.275898</td>\n",
              "      <td>9.942078e+05</td>\n",
              "    </tr>\n",
              "    <tr>\n",
              "      <th>5</th>\n",
              "      <td>2001-05-01</td>\n",
              "      <td>4774.152955</td>\n",
              "      <td>3314.026137</td>\n",
              "      <td>1460.126818</td>\n",
              "      <td>9.927477e+05</td>\n",
              "    </tr>\n",
              "    <tr>\n",
              "      <th>...</th>\n",
              "      <td>...</td>\n",
              "      <td>...</td>\n",
              "      <td>...</td>\n",
              "      <td>...</td>\n",
              "      <td>...</td>\n",
              "    </tr>\n",
              "    <tr>\n",
              "      <th>356</th>\n",
              "      <td>2030-08-01</td>\n",
              "      <td>4774.152955</td>\n",
              "      <td>78.779671</td>\n",
              "      <td>4695.373283</td>\n",
              "      <td>1.893853e+04</td>\n",
              "    </tr>\n",
              "    <tr>\n",
              "      <th>357</th>\n",
              "      <td>2030-09-01</td>\n",
              "      <td>4774.152955</td>\n",
              "      <td>63.128427</td>\n",
              "      <td>4711.024527</td>\n",
              "      <td>1.422750e+04</td>\n",
              "    </tr>\n",
              "    <tr>\n",
              "      <th>358</th>\n",
              "      <td>2030-10-01</td>\n",
              "      <td>4774.152955</td>\n",
              "      <td>47.425012</td>\n",
              "      <td>4726.727943</td>\n",
              "      <td>9.500776e+03</td>\n",
              "    </tr>\n",
              "    <tr>\n",
              "      <th>359</th>\n",
              "      <td>2030-11-01</td>\n",
              "      <td>4774.152955</td>\n",
              "      <td>31.669252</td>\n",
              "      <td>4742.483702</td>\n",
              "      <td>4.758292e+03</td>\n",
              "    </tr>\n",
              "    <tr>\n",
              "      <th>360</th>\n",
              "      <td>2030-12-01</td>\n",
              "      <td>4774.152955</td>\n",
              "      <td>15.860973</td>\n",
              "      <td>4758.291981</td>\n",
              "      <td>2.316665e-08</td>\n",
              "    </tr>\n",
              "  </tbody>\n",
              "</table>\n",
              "<p>360 rows × 5 columns</p>\n",
              "</div>\n",
              "      <button class=\"colab-df-convert\" onclick=\"convertToInteractive('df-58dbfde8-d5fd-40a2-b637-e1c0f3c4e141')\"\n",
              "              title=\"Convert this dataframe to an interactive table.\"\n",
              "              style=\"display:none;\">\n",
              "\n",
              "  <svg xmlns=\"http://www.w3.org/2000/svg\" height=\"24px\"viewBox=\"0 0 24 24\"\n",
              "       width=\"24px\">\n",
              "    <path d=\"M0 0h24v24H0V0z\" fill=\"none\"/>\n",
              "    <path d=\"M18.56 5.44l.94 2.06.94-2.06 2.06-.94-2.06-.94-.94-2.06-.94 2.06-2.06.94zm-11 1L8.5 8.5l.94-2.06 2.06-.94-2.06-.94L8.5 2.5l-.94 2.06-2.06.94zm10 10l.94 2.06.94-2.06 2.06-.94-2.06-.94-.94-2.06-.94 2.06-2.06.94z\"/><path d=\"M17.41 7.96l-1.37-1.37c-.4-.4-.92-.59-1.43-.59-.52 0-1.04.2-1.43.59L10.3 9.45l-7.72 7.72c-.78.78-.78 2.05 0 2.83L4 21.41c.39.39.9.59 1.41.59.51 0 1.02-.2 1.41-.59l7.78-7.78 2.81-2.81c.8-.78.8-2.07 0-2.86zM5.41 20L4 18.59l7.72-7.72 1.47 1.35L5.41 20z\"/>\n",
              "  </svg>\n",
              "      </button>\n",
              "\n",
              "\n",
              "\n",
              "    <div id=\"df-6689e1d8-e601-4297-8d42-9470970d3597\">\n",
              "      <button class=\"colab-df-quickchart\" onclick=\"quickchart('df-6689e1d8-e601-4297-8d42-9470970d3597')\"\n",
              "              title=\"Suggest charts.\"\n",
              "              style=\"display:none;\">\n",
              "\n",
              "<svg xmlns=\"http://www.w3.org/2000/svg\" height=\"24px\"viewBox=\"0 0 24 24\"\n",
              "     width=\"24px\">\n",
              "    <g>\n",
              "        <path d=\"M19 3H5c-1.1 0-2 .9-2 2v14c0 1.1.9 2 2 2h14c1.1 0 2-.9 2-2V5c0-1.1-.9-2-2-2zM9 17H7v-7h2v7zm4 0h-2V7h2v10zm4 0h-2v-4h2v4z\"/>\n",
              "    </g>\n",
              "</svg>\n",
              "      </button>\n",
              "    </div>\n",
              "\n",
              "<style>\n",
              "  .colab-df-quickchart {\n",
              "    background-color: #E8F0FE;\n",
              "    border: none;\n",
              "    border-radius: 50%;\n",
              "    cursor: pointer;\n",
              "    display: none;\n",
              "    fill: #1967D2;\n",
              "    height: 32px;\n",
              "    padding: 0 0 0 0;\n",
              "    width: 32px;\n",
              "  }\n",
              "\n",
              "  .colab-df-quickchart:hover {\n",
              "    background-color: #E2EBFA;\n",
              "    box-shadow: 0px 1px 2px rgba(60, 64, 67, 0.3), 0px 1px 3px 1px rgba(60, 64, 67, 0.15);\n",
              "    fill: #174EA6;\n",
              "  }\n",
              "\n",
              "  [theme=dark] .colab-df-quickchart {\n",
              "    background-color: #3B4455;\n",
              "    fill: #D2E3FC;\n",
              "  }\n",
              "\n",
              "  [theme=dark] .colab-df-quickchart:hover {\n",
              "    background-color: #434B5C;\n",
              "    box-shadow: 0px 1px 3px 1px rgba(0, 0, 0, 0.15);\n",
              "    filter: drop-shadow(0px 1px 2px rgba(0, 0, 0, 0.3));\n",
              "    fill: #FFFFFF;\n",
              "  }\n",
              "</style>\n",
              "\n",
              "    <script>\n",
              "      async function quickchart(key) {\n",
              "        const containerElement = document.querySelector('#' + key);\n",
              "        const charts = await google.colab.kernel.invokeFunction(\n",
              "            'suggestCharts', [key], {});\n",
              "      }\n",
              "    </script>\n",
              "\n",
              "      <script>\n",
              "\n",
              "function displayQuickchartButton(domScope) {\n",
              "  let quickchartButtonEl =\n",
              "    domScope.querySelector('#df-6689e1d8-e601-4297-8d42-9470970d3597 button.colab-df-quickchart');\n",
              "  quickchartButtonEl.style.display =\n",
              "    google.colab.kernel.accessAllowed ? 'block' : 'none';\n",
              "}\n",
              "\n",
              "        displayQuickchartButton(document);\n",
              "      </script>\n",
              "      <style>\n",
              "    .colab-df-container {\n",
              "      display:flex;\n",
              "      flex-wrap:wrap;\n",
              "      gap: 12px;\n",
              "    }\n",
              "\n",
              "    .colab-df-convert {\n",
              "      background-color: #E8F0FE;\n",
              "      border: none;\n",
              "      border-radius: 50%;\n",
              "      cursor: pointer;\n",
              "      display: none;\n",
              "      fill: #1967D2;\n",
              "      height: 32px;\n",
              "      padding: 0 0 0 0;\n",
              "      width: 32px;\n",
              "    }\n",
              "\n",
              "    .colab-df-convert:hover {\n",
              "      background-color: #E2EBFA;\n",
              "      box-shadow: 0px 1px 2px rgba(60, 64, 67, 0.3), 0px 1px 3px 1px rgba(60, 64, 67, 0.15);\n",
              "      fill: #174EA6;\n",
              "    }\n",
              "\n",
              "    [theme=dark] .colab-df-convert {\n",
              "      background-color: #3B4455;\n",
              "      fill: #D2E3FC;\n",
              "    }\n",
              "\n",
              "    [theme=dark] .colab-df-convert:hover {\n",
              "      background-color: #434B5C;\n",
              "      box-shadow: 0px 1px 3px 1px rgba(0, 0, 0, 0.15);\n",
              "      filter: drop-shadow(0px 1px 2px rgba(0, 0, 0, 0.3));\n",
              "      fill: #FFFFFF;\n",
              "    }\n",
              "  </style>\n",
              "\n",
              "      <script>\n",
              "        const buttonEl =\n",
              "          document.querySelector('#df-58dbfde8-d5fd-40a2-b637-e1c0f3c4e141 button.colab-df-convert');\n",
              "        buttonEl.style.display =\n",
              "          google.colab.kernel.accessAllowed ? 'block' : 'none';\n",
              "\n",
              "        async function convertToInteractive(key) {\n",
              "          const element = document.querySelector('#df-58dbfde8-d5fd-40a2-b637-e1c0f3c4e141');\n",
              "          const dataTable =\n",
              "            await google.colab.kernel.invokeFunction('convertToInteractive',\n",
              "                                                     [key], {});\n",
              "          if (!dataTable) return;\n",
              "\n",
              "          const docLinkHtml = 'Like what you see? Visit the ' +\n",
              "            '<a target=\"_blank\" href=https://colab.research.google.com/notebooks/data_table.ipynb>data table notebook</a>'\n",
              "            + ' to learn more about interactive tables.';\n",
              "          element.innerHTML = '';\n",
              "          dataTable['output_type'] = 'display_data';\n",
              "          await google.colab.output.renderOutput(dataTable, element);\n",
              "          const docLink = document.createElement('div');\n",
              "          docLink.innerHTML = docLinkHtml;\n",
              "          element.appendChild(docLink);\n",
              "        }\n",
              "      </script>\n",
              "    </div>\n",
              "  </div>\n"
            ]
          },
          "metadata": {},
          "execution_count": 5
        }
      ]
    },
    {
      "cell_type": "code",
      "source": [
        "import numpy as np\n",
        "import numpy_financial as npf\n",
        "import pandas as pd\n",
        "from datetime import date\n",
        "import seaborn as sns"
      ],
      "metadata": {
        "id": "cGsoBQ-GakSU"
      },
      "execution_count": null,
      "outputs": []
    },
    {
      "cell_type": "code",
      "source": [
        "interest = 0.025\n",
        "years = 20\n",
        "payments_year = 12\n",
        "mortgage = 1000000\n",
        "start_date = (date(2021, 1, 1))"
      ],
      "metadata": {
        "id": "_EHvtXszayH0"
      },
      "execution_count": 6,
      "outputs": []
    },
    {
      "cell_type": "code",
      "source": [
        "rng = pd.date_range(start_date, periods=years * payments_year, freq='MS')\n",
        "rng.name = \"Payment Date\"\n",
        "df = pd.DataFrame(index=rng, columns=['Payment', 'Principal Paid', 'Interest Paid', 'Ending Balance'], dtype='float')\n",
        "df.reset_index(inplace=True)\n",
        "df.index += 1\n",
        "df.index.name = \"Period\""
      ],
      "metadata": {
        "id": "H0JB0SIfbB7c"
      },
      "execution_count": 7,
      "outputs": []
    },
    {
      "cell_type": "code",
      "source": [
        "df[\"Payment\"] = -1 * npf.pmt(interest/12, years*payments_year,mortgage)\n",
        "df[\"Interest Paid\"] = -1 * npf.ipmt(interest/payments_year, df.index, years*payments_year,mortgage)\n",
        "df[\"Principal Paid\"] = -1 * npf.ppmt(interest/payments_year, df.index, years*payments_year,mortgage)\n",
        "df[\"Ending Balance\"] = 0\n",
        "df.loc[1, \"Ending Balance\"] = mortgage - df.loc[1, \"Principal Paid\"]\n",
        "df = df.round(2)"
      ],
      "metadata": {
        "id": "lqDmzVeIbES0"
      },
      "execution_count": 8,
      "outputs": []
    },
    {
      "cell_type": "code",
      "source": [
        "for period in range(2, len(df)+1):\n",
        "    previous_balance = df.loc[period-1, \"Ending Balance\"]\n",
        "    principal_paid = df.loc[period, \"Principal Paid\"]\n",
        "\n",
        "    if previous_balance == 0:\n",
        "        df.loc[period, ['Payment', 'Principal Paid', 'Interest Paid', 'Ending Balance']] == 0\n",
        "        continue\n",
        "    elif principal_paid <= previous_balance:\n",
        "        df.loc[period, \"Ending Balance\"] = previous_balance - principal_paid\n",
        "\n",
        "print(df)"
      ],
      "metadata": {
        "colab": {
          "base_uri": "https://localhost:8080/"
        },
        "id": "ne_u3tDrbGzT",
        "outputId": "e8d1a686-95e6-4647-a514-bc6c56500afe"
      },
      "execution_count": 9,
      "outputs": [
        {
          "output_type": "stream",
          "name": "stdout",
          "text": [
            "       Payment Date  Payment  Principal Paid  Interest Paid  Ending Balance\n",
            "Period                                                                     \n",
            "1        2021-01-01  5299.03         3215.70        2083.33       996784.30\n",
            "2        2021-02-01  5299.03         3222.39        2076.63       993561.91\n",
            "3        2021-03-01  5299.03         3229.11        2069.92       990332.80\n",
            "4        2021-04-01  5299.03         3235.84        2063.19       987096.96\n",
            "5        2021-05-01  5299.03         3242.58        2056.45       983854.38\n",
            "...             ...      ...             ...            ...             ...\n",
            "236      2040-08-01  5299.03         5244.17          54.85        21086.21\n",
            "237      2040-09-01  5299.03         5255.10          43.93        15831.11\n",
            "238      2040-10-01  5299.03         5266.05          32.98        10565.06\n",
            "239      2040-11-01  5299.03         5277.02          22.01         5288.04\n",
            "240      2040-12-01  5299.03         5288.01          11.02            0.03\n",
            "\n",
            "[240 rows x 5 columns]\n"
          ]
        }
      ]
    },
    {
      "cell_type": "code",
      "source": [
        "df.to_csv(f\"Montly_Payment_Plan_IR={interest}_YR={years}_TTR.csv\")"
      ],
      "metadata": {
        "id": "v39_m9GTbJ6L"
      },
      "execution_count": 10,
      "outputs": []
    },
    {
      "cell_type": "code",
      "source": [
        "import pandas as pd\n",
        "import numpy as np\n",
        "import numpy_financial as npf\n",
        "from datetime import date\n"
      ],
      "metadata": {
        "id": "wFU-vQqubTNT"
      },
      "execution_count": 11,
      "outputs": []
    },
    {
      "cell_type": "code",
      "source": [
        "movingRates = [0.08033, # year 2001\n",
        "               0.08033, # year 2002\n",
        "               0.08033, # year 2003\n",
        "               0.08033, # year 2004\n",
        "               0.08033, # year 2005\n",
        "               0.08033, # year 2006\n",
        "               0.08033, # year 2007\n",
        "               0.06337, # year 2008\n",
        "               0.06027, # year 2009\n",
        "               0.05037, # year 2010\n",
        "               0.04690, # year 2011\n",
        "               0.04448, # year 2012\n",
        "               0.03658, # year 2013\n",
        "               0.03976, # year 2014\n",
        "               0.04162, # year 2015\n",
        "               0.03851, # year 2016\n",
        "               0.03654, # year 2017\n",
        "               0.03990, # year 2018\n",
        "               0.04545, # year 2019\n",
        "               0.03936  # year 2020\n",
        "              ]\n",
        "\n",
        "\n",
        "ARM71Rates = np.repeat(movingRates, 12)   # convert yearly rates to montly repetitions"
      ],
      "metadata": {
        "id": "6nfL-40cbVv9"
      },
      "execution_count": 12,
      "outputs": []
    },
    {
      "cell_type": "code",
      "source": [
        "ARM71Rates"
      ],
      "metadata": {
        "colab": {
          "base_uri": "https://localhost:8080/"
        },
        "id": "Zz6ED5cXbYV8",
        "outputId": "66cd509b-859c-4250-af66-2111dbb4ca3a"
      },
      "execution_count": 13,
      "outputs": [
        {
          "output_type": "execute_result",
          "data": {
            "text/plain": [
              "array([0.08033, 0.08033, 0.08033, 0.08033, 0.08033, 0.08033, 0.08033,\n",
              "       0.08033, 0.08033, 0.08033, 0.08033, 0.08033, 0.08033, 0.08033,\n",
              "       0.08033, 0.08033, 0.08033, 0.08033, 0.08033, 0.08033, 0.08033,\n",
              "       0.08033, 0.08033, 0.08033, 0.08033, 0.08033, 0.08033, 0.08033,\n",
              "       0.08033, 0.08033, 0.08033, 0.08033, 0.08033, 0.08033, 0.08033,\n",
              "       0.08033, 0.08033, 0.08033, 0.08033, 0.08033, 0.08033, 0.08033,\n",
              "       0.08033, 0.08033, 0.08033, 0.08033, 0.08033, 0.08033, 0.08033,\n",
              "       0.08033, 0.08033, 0.08033, 0.08033, 0.08033, 0.08033, 0.08033,\n",
              "       0.08033, 0.08033, 0.08033, 0.08033, 0.08033, 0.08033, 0.08033,\n",
              "       0.08033, 0.08033, 0.08033, 0.08033, 0.08033, 0.08033, 0.08033,\n",
              "       0.08033, 0.08033, 0.08033, 0.08033, 0.08033, 0.08033, 0.08033,\n",
              "       0.08033, 0.08033, 0.08033, 0.08033, 0.08033, 0.08033, 0.08033,\n",
              "       0.06337, 0.06337, 0.06337, 0.06337, 0.06337, 0.06337, 0.06337,\n",
              "       0.06337, 0.06337, 0.06337, 0.06337, 0.06337, 0.06027, 0.06027,\n",
              "       0.06027, 0.06027, 0.06027, 0.06027, 0.06027, 0.06027, 0.06027,\n",
              "       0.06027, 0.06027, 0.06027, 0.05037, 0.05037, 0.05037, 0.05037,\n",
              "       0.05037, 0.05037, 0.05037, 0.05037, 0.05037, 0.05037, 0.05037,\n",
              "       0.05037, 0.0469 , 0.0469 , 0.0469 , 0.0469 , 0.0469 , 0.0469 ,\n",
              "       0.0469 , 0.0469 , 0.0469 , 0.0469 , 0.0469 , 0.0469 , 0.04448,\n",
              "       0.04448, 0.04448, 0.04448, 0.04448, 0.04448, 0.04448, 0.04448,\n",
              "       0.04448, 0.04448, 0.04448, 0.04448, 0.03658, 0.03658, 0.03658,\n",
              "       0.03658, 0.03658, 0.03658, 0.03658, 0.03658, 0.03658, 0.03658,\n",
              "       0.03658, 0.03658, 0.03976, 0.03976, 0.03976, 0.03976, 0.03976,\n",
              "       0.03976, 0.03976, 0.03976, 0.03976, 0.03976, 0.03976, 0.03976,\n",
              "       0.04162, 0.04162, 0.04162, 0.04162, 0.04162, 0.04162, 0.04162,\n",
              "       0.04162, 0.04162, 0.04162, 0.04162, 0.04162, 0.03851, 0.03851,\n",
              "       0.03851, 0.03851, 0.03851, 0.03851, 0.03851, 0.03851, 0.03851,\n",
              "       0.03851, 0.03851, 0.03851, 0.03654, 0.03654, 0.03654, 0.03654,\n",
              "       0.03654, 0.03654, 0.03654, 0.03654, 0.03654, 0.03654, 0.03654,\n",
              "       0.03654, 0.0399 , 0.0399 , 0.0399 , 0.0399 , 0.0399 , 0.0399 ,\n",
              "       0.0399 , 0.0399 , 0.0399 , 0.0399 , 0.0399 , 0.0399 , 0.04545,\n",
              "       0.04545, 0.04545, 0.04545, 0.04545, 0.04545, 0.04545, 0.04545,\n",
              "       0.04545, 0.04545, 0.04545, 0.04545, 0.03936, 0.03936, 0.03936,\n",
              "       0.03936, 0.03936, 0.03936, 0.03936, 0.03936, 0.03936, 0.03936,\n",
              "       0.03936, 0.03936])"
            ]
          },
          "metadata": {},
          "execution_count": 13
        }
      ]
    },
    {
      "cell_type": "code",
      "source": [
        "def fixed_rate_mortgage2(interest: float, years: int, payments_year: int, mortgage: int, start_date: str):\n",
        "    periods = years * payments_year\n",
        "    df = pd.DataFrame(index=range(1, periods+1))\n",
        "    df[\"Date\"] = pd.date_range(start_date, periods=periods, freq='MS', name='Payment Date').date\n",
        "    df[\"Interest Rate\"] = interest\n",
        "    df[\"Interest Paid\"] = -1 * npf.ipmt(df[\"Interest Rate\"]/payments_year, 132, periods, mortgage)\n",
        "    df[\"Principal Paid\"] = -1 * npf.ppmt(df[\"Interest Rate\"]/payments_year, 132, periods, mortgage)\n",
        "    df[\"Payment\"]        = df[\"Principal Paid\"] + df[\"Interest Paid\"]\n",
        "    df['Ending Balance'] = mortgage - df['Principal Paid'].cumsum()\n",
        "    df[df['Ending Balance'] < 0] = 0\n",
        "    total_loan = loan + df['Interest Paid'].sum()\n",
        "    print(df)\n",
        "    print(f\"\\nTotal of the loan is: ${total_loan:,.2f}.\\n\")\n",
        "    return df"
      ],
      "metadata": {
        "id": "TliJh1-9ba3F"
      },
      "execution_count": 14,
      "outputs": []
    },
    {
      "cell_type": "code",
      "source": [
        "interest = ARM71Rates\n",
        "years = 20\n",
        "payments_year = 12\n",
        "\n",
        "#loan = input(\"Write the amount you want to loan \\n\")\n",
        "#loan = float(loan)\n",
        "loan = 1000000\n",
        "\n",
        "#start_date = input(\"What is the start date, in YYYY-MM-DD format\")\n",
        "start_date = \"2001-01-01\"\n",
        "year, month, day = map(int, start_date.split(\"-\"))\n",
        "start_date = date(year, month, day)\n",
        "\n"
      ],
      "metadata": {
        "id": "Z210hBKCbeTO"
      },
      "execution_count": 15,
      "outputs": []
    },
    {
      "cell_type": "code",
      "source": [
        "mydf = fixed_rate_mortgage2(interest, years, payments_year, loan, start_date)"
      ],
      "metadata": {
        "colab": {
          "base_uri": "https://localhost:8080/"
        },
        "id": "qgj2ztFvbgz1",
        "outputId": "b9da3be1-2818-44af-b667-557f44ce94c8"
      },
      "execution_count": 16,
      "outputs": [
        {
          "output_type": "stream",
          "name": "stdout",
          "text": [
            "           Date  Interest Rate  Interest Paid  Principal Paid      Payment  \\\n",
            "1    2001-01-01        0.08033    4332.969981     4051.980116  8384.950096   \n",
            "2    2001-02-01        0.08033    4332.969981     4051.980116  8384.950096   \n",
            "3    2001-03-01        0.08033    4332.969981     4051.980116  8384.950096   \n",
            "4    2001-04-01        0.08033    4332.969981     4051.980116  8384.950096   \n",
            "5    2001-05-01        0.08033    4332.969981     4051.980116  8384.950096   \n",
            "..          ...            ...            ...             ...          ...   \n",
            "236  2020-08-01        0.03936    1808.936467     4217.196347  6026.132814   \n",
            "237  2020-09-01        0.03936    1808.936467     4217.196347  6026.132814   \n",
            "238  2020-10-01        0.03936    1808.936467     4217.196347  6026.132814   \n",
            "239  2020-11-01        0.03936    1808.936467     4217.196347  6026.132814   \n",
            "240  2020-12-01        0.03936    1808.936467     4217.196347  6026.132814   \n",
            "\n",
            "     Ending Balance  \n",
            "1     995948.019884  \n",
            "2     991896.039769  \n",
            "3     987844.059653  \n",
            "4     983792.079538  \n",
            "5     979740.099422  \n",
            "..              ...  \n",
            "236    20848.124632  \n",
            "237    16630.928285  \n",
            "238    12413.731939  \n",
            "239     8196.535592  \n",
            "240     3979.339245  \n",
            "\n",
            "[240 rows x 6 columns]\n",
            "\n",
            "Total of the loan is: $1,695,361.33.\n",
            "\n"
          ]
        }
      ]
    },
    {
      "cell_type": "code",
      "source": [],
      "metadata": {
        "id": "rvtXWtr9bjW1"
      },
      "execution_count": null,
      "outputs": []
    }
  ]
}