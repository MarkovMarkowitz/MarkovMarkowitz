{
  "cells": [
    {
      "cell_type": "markdown",
      "metadata": {
        "id": "view-in-github",
        "colab_type": "text"
      },
      "source": [
        "<a href=\"https://colab.research.google.com/github/MarkovMarkowitz/MarkovMarkowitz/blob/main/Overnight_Trading_Strategy_Functions.ipynb\" target=\"_parent\"><img src=\"https://colab.research.google.com/assets/colab-badge.svg\" alt=\"Open In Colab\"/></a>"
      ]
    },
    {
      "cell_type": "code",
      "execution_count": 24,
      "metadata": {
        "id": "Ia1DEDPuVS4b",
        "colab": {
          "base_uri": "https://localhost:8080/"
        },
        "outputId": "cd83ebfc-9fa6-4bcc-e67a-7e80edc1517a"
      },
      "outputs": [
        {
          "output_type": "stream",
          "name": "stdout",
          "text": [
            "Requirement already satisfied: pyfolio in /usr/local/lib/python3.10/dist-packages (0.9.2)\n",
            "Requirement already satisfied: ipython>=3.2.3 in /usr/local/lib/python3.10/dist-packages (from pyfolio) (7.34.0)\n",
            "Requirement already satisfied: matplotlib>=1.4.0 in /usr/local/lib/python3.10/dist-packages (from pyfolio) (3.7.1)\n",
            "Requirement already satisfied: numpy>=1.11.1 in /usr/local/lib/python3.10/dist-packages (from pyfolio) (1.22.4)\n",
            "Requirement already satisfied: pandas>=0.18.1 in /usr/local/lib/python3.10/dist-packages (from pyfolio) (1.5.3)\n",
            "Requirement already satisfied: pytz>=2014.10 in /usr/local/lib/python3.10/dist-packages (from pyfolio) (2022.7.1)\n",
            "Requirement already satisfied: scipy>=0.14.0 in /usr/local/lib/python3.10/dist-packages (from pyfolio) (1.10.1)\n",
            "Requirement already satisfied: scikit-learn>=0.16.1 in /usr/local/lib/python3.10/dist-packages (from pyfolio) (1.2.2)\n",
            "Requirement already satisfied: seaborn>=0.7.1 in /usr/local/lib/python3.10/dist-packages (from pyfolio) (0.12.2)\n",
            "Requirement already satisfied: empyrical>=0.5.0 in /usr/local/lib/python3.10/dist-packages (from pyfolio) (0.5.5)\n",
            "Requirement already satisfied: pandas-datareader>=0.2 in /usr/local/lib/python3.10/dist-packages (from empyrical>=0.5.0->pyfolio) (0.10.0)\n",
            "Requirement already satisfied: setuptools>=18.5 in /usr/local/lib/python3.10/dist-packages (from ipython>=3.2.3->pyfolio) (67.7.2)\n",
            "Requirement already satisfied: jedi>=0.16 in /usr/local/lib/python3.10/dist-packages (from ipython>=3.2.3->pyfolio) (0.19.0)\n",
            "Requirement already satisfied: decorator in /usr/local/lib/python3.10/dist-packages (from ipython>=3.2.3->pyfolio) (4.4.2)\n",
            "Requirement already satisfied: pickleshare in /usr/local/lib/python3.10/dist-packages (from ipython>=3.2.3->pyfolio) (0.7.5)\n",
            "Requirement already satisfied: traitlets>=4.2 in /usr/local/lib/python3.10/dist-packages (from ipython>=3.2.3->pyfolio) (5.7.1)\n",
            "Requirement already satisfied: prompt-toolkit!=3.0.0,!=3.0.1,<3.1.0,>=2.0.0 in /usr/local/lib/python3.10/dist-packages (from ipython>=3.2.3->pyfolio) (3.0.39)\n",
            "Requirement already satisfied: pygments in /usr/local/lib/python3.10/dist-packages (from ipython>=3.2.3->pyfolio) (2.14.0)\n",
            "Requirement already satisfied: backcall in /usr/local/lib/python3.10/dist-packages (from ipython>=3.2.3->pyfolio) (0.2.0)\n",
            "Requirement already satisfied: matplotlib-inline in /usr/local/lib/python3.10/dist-packages (from ipython>=3.2.3->pyfolio) (0.1.6)\n",
            "Requirement already satisfied: pexpect>4.3 in /usr/local/lib/python3.10/dist-packages (from ipython>=3.2.3->pyfolio) (4.8.0)\n",
            "Requirement already satisfied: contourpy>=1.0.1 in /usr/local/lib/python3.10/dist-packages (from matplotlib>=1.4.0->pyfolio) (1.1.0)\n",
            "Requirement already satisfied: cycler>=0.10 in /usr/local/lib/python3.10/dist-packages (from matplotlib>=1.4.0->pyfolio) (0.11.0)\n",
            "Requirement already satisfied: fonttools>=4.22.0 in /usr/local/lib/python3.10/dist-packages (from matplotlib>=1.4.0->pyfolio) (4.41.1)\n",
            "Requirement already satisfied: kiwisolver>=1.0.1 in /usr/local/lib/python3.10/dist-packages (from matplotlib>=1.4.0->pyfolio) (1.4.4)\n",
            "Requirement already satisfied: packaging>=20.0 in /usr/local/lib/python3.10/dist-packages (from matplotlib>=1.4.0->pyfolio) (23.1)\n",
            "Requirement already satisfied: pillow>=6.2.0 in /usr/local/lib/python3.10/dist-packages (from matplotlib>=1.4.0->pyfolio) (9.4.0)\n",
            "Requirement already satisfied: pyparsing>=2.3.1 in /usr/local/lib/python3.10/dist-packages (from matplotlib>=1.4.0->pyfolio) (3.1.0)\n",
            "Requirement already satisfied: python-dateutil>=2.7 in /usr/local/lib/python3.10/dist-packages (from matplotlib>=1.4.0->pyfolio) (2.8.2)\n",
            "Requirement already satisfied: joblib>=1.1.1 in /usr/local/lib/python3.10/dist-packages (from scikit-learn>=0.16.1->pyfolio) (1.3.1)\n",
            "Requirement already satisfied: threadpoolctl>=2.0.0 in /usr/local/lib/python3.10/dist-packages (from scikit-learn>=0.16.1->pyfolio) (3.2.0)\n",
            "Requirement already satisfied: parso<0.9.0,>=0.8.3 in /usr/local/lib/python3.10/dist-packages (from jedi>=0.16->ipython>=3.2.3->pyfolio) (0.8.3)\n",
            "Requirement already satisfied: lxml in /usr/local/lib/python3.10/dist-packages (from pandas-datareader>=0.2->empyrical>=0.5.0->pyfolio) (4.9.3)\n",
            "Requirement already satisfied: requests>=2.19.0 in /usr/local/lib/python3.10/dist-packages (from pandas-datareader>=0.2->empyrical>=0.5.0->pyfolio) (2.27.1)\n",
            "Requirement already satisfied: ptyprocess>=0.5 in /usr/local/lib/python3.10/dist-packages (from pexpect>4.3->ipython>=3.2.3->pyfolio) (0.7.0)\n",
            "Requirement already satisfied: wcwidth in /usr/local/lib/python3.10/dist-packages (from prompt-toolkit!=3.0.0,!=3.0.1,<3.1.0,>=2.0.0->ipython>=3.2.3->pyfolio) (0.2.6)\n",
            "Requirement already satisfied: six>=1.5 in /usr/local/lib/python3.10/dist-packages (from python-dateutil>=2.7->matplotlib>=1.4.0->pyfolio) (1.16.0)\n",
            "Requirement already satisfied: urllib3<1.27,>=1.21.1 in /usr/local/lib/python3.10/dist-packages (from requests>=2.19.0->pandas-datareader>=0.2->empyrical>=0.5.0->pyfolio) (1.26.16)\n",
            "Requirement already satisfied: certifi>=2017.4.17 in /usr/local/lib/python3.10/dist-packages (from requests>=2.19.0->pandas-datareader>=0.2->empyrical>=0.5.0->pyfolio) (2023.7.22)\n",
            "Requirement already satisfied: charset-normalizer~=2.0.0 in /usr/local/lib/python3.10/dist-packages (from requests>=2.19.0->pandas-datareader>=0.2->empyrical>=0.5.0->pyfolio) (2.0.12)\n",
            "Requirement already satisfied: idna<4,>=2.5 in /usr/local/lib/python3.10/dist-packages (from requests>=2.19.0->pandas-datareader>=0.2->empyrical>=0.5.0->pyfolio) (3.4)\n",
            "Requirement already satisfied: datetime in /usr/local/lib/python3.10/dist-packages (5.2)\n",
            "Requirement already satisfied: zope.interface in /usr/local/lib/python3.10/dist-packages (from datetime) (6.0)\n",
            "Requirement already satisfied: pytz in /usr/local/lib/python3.10/dist-packages (from datetime) (2022.7.1)\n",
            "Requirement already satisfied: setuptools in /usr/local/lib/python3.10/dist-packages (from zope.interface->datetime) (67.7.2)\n"
          ]
        }
      ],
      "source": [
        "!pip3 install pyfolio\n",
        "!pip install datetime\n"
      ]
    },
    {
      "cell_type": "markdown",
      "metadata": {
        "id": "ih7-VamUZ4qc"
      },
      "source": [
        "OVERNIGHT TRADING STRATEGY"
      ]
    },
    {
      "cell_type": "markdown",
      "metadata": {
        "id": "kQK6fotMVYtJ"
      },
      "source": [
        "# Notebook Instructions\n",
        "\n",
        "1. If you are new to Jupyter notebooks, please go through this introductory manual <a href='https://quantra.quantinsti.com/quantra-notebook' target=\"_blank\">here</a>.\n",
        "1. Any changes made in this notebook would be lost after you close the browser window. **You can download the notebook to save your work on your PC.**\n",
        "1. Before running this notebook on your local PC:<br>\n",
        "i.  You need to set up a Python environment and the relevant packages on your local PC. To do so, go through the section on \"**Run Codes Locally on Your Machine**\" in the course.<br>\n",
        "ii. You need to **download the zip file available in the last unit** of this course. The zip file contains the data files and/or python modules that might be required to run this notebook."
      ]
    },
    {
      "cell_type": "code",
      "source": [
        "\n",
        "import datetime\n",
        "import pyfolio as pyf\n",
        "import pandas as pd\n",
        "import numpy as np\n",
        "import yfinance as yf\n",
        "import matplotlib.pyplot as plt\n",
        "\n",
        "day = 4\n",
        "month = 8\n",
        "year = 2021\n",
        "delta = 2\n",
        "\n",
        "START = f'{year}-{month}-{day}'\n",
        "END = f'{year+delta}-{month}-{day}'\n",
        "\n",
        "VOLATILITY_FACTOR = 0.45\n",
        "R_WINDOW = 32\n",
        "REVERSED = True\n",
        "LEFT, RIGHT = datetime.date(year, month, day), datetime.date(year+delta, month, day)\n",
        "\n",
        "Ticker = \"EREGL\"    # EREGL, ASELS, KCHOL THYAO akşam al sabah sata uygun\n",
        "TickerIS = Ticker + \".IS\"\n",
        "\n",
        "TR_Tickers = [\"EREGL\", \"CANTE\", \"GARAN\", \"KCHOL\", \"EUPWR\"]\n",
        "US_Tickers = [\"TSLA\", \"AAPL\", \"GOOGL\", \"BA\", \"V\"]\n",
        "DOW30 = [\"AXP\",\"AMGN\",\"AAPL\",\"BA\",\"CAT\",\"CSCO\",\"CVX\",\"GS\",\"HD\",\"HON\",\"IBM\",\"JNJ\",\"KO\",\"JPM\",\n",
        "         \"MCD\",\"MMM\",\"MRK\",\"MSFT\",\"NKE\",\"PG\",\"TRV\",\"UNH\",\"CRM\",\"VZ\",\"V\",\"WBA\",\"WMT\",\"DIS\",\"DOW\"]\n",
        "\n",
        "BIST30 = [\"AKBNK\",\"ALARK\",\"ARCLK\",\"ASELS\",\"BIMAS\",\"EKGYO\",\"ENKAI\",\"EREGL\",\"FROTO\",\"GARAN\",\n",
        "          \"GUBRF\",\"HEKTS\",\"ISCTR\",\"KOZAA\",\"KOZAL\",\"KRDMD\",\"ODAS\",\"PETKM\",\"PGSUS\",\"SAHOL\",\"SASA\",\n",
        "          \"SISE\",\"TAVHL\",\"TCELL\",\"THYAO\",\"TOASO\",\"TUPRS\",\"YKBNK\"]\n"
      ],
      "metadata": {
        "id": "a9nKTtg-wv5c"
      },
      "execution_count": 25,
      "outputs": []
    },
    {
      "cell_type": "code",
      "execution_count": 26,
      "metadata": {
        "id": "Wa8x3mz3VZuT"
      },
      "outputs": [],
      "source": [
        "def UpdateData(TickerIS, START, END):\n",
        "\n",
        "  # For data manupulations\n",
        "\n",
        "  # VF    LB    PEAK_CUM  CUM_LAST    REVERSED\n",
        "  # 0.25  45    6.11       4.29 OK    True\n",
        "  # 0.35  45    7.42       5.02 OK    True\n",
        "  # 0.40  45    7.64       5.17 OK    True\n",
        "  # 0.45  45    8.99       6.16 OK    True\n",
        "  # 0.45  45    1.22       1.05 OK    False\n",
        "  # 0.45  55    7.97       5.39 OK    True\n",
        "  # 0.45  40    9.35       6.31 OK    True\n",
        "  # 0.45  35    9.65       7.14 OK    True\n",
        "  # 0.45  33    9.78       7.24 OK    True  ***\n",
        "  # 0.45  32    10.02      7.42 OK    True  ****\n",
        "  # 0.45  30    9.16       6.78 OK    True\n",
        "  # 0.45  25    8.19       5.98 OK    True\n",
        "  # -   -       5.17       4.82 OK    True / original Gap up buy side.\n",
        "\n",
        "  # Read data from Yahoo finance\n",
        "\n",
        "  data = yf.download(TickerIS,START, END)\n",
        "  # Convert index into datetime format\n",
        "  data.index = pd.to_datetime(data.index,format=\"%d-%m-%Y\")\n",
        "  # Calculate adjustment factor\n",
        "  adjusted_factor = data['Adj Close'] / data['Close']\n",
        "  # Calculate adjusted open price\n",
        "  data['Adj Open'] = adjusted_factor * data['Open']\n",
        "  data['returns'] = (data['Adj Open'] - data['Adj Close'].shift(1)) / data['Adj Close'].shift(1)\n",
        "  data['positiveOpen'] = data\n",
        "  data['std'] = data['returns'].rolling(R_WINDOW).std()\n",
        "  data['positions'] = np.nan\n",
        "  data['close']= data['Adj Close']\n",
        "  data[\"log_returns\"] = data['close'].pct_change().apply(lambda x: np.log(1+x))\n",
        "  data[\"rel\"]= data['Adj Close'] / data['Adj Close'][0]\n",
        "\n",
        "  # Long entry condition\n",
        "  if REVERSED:\n",
        "    long_entry = data['returns'] < VOLATILITY_FACTOR  * data['std']\n",
        "    short_entry = data['returns'] >= VOLATILITY_FACTOR  * data['std']\n",
        "  else:\n",
        "  # Short entry condition\n",
        "    long_entry = data['returns'] >= VOLATILITY_FACTOR  * data['std']\n",
        "    short_entry = data['returns'] < VOLATILITY_FACTOR  * data['std']\n",
        "  # Store 1 when long entry condition is true\n",
        "\n",
        "  data.loc[long_entry, 'positions'] = 1\n",
        "  data.loc[short_entry, 'positions'] = 0\n",
        "\n",
        "  data['positions'].fillna(method='ffill', inplace=True)\n",
        "  data['strategy_returns'] = ((data['Adj Close'] - data['Adj Open']) / data['Adj Open']) * data.positions\n",
        "  data['cumulative_normal_returns'] = (data.returns+1).cumprod()\n",
        "  data['cumulative_strategy_returns'] = (data.strategy_returns+1).cumprod()\n",
        "\n",
        "  return data"
      ]
    },
    {
      "cell_type": "code",
      "source": [],
      "metadata": {
        "id": "tWbt6YY7ggQx"
      },
      "execution_count": 26,
      "outputs": []
    },
    {
      "cell_type": "code",
      "execution_count": 27,
      "metadata": {
        "id": "JJK6QI6dVkIZ"
      },
      "outputs": [],
      "source": [
        "# Calculate returns\n"
      ]
    },
    {
      "cell_type": "code",
      "execution_count": 28,
      "metadata": {
        "id": "a_DlgxlpVpek"
      },
      "outputs": [],
      "source": [
        "# Calculate standard deviation of returns\n"
      ]
    },
    {
      "cell_type": "code",
      "execution_count": 28,
      "metadata": {
        "id": "JjbGoDkj__BH"
      },
      "outputs": [],
      "source": []
    },
    {
      "cell_type": "code",
      "execution_count": 29,
      "metadata": {
        "id": "LCppA4pzAUyu"
      },
      "outputs": [],
      "source": [
        "# #GAP UP-GAP DOWN STRATEGY\n",
        "\n",
        "# # Long entry condition\n",
        "# long_entry = data['Adj Open'] > data['Adj Close'].shift(1)\n",
        "\n",
        "# # Short entry condition\n",
        "# short_entry = data['Adj Open'] < data['Adj Close'].shift(1)"
      ]
    },
    {
      "cell_type": "code",
      "execution_count": 30,
      "metadata": {
        "id": "kEBR-ALlVuDa"
      },
      "outputs": [],
      "source": [
        "# IMPROVED STRATEGY\n",
        "def Strategy(data):\n",
        "  global VOLATILITY_FACTOR\n",
        "  # Long entry condition\n",
        "  if REVERSED:\n",
        "    long_entry = data['returns'] < VOLATILITY_FACTOR  * data['std']\n",
        "    short_entry = data['returns'] >= VOLATILITY_FACTOR  * data['std']\n",
        "  else:\n",
        "  # Short entry condition\n",
        "    long_entry = data['returns'] >= VOLATILITY_FACTOR  * data['std']\n",
        "    short_entry = data['returns'] < VOLATILITY_FACTOR  * data['std']\n",
        "  # Store 1 when long entry condition is true\n",
        "  data.loc[long_entry, 'positions'] = 1\n",
        "\n",
        "  # Store -1 when short entry condition is true\n",
        "  # data.loc[short_entry, 'positions'] = -1\n",
        "\n",
        "  # Store 0 when wait condition is true\n",
        "  data.loc[short_entry, 'positions'] = 0\n",
        "\n",
        "  data['positions'].fillna(method='ffill', inplace=True)\n",
        "  return data\n",
        "\n"
      ]
    },
    {
      "cell_type": "code",
      "execution_count": 31,
      "metadata": {
        "id": "At1lib6fAOJT"
      },
      "outputs": [],
      "source": [
        "\n",
        "\n",
        "# Drop NaN values\n",
        "#data = data.dropna()"
      ]
    },
    {
      "cell_type": "code",
      "execution_count": 32,
      "metadata": {
        "id": "UEasbkyqVxJf"
      },
      "outputs": [],
      "source": [
        "def CalculateStrReturns(data):\n",
        "  data['strategy_returns'] = ((data['Adj Close'] - data['Adj Open']) / data['Adj Open']) * data.positions\n",
        "  return data"
      ]
    },
    {
      "cell_type": "code",
      "source": [],
      "metadata": {
        "id": "Duv_zZfAdTl1"
      },
      "execution_count": 32,
      "outputs": []
    },
    {
      "cell_type": "code",
      "execution_count": 33,
      "metadata": {
        "id": "14EFET83XE-L"
      },
      "outputs": [],
      "source": [
        "def PlotRelative(data):\n",
        "  global  LEFT, RIGHT, R_WINDOW\n",
        "  plt.subplot(4, 1, 1)\n",
        "  plt.xlim(LEFT, RIGHT)\n",
        "  plt.plot(data['close'])\n",
        "  plt.title(f\"{Ticker} time series\")\n",
        "\n",
        "  plt.subplot(4, 1, 2)\n",
        "  plt.xlim(LEFT, RIGHT)\n",
        "  plt.plot(data['rel'])\n",
        "  plt.title(f\"{Ticker} relative time series\")\n",
        "\n",
        "\n",
        "\n",
        "  plt.subplot(4, 1, 3)\n",
        "  plt.xlim(LEFT, RIGHT)\n",
        "  plt.plot(data['log_returns'])\n",
        "  plt.title(f\"{Ticker} returns time series\")\n",
        "\n",
        "  plt.subplot(4, 1, 4)\n",
        "  plt.xlim(LEFT, RIGHT)\n",
        "  data_vlt = data['close'].rolling(R_WINDOW).std()*(252**0.5)\n",
        "\n",
        "  plt.title(f\"{Ticker} {R_WINDOW}-day rolling volatility\")\n",
        "  plt.plot(data['std']*252**0.5)\n",
        "\n",
        "  fig = plt.gcf()\n",
        "  fig.set_size_inches(16, 16)\n",
        "  plt.show()"
      ]
    },
    {
      "cell_type": "code",
      "source": [],
      "metadata": {
        "id": "SnTjVQdZcINa"
      },
      "execution_count": 33,
      "outputs": []
    },
    {
      "cell_type": "code",
      "execution_count": 34,
      "metadata": {
        "id": "eLPhtXvAV3Hb"
      },
      "outputs": [],
      "source": [
        "def PlotFunction(data):\n",
        "  # Plot cumulative returns\n",
        "\n",
        "  import datetime\n",
        "\n",
        "  plt.figure(figsize=(14,11))\n",
        "\n",
        "  plt.subplot(4, 1, 1)\n",
        "  global LEFT, RIGHT\n",
        "  plt.xlim(LEFT, RIGHT)\n",
        "  plt.plot(data['close'])\n",
        "  plt.title(f\"{Ticker} time series\", fontsize=16)\n",
        "  plt.xlabel('Date', fontsize=14)\n",
        "  plt.ylabel('Price', fontsize=14)\n",
        "  plt.grid()\n",
        "\n",
        "  # ----------------------------------------------------------------------------------\n",
        "  plt.subplot(4, 1, 2)\n",
        "  plt.xlim(LEFT, RIGHT)\n",
        "\n",
        "\n",
        "  plt.plot(data.cumulative_normal_returns)\n",
        "  plt.title(f\"{Ticker} normal returns\")\n",
        "  plt.grid()\n",
        "  plt.xticks(fontsize=12)\n",
        "  plt.yticks(fontsize=12)\n",
        "\n",
        "  # Cumulative strategy returns\n",
        "  # Define the label for the title of the figure\n",
        "  plt.title(f\"{Ticker} Cumulative Returns\", fontsize=16)\n",
        "  # Define the labels for x-axis and y-axis\n",
        "  plt.xlabel('Date', fontsize=14)\n",
        "  plt.ylabel('Returns', fontsize=14)\n",
        "\n",
        "  # Define the tick size for x-axis and y-axis\n",
        "  plt.xticks(fontsize=12)\n",
        "  plt.yticks(fontsize=12)\n",
        "\n",
        "  # ----------------------------------------------------------------------------------\n",
        "  plt.subplot(4, 1, 3)\n",
        "  plt.xlim(LEFT, RIGHT)\n",
        "\n",
        "\n",
        "\n",
        "  plt.plot(data.cumulative_strategy_returns)\n",
        "  plt.title(f\"{Ticker} returns time series\")\n",
        "  plt.grid()\n",
        "  plt.xticks(fontsize=12)\n",
        "  plt.yticks(fontsize=12)\n",
        "\n",
        "  # Cumulative strategy returns\n",
        "  # Define the label for the title of the figure\n",
        "  plt.title(f\"{Ticker} Cumulative Strategy Returns\", fontsize=16)\n",
        "  # Define the labels for x-axis and y-axis\n",
        "  plt.xlabel('Date', fontsize=14)\n",
        "  plt.ylabel('Cumulative Returns', fontsize=14)\n",
        "\n",
        "  # Define the tick size for x-axis and y-axis\n",
        "  plt.xticks(fontsize=12)\n",
        "  plt.yticks(fontsize=12)\n",
        "\n",
        "  # ----------------------------------------------------------------------------------\n",
        "  plt.subplot(4, 1, 4)\n",
        "  plt.xlim(LEFT, RIGHT)\n",
        "  plt.title(f\"{Ticker} {R_WINDOW}-day rolling volatility\")\n",
        "  plt.xlabel('Date', fontsize=14)\n",
        "  plt.ylabel(f'{Ticker} volatility', fontsize=14)\n",
        "  plt.grid()\n",
        "  plt.xticks(fontsize=12)\n",
        "\n",
        "  plt.plot(data['std']*252**0.5)\n",
        "  fig = plt.gcf()\n",
        "  fig.set_size_inches(16, 22)\n",
        "  plt.show()"
      ]
    },
    {
      "cell_type": "code",
      "source": [],
      "metadata": {
        "id": "G3ryp4bZbjdg"
      },
      "execution_count": 34,
      "outputs": []
    },
    {
      "cell_type": "code",
      "execution_count": 35,
      "metadata": {
        "id": "Rp0cjuVFDs29"
      },
      "outputs": [],
      "source": [
        "def ShowDataTable(data):\n",
        "  global year, day, month\n",
        "  return(data.loc[f'{year}-{month}-{day}':f'{year+delta}-{month}-{day}'].dropna())\n",
        "\n",
        "\n"
      ]
    },
    {
      "cell_type": "code",
      "source": [
        "def CreateTearSheetForData(data):\n",
        "  pyf.create_simple_tear_sheet(data.returns.dropna())"
      ],
      "metadata": {
        "id": "tp6gqXvZGsft"
      },
      "execution_count": 36,
      "outputs": []
    },
    {
      "cell_type": "code",
      "execution_count": 36,
      "metadata": {
        "id": "yKbDGMn0Fang"
      },
      "outputs": [],
      "source": []
    },
    {
      "cell_type": "code",
      "source": [
        "def EvaluateFeasibility(data):\n",
        "  Max_Cum_Norm_Ret = np.max(data.cumulative_normal_returns)\n",
        "  Max_Cum_Str_Ret = np.max(data.cumulative_strategy_returns)\n",
        "\n",
        "  Last_Cum_Norm_Ret = data.cumulative_normal_returns[-1]\n",
        "  Last_Cum_Norm_Ret = data.cumulative_strategy_returns[-1]\n",
        "\n",
        "  Latest_Rel = data['rel'][-1]\n",
        "  Latest_Cum_Norm_Ret = data.cumulative_normal_returns[-1]\n",
        "  feasible = Latest_Cum_Norm_Ret / Latest_Rel\n",
        "  return feasible"
      ],
      "metadata": {
        "id": "1LA3_sTWK1Kc"
      },
      "execution_count": 37,
      "outputs": []
    },
    {
      "cell_type": "code",
      "source": [],
      "metadata": {
        "id": "CPkVe-OmiC0S"
      },
      "execution_count": 37,
      "outputs": []
    },
    {
      "cell_type": "code",
      "source": [
        "\n"
      ],
      "metadata": {
        "id": "mXiemDK5iEDa"
      },
      "execution_count": 37,
      "outputs": []
    },
    {
      "cell_type": "code",
      "source": [
        "def ShowTRMarket(Tickers):\n",
        "\n",
        "  my_dict = {\"Ticker\":[],\"FB\":[]};\n",
        "\n",
        "  for ticker in Tickers:\n",
        "    ticker = ticker + \".IS\"\n",
        "    d = UpdateData(ticker, START, END)\n",
        "    d = Strategy(d)\n",
        "    fb = EvaluateFeasibility(d)\n",
        "    if fb>1.2 :\n",
        "\n",
        "      my_dict[\"Ticker\"].append(ticker)\n",
        "      my_dict[\"FB\"].append(fb)\n",
        "  df = pd.DataFrame(my_dict)\n",
        "  df.sort_values(by=['FB'], ascending=False, inplace=True)\n",
        "  return df\n",
        "\n"
      ],
      "metadata": {
        "id": "pZaWhd1Td5-R"
      },
      "execution_count": 38,
      "outputs": []
    },
    {
      "cell_type": "code",
      "source": [
        "def ShowUSMarket(Tickers):\n",
        "\n",
        "  my_dict = {\"Ticker\":[],\"FB\":[]};\n",
        "\n",
        "  for ticker in Tickers:\n",
        "    d = UpdateData(ticker, START, END)\n",
        "    d = Strategy(d)\n",
        "    fb = EvaluateFeasibility(d)\n",
        "    if fb>1.2 :\n",
        "\n",
        "      my_dict[\"Ticker\"].append(ticker)\n",
        "      my_dict[\"FB\"].append(fb)\n",
        "  df = pd.DataFrame(my_dict)\n",
        "  df.sort_values(by=['FB'], ascending=False, inplace=True)\n",
        "  return df\n"
      ],
      "metadata": {
        "id": "CmNRV92Lh1Is"
      },
      "execution_count": 39,
      "outputs": []
    },
    {
      "cell_type": "code",
      "source": [
        "print(ShowUSMarket(DOW30))\n",
        "print(ShowTRMarket(BIST30))\n"
      ],
      "metadata": {
        "colab": {
          "base_uri": "https://localhost:8080/"
        },
        "id": "r4WCv-pokU9W",
        "outputId": "e71e0566-7927-4fb9-ad38-0597478fecd2"
      },
      "execution_count": 40,
      "outputs": [
        {
          "output_type": "stream",
          "name": "stdout",
          "text": [
            "[*********************100%***********************]  1 of 1 completed\n",
            "[*********************100%***********************]  1 of 1 completed\n",
            "[*********************100%***********************]  1 of 1 completed\n",
            "[*********************100%***********************]  1 of 1 completed\n",
            "[*********************100%***********************]  1 of 1 completed\n",
            "[*********************100%***********************]  1 of 1 completed\n",
            "[*********************100%***********************]  1 of 1 completed\n",
            "[*********************100%***********************]  1 of 1 completed\n",
            "[*********************100%***********************]  1 of 1 completed\n",
            "[*********************100%***********************]  1 of 1 completed\n",
            "[*********************100%***********************]  1 of 1 completed\n",
            "[*********************100%***********************]  1 of 1 completed\n",
            "[*********************100%***********************]  1 of 1 completed\n",
            "[*********************100%***********************]  1 of 1 completed\n",
            "[*********************100%***********************]  1 of 1 completed\n",
            "[*********************100%***********************]  1 of 1 completed\n",
            "[*********************100%***********************]  1 of 1 completed\n",
            "[*********************100%***********************]  1 of 1 completed\n",
            "[*********************100%***********************]  1 of 1 completed\n",
            "[*********************100%***********************]  1 of 1 completed\n",
            "[*********************100%***********************]  1 of 1 completed\n",
            "[*********************100%***********************]  1 of 1 completed\n",
            "[*********************100%***********************]  1 of 1 completed\n",
            "[*********************100%***********************]  1 of 1 completed\n",
            "[*********************100%***********************]  1 of 1 completed\n",
            "[*********************100%***********************]  1 of 1 completed\n",
            "[*********************100%***********************]  1 of 1 completed\n",
            "[*********************100%***********************]  1 of 1 completed\n",
            "[*********************100%***********************]  1 of 1 completed\n",
            "  Ticker        FB\n",
            "2    MMM  1.861209\n",
            "5    DIS  1.783920\n",
            "4    WBA  1.639242\n",
            "3     VZ  1.408657\n",
            "0    AXP  1.244785\n",
            "1    HON  1.242180\n",
            "[*********************100%***********************]  1 of 1 completed\n",
            "[*********************100%***********************]  1 of 1 completed\n",
            "[*********************100%***********************]  1 of 1 completed\n",
            "[*********************100%***********************]  1 of 1 completed\n",
            "[*********************100%***********************]  1 of 1 completed\n",
            "[*********************100%***********************]  1 of 1 completed\n",
            "[*********************100%***********************]  1 of 1 completed\n",
            "[*********************100%***********************]  1 of 1 completed\n",
            "[*********************100%***********************]  1 of 1 completed\n",
            "[*********************100%***********************]  1 of 1 completed\n",
            "[*********************100%***********************]  1 of 1 completed\n",
            "[*********************100%***********************]  1 of 1 completed\n",
            "[*********************100%***********************]  1 of 1 completed\n",
            "[*********************100%***********************]  1 of 1 completed\n",
            "[*********************100%***********************]  1 of 1 completed\n",
            "[*********************100%***********************]  1 of 1 completed\n",
            "[*********************100%***********************]  1 of 1 completed\n",
            "[*********************100%***********************]  1 of 1 completed\n",
            "[*********************100%***********************]  1 of 1 completed\n",
            "[*********************100%***********************]  1 of 1 completed\n",
            "[*********************100%***********************]  1 of 1 completed\n",
            "[*********************100%***********************]  1 of 1 completed\n",
            "[*********************100%***********************]  1 of 1 completed\n",
            "[*********************100%***********************]  1 of 1 completed\n",
            "[*********************100%***********************]  1 of 1 completed\n",
            "[*********************100%***********************]  1 of 1 completed\n",
            "[*********************100%***********************]  1 of 1 completed\n",
            "[*********************100%***********************]  1 of 1 completed\n",
            "     Ticker        FB\n",
            "5  KRDMD.IS  2.281997\n",
            "2  EREGL.IS  2.221282\n",
            "3  KOZAA.IS  2.104844\n",
            "1  ENKAI.IS  1.650000\n",
            "7  PETKM.IS  1.638078\n",
            "4  KOZAL.IS  1.621528\n",
            "9  TCELL.IS  1.491479\n",
            "0  ASELS.IS  1.455112\n",
            "6   ODAS.IS  1.324543\n",
            "8  TAVHL.IS  1.205840\n"
          ]
        }
      ]
    }
  ],
  "metadata": {
    "colab": {
      "toc_visible": true,
      "provenance": [],
      "authorship_tag": "ABX9TyNsKjNVu9vrJcJaU4tvOBzb",
      "include_colab_link": true
    },
    "kernelspec": {
      "display_name": "Python 3",
      "name": "python3"
    },
    "language_info": {
      "name": "python"
    }
  },
  "nbformat": 4,
  "nbformat_minor": 0
}