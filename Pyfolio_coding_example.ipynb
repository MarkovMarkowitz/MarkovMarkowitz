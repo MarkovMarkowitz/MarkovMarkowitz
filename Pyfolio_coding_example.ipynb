{
  "nbformat": 4,
  "nbformat_minor": 0,
  "metadata": {
    "colab": {
      "provenance": [],
      "authorship_tag": "ABX9TyNyY5QxyAKmKUhgwM22WpCn",
      "include_colab_link": true
    },
    "kernelspec": {
      "name": "python3",
      "display_name": "Python 3"
    },
    "language_info": {
      "name": "python"
    }
  },
  "cells": [
    {
      "cell_type": "markdown",
      "metadata": {
        "id": "view-in-github",
        "colab_type": "text"
      },
      "source": [
        "<a href=\"https://colab.research.google.com/github/MarkovMarkowitz/MarkovMarkowitz/blob/main/Pyfolio_coding_example.ipynb\" target=\"_parent\"><img src=\"https://colab.research.google.com/assets/colab-badge.svg\" alt=\"Open In Colab\"/></a>"
      ]
    },
    {
      "cell_type": "code",
      "execution_count": null,
      "metadata": {
        "id": "aIMaSHcRALvu"
      },
      "outputs": [],
      "source": [
        "# pyfolio coding example\n",
        "import pyfolio as pf\n",
        "pystats_df = pf.timeseries.perf_stats(OrderedTable['pct_change'].dropna())\n",
        "max_drawdown = np.abs(100*pf.timeseries.max_drawdown(OrderedTable['pct_change'].dropna()))\n",
        "pystats_df"
      ]
    }
  ]
}