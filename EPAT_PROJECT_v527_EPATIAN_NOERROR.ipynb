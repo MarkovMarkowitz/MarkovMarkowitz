{
  "cells": [
    {
      "cell_type": "markdown",
      "metadata": {
        "id": "view-in-github",
        "colab_type": "text"
      },
      "source": [
        "<a href=\"https://colab.research.google.com/github/MarkovMarkowitz/MarkovMarkowitz/blob/main/EPAT_PROJECT_v527_EPATIAN_NOERROR.ipynb\" target=\"_parent\"><img src=\"https://colab.research.google.com/assets/colab-badge.svg\" alt=\"Open In Colab\"/></a>"
      ]
    },
    {
      "cell_type": "markdown",
      "metadata": {
        "tags": [],
        "id": "_1z4MtQYw8wF"
      },
      "source": [
        "# EPAT PROJECT Batch 52\n",
        "\n",
        "## Moving Skewness Crossover (MSC) Strategy: Rationale, Construction and Backtesting\n",
        "\n",
        "##### Developed by:\n",
        "##### Alper Ülkü, Ankara, Turkey\n",
        "##### alperulku1970@gmail.com\n",
        "##### linkedin: https://www.linkedin.com/in/alperulku1970/"
      ]
    },
    {
      "cell_type": "markdown",
      "metadata": {
        "id": "MTlqp4G9w8wG"
      },
      "source": [
        "# Introduction\n",
        "\n",
        "## Moving Sharpe Ratio Crossover(MSRC) and Moving Skewness Crossover (MSC) Strategy: Rationale, Construction and Backtesting\n",
        "\n",
        "Synopsis: The moving averages cross over strategy is so well known since it is the basic, easy to understand and relatively easy to implement within trading algo universe.\n",
        "\n",
        "I tried in this Project a similar strategy but it is called the “Moving Skewness Crossover Strategy”. Here are my assumptions:\n",
        "\n",
        "1.\tHe et al., 2013 used skewness in detecting climatic changes, thus long-term skewness may serve for detecting trend of an asset. As every trading asset has seasons or trends. Season for trending can be determined via its skewness of daily returns for M days. This number of days M, varies for every asset, is characteristic of this asset in long term. Thus we safely define “season change of an asset” if M-day skewness of Daily returns changes sign (from negative to positive or positive to negative).\n",
        "\n",
        "2.\tWe detect trend due to M-Day Skewness: skewness of the M-day daily returns.\n",
        "-\tWe also define N-Skewness (N smaller than M) for an asset is the skewness close-to-close daily returns for N days. We will use N-Skewness for trade entry signal.\n",
        "-\tWe will also use kurtosis for selecting the asset to trade. We need to opt for the assets with a certain Kurtosis limit to minimize risk.\n",
        "-\tWe will optimize N, M, Skewness_Lower_Limit and Skewness_Upper_Limit for the specific asset.\n",
        "\n",
        "Strategy: We propose to implement, with M > N > 0, M, N are integers:\n",
        "- if N-Day-Skewness is GREATER than the value M-Day-Skewness we will square off and enter long trade (BUY)\n",
        "- if N-Day-Skewness is LESS than the value M-Day-Skewness  we will square off and enter short trade. (SELL)\n",
        "\n",
        "Herein we prepared Python code and backtested, compared this strategy with an moving average cross over strategy also optimized for SMA and LMA values.\n",
        "\n",
        "#### References:\n",
        "- He, W., Wan, S., Jiang, Y., Jin, H., Zhang, W., Wu, Q., & He, T. (2013). Detecting abrupt change on the basis of skewness: Numerical tests and applications. International Journal of Climatology, 33(12), 2713–2727. https://doi.org/10.1002/joc.3624\n",
        "\n",
        "\n",
        "#### Important Notice: This code contains critical information that is competition sensitive and can only be only reviewed by Quantinsti.\n"
      ]
    },
    {
      "cell_type": "markdown",
      "metadata": {
        "id": "0BLdv2dfw8wG"
      },
      "source": [
        "# Table of contents\n",
        "1. [IMPORT LIBRARIES](#import_lib)\n",
        "2. [CONSTRUCT CLASS](#construct_class)\n",
        "3. [SELECT AMONG DATASETS](#select_dataset)\n",
        "4. [DOWNLOAD FROM YF OR GET DATA LOCALLY](#download_data)\n",
        "5. [APPLY STRATEGY](#apply_str)\n",
        "6. [PRINT RESULTS](#print_results)\n",
        "7. [MY OWN PORTFOLIO PERFORMANCE](#my_pf_perf)\n",
        "8. [TEARSHEET FOR MY PORTFOLIO](#pf_tearsheet)\n",
        "9. [AN ALTERNATIVE PORTFOLIO OF BEST PERFORMING ASSETS](#alternative_pf)\n",
        "10. [DETERMINE WEIGHTS OF THIS ALTERNATIVE PF](#determine_weights)\n",
        "11. [OPTIONS CALCULATIONS](#options)\n",
        "\n"
      ]
    },
    {
      "cell_type": "code",
      "execution_count": 1,
      "metadata": {
        "id": "5KdNA-M2w8wH",
        "outputId": "93f0bbd3-5061-43a2-c975-791970b750e9",
        "colab": {
          "base_uri": "https://localhost:8080/"
        }
      },
      "outputs": [
        {
          "output_type": "stream",
          "name": "stdout",
          "text": [
            "Requirement already satisfied: pandas in /usr/local/lib/python3.10/dist-packages (1.5.3)\n",
            "Requirement already satisfied: python-dateutil>=2.8.1 in /usr/local/lib/python3.10/dist-packages (from pandas) (2.8.2)\n",
            "Requirement already satisfied: pytz>=2020.1 in /usr/local/lib/python3.10/dist-packages (from pandas) (2022.7.1)\n",
            "Requirement already satisfied: numpy>=1.21.0 in /usr/local/lib/python3.10/dist-packages (from pandas) (1.22.4)\n",
            "Requirement already satisfied: six>=1.5 in /usr/local/lib/python3.10/dist-packages (from python-dateutil>=2.8.1->pandas) (1.16.0)\n",
            "Requirement already satisfied: numpy in /usr/local/lib/python3.10/dist-packages (1.22.4)\n",
            "Requirement already satisfied: matplotlib in /usr/local/lib/python3.10/dist-packages (3.7.1)\n",
            "Requirement already satisfied: contourpy>=1.0.1 in /usr/local/lib/python3.10/dist-packages (from matplotlib) (1.1.0)\n",
            "Requirement already satisfied: cycler>=0.10 in /usr/local/lib/python3.10/dist-packages (from matplotlib) (0.11.0)\n",
            "Requirement already satisfied: fonttools>=4.22.0 in /usr/local/lib/python3.10/dist-packages (from matplotlib) (4.41.1)\n",
            "Requirement already satisfied: kiwisolver>=1.0.1 in /usr/local/lib/python3.10/dist-packages (from matplotlib) (1.4.4)\n",
            "Requirement already satisfied: numpy>=1.20 in /usr/local/lib/python3.10/dist-packages (from matplotlib) (1.22.4)\n",
            "Requirement already satisfied: packaging>=20.0 in /usr/local/lib/python3.10/dist-packages (from matplotlib) (23.1)\n",
            "Requirement already satisfied: pillow>=6.2.0 in /usr/local/lib/python3.10/dist-packages (from matplotlib) (9.4.0)\n",
            "Requirement already satisfied: pyparsing>=2.3.1 in /usr/local/lib/python3.10/dist-packages (from matplotlib) (3.1.0)\n",
            "Requirement already satisfied: python-dateutil>=2.7 in /usr/local/lib/python3.10/dist-packages (from matplotlib) (2.8.2)\n",
            "Requirement already satisfied: six>=1.5 in /usr/local/lib/python3.10/dist-packages (from python-dateutil>=2.7->matplotlib) (1.16.0)\n",
            "Requirement already satisfied: seaborn in /usr/local/lib/python3.10/dist-packages (0.12.2)\n",
            "Requirement already satisfied: numpy!=1.24.0,>=1.17 in /usr/local/lib/python3.10/dist-packages (from seaborn) (1.22.4)\n",
            "Requirement already satisfied: pandas>=0.25 in /usr/local/lib/python3.10/dist-packages (from seaborn) (1.5.3)\n",
            "Requirement already satisfied: matplotlib!=3.6.1,>=3.1 in /usr/local/lib/python3.10/dist-packages (from seaborn) (3.7.1)\n",
            "Requirement already satisfied: contourpy>=1.0.1 in /usr/local/lib/python3.10/dist-packages (from matplotlib!=3.6.1,>=3.1->seaborn) (1.1.0)\n",
            "Requirement already satisfied: cycler>=0.10 in /usr/local/lib/python3.10/dist-packages (from matplotlib!=3.6.1,>=3.1->seaborn) (0.11.0)\n",
            "Requirement already satisfied: fonttools>=4.22.0 in /usr/local/lib/python3.10/dist-packages (from matplotlib!=3.6.1,>=3.1->seaborn) (4.41.1)\n",
            "Requirement already satisfied: kiwisolver>=1.0.1 in /usr/local/lib/python3.10/dist-packages (from matplotlib!=3.6.1,>=3.1->seaborn) (1.4.4)\n",
            "Requirement already satisfied: packaging>=20.0 in /usr/local/lib/python3.10/dist-packages (from matplotlib!=3.6.1,>=3.1->seaborn) (23.1)\n",
            "Requirement already satisfied: pillow>=6.2.0 in /usr/local/lib/python3.10/dist-packages (from matplotlib!=3.6.1,>=3.1->seaborn) (9.4.0)\n",
            "Requirement already satisfied: pyparsing>=2.3.1 in /usr/local/lib/python3.10/dist-packages (from matplotlib!=3.6.1,>=3.1->seaborn) (3.1.0)\n",
            "Requirement already satisfied: python-dateutil>=2.7 in /usr/local/lib/python3.10/dist-packages (from matplotlib!=3.6.1,>=3.1->seaborn) (2.8.2)\n",
            "Requirement already satisfied: pytz>=2020.1 in /usr/local/lib/python3.10/dist-packages (from pandas>=0.25->seaborn) (2022.7.1)\n",
            "Requirement already satisfied: six>=1.5 in /usr/local/lib/python3.10/dist-packages (from python-dateutil>=2.7->matplotlib!=3.6.1,>=3.1->seaborn) (1.16.0)\n",
            "Requirement already satisfied: scipy in /usr/local/lib/python3.10/dist-packages (1.10.1)\n",
            "Requirement already satisfied: numpy<1.27.0,>=1.19.5 in /usr/local/lib/python3.10/dist-packages (from scipy) (1.22.4)\n",
            "Collecting nsepy\n",
            "  Downloading nsepy-0.8.tar.gz (33 kB)\n",
            "  Preparing metadata (setup.py) ... \u001b[?25l\u001b[?25hdone\n",
            "Requirement already satisfied: beautifulsoup4 in /usr/local/lib/python3.10/dist-packages (from nsepy) (4.11.2)\n",
            "Requirement already satisfied: requests in /usr/local/lib/python3.10/dist-packages (from nsepy) (2.27.1)\n",
            "Requirement already satisfied: numpy in /usr/local/lib/python3.10/dist-packages (from nsepy) (1.22.4)\n",
            "Requirement already satisfied: pandas in /usr/local/lib/python3.10/dist-packages (from nsepy) (1.5.3)\n",
            "Requirement already satisfied: six in /usr/local/lib/python3.10/dist-packages (from nsepy) (1.16.0)\n",
            "Requirement already satisfied: click in /usr/local/lib/python3.10/dist-packages (from nsepy) (8.1.6)\n",
            "Requirement already satisfied: lxml in /usr/local/lib/python3.10/dist-packages (from nsepy) (4.9.3)\n",
            "Requirement already satisfied: soupsieve>1.2 in /usr/local/lib/python3.10/dist-packages (from beautifulsoup4->nsepy) (2.4.1)\n",
            "Requirement already satisfied: python-dateutil>=2.8.1 in /usr/local/lib/python3.10/dist-packages (from pandas->nsepy) (2.8.2)\n",
            "Requirement already satisfied: pytz>=2020.1 in /usr/local/lib/python3.10/dist-packages (from pandas->nsepy) (2022.7.1)\n",
            "Requirement already satisfied: urllib3<1.27,>=1.21.1 in /usr/local/lib/python3.10/dist-packages (from requests->nsepy) (1.26.16)\n",
            "Requirement already satisfied: certifi>=2017.4.17 in /usr/local/lib/python3.10/dist-packages (from requests->nsepy) (2023.7.22)\n",
            "Requirement already satisfied: charset-normalizer~=2.0.0 in /usr/local/lib/python3.10/dist-packages (from requests->nsepy) (2.0.12)\n",
            "Requirement already satisfied: idna<4,>=2.5 in /usr/local/lib/python3.10/dist-packages (from requests->nsepy) (3.4)\n",
            "Building wheels for collected packages: nsepy\n",
            "  Building wheel for nsepy (setup.py) ... \u001b[?25l\u001b[?25hdone\n",
            "  Created wheel for nsepy: filename=nsepy-0.8-py3-none-any.whl size=36057 sha256=1c8639de58b1be068bc73d0697875cf508c4dffa9218b0d05222167e76e28166\n",
            "  Stored in directory: /root/.cache/pip/wheels/4c/87/cb/acaf83f625e5fc73e1fe6e2a8e97680c74cd72391850ef5a86\n",
            "Successfully built nsepy\n",
            "Installing collected packages: nsepy\n",
            "Successfully installed nsepy-0.8\n",
            "Collecting datetime\n",
            "  Downloading DateTime-5.2-py3-none-any.whl (52 kB)\n",
            "\u001b[2K     \u001b[90m━━━━━━━━━━━━━━━━━━━━━━━━━━━━━━━━━━━━━━━━\u001b[0m \u001b[32m52.2/52.2 kB\u001b[0m \u001b[31m1.3 MB/s\u001b[0m eta \u001b[36m0:00:00\u001b[0m\n",
            "\u001b[?25hCollecting zope.interface (from datetime)\n",
            "  Downloading zope.interface-6.0-cp310-cp310-manylinux_2_5_x86_64.manylinux1_x86_64.manylinux_2_17_x86_64.manylinux2014_x86_64.whl (246 kB)\n",
            "\u001b[2K     \u001b[90m━━━━━━━━━━━━━━━━━━━━━━━━━━━━━━━━━━━━━━━\u001b[0m \u001b[32m247.0/247.0 kB\u001b[0m \u001b[31m6.6 MB/s\u001b[0m eta \u001b[36m0:00:00\u001b[0m\n",
            "\u001b[?25hRequirement already satisfied: pytz in /usr/local/lib/python3.10/dist-packages (from datetime) (2022.7.1)\n",
            "Requirement already satisfied: setuptools in /usr/local/lib/python3.10/dist-packages (from zope.interface->datetime) (67.7.2)\n",
            "Installing collected packages: zope.interface, datetime\n",
            "Successfully installed datetime-5.2 zope.interface-6.0\n",
            "\u001b[31mERROR: Could not find a version that satisfies the requirement time (from versions: none)\u001b[0m\u001b[31m\n",
            "\u001b[0m\u001b[31mERROR: No matching distribution found for time\u001b[0m\u001b[31m\n",
            "\u001b[0mRequirement already satisfied: seaborn in /usr/local/lib/python3.10/dist-packages (0.12.2)\n",
            "Requirement already satisfied: numpy!=1.24.0,>=1.17 in /usr/local/lib/python3.10/dist-packages (from seaborn) (1.22.4)\n",
            "Requirement already satisfied: pandas>=0.25 in /usr/local/lib/python3.10/dist-packages (from seaborn) (1.5.3)\n",
            "Requirement already satisfied: matplotlib!=3.6.1,>=3.1 in /usr/local/lib/python3.10/dist-packages (from seaborn) (3.7.1)\n",
            "Requirement already satisfied: contourpy>=1.0.1 in /usr/local/lib/python3.10/dist-packages (from matplotlib!=3.6.1,>=3.1->seaborn) (1.1.0)\n",
            "Requirement already satisfied: cycler>=0.10 in /usr/local/lib/python3.10/dist-packages (from matplotlib!=3.6.1,>=3.1->seaborn) (0.11.0)\n",
            "Requirement already satisfied: fonttools>=4.22.0 in /usr/local/lib/python3.10/dist-packages (from matplotlib!=3.6.1,>=3.1->seaborn) (4.41.1)\n",
            "Requirement already satisfied: kiwisolver>=1.0.1 in /usr/local/lib/python3.10/dist-packages (from matplotlib!=3.6.1,>=3.1->seaborn) (1.4.4)\n",
            "Requirement already satisfied: packaging>=20.0 in /usr/local/lib/python3.10/dist-packages (from matplotlib!=3.6.1,>=3.1->seaborn) (23.1)\n",
            "Requirement already satisfied: pillow>=6.2.0 in /usr/local/lib/python3.10/dist-packages (from matplotlib!=3.6.1,>=3.1->seaborn) (9.4.0)\n",
            "Requirement already satisfied: pyparsing>=2.3.1 in /usr/local/lib/python3.10/dist-packages (from matplotlib!=3.6.1,>=3.1->seaborn) (3.1.0)\n",
            "Requirement already satisfied: python-dateutil>=2.7 in /usr/local/lib/python3.10/dist-packages (from matplotlib!=3.6.1,>=3.1->seaborn) (2.8.2)\n",
            "Requirement already satisfied: pytz>=2020.1 in /usr/local/lib/python3.10/dist-packages (from pandas>=0.25->seaborn) (2022.7.1)\n",
            "Requirement already satisfied: six>=1.5 in /usr/local/lib/python3.10/dist-packages (from python-dateutil>=2.7->matplotlib!=3.6.1,>=3.1->seaborn) (1.16.0)\n",
            "\u001b[31mERROR: Could not find a version that satisfies the requirement random (from versions: none)\u001b[0m\u001b[31m\n",
            "\u001b[0m\u001b[31mERROR: No matching distribution found for random\u001b[0m\u001b[31m\n",
            "\u001b[0m\u001b[31mERROR: Could not find a version that satisfies the requirement itertools (from versions: none)\u001b[0m\u001b[31m\n",
            "\u001b[0m\u001b[31mERROR: No matching distribution found for itertools\u001b[0m\u001b[31m\n",
            "\u001b[0mCollecting hmmlearn\n",
            "  Downloading hmmlearn-0.3.0-cp310-cp310-manylinux_2_17_x86_64.manylinux2014_x86_64.whl (160 kB)\n",
            "\u001b[2K     \u001b[90m━━━━━━━━━━━━━━━━━━━━━━━━━━━━━━━━━━━━━━━\u001b[0m \u001b[32m160.4/160.4 kB\u001b[0m \u001b[31m3.1 MB/s\u001b[0m eta \u001b[36m0:00:00\u001b[0m\n",
            "\u001b[?25hRequirement already satisfied: numpy>=1.10 in /usr/local/lib/python3.10/dist-packages (from hmmlearn) (1.22.4)\n",
            "Requirement already satisfied: scikit-learn!=0.22.0,>=0.16 in /usr/local/lib/python3.10/dist-packages (from hmmlearn) (1.2.2)\n",
            "Requirement already satisfied: scipy>=0.19 in /usr/local/lib/python3.10/dist-packages (from hmmlearn) (1.10.1)\n",
            "Requirement already satisfied: joblib>=1.1.1 in /usr/local/lib/python3.10/dist-packages (from scikit-learn!=0.22.0,>=0.16->hmmlearn) (1.3.1)\n",
            "Requirement already satisfied: threadpoolctl>=2.0.0 in /usr/local/lib/python3.10/dist-packages (from scikit-learn!=0.22.0,>=0.16->hmmlearn) (3.2.0)\n",
            "Installing collected packages: hmmlearn\n",
            "Successfully installed hmmlearn-0.3.0\n",
            "Requirement already satisfied: yfinance in /usr/local/lib/python3.10/dist-packages (0.2.25)\n",
            "Requirement already satisfied: pandas>=1.3.0 in /usr/local/lib/python3.10/dist-packages (from yfinance) (1.5.3)\n",
            "Requirement already satisfied: numpy>=1.16.5 in /usr/local/lib/python3.10/dist-packages (from yfinance) (1.22.4)\n",
            "Requirement already satisfied: requests>=2.26 in /usr/local/lib/python3.10/dist-packages (from yfinance) (2.27.1)\n",
            "Requirement already satisfied: multitasking>=0.0.7 in /usr/local/lib/python3.10/dist-packages (from yfinance) (0.0.11)\n",
            "Requirement already satisfied: lxml>=4.9.1 in /usr/local/lib/python3.10/dist-packages (from yfinance) (4.9.3)\n",
            "Requirement already satisfied: appdirs>=1.4.4 in /usr/local/lib/python3.10/dist-packages (from yfinance) (1.4.4)\n",
            "Requirement already satisfied: pytz>=2022.5 in /usr/local/lib/python3.10/dist-packages (from yfinance) (2022.7.1)\n",
            "Requirement already satisfied: frozendict>=2.3.4 in /usr/local/lib/python3.10/dist-packages (from yfinance) (2.3.8)\n",
            "Requirement already satisfied: beautifulsoup4>=4.11.1 in /usr/local/lib/python3.10/dist-packages (from yfinance) (4.11.2)\n",
            "Requirement already satisfied: html5lib>=1.1 in /usr/local/lib/python3.10/dist-packages (from yfinance) (1.1)\n",
            "Requirement already satisfied: soupsieve>1.2 in /usr/local/lib/python3.10/dist-packages (from beautifulsoup4>=4.11.1->yfinance) (2.4.1)\n",
            "Requirement already satisfied: six>=1.9 in /usr/local/lib/python3.10/dist-packages (from html5lib>=1.1->yfinance) (1.16.0)\n",
            "Requirement already satisfied: webencodings in /usr/local/lib/python3.10/dist-packages (from html5lib>=1.1->yfinance) (0.5.1)\n",
            "Requirement already satisfied: python-dateutil>=2.8.1 in /usr/local/lib/python3.10/dist-packages (from pandas>=1.3.0->yfinance) (2.8.2)\n",
            "Requirement already satisfied: urllib3<1.27,>=1.21.1 in /usr/local/lib/python3.10/dist-packages (from requests>=2.26->yfinance) (1.26.16)\n",
            "Requirement already satisfied: certifi>=2017.4.17 in /usr/local/lib/python3.10/dist-packages (from requests>=2.26->yfinance) (2023.7.22)\n",
            "Requirement already satisfied: charset-normalizer~=2.0.0 in /usr/local/lib/python3.10/dist-packages (from requests>=2.26->yfinance) (2.0.12)\n",
            "Requirement already satisfied: idna<4,>=2.5 in /usr/local/lib/python3.10/dist-packages (from requests>=2.26->yfinance) (3.4)\n",
            "\u001b[31mERROR: Could not find a version that satisfies the requirement glob (from versions: none)\u001b[0m\u001b[31m\n",
            "\u001b[0m\u001b[31mERROR: No matching distribution found for glob\u001b[0m\u001b[31m\n",
            "\u001b[0mRequirement already satisfied: yfinance in /usr/local/lib/python3.10/dist-packages (0.2.25)\n",
            "Requirement already satisfied: pandas>=1.3.0 in /usr/local/lib/python3.10/dist-packages (from yfinance) (1.5.3)\n",
            "Requirement already satisfied: numpy>=1.16.5 in /usr/local/lib/python3.10/dist-packages (from yfinance) (1.22.4)\n",
            "Requirement already satisfied: requests>=2.26 in /usr/local/lib/python3.10/dist-packages (from yfinance) (2.27.1)\n",
            "Requirement already satisfied: multitasking>=0.0.7 in /usr/local/lib/python3.10/dist-packages (from yfinance) (0.0.11)\n",
            "Requirement already satisfied: lxml>=4.9.1 in /usr/local/lib/python3.10/dist-packages (from yfinance) (4.9.3)\n",
            "Requirement already satisfied: appdirs>=1.4.4 in /usr/local/lib/python3.10/dist-packages (from yfinance) (1.4.4)\n",
            "Requirement already satisfied: pytz>=2022.5 in /usr/local/lib/python3.10/dist-packages (from yfinance) (2022.7.1)\n",
            "Requirement already satisfied: frozendict>=2.3.4 in /usr/local/lib/python3.10/dist-packages (from yfinance) (2.3.8)\n",
            "Requirement already satisfied: beautifulsoup4>=4.11.1 in /usr/local/lib/python3.10/dist-packages (from yfinance) (4.11.2)\n",
            "Requirement already satisfied: html5lib>=1.1 in /usr/local/lib/python3.10/dist-packages (from yfinance) (1.1)\n",
            "Requirement already satisfied: soupsieve>1.2 in /usr/local/lib/python3.10/dist-packages (from beautifulsoup4>=4.11.1->yfinance) (2.4.1)\n",
            "Requirement already satisfied: six>=1.9 in /usr/local/lib/python3.10/dist-packages (from html5lib>=1.1->yfinance) (1.16.0)\n",
            "Requirement already satisfied: webencodings in /usr/local/lib/python3.10/dist-packages (from html5lib>=1.1->yfinance) (0.5.1)\n",
            "Requirement already satisfied: python-dateutil>=2.8.1 in /usr/local/lib/python3.10/dist-packages (from pandas>=1.3.0->yfinance) (2.8.2)\n",
            "Requirement already satisfied: urllib3<1.27,>=1.21.1 in /usr/local/lib/python3.10/dist-packages (from requests>=2.26->yfinance) (1.26.16)\n",
            "Requirement already satisfied: certifi>=2017.4.17 in /usr/local/lib/python3.10/dist-packages (from requests>=2.26->yfinance) (2023.7.22)\n",
            "Requirement already satisfied: charset-normalizer~=2.0.0 in /usr/local/lib/python3.10/dist-packages (from requests>=2.26->yfinance) (2.0.12)\n",
            "Requirement already satisfied: idna<4,>=2.5 in /usr/local/lib/python3.10/dist-packages (from requests>=2.26->yfinance) (3.4)\n",
            "Collecting pyfolio\n",
            "  Downloading pyfolio-0.9.2.tar.gz (91 kB)\n",
            "\u001b[2K     \u001b[90m━━━━━━━━━━━━━━━━━━━━━━━━━━━━━━━━━━━━━━━━\u001b[0m \u001b[32m91.1/91.1 kB\u001b[0m \u001b[31m2.0 MB/s\u001b[0m eta \u001b[36m0:00:00\u001b[0m\n",
            "\u001b[?25h  Preparing metadata (setup.py) ... \u001b[?25l\u001b[?25hdone\n",
            "Requirement already satisfied: ipython>=3.2.3 in /usr/local/lib/python3.10/dist-packages (from pyfolio) (7.34.0)\n",
            "Requirement already satisfied: matplotlib>=1.4.0 in /usr/local/lib/python3.10/dist-packages (from pyfolio) (3.7.1)\n",
            "Requirement already satisfied: numpy>=1.11.1 in /usr/local/lib/python3.10/dist-packages (from pyfolio) (1.22.4)\n",
            "Requirement already satisfied: pandas>=0.18.1 in /usr/local/lib/python3.10/dist-packages (from pyfolio) (1.5.3)\n",
            "Requirement already satisfied: pytz>=2014.10 in /usr/local/lib/python3.10/dist-packages (from pyfolio) (2022.7.1)\n",
            "Requirement already satisfied: scipy>=0.14.0 in /usr/local/lib/python3.10/dist-packages (from pyfolio) (1.10.1)\n",
            "Requirement already satisfied: scikit-learn>=0.16.1 in /usr/local/lib/python3.10/dist-packages (from pyfolio) (1.2.2)\n",
            "Requirement already satisfied: seaborn>=0.7.1 in /usr/local/lib/python3.10/dist-packages (from pyfolio) (0.12.2)\n",
            "Collecting empyrical>=0.5.0 (from pyfolio)\n",
            "  Downloading empyrical-0.5.5.tar.gz (52 kB)\n",
            "\u001b[2K     \u001b[90m━━━━━━━━━━━━━━━━━━━━━━━━━━━━━━━━━━━━━━━━\u001b[0m \u001b[32m52.8/52.8 kB\u001b[0m \u001b[31m4.7 MB/s\u001b[0m eta \u001b[36m0:00:00\u001b[0m\n",
            "\u001b[?25h  Preparing metadata (setup.py) ... \u001b[?25l\u001b[?25hdone\n",
            "Requirement already satisfied: pandas-datareader>=0.2 in /usr/local/lib/python3.10/dist-packages (from empyrical>=0.5.0->pyfolio) (0.10.0)\n",
            "Requirement already satisfied: setuptools>=18.5 in /usr/local/lib/python3.10/dist-packages (from ipython>=3.2.3->pyfolio) (67.7.2)\n",
            "Collecting jedi>=0.16 (from ipython>=3.2.3->pyfolio)\n",
            "  Downloading jedi-0.19.0-py2.py3-none-any.whl (1.6 MB)\n",
            "\u001b[2K     \u001b[90m━━━━━━━━━━━━━━━━━━━━━━━━━━━━━━━━━━━━━━━━\u001b[0m \u001b[32m1.6/1.6 MB\u001b[0m \u001b[31m9.4 MB/s\u001b[0m eta \u001b[36m0:00:00\u001b[0m\n",
            "\u001b[?25hRequirement already satisfied: decorator in /usr/local/lib/python3.10/dist-packages (from ipython>=3.2.3->pyfolio) (4.4.2)\n",
            "Requirement already satisfied: pickleshare in /usr/local/lib/python3.10/dist-packages (from ipython>=3.2.3->pyfolio) (0.7.5)\n",
            "Requirement already satisfied: traitlets>=4.2 in /usr/local/lib/python3.10/dist-packages (from ipython>=3.2.3->pyfolio) (5.7.1)\n",
            "Requirement already satisfied: prompt-toolkit!=3.0.0,!=3.0.1,<3.1.0,>=2.0.0 in /usr/local/lib/python3.10/dist-packages (from ipython>=3.2.3->pyfolio) (3.0.39)\n",
            "Requirement already satisfied: pygments in /usr/local/lib/python3.10/dist-packages (from ipython>=3.2.3->pyfolio) (2.14.0)\n",
            "Requirement already satisfied: backcall in /usr/local/lib/python3.10/dist-packages (from ipython>=3.2.3->pyfolio) (0.2.0)\n",
            "Requirement already satisfied: matplotlib-inline in /usr/local/lib/python3.10/dist-packages (from ipython>=3.2.3->pyfolio) (0.1.6)\n",
            "Requirement already satisfied: pexpect>4.3 in /usr/local/lib/python3.10/dist-packages (from ipython>=3.2.3->pyfolio) (4.8.0)\n",
            "Requirement already satisfied: contourpy>=1.0.1 in /usr/local/lib/python3.10/dist-packages (from matplotlib>=1.4.0->pyfolio) (1.1.0)\n",
            "Requirement already satisfied: cycler>=0.10 in /usr/local/lib/python3.10/dist-packages (from matplotlib>=1.4.0->pyfolio) (0.11.0)\n",
            "Requirement already satisfied: fonttools>=4.22.0 in /usr/local/lib/python3.10/dist-packages (from matplotlib>=1.4.0->pyfolio) (4.41.1)\n",
            "Requirement already satisfied: kiwisolver>=1.0.1 in /usr/local/lib/python3.10/dist-packages (from matplotlib>=1.4.0->pyfolio) (1.4.4)\n",
            "Requirement already satisfied: packaging>=20.0 in /usr/local/lib/python3.10/dist-packages (from matplotlib>=1.4.0->pyfolio) (23.1)\n",
            "Requirement already satisfied: pillow>=6.2.0 in /usr/local/lib/python3.10/dist-packages (from matplotlib>=1.4.0->pyfolio) (9.4.0)\n",
            "Requirement already satisfied: pyparsing>=2.3.1 in /usr/local/lib/python3.10/dist-packages (from matplotlib>=1.4.0->pyfolio) (3.1.0)\n",
            "Requirement already satisfied: python-dateutil>=2.7 in /usr/local/lib/python3.10/dist-packages (from matplotlib>=1.4.0->pyfolio) (2.8.2)\n",
            "Requirement already satisfied: joblib>=1.1.1 in /usr/local/lib/python3.10/dist-packages (from scikit-learn>=0.16.1->pyfolio) (1.3.1)\n",
            "Requirement already satisfied: threadpoolctl>=2.0.0 in /usr/local/lib/python3.10/dist-packages (from scikit-learn>=0.16.1->pyfolio) (3.2.0)\n",
            "Requirement already satisfied: parso<0.9.0,>=0.8.3 in /usr/local/lib/python3.10/dist-packages (from jedi>=0.16->ipython>=3.2.3->pyfolio) (0.8.3)\n",
            "Requirement already satisfied: lxml in /usr/local/lib/python3.10/dist-packages (from pandas-datareader>=0.2->empyrical>=0.5.0->pyfolio) (4.9.3)\n",
            "Requirement already satisfied: requests>=2.19.0 in /usr/local/lib/python3.10/dist-packages (from pandas-datareader>=0.2->empyrical>=0.5.0->pyfolio) (2.27.1)\n",
            "Requirement already satisfied: ptyprocess>=0.5 in /usr/local/lib/python3.10/dist-packages (from pexpect>4.3->ipython>=3.2.3->pyfolio) (0.7.0)\n",
            "Requirement already satisfied: wcwidth in /usr/local/lib/python3.10/dist-packages (from prompt-toolkit!=3.0.0,!=3.0.1,<3.1.0,>=2.0.0->ipython>=3.2.3->pyfolio) (0.2.6)\n",
            "Requirement already satisfied: six>=1.5 in /usr/local/lib/python3.10/dist-packages (from python-dateutil>=2.7->matplotlib>=1.4.0->pyfolio) (1.16.0)\n",
            "Requirement already satisfied: urllib3<1.27,>=1.21.1 in /usr/local/lib/python3.10/dist-packages (from requests>=2.19.0->pandas-datareader>=0.2->empyrical>=0.5.0->pyfolio) (1.26.16)\n",
            "Requirement already satisfied: certifi>=2017.4.17 in /usr/local/lib/python3.10/dist-packages (from requests>=2.19.0->pandas-datareader>=0.2->empyrical>=0.5.0->pyfolio) (2023.7.22)\n",
            "Requirement already satisfied: charset-normalizer~=2.0.0 in /usr/local/lib/python3.10/dist-packages (from requests>=2.19.0->pandas-datareader>=0.2->empyrical>=0.5.0->pyfolio) (2.0.12)\n",
            "Requirement already satisfied: idna<4,>=2.5 in /usr/local/lib/python3.10/dist-packages (from requests>=2.19.0->pandas-datareader>=0.2->empyrical>=0.5.0->pyfolio) (3.4)\n",
            "Building wheels for collected packages: pyfolio, empyrical\n",
            "  Building wheel for pyfolio (setup.py) ... \u001b[?25l\u001b[?25hdone\n",
            "  Created wheel for pyfolio: filename=pyfolio-0.9.2-py3-none-any.whl size=88659 sha256=2fbde4aa1fbeb45a30cc0e14cb90474bf46e7da9421c91341b7f3783d0ae8135\n",
            "  Stored in directory: /root/.cache/pip/wheels/71/38/bc/e53700cfd8b0ad6b539d2fbaaf060ed8a299e7622a5b86ef42\n",
            "  Building wheel for empyrical (setup.py) ... \u001b[?25l\u001b[?25hdone\n",
            "  Created wheel for empyrical: filename=empyrical-0.5.5-py3-none-any.whl size=39761 sha256=4ec4b232b95199aa530d7800c2ca894fd3d2a7250014a40bf80d30a2139305a2\n",
            "  Stored in directory: /root/.cache/pip/wheels/0e/2e/f2/d6d2d9a1eb8fbbd9949bb5d4c00f753e3b74e5bd7ed10b1d36\n",
            "Successfully built pyfolio empyrical\n",
            "Installing collected packages: jedi, empyrical, pyfolio\n",
            "Successfully installed empyrical-0.5.5 jedi-0.19.0 pyfolio-0.9.2\n",
            "\u001b[31mERROR: Could not find a version that satisfies the requirement warnings (from versions: none)\u001b[0m\u001b[31m\n",
            "\u001b[0m\u001b[31mERROR: No matching distribution found for warnings\u001b[0m\u001b[31m\n",
            "\u001b[0m\u001b[31mERROR: Could not find a version that satisfies the requirement os (from versions: none)\u001b[0m\u001b[31m\n",
            "\u001b[0m\u001b[31mERROR: No matching distribution found for os\u001b[0m\u001b[31m\n",
            "\u001b[0mRequirement already satisfied: cvxpy in /usr/local/lib/python3.10/dist-packages (1.3.2)\n",
            "Requirement already satisfied: osqp>=0.4.1 in /usr/local/lib/python3.10/dist-packages (from cvxpy) (0.6.2.post8)\n",
            "Requirement already satisfied: ecos>=2 in /usr/local/lib/python3.10/dist-packages (from cvxpy) (2.0.12)\n",
            "Requirement already satisfied: scs>=1.1.6 in /usr/local/lib/python3.10/dist-packages (from cvxpy) (3.2.3)\n",
            "Requirement already satisfied: numpy>=1.15 in /usr/local/lib/python3.10/dist-packages (from cvxpy) (1.22.4)\n",
            "Requirement already satisfied: scipy>=1.1.0 in /usr/local/lib/python3.10/dist-packages (from cvxpy) (1.10.1)\n",
            "Requirement already satisfied: setuptools>65.5.1 in /usr/local/lib/python3.10/dist-packages (from cvxpy) (67.7.2)\n",
            "Requirement already satisfied: qdldl in /usr/local/lib/python3.10/dist-packages (from osqp>=0.4.1->cvxpy) (0.1.7.post0)\n"
          ]
        }
      ],
      "source": [
        "\n",
        "!pip3 install pandas\n",
        "!pip3 install numpy\n",
        "!pip3 install matplotlib\n",
        "!pip3 install seaborn\n",
        "!pip3 install scipy\n",
        "!pip3 install nsepy\n",
        "!pip3 install datetime\n",
        "!pip3 install time\n",
        "!pip3 install seaborn\n",
        "!pip3 install random\n",
        "!pip3 install itertools\n",
        "!pip3 install hmmlearn\n",
        "!pip3 install yfinance\n",
        "!pip3 install glob\n",
        "!pip3 install yfinance\n",
        "!pip3 install pyfolio\n",
        "!pip3 install warnings\n",
        "!pip3 install os\n",
        "!pip3 install cvxpy"
      ]
    },
    {
      "cell_type": "markdown",
      "metadata": {
        "tags": [],
        "id": "lKh6lailw8wH"
      },
      "source": [
        "### IMPORT LIBRARIES <a name=\"import_lib\"></a>"
      ]
    },
    {
      "cell_type": "code",
      "execution_count": 2,
      "metadata": {
        "ExecuteTime": {
          "end_time": "2021-03-17T13:53:41.855599Z",
          "start_time": "2021-03-17T13:53:41.579863Z"
        },
        "tags": [],
        "id": "0but89Elw8wH"
      },
      "outputs": [],
      "source": [
        "import pandas as pd\n",
        "import numpy as np\n",
        "from datetime import datetime\n",
        "import time\n",
        "from scipy.stats import pearson3\n",
        "from scipy.optimize import minimize\n",
        "from scipy.stats import skew\n",
        "\n"
      ]
    },
    {
      "cell_type": "code",
      "execution_count": 3,
      "metadata": {
        "ExecuteTime": {
          "end_time": "2021-03-17T13:53:42.011995Z",
          "start_time": "2021-03-17T13:53:41.949527Z"
        },
        "id": "QBZT_HJEw8wH"
      },
      "outputs": [],
      "source": [
        "%matplotlib inline\n",
        "%load_ext autoreload\n",
        "%autoreload 2"
      ]
    },
    {
      "cell_type": "code",
      "execution_count": 4,
      "metadata": {
        "ExecuteTime": {
          "end_time": "2021-03-17T13:53:42.357961Z",
          "start_time": "2021-03-17T13:53:42.299007Z"
        },
        "id": "ZrLd9zZRw8wH"
      },
      "outputs": [],
      "source": [
        "import matplotlib.pyplot as plt\n",
        "plt.rcParams[\"figure.figsize\"] = (15,5)\n",
        "plt.rcParams['axes.grid'] = False\n",
        "import seaborn as sns\n",
        "sns.set_style(\"whitegrid\", {'axes.grid' : False})"
      ]
    },
    {
      "cell_type": "code",
      "execution_count": 5,
      "metadata": {
        "ExecuteTime": {
          "end_time": "2021-03-17T11:18:08.484979Z",
          "start_time": "2021-03-17T11:18:08.447731Z"
        },
        "id": "kwts5dCHw8wH",
        "outputId": "d383f5a5-a049-4afa-d6f7-9b07c468a785",
        "colab": {
          "base_uri": "https://localhost:8080/",
          "height": 17
        }
      },
      "outputs": [
        {
          "output_type": "display_data",
          "data": {
            "text/plain": [
              "<IPython.core.display.HTML object>"
            ],
            "text/html": [
              "<style>.container { width:100% !important; }</style>"
            ]
          },
          "metadata": {}
        }
      ],
      "source": [
        "from IPython.core.display import display, HTML\n",
        "display(HTML(\"<style>.container { width:100% !important; }</style>\"))\n",
        "from IPython.core.interactiveshell import InteractiveShell\n",
        "InteractiveShell.ast_node_interactivity = \"all\"\n",
        "from IPython.display import HTML"
      ]
    },
    {
      "cell_type": "code",
      "execution_count": 6,
      "metadata": {
        "id": "241F2Y9Ww8wI",
        "outputId": "3faa41b4-26c4-4380-b8b5-3e410a759f8c",
        "colab": {
          "base_uri": "https://localhost:8080/"
        }
      },
      "outputs": [
        {
          "output_type": "stream",
          "name": "stdout",
          "text": [
            "Automatically created module for IPython interactive environment\n"
          ]
        },
        {
          "output_type": "stream",
          "name": "stderr",
          "text": [
            "/usr/local/lib/python3.10/dist-packages/pyfolio/pos.py:26: UserWarning: Module \"zipline.assets\" not found; mutltipliers will not be applied to position notionals.\n",
            "  warnings.warn(\n"
          ]
        }
      ],
      "source": [
        "import random\n",
        "from itertools import product\n",
        "from pandas.plotting import register_matplotlib_converters\n",
        "register_matplotlib_converters()\n",
        "\n",
        "from matplotlib.ticker import (MultipleLocator, FormatStrFormatter,\n",
        "                               AutoMinorLocator)\n",
        "\n",
        "print(__doc__)\n",
        "\n",
        "import matplotlib.pyplot as plt\n",
        "from hmmlearn import hmm\n",
        "\n",
        "from glob import glob\n",
        "import yfinance as yf\n",
        "import pyfolio as pf\n",
        "import warnings\n",
        "import os\n"
      ]
    },
    {
      "cell_type": "code",
      "execution_count": 7,
      "metadata": {
        "ExecuteTime": {
          "end_time": "2021-03-17T11:18:09.302992Z",
          "start_time": "2021-03-17T11:18:09.271554Z"
        },
        "id": "s3VDumFSw8wI"
      },
      "outputs": [],
      "source": [
        "from pandas.plotting import register_matplotlib_converters\n",
        "register_matplotlib_converters()"
      ]
    },
    {
      "cell_type": "markdown",
      "metadata": {
        "tags": [],
        "id": "Zl2IpQjMw8wI"
      },
      "source": [
        "### CONSTRUCT CLASS <a name=\"construct_class\"></a>"
      ]
    },
    {
      "cell_type": "code",
      "execution_count": 8,
      "metadata": {
        "ExecuteTime": {
          "end_time": "2021-03-17T11:18:13.864571Z",
          "start_time": "2021-03-17T11:18:13.782654Z"
        },
        "id": "mPkXFRmuw8wI"
      },
      "outputs": [],
      "source": [
        "class CROSSOVER:\n",
        "    ## class attribute: We can know the possible values for moving_average and metrics\n",
        "    ## before creating an object of the class\n",
        "    moving_average = ( \"Simple\",\"exponential\",\"Skewness\",\"Skewness_On_Close\",\"VWAP\", \"M-Sharpe\") # Determine strategy type here\n",
        "    metrics        = { 'Sharpe':'Sharpe Ratio',                  # Determine metrics\n",
        "                       'CAGR':'Compound Average Growth Rate',\n",
        "                       'MDD':'Maximum Drawdown',\n",
        "                       'NHR':'Normalized Hit Ratio',\n",
        "                       'OTS':'Optimal trade size'}\n",
        "\n",
        "    def __init__(self,data,short_window = 20, long_window = 50,\n",
        "                 moving_average = \"Skewness\", data_name = None, start = None,end = None ):\n",
        "\n",
        "        \"\"\"\n",
        "         Doc string of the class. We define what class is about here\n",
        "        \"\"\"\n",
        "        self.data=data #the dataframe\n",
        "        self.data['yr'] = self.data['Date'].dt.year\n",
        "        self.moving_average = moving_average\n",
        "        if data_name is None:#the name that will appear on plots\n",
        "            self.data_name = moving_average\n",
        "        else:\n",
        "            self.data_name=data_name\n",
        "        self.short_window = short_window\n",
        "        self.long_window = long_window\n",
        "        self.n_days = (self.data.Date.iloc[-1] - self.data.Date.iloc[0])\n",
        "        self.start=start #the beginning date of the sample period\n",
        "        self.end=end #the ending date of the sample period\n",
        "\n",
        "    def generate_signals(self, DELTA_SKEW=0, charts=True, burn=False, stock_name=\"AKBNK.IS\" ):\n",
        "        \"\"\"\n",
        "        This is an instance method. Only works on an object.\n",
        "        \"\"\"\n",
        "        if self.long_window <= self.short_window: return   # short window cannot be greater than or equal to long window\n",
        "\n",
        "        if self.moving_average == \"Simple\":\n",
        "            self.data[\"SMA\"] = self.data['Close'].rolling(window=self.short_window).mean()\n",
        "            self.data[\"LMA\"] = self.data['Close'].rolling(window=self.long_window).mean()\n",
        "        elif self.moving_average == \"exponential\":\n",
        "            self.data[\"SMA\"] = self.data['Close'].ewm(span = self.short_window, adjust=True).mean()\n",
        "            self.data[\"LMA\"] = self.data['Close'].ewm(span = self.long_window, adjust=True).mean()\n",
        "        elif self.moving_average == \"Skewness\":\n",
        "            self.data['Return']=np.log(self.data['Close']/self.data['Close'].shift(1)).dropna()\n",
        "            self.data[\"SMA\"] = self.data.Return.rolling(window=self.short_window).skew()\n",
        "            self.data[\"LMA\"] = self.data.Return.rolling(window=self.long_window).skew()\n",
        "        elif self.moving_average == \"VWAP\":\n",
        "            self.data['VWAP'] = (self.data.Volume * (self.data.High + self.data.Low) / 2).cumsum() / self.data.Volume.cumsum()\n",
        "            self.data[\"Typical_Price\"] = (self.data.High + self.data.Low + self.data['Close'] ) / 3\n",
        "            self.data[\"SMA\"] = self.data.VWAP\n",
        "            self.data[\"LMA\"] = self.data.Typical_Price\n",
        "        elif self.moving_average == \"M-Sharpe\":\n",
        "            self.data['Return']=np.log(self.data['Close']/self.data['Close'].shift(1)).dropna()\n",
        "            self.data[\"SMA\"] = (self.data.Return.rolling(window=self.short_window).mean() / self.data.Return.rolling(window=self.short_window).std()) * (252**0.5)\n",
        "            self.data[\"LMA\"] = (self.data.Return.rolling(window=self.long_window).mean() / self.data.Return.rolling(window=self.long_window).std()) * (252**0.5)\n",
        "        else:\n",
        "            raise Exception(\"Not a valid type\")\n",
        "\n",
        "        self.data[\"_lag1_SMA\"] = self.data.SMA.shift(1)\n",
        "        self.data[\"_lag1_LMA\"] = self.data.LMA.shift(1)\n",
        "\n",
        "        ## creating signal\n",
        "        buy_mask = (self.data.SMA > self.data.LMA - DELTA_SKEW) & (self.data._lag1_SMA < self.data._lag1_LMA  - DELTA_SKEW)\n",
        "        sell_mask = (self.data.SMA < self.data.LMA + DELTA_SKEW) & (self.data._lag1_SMA > self.data._lag1_LMA + DELTA_SKEW)\n",
        "        self.data['Delta'] = self.data.SMA - self.data.LMA\n",
        "\n",
        "        self.data['signal'] = np.nan\n",
        "        self.data.loc[buy_mask,'signal'] = +1\n",
        "        self.data.loc[sell_mask,'signal'] = -1\n",
        "        if burn:\n",
        "            burn_period = 2*self.long_window\n",
        "            self.data.loc[:burn_period,\"signal\"] = np.nan\n",
        "\n",
        "        # 19.02\n",
        "        self.data.signal = self.data.signal.fillna(method=\"bfill\") ## ffill idi\n",
        "\n",
        "\n",
        "\n",
        "        mask = (self.data.signal != self.data.signal.shift(1)) & (self.data.signal.notnull())\n",
        "        self.data['trade_num'] = np.where(mask,1,0).cumsum()\n",
        "\n",
        "        ## display chart\n",
        "        if charts:\n",
        "            plt.plot(self.data['Date'],self.data['SMA'],color='red', label=f'SMA = {self.short_window}')\n",
        "            plt.plot(self.data['Date'],self.data['LMA'],color='blue', label=f'LMA = {self.long_window}')\n",
        "\n",
        "            #******** DELTA SKEWNESS PLOT EKLEDİK *************************\n",
        "            plt.plot(self.data['Date'],self.data['Delta'],color='green')\n",
        "\n",
        "            #plt.title('%s %s Strategy Backtest'%(self.data_name)%(stock_name) )\n",
        "            plt.title(f\"{stock_name} {self.data_name} Strategy Backtest\")\n",
        "            plt.legend(loc=0)\n",
        "            d_color = {}\n",
        "            d_color[1] = '#90ee90'  ## light green\n",
        "            d_color[-1] = \"#ffcccb\" ## light red\n",
        "\n",
        "            j = 0\n",
        "            for i in range(1,self.data.shape[0]):\n",
        "                if np.isnan(self.data.signal[i-1]):\n",
        "                    j=i\n",
        "                elif (self.data.signal[i-1] == self.data.signal[i]) and (i< (self.data.shape[0]-1)):\n",
        "                    continue\n",
        "                else:\n",
        "                    plt.axvspan(self.data['Date'][j], self.data['Date'][i],\n",
        "                               alpha=0.5,label=\"interval\")\n",
        "                    j = i\n",
        "            plt.grid(True)\n",
        "            plt.show()\n",
        "        return self.data.Delta, self.data.signal\n",
        "\n",
        "    def signal_performance(self, allocation):\n",
        "        \"\"\"\n",
        "        Another instance method\n",
        "        \"\"\"\n",
        "        if self.long_window <= self.short_window: return\n",
        "        self.allocation=allocation\n",
        "\n",
        "        #creating returns and portfolio value series\n",
        "        self.data['Return']=np.log(self.data['Close']/self.data['Close'].shift(1))\n",
        "\n",
        "        self.data['S_Return']=self.data['signal'].shift(1)*self.data['Return']\n",
        "        self.data['Market_Return']=self.data['Return'].expanding().sum()\n",
        "        self.data['Strategy_Return']=self.data['S_Return'].expanding().sum()\n",
        "        self.data['Portfolio Value']=((self.data['Strategy_Return']+1)*self.allocation)\n",
        "        self.data['Wins']=np.where(self.data['S_Return'] > 0,1,0)\n",
        "        self.data['Losses']=np.where(self.data['S_Return'] < 0,1,0)\n",
        "\n",
        "        ## Daywise Performance\n",
        "        d_perform = {}\n",
        "        d_perform['Returns']=self.data['Return'].sum()\n",
        "        d_perform['R_Mean']=self.data['Return'].mean()\n",
        "        d_perform['R_Std_Dev']=self.data['Return'].std()\n",
        "        d_perform['R_Skew']=self.data['Return'].skew() # 12 day window for skew\n",
        "        d_perform['R_Kurtosis']=self.data['Return'].kurt()\n",
        "        d_perform['R_Sharpe'] = self.data[\"Return\"].mean() / self.data[\"Return\"].std() * (252**.5)\n",
        "\n",
        "        d_perform['Str_Returns']=self.data['S_Return'].sum()\n",
        "        d_perform['Str_R_Mean']=self.data['S_Return'].mean()\n",
        "        d_perform['Str_R_Std_Dev']=self.data['S_Return'].std()\n",
        "        d_perform['Str_R_Skew']=self.data['S_Return'].skew()\n",
        "        d_perform['Str_R_Kurtosis']=self.data['S_Return'].kurt()\n",
        "        d_perform['SharpeRatio'] = self.data[\"S_Return\"].mean() / self.data[\"S_Return\"].std() * (252**.5)\n",
        "\n",
        "        d_perform['TotalWins']=self.data['Wins'].sum()\n",
        "        d_perform['TotalLosses']=self.data['Losses'].sum()\n",
        "        d_perform['TotalTrades']=d_perform['TotalWins']+d_perform['TotalLosses']\n",
        "\n",
        "        d_perform['HitRatio']=round(d_perform['TotalWins']/d_perform['TotalTrades'],2)\n",
        "        d_perform['CAGR'] = ((1+self.data['Strategy_Return']).iloc[-1])**(365.25/self.n_days.days) -1\n",
        "        d_perform['MaxDrawdown']=(1.0-self.data['Portfolio Value']/self.data['Portfolio Value'].cummax()).max()\n",
        "\n",
        "\n",
        "        self.daywise_performance = pd.Series(d_perform)\n",
        "\n",
        "        ## Tradewise performance\n",
        "        _df = self.data.groupby([\"signal\",\"trade_num\"]).S_Return.sum().reset_index()\n",
        "        _df['Wins']  =np.where(_df['S_Return'] > 0,1,0)\n",
        "        _df['Losses']=np.where(_df['S_Return'] < 0,1,0)\n",
        "        d_tp = {}\n",
        "        d_tp.update(_df[[\"Wins\",\"Losses\"]].sum().rename({'Wins':'TotalWins','Losses':'TotalLosses'}).to_dict())\n",
        "        d_tp['TotalTrades'] = d_tp[\"TotalWins\"] + d_tp[\"TotalLosses\"]\n",
        "        d_tp['HitRatio'] =  np.round(d_tp[\"TotalWins\"] / d_tp['TotalTrades'],4)\n",
        "        d_tp['AvgWinRet'] = np.round(_df[_df.Wins==1].S_Return.mean(),4)\n",
        "        d_tp['AvgLossRet'] = np.round(_df[_df.Losses==1].S_Return.mean(),4)\n",
        "        d_tp['WinByLossRet'] = np.round(abs(d_tp['AvgWinRet']/d_tp['AvgLossRet']),2)\n",
        "        d_tp['RetVar'] = np.round(_df.S_Return.std(),4)\n",
        "        _sum = _df.groupby(\"Wins\").S_Return.sum()\n",
        "        d_tp['NormHitRatio'] = np.round(_sum[1]/_sum.abs().sum(),4)\n",
        "        d_tp['OptimalTradeSize'] = self.kelly(p = d_tp['HitRatio'], b = d_tp['WinByLossRet'])\n",
        "        d_tp['S_Return'] = self.data['S_Return']\n",
        "        self.tradewise_performance = pd.Series(d_tp)\n",
        "        return(self.data['S_Return'])\n",
        "\n",
        "    @staticmethod\n",
        "    def kelly(p,b):\n",
        "        \"\"\"\n",
        "        Static method: No object or class related arguments\n",
        "        p: win prob, b: net odds received on wager, output(f*) = p - (1-p)/b\n",
        "\n",
        "        Spreadsheet example\n",
        "            from sympy import symbols, solve, diff\n",
        "            x = symbols('x')\n",
        "            y = (1+3.3*x)**37 *(1-x)**63\n",
        "            solve(diff(y, x), x)[1]\n",
        "        Shortcut\n",
        "            .37 - 0.63/3.3\n",
        "        \"\"\"\n",
        "        return np.round(p - (1-p)/b,4)\n",
        "\n",
        "    def plot_performance(self, allocation=1, charts=True, stock_name = \"AKBNK.IS\"):\n",
        "        #intializing a variable for initial allocation\n",
        "        #to be used to create equity curve\n",
        "        self.signal_performance(allocation)\n",
        "\n",
        "        #yearly performance\n",
        "        self.yearly_performance()\n",
        "\n",
        "        #Plotting the Performance of the strategy\n",
        "        if (charts == True):\n",
        "            plt.plot(self.data['Date'],self.data['Market_Return'],color='red', label='Market Returns')\n",
        "            plt.plot(self.data['Date'],self.data['Strategy_Return'],color='blue', label= 'Strategy Returns')\n",
        "            #plt.title('%s Strategy Backtest'%(self.data_name))\n",
        "            plt.title(f\"{stock_name} {self.data_name} Strategy Backtest\")\n",
        "            plt.legend(loc=0)\n",
        "            plt.tight_layout()\n",
        "            plt.grid(True)\n",
        "            plt.show()\n",
        "\n",
        "            #pf.create_simple_tear_sheet(self.data['Portfolio Value'], benchmark_rets=True)\n",
        "\n",
        "            plt.plot(self.data['Date'],self.data['Portfolio Value'], color='blue')\n",
        "            #plt.title('%s Portfolio Value'%(self.data_name))\n",
        "            plt.title(f\"{stock_name} {self.data_name} Portfolio Value\")\n",
        "            plt.grid(True)\n",
        "            plt.show()\n",
        "\n",
        "    def yearly_performance(self):\n",
        "        \"\"\"\n",
        "        Instance method\n",
        "        Adds an instance attribute: yearly_df\n",
        "        \"\"\"\n",
        "        _yearly_df = self.data.groupby(['yr','signal']).S_Return.sum().unstack()\n",
        "        _yearly_df.rename(columns={-1.0:'Sell',1.0:'Buy'}, inplace=True)\n",
        "        _yearly_df['Return'] = _yearly_df.sum(1)\n",
        "\n",
        "        # yearly_df\n",
        "        self.yearly_df = _yearly_df.style.bar(color=[\"#ffcccb\",'#90ee90'], align = 'zero').format({\n",
        "            'Sell': '{:,.2%}'.format,'Buy': '{:,.2%}'.format,'Return': '{:,.2%}'.format})\n",
        "\n",
        "\n",
        "    def update_metrics(self):\n",
        "        \"\"\"\n",
        "        Called from the SMA_LMA_matrix class method\n",
        "        \"\"\"\n",
        "        d_field = {}\n",
        "        if self.long_window > self.short_window:\n",
        "            d_field['Sharpe'] = self.daywise_performance.SharpeRatio\n",
        "            d_field['CAGR'] = self.daywise_performance.CAGR\n",
        "            d_field['MDD'] = round(self.daywise_performance.MaxDrawdown,2)\n",
        "            d_field['NHR'] = self.tradewise_performance.NormHitRatio\n",
        "            d_field['OTS'] = self.tradewise_performance.OptimalTradeSize\n",
        "\n",
        "        return d_field\n",
        "\n",
        "    @classmethod\n",
        "    def SMA_LMA_matrix(cls,data, LMA_range, SMA_range, metrics, moving_average = \"exponential\", optimal_sol = True, charts = True):\n",
        "        \"\"\"\n",
        "        This is a class method. First argument is a class.\n",
        "        \"\"\"\n",
        "        c_green = sns.light_palette(\"green\", as_cmap=True)\n",
        "        c_red = sns.light_palette(\"red\", as_cmap=True)\n",
        "\n",
        "        d_mats = {m:[] for m in metrics}\n",
        "\n",
        "        for l in LMA_range:\n",
        "            d_row = {m:[] for m in metrics}\n",
        "            for s in SMA_range:\n",
        "                obj = cls(data, s, l, moving_average) ## object being created from the class\n",
        "                obj.generate_signals(charts=False)\n",
        "                obj.signal_performance(100)\n",
        "                d_field = obj.update_metrics()\n",
        "                for m in metrics: d_row[m].append(d_field.get(m,np.nan))\n",
        "            for m in metrics: d_mats[m].append(d_row[m])\n",
        "\n",
        "        d_df = {m:pd.DataFrame(d_mats[m], index=LMA_range, columns=SMA_range) for m in metrics}\n",
        "\n",
        "        def optimal(_df):\n",
        "            \"\"\"\n",
        "            This is a function inside a function.\n",
        "            We could have created it outside the class if needed, but that would made it harder to relate.\n",
        "            \"\"\"\n",
        "            _df = _df.stack().rank()\n",
        "            _df = (_df - _df.mean())/_df.std()\n",
        "            return _df.unstack()\n",
        "\n",
        "        if optimal_sol:\n",
        "            d_df['Signal'] = 0\n",
        "            if 'Sharpe' in metrics: d_df['Signal'] += 2*optimal(d_df['Sharpe']) #2*optimal(d_df['Sharpe'])\n",
        "            if 'NHR' in metrics: d_df['Signal'] += optimal(d_df['NHR'])\n",
        "            if 'CAGR' in metrics: d_df['Signal'] += optimal(d_df['CAGR']) #optimal(d_df['CAGR'])\n",
        "            if 'MDD' in metrics: d_df['Signal'] -= 2*optimal(d_df['MDD'])   #2*optimal(d_df['MDD'])\n",
        "\n",
        "            l_i,s_i = np.unravel_index(np.nanargmax(d_df['Signal'].values), d_df['Signal'].shape)\n",
        "            print(f\"Most optimal cross-over pair is SMA:{SMA_range[s_i]}, LMA:{LMA_range[l_i]}\")\n",
        "            metrics.insert(0,'Signal')\n",
        "\n",
        "        if (charts==True):\n",
        "            for m in metrics:\n",
        "                display(HTML(d_df[m].style.background_gradient(axis=None, cmap=\n",
        "                    c_red if m==\"MDD\" else c_green).format(\n",
        "                    (\"{:,.2}\" if m in [\"Sharpe\",\"Signal\"] else \"{:.2%}\")).set_caption(m).render()))\n",
        "\n",
        "        return d_df, SMA_range[s_i], LMA_range[l_i]\n",
        "\n",
        "\n",
        "\n",
        "    def drawdowns(equity_curve):\n",
        "        i = np.argmax(np.maximum.accumulate(equity_curve.values) - equity_curve.values) # end of the period\n",
        "        j = np.argmax(equity_curve.values[:i]) # start of period\n",
        "\n",
        "        drawdown=abs(100.0*(equity_curve[i]-equity_curve[j]))\n",
        "\n",
        "        DT=equity_curve.index.values\n",
        "\n",
        "        start_dt=pd.to_datetime(str(DT[j]))\n",
        "        MDD_start=start_dt.strftime (\"%Y-%m-%d\")\n",
        "\n",
        "        end_dt=pd.to_datetime(str(DT[i]))\n",
        "        MDD_end=end_dt.strftime (\"%Y-%m-%d\")\n",
        "\n",
        "        NOW=pd.to_datetime(str(DT[-1]))\n",
        "        NOW=NOW.strftime (\"%Y-%m-%d\")\n",
        "\n",
        "        MDD_duration=np.busday_count(MDD_start, MDD_end)\n",
        "\n",
        "        try:\n",
        "            UW_dt=equity_curve[i:].loc[equity_curve[i:].values>=equity_curve[j]].index.values[0]\n",
        "            UW_dt=pd.to_datetime(str(UW_dt))\n",
        "            UW_dt=UW_dt.strftime (\"%Y-%m-%d\")\n",
        "            UW_duration=np.busday_count(MDD_end, UW_dt)\n",
        "        except:\n",
        "            UW_dt=\"0000-00-00\"\n",
        "            UW_duration=np.busday_count(MDD_end, NOW)\n",
        "        return MDD_start, MDD_end, MDD_duration, drawdown, UW_dt, UW_duration\n"
      ]
    },
    {
      "cell_type": "markdown",
      "metadata": {
        "tags": [],
        "id": "hPEgeaMNw8wJ"
      },
      "source": [
        "### SELECT AMONG DATASETS <a name=\"select_dataset\"></a>"
      ]
    },
    {
      "cell_type": "code",
      "execution_count": 10,
      "metadata": {
        "id": "YDOaFf4xw8wJ",
        "outputId": "6b631708-92bf-430f-a6f2-4a7e1655f90a",
        "colab": {
          "base_uri": "https://localhost:8080/"
        }
      },
      "outputs": [
        {
          "output_type": "stream",
          "name": "stdout",
          "text": [
            "My current directory is : /content\n",
            "My directory name is : content\n"
          ]
        }
      ],
      "source": [
        "US_Top_10 = [  \"IBM\", \"STT\", \"MSFT\",\"VZ\", \"TGT\",\"WFC\",\"NVDA\",\"BA\",\"GOOG\"]\n",
        "\n",
        "US_Best = [ \"NVDA\" ]\n",
        "\n",
        "TSLA =[ \"TSLA\", \"AMZN\", \"GOOGL\" ]\n",
        "FANG = [\"FANG\"]\n",
        "\n",
        "DOW30 =[ \"TSLA\",\"AXP\",\"AMGN\",\"AAPL\",\"BA\",\"CAT\",\"CSCO\",\"CVX\",\"GS\",\"HD\",\"HON\",\"IBM\",\"INTC\",\n",
        "         \"JNJ\",\"KO\",\"JPM\",\"MCD\",\"MMM\",\"MRK\",\"MSFT\",\"NKE\",\"PG\",\"TRV\",\"UNH\",\"CRM\",\n",
        "         \"VZ\",\"V\",\"WBA\",\"WMT\",\"DIS\",\"DOW\"]\n",
        "\n",
        "CHAIKIN = [ \"FTNT\", \"NDAQ\", \"BX\", \"LYV\", \"FFIV\", \"FANG\", \"FMC\", \"FCPI\"]\n",
        "\n",
        "US_Stocks =      [ \"GE\", \"PYPL\",\n",
        "                   \"SYNA\",\"QCOM\",\"NVDA\",\"NFLX\",\"AVGO\",\"FSLR\",\"FB\",\n",
        "                   \"BAC\", \"AMZN\",\"T\",   \"GOOG\",\"TSLA\",\n",
        "                   \"XOM\", \"C\",   \"DIS\",\n",
        "                   \"WFC\", \"GM\",  \"TGT\", \"SBUX\", \"ORCL\",\n",
        "                   \"NVDA\",\"FDX\", \"CL\",  \"TM\",   \"STT\", \"GDX\", \"NXPI\", \"OLED\",\n",
        "                   \"NKE\", \"CVS\", \"BIDU\", \"BABA\" ]\n",
        "\n",
        "BIST50 = [ \"XU100.IS\",\"AKBNK.IS\",\"AKSEN.IS\",\"ALARK.IS\", \"ARCLK.IS\", \"ARDYZ.IS\", \"ARSAN.IS\", \"BIMAS.IS\",\n",
        "           \"GARAN.IS\",\"GSDHO.IS\",\"HDFGS.IS\", \"INFO.IS\" , \"ISCTR.IS\", \"ISMEN.IS\", \"BRYAT.IS\", \"DOHOL.IS\",\n",
        "           \"KAREL.IS\",\"KCHOL.IS\",\"KRDMD.IS\", \"SISE.IS\" , \"SKTAS.IS\", \"TAVHL.IS\", \"EKGYO.IS\", \"ENJSA.IS\",\n",
        "           \"THYAO.IS\",\"TUPRS.IS\",\"VESBE.IS\", \"BERA.IS\" , \"XU100.IS\", \"CLEBI.IS\", \"GLYHO.IS\", \"GUBRF.IS\",\n",
        "           \"HEKTS.IS\",\"INDES.IS\",\"SASA.IS\" , \"TTRAK.IS\", \"PKART.IS\", \"FROTO.IS\", \"HALKB.IS\", \"IPEKE.IS\",\n",
        "           \"KORDS.IS\",\"TKFEN.IS\",\"EREGL.IS\", \"KCHOL.IS\", \"ASELS.IS\", \"YKBNK.IS\", \"KARSN.IS\", \"PETKM.IS\",\n",
        "           \"ARENA.IS\",\"KOZAA.IS\", \"KOZAL.IS\", \"MGROS.IS\", \"ODAS.IS\" , \"OTKAR.IS\", \"PGSUS.IS\",\n",
        "           \"SAHOL.IS\",\"SKBNK.IS\",\"SOKM.IS\" , \"TCELL.IS\", \"TOASO.IS\", \"TSKB.IS\" , \"TTKOM.IS\", \"TURSG.IS\",\n",
        "           \"VAKBN.IS\",\"VESTL.IS\"\n",
        "       ]\n",
        "\n",
        "BIST100_1 = [ \"AKBNK.IS\",\"AKSEN.IS\",\"ALARK.IS\", \"ARCLK.IS\", \"ARDYZ.IS\", \"ARSAN.IS\", \"BIMAS.IS\",\n",
        "           \"GARAN.IS\",\"GSDHO.IS\",\"HDFGS.IS\", \"INFO.IS\" , \"ISCTR.IS\", \"ISMEN.IS\", \"BRYAT.IS\", \"DOHOL.IS\",\n",
        "           \"KAREL.IS\",\"KCHOL.IS\",\"KRDMD.IS\", \"SISE.IS\" , \"SKTAS.IS\", \"TAVHL.IS\", \"EKGYO.IS\", \"ENJSA.IS\",\n",
        "           \"THYAO.IS\",\"TUPRS.IS\",\"VESBE.IS\", \"BERA.IS\" , \"XU100.IS\", \"CLEBI.IS\", \"GLYHO.IS\", \"GUBRF.IS\",\n",
        "           \"HEKTS.IS\",\"INDES.IS\",\"SASA.IS\" , \"TTRAK.IS\", \"PKART.IS\", \"FROTO.IS\", \"HALKB.IS\", \"IPEKE.IS\",\n",
        "           \"KORDS.IS\",\"TKFEN.IS\",\"EREGL.IS\", \"KCHOL.IS\", \"ASELS.IS\", \"YKBNK.IS\", \"KARSN.IS\", \"PETKM.IS\",\n",
        "           \"INDES.IS\",\"ARENA.IS\",\"KOZAA.IS\", \"KOZAL.IS\", \"MGROS.IS\", \"ODAS.IS\" , \"OTKAR.IS\", \"PGSUS.IS\",\n",
        "           \"SAHOL.IS\",\"SKBNK.IS\",\"SOKM.IS\" , \"TCELL.IS\", \"TOASO.IS\", \"TSKB.IS\" , \"TTKOM.IS\", \"TURSG.IS\",\n",
        "           \"VAKBN.IS\",\"VESTL.IS\",\"ADESE.IS\", \"AEFES.IS\", \"AKSA.IS\" , \"ALGYO.IS\", \"ALKIM.IS\",\n",
        "           \"AYDEM.IS\",\"BAGFS.IS\" ]\n",
        "\n",
        "BIST100_2 = [ \"ALGYO.IS\", \"BRMEN.IS\", \"CANTE.IS\", \"CCOLA.IS\", \"CEMAS.IS\", \"CIMSA.IS\",\n",
        "           \"CMENT.IS\",\"DENGE.IS\", \"DEVA.IS\", \"DOAS.IS\", \"DOHOL.IS\", \"ECILC.IS\", \"EGEEN.IS\", \"ENKAI.IS\",\n",
        "           \"ERBOS.IS\", \"ESEN.IS\", \"ETILR.IS\", \"GENIL.IS\", \"GESAN.IS\", \"GLYHO.IS\", \"GOZDE.IS\", \"ISBIR.IS\",\n",
        "           \"ISDMR.IS\", \"ISFIN.IS\", \"ISGYO.IS\", \"ISYAT.IS\", \"IZMDC.IS\", \"KARTN.IS\", \"KENT.IS\", \"KERVT.IS\",\n",
        "           \"KLNMA.IS\", \"KORDS.IS\", \"KRVGD.IS\", \"LOGO.IS\", \"MAVI.IS\", \"NTHOL.IS\", \"OTTO.IS\", \"OYAKC.IS\",\n",
        "           \"PARSN.IS\", \"PETKM.IS\", \"PGSUS.IS\", \"QNBFB.IS\", \"QNBFL.IS\", \"QUAGR.IS\", \"RTALB.IS\", \"SARKY.IS\",\n",
        "           \"SELEC.IS\", \"TBORG.IS\", \"TKNSA.IS\", \"TRGYO.IS\", \"ULKER.IS\", \"UTPYA.IS\",\n",
        "           \"VERUS.IS\", \"YATAS.IS\", \"ZOREN.IS\", \"ZRGYO.IS\"\n",
        "          ]\n",
        "\n",
        "BIST100EX = [ \"AKBNK.IS\",\"AKSEN.IS\",\"ALARK.IS\", \"ARCLK.IS\", \"ARDYZ.IS\", \"ARSAN.IS\", \"BIMAS.IS\",\n",
        "            \"GSDHO.IS\",\"HDFGS.IS\", \"INFO.IS\" , \"ISCTR.IS\", \"ISMEN.IS\", \"BRYAT.IS\", \"DOHOL.IS\", #garan çıktı\n",
        "            \"KAREL.IS\",\"KCHOL.IS\",\"KRDMD.IS\", \"SISE.IS\" , \"SKTAS.IS\", \"TAVHL.IS\", \"EKGYO.IS\", \"ENJSA.IS\",\n",
        "\n",
        "            \"THYAO.IS\",\"TUPRS.IS\", \"GUBRF.IS\", # XU100  CLEBI attık BERA ekledik VESBE attık\n",
        "            \"HEKTS.IS\",\"INDES.IS\",\n",
        "            \"TTRAK.IS\", \"PKART.IS\", \"FROTO.IS\", \"HALKB.IS\", \"IPEKE.IS\",\n",
        "            \"KORDS.IS\",\"TKFEN.IS\",\"EREGL.IS\", \"ASELS.IS\", \"YKBNK.IS\", \"KARSN.IS\", \"PETKM.IS\",\n",
        "            \"ARENA.IS\",\"KOZAA.IS\", \"KOZAL.IS\", \"MGROS.IS\", \"ODAS.IS\" , \"OTKAR.IS\",\n",
        "            \"SAHOL.IS\",\"SKBNK.IS\",\"SOKM.IS\" , \"TCELL.IS\", \"TOASO.IS\", \"TSKB.IS\" , \"TTKOM.IS\", \"TURSG.IS\",\n",
        "            \"VAKBN.IS\",\"VESTL.IS\",\"ADESE.IS\", \"AEFES.IS\", \"AKSA.IS\" , \"ALGYO.IS\", \"ALKIM.IS\",\n",
        "            \"BAGFS.IS\",\"BRMEN.IS\",\"CEMAS.IS\", \"CIMSA.IS\", # CANTE, AYDEM CCOLA attık\n",
        "            \"CMENT.IS\",\"DENGE.IS\",\"DEVA.IS\" , \"DOAS.IS\" , \"DOHOL.IS\", \"ECILC.IS\", \"EGEEN.IS\", \"ENKAI.IS\",\n",
        "            \"ERBOS.IS\",\"ETILR.IS\",\"GOZDE.IS\", \"ISBIR.IS\", # GLYHO attık\n",
        "            \"ISDMR.IS\",\"ISFIN.IS\",\"ISGYO.IS\", \"ISYAT.IS\", \"IZMDC.IS\", \"KARTN.IS\", \"KENT.IS\", \"KERVT.IS\",\n",
        "            \"KLNMA.IS\",\"LOGO.IS\" ,\"MAVI.IS\" , \"NTHOL.IS\", \"OTTO.IS\", \"OYAKC.IS\",\n",
        "            \"PARSN.IS\",\"PGSUS.IS\",\"QNBFB.IS\", \"QNBFL.IS\", \"RTALB.IS\", \"SARKY.IS\", # QUAGR attık\n",
        "            \"SELEC.IS\",\"TBORG.IS\",\"TKNSA.IS\", \"TRGYO.IS\", \"ULKER.IS\", \"UTPYA.IS\",\n",
        "            \"VERUS.IS\",\"YATAS.IS\",\"ZOREN.IS\", \"ETH-USD\", \"BTC-USD\", \"GC=F\", \"TRY=X\", \"CL=F\", \"SI=F\"\n",
        "          ]\n",
        "\n",
        "\n",
        "BIST50EX = [ \"AKSA.IS\" ,\"AKSEN.IS\", \"ALARK.IS\",\"ARDYZ.IS\", \"ARENA.IS\", \"ARSAN.IS\",\"ASELS.IS\",\n",
        "             \"BERA.IS\" ,\"BIMAS.IS\",\"BRYAT.IS\", \"CLEBI.IS\", \"DOHOL.IS\", \"EKGYO.IS\",\"FROTO.IS\",\n",
        "             \"GLYHO.IS\",\"GUBRF.IS\",\"GARAN.IS\", \"GSDHO.IS\", \"HDFGS.IS\", \"HALKB.IS\",\n",
        "             \"HEKTS.IS\",\"IPEKE.IS\",\"INDES.IS\", \"INFO.IS\" , \"ISMEN.IS\",\n",
        "             \"KAREL.IS\",\"KRDMD.IS\", \"KORDS.IS\", \"KARSN.IS\",\n",
        "             \"KOZAA.IS\",\"MGROS.IS\", \"ODAS.IS\" , \"OTKAR.IS\", \"PGSUS.IS\", \"PKART.IS\",\"PETKM.IS\",\n",
        "             \"SASA.IS\" ,\"SKTAS.IS\", \"SKBNK.IS\", \"SOKM.IS\" ,\n",
        "             \"TAVHL.IS\",\"TTRAK.IS\",\"TCELL.IS\", \"TOASO.IS\", \"TSKB.IS\" , \"TURSG.IS\", \"TKFEN.IS\",\n",
        "             \"TUPRS.IS\",\"VESBE.IS\", \"VAKBN.IS\", \"VESTL.IS\", \"YKBNK.IS\", \"AKCNS.IS\", \"YATAS.IS\", \"AEFES.IS\"\n",
        "           ]\n",
        "\n",
        "BIST100 = [\n",
        "\n",
        "           \"AEFES.IS\", \"AKBNK.IS\",\"AKSEN.IS\",\"ALARK.IS\", \"ARCLK.IS\", \"ARDYZ.IS\", \"ARSAN.IS\", \"BIMAS.IS\",\n",
        "           \"GARAN.IS\",\"GSDHO.IS\",\"HDFGS.IS\", \"INFO.IS\" , \"ISCTR.IS\", \"ISMEN.IS\", \"BRYAT.IS\", \"DOHOL.IS\",\n",
        "           \"KAREL.IS\",\"KCHOL.IS\",\"KRDMD.IS\", \"SISE.IS\" , \"SKTAS.IS\", \"TAVHL.IS\", \"EKGYO.IS\", \"ENJSA.IS\",\n",
        "           \"THYAO.IS\",\"TUPRS.IS\",\"VESBE.IS\", \"BERA.IS\" , \"XU100.IS\", \"CLEBI.IS\", \"GLYHO.IS\", \"GUBRF.IS\",\n",
        "           \"HEKTS.IS\",\"INDES.IS\",\"SASA.IS\" , \"TTRAK.IS\", \"PKART.IS\", \"FROTO.IS\", \"HALKB.IS\", \"IPEKE.IS\",\n",
        "           \"KORDS.IS\",\"TKFEN.IS\",\"EREGL.IS\", \"KCHOL.IS\", \"ASELS.IS\", \"YKBNK.IS\", \"KARSN.IS\", \"PETKM.IS\",\n",
        "           \"INDES.IS\",\"ARENA.IS\",\"KOZAA.IS\", \"KOZAL.IS\", \"MGROS.IS\", \"ODAS.IS\" , \"OTKAR.IS\", \"PGSUS.IS\",\n",
        "           \"SAHOL.IS\",\"SKBNK.IS\",\"SOKM.IS\" , \"TCELL.IS\", \"TOASO.IS\", \"TSKB.IS\" , \"TTKOM.IS\", \"TURSG.IS\",\n",
        "           \"VAKBN.IS\",\"VESTL.IS\",\"ADESE.IS\", \"AEFES.IS\", \"AKSA.IS\" , \"ALGYO.IS\", \"ALKIM.IS\",\n",
        "           \"AYDEM.IS\",\"BAGFS.IS\",\n",
        "\n",
        "           \"ALGYO.IS\", \"BRMEN.IS\", \"CANTE.IS\", \"CCOLA.IS\", \"CEMAS.IS\", \"CIMSA.IS\",\n",
        "           \"CMENT.IS\", \"DEVA.IS\",  \"DOAS.IS\",  \"DOHOL.IS\", \"ECILC.IS\", \"EGEEN.IS\", \"ENKAI.IS\",\n",
        "           \"ERBOS.IS\", \"ETILR.IS\", \"GOZDE.IS\", \"ISBIR.IS\",\n",
        "           \"ISDMR.IS\", \"ISFIN.IS\", \"ISYAT.IS\", \"IZMDC.IS\", \"KARTN.IS\", \"KENT.IS\", \"KERVT.IS\",  \"ISGYO.IS\", #GCM'de sorunlu\n",
        "           \"KLNMA.IS\", \"MAVI.IS\",  \"NTHOL.IS\", \"OTTO.IS\",  \"OYAKC.IS\",\n",
        "           \"PARSN.IS\", \"PETKM.IS\", \"QNBFL.IS\", \"QUAGR.IS\", \"RTALB.IS\", \"SARKY.IS\",\n",
        "           \"SELEC.IS\", \"TBORG.IS\", \"TKNSA.IS\", \"TRGYO.IS\", \"ULKER.IS\", # \"UTPYA.IS\" ve GCM'de sorunlu\n",
        "           \"VERUS.IS\", \"YATAS.IS\", \"ZOREN.IS\" #, \"GLHYO.IS\"\n",
        "           ]\n",
        "\n",
        "# 4 hisseyi hata vermesi sebebiyle dışarıda bıraktık, ARCLK, YKBNK, BRLSM, ESCAR\n",
        "\n",
        "My_PF  =   [ \"XU030.IS\", \"XU100.IS\", \"ETH-USD\" , \"BTC-USD\" , \"SISE.IS\" ,\"ISCTR.IS\" , \"KOZAL.IS\" , \"ARCLK.IS\", \"SAHOL.IS\",\n",
        "             \"EREGL.IS\", \"THYAO.IS\", \"AKBNK.IS\", \"KCHOL.IS\", \"TTKOM.IS\" , \"ENJSA.IS\", \"BERA.IS\" ]\n",
        "\n",
        "Metals =   [    \"GC=F\", \"TRY=X\",  \"SI=F\",\n",
        "                \"CL=F\", \"PA=F\",   \"PL=F\", \"ALI=F\",\n",
        "                \"^DJI\"]\n",
        "\n",
        "\n",
        "XU_ONLY =   [ \"XU030.IS\", \"XU100.IS\"]\n",
        "US_Fav   =   [   \"AMD\"]\n",
        "ExtraOrdinaries = [ \"CANTE.IS\" ]\n",
        "\n",
        "CIQTK_AU_08_06_2022 = [  \"KOZAA.IS\", \"THYAO.IS\" , \"CANTE.IS\",  \"QUAGR.IS\",  \"ISGYO.IS\" ]\n",
        "\n",
        "working_dir = \"/Users/alperulku/EPAT-99-FINAL PROJECT/EPAT PROJECT WORK/\"\n",
        "#os.chdir(working_dir+\"BIST100\")\n",
        "exchange = My_PF\n",
        "\n",
        "\n",
        "import os\n",
        "directory_path = os.getcwd()\n",
        "print(\"My current directory is : \" + directory_path)\n",
        "folder_name = os.path.basename(directory_path)\n",
        "print(\"My directory name is : \" + folder_name)\n",
        "\n",
        "\n",
        "TR_Best  =  [\n",
        "\"KCHOL.IS\",\n",
        "\"AKBNK.IS\",\n",
        "\"INFO.IS\"\t,\n",
        "\"QNBFB.IS\",\n",
        "\"GUBRF.IS\",\n",
        "\"BRYAT.IS\",\n",
        "\"RTALB.IS\",\n",
        "\"OTKAR.IS\",\n",
        "\"ARDYZ.IS\",\n",
        "\"BRMEN.IS\",\n",
        "\"GOZDE.IS\",\n",
        "\"IPEKE.IS\",\n",
        "\"FROTO.IS\"\n",
        "]\n",
        "\n",
        "Portfolio_Assets = [ \"XU100.IS\", \"KCHOL.IS\", \"SISE.IS\" , \"TTKOM.IS\", \"GC=F\", \"TRY=X\", \"ETH-USD\", \"CL=F\", \"BERA.IS\" ]\n",
        "\n",
        "Gold_Only = [\"GC=F\"]\n"
      ]
    },
    {
      "cell_type": "code",
      "execution_count": 11,
      "metadata": {
        "id": "zjdtOVXKw8wJ"
      },
      "outputs": [],
      "source": [
        "#stock_list = My_PF + Metals\n",
        "stock_list = FANG\n",
        "#stock_list = DOW30 + CHAIKIN\n",
        "#Gold_Only"
      ]
    },
    {
      "cell_type": "code",
      "execution_count": 12,
      "metadata": {
        "id": "uwIn0o6pw8wK",
        "outputId": "d2379283-2d31-4416-b50e-10718f1b437b",
        "colab": {
          "base_uri": "https://localhost:8080/"
        }
      },
      "outputs": [
        {
          "output_type": "execute_result",
          "data": {
            "text/plain": [
              "1"
            ]
          },
          "metadata": {},
          "execution_count": 12
        }
      ],
      "source": [
        "len(stock_list)"
      ]
    },
    {
      "cell_type": "markdown",
      "metadata": {
        "tags": [],
        "id": "s-nZnwaZw8wK"
      },
      "source": [
        "### DOWNLOAD DATA OR GET DATA FROM READY CSV FILES <a name=\"download_data\"></a>"
      ]
    },
    {
      "cell_type": "code",
      "execution_count": 14,
      "metadata": {
        "scrolled": true,
        "tags": [],
        "id": "9kooYQq4w8wK",
        "outputId": "e4e376b6-90d2-40ef-f5e4-6eb25c50ffa5",
        "colab": {
          "base_uri": "https://localhost:8080/"
        }
      },
      "outputs": [
        {
          "output_type": "stream",
          "name": "stdout",
          "text": [
            "****************************************************************\n",
            "Starting Download ...\n",
            "****************************************************************\n",
            "Downloading FANG\n",
            "****************************************************************\n",
            "Download complete...Time elapsed (hh:mm:ss.ms) 0:00:01.203046\n",
            "****************************************************************\n"
          ]
        }
      ],
      "source": [
        "LENGTH = 64\n",
        "#os.chdir(working_dir+\"BIST100\")\n",
        "\n",
        "start_time = datetime.today()\n",
        "new_download = True\n",
        "\n",
        "START_DATE = '2018-02-13'\n",
        "END_DATE   = datetime.today()\n",
        "price_list = []\n",
        "\n",
        "if new_download:\n",
        "    print(LENGTH*\"*\")\n",
        "    print(\"Starting Download ...\")\n",
        "    print(LENGTH*\"*\")\n",
        "    for tick in stock_list:\n",
        "        print(f\"Downloading {tick}\")\n",
        "        yf_tick = yf.Ticker(tick)\n",
        "        df = yf_tick.history(interval='1d', auto_adjust=True, start=START_DATE, end=END_DATE, back_adjust = True, rounding=True)\n",
        "        df['Close'] = df['Close'].mask( (tick == \"XU100.IS\" or tick == \"XU030.IS\") & (df['Close'] > 10000), other = df['Close'] / 100.0)\n",
        "        df.dropna(how='all', inplace=True)\n",
        "        price_list.append(df)\n",
        "    print(LENGTH*\"*\")\n",
        "    print('Download complete...Time elapsed (hh:mm:ss.ms) {}'.format(datetime.now() - start_time))\n",
        "    print(LENGTH*\"*\")\n",
        "\n",
        "## Save datafiles to disk\n",
        "\n",
        "    for i,df in enumerate(price_list):\n",
        "        df.to_csv(f\"{stock_list[i]}.csv\")\n",
        "else:\n",
        "    price = {}\n",
        "    print(LENGTH*\"*\")\n",
        "    print(\"Fetching Downloaded CSV Files ...\")\n",
        "    print(LENGTH*\"*\")\n",
        "    for tick in stock_list:\n",
        "        print(f\"Fetching {tick}\")\n",
        "        filename = f\"{tick}.csv\"\n",
        "        df = pd.read_csv(filename)\n",
        "        price[tick] = df\n",
        "    print(LENGTH*\"*\")\n",
        "    print('Done ...Time elapsed (hh:mm:ss.ms) {}'.format(datetime.now() - start_time))\n",
        "    print(LENGTH*\"*\")\n",
        "\n"
      ]
    },
    {
      "cell_type": "code",
      "execution_count": 15,
      "metadata": {
        "id": "jSrZgmPmw8wK",
        "outputId": "84e58017-c160-42b8-d527-0d6f3aedba4f",
        "colab": {
          "base_uri": "https://localhost:8080/"
        }
      },
      "outputs": [
        {
          "output_type": "execute_result",
          "data": {
            "text/plain": [
              "datetime.datetime(2023, 8, 6, 12, 29, 5, 234944)"
            ]
          },
          "metadata": {},
          "execution_count": 15
        }
      ],
      "source": [
        "END_DATE"
      ]
    },
    {
      "cell_type": "markdown",
      "metadata": {
        "tags": [],
        "id": "gLBjV7SOw8wK"
      },
      "source": [
        "### Apply Strategy to downloaded data, tune parameters, and write sorted results to csv file <a name=\"apply_str\"></a>"
      ]
    },
    {
      "cell_type": "code",
      "execution_count": 16,
      "metadata": {
        "id": "x-ZTWeNBw8wK"
      },
      "outputs": [],
      "source": [
        "Information_Ratios = []\n",
        "strats = []\n",
        "stock_name = []\n",
        "returns = []\n",
        "str_returns = []\n",
        "exc_returns = []\n",
        "SMAs = []\n",
        "LMAs = []\n",
        "last_signals = []\n",
        "last2_signals = []\n",
        "nhrs = []\n",
        "R_Sharpes =[]\n",
        "sharpes = []\n",
        "COMMANDS = []\n",
        "AWRs = []\n",
        "ALRs = []\n",
        "Kellys  = []\n",
        "WinOverLoss = []\n",
        "Last_signal_Sum10 = []\n",
        "R_Skews = []\n",
        "Str_R_Skews = []\n",
        "DELTA_SKEWs = []\n",
        "R_Std_Devs = []\n",
        "MDDs = []\n",
        "SharpeOverMDD =[]\n",
        "\n",
        "LENGTH = 64\n",
        "\n",
        "\n",
        "#close_df = pd.DataFrame()\n",
        "#li = pd.DataFrame() # my real portfolio dataframe\n",
        "\n",
        "import pandas_datareader.data as web\n",
        "import datetime\n",
        "\n",
        "from datetime import date, timedelta\n",
        "\n",
        "current_date = date.today().isoformat()\n",
        "\n",
        "def TestStrategy(stock, ShortLen=19, LongLen=70, strategy=\"MSC\", messages = True, showCharts = True ):\n",
        "    print(LENGTH * '=')\n",
        "    print(LENGTH * '=')\n",
        "    print('Backtesting result for',stock)\n",
        "    print(LENGTH * '-')\n",
        "    close_df = np.round(pd.read_csv(f\"{stock}.csv\", parse_dates = [0]),4)\n",
        "    ## ekledik\n",
        "\n",
        "    close_df.dropna(inplace=True)\n",
        "\n",
        "    look_back = 5 * 365\n",
        "    T0_START = date.today() - timedelta( days = look_back)\n",
        "    T0_END   = date.today()\n",
        "\n",
        "    prices = yf.Ticker(stock)\n",
        "    df = prices.history(interval='1d', auto_adjust=True, start=T0_START, end=T0_END, back_adjust = True, rounding=True)\n",
        "\n",
        "    rets = np.log(df.Close) - np.log(df.Close.shift(1))\n",
        "\n",
        "    if (strategy == \"SMA\"):\n",
        "        _, SMA, LMA = CROSSOVER.SMA_LMA_matrix( close_df,\n",
        "                                                SMA_range=range( 4,          ShortLen, 1),\n",
        "                                                LMA_range=range( ShortLen+1, LongLen,  1),\n",
        "                                                metrics = ['CAGR','MDD','Sharpe'],\n",
        "                                                moving_average='Simple', charts=showCharts)\n",
        "        MSC_strategy = CROSSOVER(close_df,\n",
        "                                 moving_average='Simple',\n",
        "                                 short_window = SMA,\n",
        "                                 long_window = LMA) ## Best drawdown\n",
        "\n",
        "    elif (strategy == \"EMA\"):\n",
        "        _, SMA, LMA = CROSSOVER.SMA_LMA_matrix( close_df,\n",
        "                                                SMA_range=range( 4,          ShortLen, 1),\n",
        "                                                LMA_range=range( ShortLen+1, LongLen,  1),\n",
        "                                                metrics = ['CAGR','MDD','Sharpe'],\n",
        "                                                moving_average='exponential', charts=showCharts)\n",
        "        MSC_strategy = CROSSOVER(close_df,\n",
        "                                 moving_average='exponential',\n",
        "                                 short_window = SMA,\n",
        "                                 long_window = LMA) ## Best drawdown\n",
        "\n",
        "    elif (strategy == \"MSC\"):\n",
        "        _, SMA, LMA = CROSSOVER.SMA_LMA_matrix( close_df,\n",
        "                                                SMA_range=range( 4,          ShortLen, 1),\n",
        "                                                LMA_range=range( ShortLen+1, LongLen,  1),\n",
        "                                                metrics = ['CAGR','MDD','Sharpe'],\n",
        "                                                moving_average='Skewness', charts=showCharts)\n",
        "\n",
        "        MSC_strategy = CROSSOVER(close_df,\n",
        "                                 moving_average='Skewness',\n",
        "                                 short_window = SMA,\n",
        "                                 long_window = LMA) ## Best drawdown\n",
        "\n",
        "    elif (strategy == \"VWAP\"):\n",
        "        _, SMA, LMA = CROSSOVER.SMA_LMA_matrix( close_df,\n",
        "                                                SMA_range=range( 4,          ShortLen, 1),\n",
        "                                                LMA_range=range( ShortLen+1, LongLen,  1),\n",
        "                                                metrics = ['CAGR','MDD','Sharpe'],\n",
        "                                                moving_average='VWAP', charts=showCharts)\n",
        "\n",
        "        MSC_strategy = CROSSOVER(close_df,\n",
        "                                 moving_average='VWAP',\n",
        "                                 short_window = SMA,\n",
        "                                 long_window = LMA) ## Best drawdown\n",
        "\n",
        "\n",
        "    elif (strategy == \"M-Sharpe\"):\n",
        "        _, SMA, LMA = CROSSOVER.SMA_LMA_matrix( close_df,\n",
        "                                                SMA_range=range( 4,          ShortLen, 1),\n",
        "                                                LMA_range=range( ShortLen+1, LongLen,  1),\n",
        "                                                metrics = ['CAGR','MDD','Sharpe'],\n",
        "                                                moving_average='M-Sharpe', charts=showCharts)\n",
        "\n",
        "        MSC_strategy = CROSSOVER(close_df,\n",
        "                                 moving_average='M-Sharpe',\n",
        "                                 short_window = SMA,\n",
        "                                 long_window = LMA) ## Best drawdown\n",
        "\n",
        "\n",
        "    else:\n",
        "        raise Exception(\"Not a valid type\")\n",
        "\n",
        "    if (messages == True):\n",
        "        print('Signal diagram for',stock)\n",
        "        print(LENGTH * '-')\n",
        "\n",
        "    signal, sgn = MSC_strategy.generate_signals( stock_name = stock, charts=showCharts)\n",
        "\n",
        "\n",
        "    New_Strategy_Return = sgn.shift(1)*rets\n",
        "\n",
        "    if (messages == True):\n",
        "        print('Last 2 Signals =', signal.iloc[-2], signal.iloc[-1])\n",
        "\n",
        "    last_signals.append(signal.iloc[-1])\n",
        "    last2_signals.append(signal.iloc[-2])\n",
        "    Last_signal_Sum10.append(signal.iloc[-10:].sum())\n",
        "    DELTA_SKEWs.append(signal.iloc[-1] - signal.iloc[-2])\n",
        "\n",
        "\n",
        "\n",
        "    if (signal.iloc[-1] > signal.iloc[-2] + 1 ):\n",
        "        COMMANDS.append('STRONG BUY')\n",
        "    elif (signal.iloc[-1] < signal.iloc[-2] - 1):\n",
        "        COMMANDS.append('STRONG SELL')\n",
        "    elif (signal.iloc[-1] > signal.iloc[-2] ):\n",
        "        COMMANDS.append('BUY')\n",
        "    elif (signal.iloc[-1] < signal.iloc[-2] ):\n",
        "        COMMANDS.append('SELL')\n",
        "    else:\n",
        "        COMMANDS.append('HOLD')\n",
        "\n",
        "\n",
        "    print(LENGTH * '-')\n",
        "    print('Performance plots for',stock)\n",
        "    print(LENGTH * '-')\n",
        "    print(MSC_strategy.plot_performance(100, stock_name = stock))\n",
        "\n",
        "    print('Daywise performance for',stock)\n",
        "    print(LENGTH * '-')\n",
        "    print(MSC_strategy.daywise_performance)\n",
        "\n",
        "    print('Tradewise performance for',stock)\n",
        "    print(LENGTH * '-')\n",
        "    print(MSC_strategy.tradewise_performance)\n",
        "\n",
        "    print('Yearly P/L for',stock)\n",
        "    print(LENGTH * '-')\n",
        "    print(MSC_strategy.yearly_df)\n",
        "\n",
        "    strats.append(strategy)\n",
        "    stock_name.append(stock)\n",
        "    returns.append(np.round(MSC_strategy.daywise_performance.Returns,4))\n",
        "    str_returns.append(np.round(MSC_strategy.daywise_performance.Str_Returns,4))\n",
        "    nhrs.append(MSC_strategy.tradewise_performance.NormHitRatio)\n",
        "    sharpes.append(np.round(MSC_strategy.daywise_performance.SharpeRatio,4))\n",
        "    exc_returns.append(MSC_strategy.daywise_performance.Str_Returns - MSC_strategy.daywise_performance.Returns)\n",
        "    AWRs.append(MSC_strategy.tradewise_performance.AvgWinRet)\n",
        "    Kellys.append(MSC_strategy.tradewise_performance.OptimalTradeSize)\n",
        "    ALRs.append(MSC_strategy.tradewise_performance.AvgLossRet)\n",
        "    WinOverLoss.append(MSC_strategy.tradewise_performance.WinByLossRet)\n",
        "    R_Skews.append(MSC_strategy.daywise_performance.R_Skew)\n",
        "    Str_R_Skews.append(MSC_strategy.daywise_performance.Str_R_Skew)\n",
        "    R_Sharpes.append(MSC_strategy.daywise_performance.R_Sharpe)\n",
        "    R_Std_Devs.append(MSC_strategy.daywise_performance.R_Std_Dev)\n",
        "    MDDs.append(round(MSC_strategy.daywise_performance.MaxDrawdown,2))\n",
        "    SharpeOverMDD.append(np.round(MSC_strategy.daywise_performance.SharpeRatio / MSC_strategy.daywise_performance.MaxDrawdown,4))\n",
        "    Information_Ratios.append(np.round(MSC_strategy.daywise_performance.Str_Returns - MSC_strategy.daywise_performance.Returns,4))\n",
        "\n",
        "    print(LENGTH * '-')\n",
        "    print(\"======== STRATEGY RETURNS ========\")\n",
        "    print('Strategy Returns ',stock)\n",
        "    print(LENGTH * '-')\n",
        "    print(MSC_strategy.daywise_performance.Str_Returns )\n",
        "\n",
        "\n",
        "    SMAs.append(SMA)\n",
        "    LMAs.append(LMA)\n",
        "\n",
        "    # WRITE TO EXCEL ROUTINE\n",
        "    # GFG = pd.ExcelWriter(f\"ProjectData/5_{stock}_{strategy}_{END_DATE}.xlsx\")\n",
        "    # close_df.to_csv(f\"ProjectData/5_{stock}_{strategy}_{END_DATE}.csv\")\n",
        "    # close_df.to_excel(GFG, index = False)\n",
        "    # GFG.save()\n",
        "\n",
        "    return Information_Ratios[-1], rets, MSC_strategy.tradewise_performance.S_Return\n",
        "    #return Information_Ratios[-1]\n"
      ]
    },
    {
      "cell_type": "code",
      "execution_count": 17,
      "metadata": {
        "id": "IclbdwGaw8wK"
      },
      "outputs": [],
      "source": [
        "def SplitDataFile(CSVFILE, FRACTION):\n",
        "    df = np.round(pd.read_csv(CSVFILE, parse_dates = [0]),2)\n",
        "    train, test = np.split(df, [int(FRACTION*len(df))])\n",
        "    return train, test\n",
        "\n",
        "\n",
        "def SplitDataFrame(dataframe, FRACTION):\n",
        "    train, test = np.split(dataframe, [int(FRACTION*len(df))])\n",
        "    return train, test\n",
        "\n",
        "\n",
        "def AddDate(df,start):\n",
        "    df = pd.DataFrame(df)\n",
        "    df['Date'] = pd.date_range(start=start, periods = len(df), freq='D')\n",
        "    df.set_index('Date', inplace=True)\n",
        "    return df\n",
        "\n",
        "\n"
      ]
    },
    {
      "cell_type": "code",
      "execution_count": 18,
      "metadata": {
        "id": "nDZJdXC1w8wK"
      },
      "outputs": [],
      "source": [
        "def TestStrategyWithDates(stock, ShortLen, LongLen, strategy, messages, showCharts, start, end ):\n",
        "\n",
        "\n",
        "#     #train, test = SplitData(f\"{stock}.csv\", 1)\n",
        "#     df = np.round(pd.read_csv(f\"{stock}.csv\", parse_dates = [0]),2)\n",
        "\n",
        "#     #prices = yf.Ticker(stock)\n",
        "#     #close_df = prices.history(interval='1d', auto_adjust=True, start=start, end=end, back_adjust = True, rounding=True)\n",
        "\n",
        "#     close_df = AddDate(df.Close, start)\n",
        "\n",
        "\n",
        "#     print(close_df)\n",
        "#     rets = np.log(close_df) - np.log(close_df.shift(1))\n",
        "\n",
        "\n",
        "#     print(LENGTH * '=')\n",
        "#     print(LENGTH * '=')\n",
        "#     print('Backtesting result for',stock)\n",
        "#     print(LENGTH * '-')\n",
        "#     close_df = np.round(pd.read_csv(f\"{stock}.csv\", parse_dates = [0]),4)\n",
        "#     #close_df, _ = SplitData(f\"{stock}.csv\", 0.8)\n",
        "#     ## ekledik\n",
        "#     #close_df = AddDate(close_df, start)\n",
        "#     #close_df.dropna(inplace=True)\n",
        "#     print(\"FILE CONTENT close_df.Close\")\n",
        "#     print(close_df.Close)\n",
        "\n",
        "#     look_back = 5 * 365\n",
        "#     T0_START = date.today() - timedelta( days = look_back)\n",
        "#     T0_END   = date.today()\n",
        "\n",
        "\n",
        "#     prices = yf.Ticker(stock)\n",
        "#     close_df = prices.history(interval='1d', auto_adjust=True, start=start, end=end, back_adjust = True, rounding=True)\n",
        "#     print(\"YF DOWNLOADED CONTENT close_df\")\n",
        "\n",
        "\n",
        "#     print(close_df)\n",
        "#     rets = np.log(close_df.Close) - np.log(close_df.Close.shift(1))\n",
        "    print(LENGTH * '=')\n",
        "    print(LENGTH * '=')\n",
        "    print('Backtesting result for',stock)\n",
        "    print(LENGTH * '-')\n",
        "    print(\"FILE CONTENT close_df\")\n",
        "    close_df = np.round(pd.read_csv(f\"{stock}.csv\", parse_dates = [0]),4)\n",
        "    close_df, _ = SplitDataFrame(close_df, 0.8)\n",
        "\n",
        "    print(close_df) ## ekledik\n",
        "\n",
        "    close_df.dropna(inplace=True)\n",
        "\n",
        "    look_back = 5 * 365\n",
        "    T0_START = date.today() - timedelta( days = look_back)\n",
        "    T0_END   = date.today()\n",
        "    prices = yf.Ticker(stock)\n",
        "    df = prices.history(interval='1d', auto_adjust=True, start=T0_START, end=T0_END, back_adjust = True, rounding=True)\n",
        "    print(\"YF DOWNLOADED CONTENT df\")\n",
        "    print(df) ## ekledik\n",
        "\n",
        "    rets = np.log(df.Close) - np.log(df.Close.shift(1))\n",
        "\n",
        "\n",
        "\n",
        "    if (strategy == \"SMA\"):\n",
        "        _, SMA, LMA = CROSSOVER.SMA_LMA_matrix( close_df,\n",
        "                                                SMA_range=range( 4,          ShortLen, 1),\n",
        "                                                LMA_range=range( ShortLen+1, LongLen,  1),\n",
        "                                                metrics = ['CAGR','MDD','Sharpe'],\n",
        "                                                moving_average='Simple', charts=showCharts)\n",
        "        MSC_strategy = CROSSOVER(close_df,\n",
        "                                 moving_average='Simple',\n",
        "                                 short_window = SMA,\n",
        "                                 long_window = LMA) ## Best drawdown\n",
        "\n",
        "    elif (strategy == \"EMA\"):\n",
        "        _, SMA, LMA = CROSSOVER.SMA_LMA_matrix( close_df,\n",
        "                                                SMA_range=range( 4,          ShortLen, 1),\n",
        "                                                LMA_range=range( ShortLen+1, LongLen,  1),\n",
        "                                                metrics = ['CAGR','MDD','Sharpe'],\n",
        "                                                moving_average='exponential', charts=showCharts)\n",
        "        MSC_strategy = CROSSOVER(close_df,\n",
        "                                 moving_average='exponential',\n",
        "                                 short_window = SMA,\n",
        "                                 long_window = LMA) ## Best drawdown\n",
        "\n",
        "    elif (strategy == \"MSC\"):\n",
        "        _, SMA, LMA = CROSSOVER.SMA_LMA_matrix( close_df,\n",
        "                                                SMA_range=range( 4,          ShortLen, 1),\n",
        "                                                LMA_range=range( ShortLen+1, LongLen,  1),\n",
        "                                                metrics = ['CAGR','MDD','Sharpe'],\n",
        "                                                moving_average='Skewness', charts=showCharts)\n",
        "\n",
        "        MSC_strategy = CROSSOVER(close_df,\n",
        "                                 moving_average='Skewness',\n",
        "                                 short_window = SMA,\n",
        "                                 long_window = LMA) ## Best drawdown\n",
        "\n",
        "    elif (strategy == \"VWAP\"):\n",
        "        _, SMA, LMA = CROSSOVER.SMA_LMA_matrix( close_df,\n",
        "                                                SMA_range=range( 4,          ShortLen, 1),\n",
        "                                                LMA_range=range( ShortLen+1, LongLen,  1),\n",
        "                                                metrics = ['CAGR','MDD','Sharpe'],\n",
        "                                                moving_average='VWAP', charts=showCharts)\n",
        "\n",
        "        MSC_strategy = CROSSOVER(close_df,\n",
        "                                 moving_average='VWAP',\n",
        "                                 short_window = SMA,\n",
        "                                 long_window = LMA) ## Best drawdown\n",
        "\n",
        "\n",
        "    elif (strategy == \"M-Sharpe\"):\n",
        "        _, SMA, LMA = CROSSOVER.SMA_LMA_matrix( close_df,\n",
        "                                                SMA_range=range( 4,          ShortLen, 1),\n",
        "                                                LMA_range=range( ShortLen+1, LongLen,  1),\n",
        "                                                metrics = ['CAGR','MDD','Sharpe'],\n",
        "                                                moving_average='M-Sharpe', charts=showCharts)\n",
        "\n",
        "        MSC_strategy = CROSSOVER(close_df,\n",
        "                                 moving_average='M-Sharpe',\n",
        "                                 short_window = SMA,\n",
        "                                 long_window = LMA) ## Best drawdown\n",
        "\n",
        "\n",
        "    else:\n",
        "        raise Exception(\"Not a valid type\")\n",
        "\n",
        "    if (messages == True):\n",
        "        print('Signal diagram for',stock)\n",
        "        print(LENGTH * '-')\n",
        "\n",
        "    signal, sgn = MSC_strategy.generate_signals( stock_name = stock, charts=showCharts)\n",
        "\n",
        "\n",
        "    New_Strategy_Return = sgn.shift(1)*rets\n",
        "\n",
        "    if (messages == True):\n",
        "        print('Last 2 Signals =', signal.iloc[-2], signal.iloc[-1])\n",
        "\n",
        "    last_signals.append(signal.iloc[-1])\n",
        "    last2_signals.append(signal.iloc[-2])\n",
        "    Last_signal_Sum10.append(signal.iloc[-10:].sum())\n",
        "    DELTA_SKEWs.append(signal.iloc[-1] - signal.iloc[-2])\n",
        "\n",
        "\n",
        "\n",
        "    if (signal.iloc[-1] > signal.iloc[-2] + 1 ):\n",
        "        COMMANDS.append('STRONG BUY')\n",
        "    elif (signal.iloc[-1] < signal.iloc[-2] - 1):\n",
        "        COMMANDS.append('STRONG SELL')\n",
        "    elif (signal.iloc[-1] > signal.iloc[-2] ):\n",
        "        COMMANDS.append('BUY')\n",
        "    elif (signal.iloc[-1] < signal.iloc[-2] ):\n",
        "        COMMANDS.append('SELL')\n",
        "    else:\n",
        "        COMMANDS.append('HOLD')\n",
        "\n",
        "\n",
        "    print(LENGTH * '-')\n",
        "    print('Performance plots for',stock)\n",
        "    print(LENGTH * '-')\n",
        "    print(MSC_strategy.plot_performance(100, stock_name = stock))\n",
        "\n",
        "    print('Daywise performance for',stock)\n",
        "    print(LENGTH * '-')\n",
        "    print(MSC_strategy.daywise_performance)\n",
        "\n",
        "    print('Tradewise performance for',stock)\n",
        "    print(LENGTH * '-')\n",
        "    print(MSC_strategy.tradewise_performance)\n",
        "\n",
        "    print('Yearly P/L for',stock)\n",
        "    print(LENGTH * '-')\n",
        "    print(MSC_strategy.yearly_df)\n",
        "\n",
        "    strats.append(strategy)\n",
        "    stock_name.append(stock)\n",
        "    returns.append(np.round(MSC_strategy.daywise_performance.Returns,4))\n",
        "    str_returns.append(np.round(MSC_strategy.daywise_performance.Str_Returns,4))\n",
        "    nhrs.append(MSC_strategy.tradewise_performance.NormHitRatio)\n",
        "    sharpes.append(np.round(MSC_strategy.daywise_performance.SharpeRatio,4))\n",
        "    exc_returns.append(MSC_strategy.daywise_performance.Str_Returns - MSC_strategy.daywise_performance.Returns)\n",
        "    AWRs.append(MSC_strategy.tradewise_performance.AvgWinRet)\n",
        "    Kellys.append(MSC_strategy.tradewise_performance.OptimalTradeSize)\n",
        "    ALRs.append(MSC_strategy.tradewise_performance.AvgLossRet)\n",
        "    WinOverLoss.append(MSC_strategy.tradewise_performance.WinByLossRet)\n",
        "    R_Skews.append(MSC_strategy.daywise_performance.R_Skew)\n",
        "    Str_R_Skews.append(MSC_strategy.daywise_performance.Str_R_Skew)\n",
        "    R_Sharpes.append(MSC_strategy.daywise_performance.R_Sharpe)\n",
        "    R_Std_Devs.append(MSC_strategy.daywise_performance.R_Std_Dev)\n",
        "    MDDs.append(round(MSC_strategy.daywise_performance.MaxDrawdown,2))\n",
        "    SharpeOverMDD.append(np.round(MSC_strategy.daywise_performance.SharpeRatio / MSC_strategy.daywise_performance.MaxDrawdown,4))\n",
        "    Information_Ratios.append(np.round(MSC_strategy.daywise_performance.Str_Returns - MSC_strategy.daywise_performance.Returns,4))\n",
        "\n",
        "    print(LENGTH * '-')\n",
        "    print(\"======== STRATEGY RETURNS ========\")\n",
        "    print('Strategy Returns ',stock)\n",
        "    print(LENGTH * '-')\n",
        "    print(MSC_strategy.daywise_performance.Str_Returns )\n",
        "\n",
        "\n",
        "    SMAs.append(SMA)\n",
        "    LMAs.append(LMA)\n",
        "\n",
        "    # WRITE TO EXCEL ROUTINE\n",
        "    # GFG = pd.ExcelWriter(f\"ProjectData/5_{stock}_{strategy}_{END_DATE}.xlsx\")\n",
        "    # close_df.to_csv(f\"ProjectData/5_{stock}_{strategy}_{END_DATE}.csv\")\n",
        "    # close_df.to_excel(GFG, index = False)\n",
        "    # GFG.save()\n",
        "\n",
        "    return Information_Ratios[-1], rets, MSC_strategy.tradewise_performance.S_Return\n",
        "    #return Information_Ratios[-1]"
      ]
    },
    {
      "cell_type": "code",
      "execution_count": 21,
      "metadata": {
        "id": "ZsoRzmEYw8wK"
      },
      "outputs": [],
      "source": [
        "\n",
        "def TestAndDisplayResults(stock, strategy, look_back_years, backtest_years, oos_period_years):\n",
        "\n",
        "    look_back_days = look_back_years * 365\n",
        "    backtest_days = backtest_years * 365\n",
        "    oos_period_days = oos_period_years * 365\n",
        "\n",
        "    T2_START   = date.today() - timedelta( days = look_back_days)\n",
        "    T2_END     = T2_START + timedelta( days = backtest_days)\n",
        "    T3_START   = T2_END + timedelta( days = 1 )\n",
        "    T3_END     = T3_START + timedelta( days = oos_period_days )\n",
        "\n",
        "    print(T2_START)\n",
        "    print(T2_END)\n",
        "    print(T3_START)\n",
        "    print(T3_END)\n",
        "\n",
        "    k, _rets, _str_returns = TestStrategyWithDates(    stock, 20, 50,\n",
        "                                                       strategy=strategy,\n",
        "                                                       messages=True,\n",
        "                                                       showCharts = True,\n",
        "                                                       start = T2_START,\n",
        "                                                       end = T2_END)\n",
        "\n",
        "\n",
        "    print(f\" NO {strategy} BACKTEST PERFORMANCE\")\n",
        "    print(\"===========================\")\n",
        "    OLD = pf.create_simple_tear_sheet(_rets)\n",
        "    print(f\" {strategy} BACKTEST PERFORMANCE\")\n",
        "    print(\"===========================\")\n",
        "\n",
        "    df = pd.DataFrame(_str_returns)\n",
        "    #T0_START = date.today() - timedelta( days = 5 * 365)\n",
        "    df['Date'] = pd.date_range(start=T2_START, periods = len(_str_returns), freq='D')\n",
        "    #df['date'] = pd.to_datetime(df['date'])\n",
        "    df.set_index('Date', inplace=True)\n",
        "\n",
        "    print(\"======== BACKTEST STRATEGY RETURNS ========\")\n",
        "    print(df.S_Return)\n",
        "    print(\"======== BACKTEST BEGIN TEAR SHEET ========\")\n",
        "    NEW = pf.create_simple_tear_sheet(df.S_Return)\n",
        "    print(\"======== BACKTEST END OF PERFROMANCE ========\")\n",
        "    # print(_str_returns)\n",
        "\n",
        "    k1, _rets1, _str_returns1 = TestStrategyWithDates( stock, 20, 50,\n",
        "                                                       strategy=strategy,\n",
        "                                                       messages=True,\n",
        "                                                       showCharts = True,\n",
        "                                                       start =  T3_START,\n",
        "                                                       end = T3_END)\n",
        "    print(f\" {strategy} Information Ratio = {k1} \")\n",
        "    print(f\" NO {strategy} OOS PERFORMANCE for {len(_rets1)} days \")\n",
        "    print(\"===========================\")\n",
        "    print(f\" NO {strategy} OOS BEGIN TEAR SHEET ========\")\n",
        "    OLD = pf.create_simple_tear_sheet(_rets1)\n",
        "    print(f\" NO {strategy} OOS END OF PERFROMANCE ========\")\n",
        "\n",
        "    print(\"===========================\")\n",
        "    df1 = pd.DataFrame(_str_returns1)\n",
        "    #T0_START = date.today() - timedelta( days = 5 * 365)\n",
        "    df1['Date'] = pd.date_range(start=T3_START, periods = len(_str_returns1), freq='D')\n",
        "    #df['date'] = pd.to_datetime(df['date'])\n",
        "    df1.set_index('Date', inplace=True)\n",
        "\n",
        "    print(f\" {strategy} OOS PERFORMANCE\")\n",
        "    print(df1.S_Return)\n",
        "    print(\"======== OOS BEGIN TEAR SHEET ========\")\n",
        "    NEW = pf.create_simple_tear_sheet(df1.S_Return)\n",
        "    print(\"======== OOS END OF PERFROMANCE ========\")\n",
        "\n"
      ]
    },
    {
      "cell_type": "code",
      "execution_count": 22,
      "metadata": {
        "id": "_oHoTMrTw8wK",
        "outputId": "1e08de15-556c-46f9-aa07-bd864b8e7625",
        "colab": {
          "base_uri": "https://localhost:8080/",
          "height": 1000
        }
      },
      "outputs": [
        {
          "output_type": "stream",
          "name": "stdout",
          "text": [
            "2020-08-06\n",
            "2022-08-06\n",
            "2022-08-07\n",
            "2023-08-07\n",
            "================================================================\n",
            "================================================================\n",
            "Backtesting result for FANG\n",
            "----------------------------------------------------------------\n",
            "FILE CONTENT close_df\n",
            "                           Date    Open    High     Low   Close   Volume  \\\n",
            "0     2018-02-13 00:00:00-05:00   98.34   99.36   97.87   98.17  1649400   \n",
            "1     2018-02-14 00:00:00-05:00   99.00  104.93   97.95  104.83  2901600   \n",
            "2     2018-02-15 00:00:00-05:00  105.82  106.90  103.77  106.81  2419800   \n",
            "3     2018-02-16 00:00:00-05:00  105.93  108.17  105.36  105.72  1697000   \n",
            "4     2018-02-20 00:00:00-05:00  105.12  106.98  104.49  104.81  1276800   \n",
            "...                         ...     ...     ...     ...     ...      ...   \n",
            "1097  2022-06-23 00:00:00-04:00  119.17  120.42  110.13  111.88  4647300   \n",
            "1098  2022-06-24 00:00:00-04:00  114.05  118.05  110.77  112.32  8195200   \n",
            "1099  2022-06-27 00:00:00-04:00  113.54  118.14  112.44  116.72  3281100   \n",
            "1100  2022-06-28 00:00:00-04:00  120.81  123.32  118.04  121.79  3428400   \n",
            "1101  2022-06-29 00:00:00-04:00  123.09  124.44  114.55  114.76  3422600   \n",
            "\n",
            "      Dividends  Stock Splits  \n",
            "0           0.0           0.0  \n",
            "1           0.0           0.0  \n",
            "2           0.0           0.0  \n",
            "3           0.0           0.0  \n",
            "4           0.0           0.0  \n",
            "...         ...           ...  \n",
            "1097        0.0           0.0  \n",
            "1098        0.0           0.0  \n",
            "1099        0.0           0.0  \n",
            "1100        0.0           0.0  \n",
            "1101        0.0           0.0  \n",
            "\n",
            "[1102 rows x 8 columns]\n",
            "YF DOWNLOADED CONTENT df\n",
            "                             Open    High     Low   Close   Volume  Dividends  \\\n",
            "Date                                                                            \n",
            "2018-08-07 00:00:00-04:00  114.89  116.39  114.60  115.10   659700        0.0   \n",
            "2018-08-08 00:00:00-04:00  114.20  114.99  112.33  114.28  1548400        0.0   \n",
            "2018-08-09 00:00:00-04:00  113.61  115.33  110.61  112.03  1897200        0.0   \n",
            "2018-08-10 00:00:00-04:00  112.81  116.17  111.94  115.15  1340700        0.0   \n",
            "2018-08-13 00:00:00-04:00  114.26  115.46  112.40  112.64   911900        0.0   \n",
            "...                           ...     ...     ...     ...      ...        ...   \n",
            "2023-07-31 00:00:00-04:00  144.96  147.50  144.96  147.32  2219800        0.0   \n",
            "2023-08-01 00:00:00-04:00  146.20  148.50  144.83  147.88  3894300        0.0   \n",
            "2023-08-02 00:00:00-04:00  147.49  147.75  145.02  146.79  2429800        0.0   \n",
            "2023-08-03 00:00:00-04:00  147.85  150.50  146.72  148.41  2520700        0.0   \n",
            "2023-08-04 00:00:00-04:00  149.65  150.21  148.08  148.57  1640300        0.0   \n",
            "\n",
            "                           Stock Splits  \n",
            "Date                                     \n",
            "2018-08-07 00:00:00-04:00           0.0  \n",
            "2018-08-08 00:00:00-04:00           0.0  \n",
            "2018-08-09 00:00:00-04:00           0.0  \n",
            "2018-08-10 00:00:00-04:00           0.0  \n",
            "2018-08-13 00:00:00-04:00           0.0  \n",
            "...                                 ...  \n",
            "2023-07-31 00:00:00-04:00           0.0  \n",
            "2023-08-01 00:00:00-04:00           0.0  \n",
            "2023-08-02 00:00:00-04:00           0.0  \n",
            "2023-08-03 00:00:00-04:00           0.0  \n",
            "2023-08-04 00:00:00-04:00           0.0  \n",
            "\n",
            "[1257 rows x 7 columns]\n"
          ]
        },
        {
          "output_type": "error",
          "ename": "AttributeError",
          "evalue": "ignored",
          "traceback": [
            "\u001b[0;31m---------------------------------------------------------------------------\u001b[0m",
            "\u001b[0;31mAttributeError\u001b[0m                            Traceback (most recent call last)",
            "\u001b[0;32m<ipython-input-22-9aa6b3bca070>\u001b[0m in \u001b[0;36m<cell line: 1>\u001b[0;34m()\u001b[0m\n\u001b[0;32m----> 1\u001b[0;31m \u001b[0mTestAndDisplayResults\u001b[0m\u001b[0;34m(\u001b[0m\u001b[0;34m\"FANG\"\u001b[0m\u001b[0;34m,\u001b[0m\u001b[0;34m\"MSC\"\u001b[0m\u001b[0;34m,\u001b[0m\u001b[0;36m3\u001b[0m\u001b[0;34m,\u001b[0m\u001b[0;36m2\u001b[0m\u001b[0;34m,\u001b[0m\u001b[0;36m1\u001b[0m\u001b[0;34m)\u001b[0m\u001b[0;34m\u001b[0m\u001b[0;34m\u001b[0m\u001b[0m\n\u001b[0m",
            "\u001b[0;32m<ipython-input-21-7ed1cd41aad9>\u001b[0m in \u001b[0;36mTestAndDisplayResults\u001b[0;34m(stock, strategy, look_back_years, backtest_years, oos_period_years)\u001b[0m\n\u001b[1;32m     15\u001b[0m     \u001b[0mprint\u001b[0m\u001b[0;34m(\u001b[0m\u001b[0mT3_END\u001b[0m\u001b[0;34m)\u001b[0m\u001b[0;34m\u001b[0m\u001b[0;34m\u001b[0m\u001b[0m\n\u001b[1;32m     16\u001b[0m \u001b[0;34m\u001b[0m\u001b[0m\n\u001b[0;32m---> 17\u001b[0;31m     k, _rets, _str_returns = TestStrategyWithDates(    stock, 20, 50,\n\u001b[0m\u001b[1;32m     18\u001b[0m                                                        \u001b[0mstrategy\u001b[0m\u001b[0;34m=\u001b[0m\u001b[0mstrategy\u001b[0m\u001b[0;34m,\u001b[0m\u001b[0;34m\u001b[0m\u001b[0;34m\u001b[0m\u001b[0m\n\u001b[1;32m     19\u001b[0m                                                        \u001b[0mmessages\u001b[0m\u001b[0;34m=\u001b[0m\u001b[0;32mTrue\u001b[0m\u001b[0;34m,\u001b[0m\u001b[0;34m\u001b[0m\u001b[0;34m\u001b[0m\u001b[0m\n",
            "\u001b[0;32m<ipython-input-18-821c16fcf261>\u001b[0m in \u001b[0;36mTestStrategyWithDates\u001b[0;34m(stock, ShortLen, LongLen, strategy, messages, showCharts, start, end)\u001b[0m\n\u001b[1;32m     86\u001b[0m \u001b[0;34m\u001b[0m\u001b[0m\n\u001b[1;32m     87\u001b[0m     \u001b[0;32melif\u001b[0m \u001b[0;34m(\u001b[0m\u001b[0mstrategy\u001b[0m \u001b[0;34m==\u001b[0m \u001b[0;34m\"MSC\"\u001b[0m\u001b[0;34m)\u001b[0m\u001b[0;34m:\u001b[0m\u001b[0;34m\u001b[0m\u001b[0;34m\u001b[0m\u001b[0m\n\u001b[0;32m---> 88\u001b[0;31m         _, SMA, LMA = CROSSOVER.SMA_LMA_matrix( close_df,\n\u001b[0m\u001b[1;32m     89\u001b[0m                                                 \u001b[0mSMA_range\u001b[0m\u001b[0;34m=\u001b[0m\u001b[0mrange\u001b[0m\u001b[0;34m(\u001b[0m \u001b[0;36m4\u001b[0m\u001b[0;34m,\u001b[0m          \u001b[0mShortLen\u001b[0m\u001b[0;34m,\u001b[0m \u001b[0;36m1\u001b[0m\u001b[0;34m)\u001b[0m\u001b[0;34m,\u001b[0m\u001b[0;34m\u001b[0m\u001b[0;34m\u001b[0m\u001b[0m\n\u001b[1;32m     90\u001b[0m                                                 \u001b[0mLMA_range\u001b[0m\u001b[0;34m=\u001b[0m\u001b[0mrange\u001b[0m\u001b[0;34m(\u001b[0m \u001b[0mShortLen\u001b[0m\u001b[0;34m+\u001b[0m\u001b[0;36m1\u001b[0m\u001b[0;34m,\u001b[0m \u001b[0mLongLen\u001b[0m\u001b[0;34m,\u001b[0m  \u001b[0;36m1\u001b[0m\u001b[0;34m)\u001b[0m\u001b[0;34m,\u001b[0m\u001b[0;34m\u001b[0m\u001b[0;34m\u001b[0m\u001b[0m\n",
            "\u001b[0;32m<ipython-input-8-d9c71a5a4d5a>\u001b[0m in \u001b[0;36mSMA_LMA_matrix\u001b[0;34m(cls, data, LMA_range, SMA_range, metrics, moving_average, optimal_sol, charts)\u001b[0m\n\u001b[1;32m    255\u001b[0m             \u001b[0md_row\u001b[0m \u001b[0;34m=\u001b[0m \u001b[0;34m{\u001b[0m\u001b[0mm\u001b[0m\u001b[0;34m:\u001b[0m\u001b[0;34m[\u001b[0m\u001b[0;34m]\u001b[0m \u001b[0;32mfor\u001b[0m \u001b[0mm\u001b[0m \u001b[0;32min\u001b[0m \u001b[0mmetrics\u001b[0m\u001b[0;34m}\u001b[0m\u001b[0;34m\u001b[0m\u001b[0;34m\u001b[0m\u001b[0m\n\u001b[1;32m    256\u001b[0m             \u001b[0;32mfor\u001b[0m \u001b[0ms\u001b[0m \u001b[0;32min\u001b[0m \u001b[0mSMA_range\u001b[0m\u001b[0;34m:\u001b[0m\u001b[0;34m\u001b[0m\u001b[0;34m\u001b[0m\u001b[0m\n\u001b[0;32m--> 257\u001b[0;31m                 \u001b[0mobj\u001b[0m \u001b[0;34m=\u001b[0m \u001b[0mcls\u001b[0m\u001b[0;34m(\u001b[0m\u001b[0mdata\u001b[0m\u001b[0;34m,\u001b[0m \u001b[0ms\u001b[0m\u001b[0;34m,\u001b[0m \u001b[0ml\u001b[0m\u001b[0;34m,\u001b[0m \u001b[0mmoving_average\u001b[0m\u001b[0;34m)\u001b[0m \u001b[0;31m## object being created from the class\u001b[0m\u001b[0;34m\u001b[0m\u001b[0;34m\u001b[0m\u001b[0m\n\u001b[0m\u001b[1;32m    258\u001b[0m                 \u001b[0mobj\u001b[0m\u001b[0;34m.\u001b[0m\u001b[0mgenerate_signals\u001b[0m\u001b[0;34m(\u001b[0m\u001b[0mcharts\u001b[0m\u001b[0;34m=\u001b[0m\u001b[0;32mFalse\u001b[0m\u001b[0;34m)\u001b[0m\u001b[0;34m\u001b[0m\u001b[0;34m\u001b[0m\u001b[0m\n\u001b[1;32m    259\u001b[0m                 \u001b[0mobj\u001b[0m\u001b[0;34m.\u001b[0m\u001b[0msignal_performance\u001b[0m\u001b[0;34m(\u001b[0m\u001b[0;36m100\u001b[0m\u001b[0;34m)\u001b[0m\u001b[0;34m\u001b[0m\u001b[0;34m\u001b[0m\u001b[0m\n",
            "\u001b[0;32m<ipython-input-8-d9c71a5a4d5a>\u001b[0m in \u001b[0;36m__init__\u001b[0;34m(self, data, short_window, long_window, moving_average, data_name, start, end)\u001b[0m\n\u001b[1;32m     16\u001b[0m         \"\"\"\n\u001b[1;32m     17\u001b[0m         \u001b[0mself\u001b[0m\u001b[0;34m.\u001b[0m\u001b[0mdata\u001b[0m\u001b[0;34m=\u001b[0m\u001b[0mdata\u001b[0m \u001b[0;31m#the dataframe\u001b[0m\u001b[0;34m\u001b[0m\u001b[0;34m\u001b[0m\u001b[0m\n\u001b[0;32m---> 18\u001b[0;31m         \u001b[0mself\u001b[0m\u001b[0;34m.\u001b[0m\u001b[0mdata\u001b[0m\u001b[0;34m[\u001b[0m\u001b[0;34m'yr'\u001b[0m\u001b[0;34m]\u001b[0m \u001b[0;34m=\u001b[0m \u001b[0mself\u001b[0m\u001b[0;34m.\u001b[0m\u001b[0mdata\u001b[0m\u001b[0;34m[\u001b[0m\u001b[0;34m'Date'\u001b[0m\u001b[0;34m]\u001b[0m\u001b[0;34m.\u001b[0m\u001b[0mdt\u001b[0m\u001b[0;34m.\u001b[0m\u001b[0myear\u001b[0m\u001b[0;34m\u001b[0m\u001b[0;34m\u001b[0m\u001b[0m\n\u001b[0m\u001b[1;32m     19\u001b[0m         \u001b[0mself\u001b[0m\u001b[0;34m.\u001b[0m\u001b[0mmoving_average\u001b[0m \u001b[0;34m=\u001b[0m \u001b[0mmoving_average\u001b[0m\u001b[0;34m\u001b[0m\u001b[0;34m\u001b[0m\u001b[0m\n\u001b[1;32m     20\u001b[0m         \u001b[0;32mif\u001b[0m \u001b[0mdata_name\u001b[0m \u001b[0;32mis\u001b[0m \u001b[0;32mNone\u001b[0m\u001b[0;34m:\u001b[0m\u001b[0;31m#the name that will appear on plots\u001b[0m\u001b[0;34m\u001b[0m\u001b[0;34m\u001b[0m\u001b[0m\n",
            "\u001b[0;32m/usr/local/lib/python3.10/dist-packages/pandas/core/generic.py\u001b[0m in \u001b[0;36m__getattr__\u001b[0;34m(self, name)\u001b[0m\n\u001b[1;32m   5900\u001b[0m         ):\n\u001b[1;32m   5901\u001b[0m             \u001b[0;32mreturn\u001b[0m \u001b[0mself\u001b[0m\u001b[0;34m[\u001b[0m\u001b[0mname\u001b[0m\u001b[0;34m]\u001b[0m\u001b[0;34m\u001b[0m\u001b[0;34m\u001b[0m\u001b[0m\n\u001b[0;32m-> 5902\u001b[0;31m         \u001b[0;32mreturn\u001b[0m \u001b[0mobject\u001b[0m\u001b[0;34m.\u001b[0m\u001b[0m__getattribute__\u001b[0m\u001b[0;34m(\u001b[0m\u001b[0mself\u001b[0m\u001b[0;34m,\u001b[0m \u001b[0mname\u001b[0m\u001b[0;34m)\u001b[0m\u001b[0;34m\u001b[0m\u001b[0;34m\u001b[0m\u001b[0m\n\u001b[0m\u001b[1;32m   5903\u001b[0m \u001b[0;34m\u001b[0m\u001b[0m\n\u001b[1;32m   5904\u001b[0m     \u001b[0;32mdef\u001b[0m \u001b[0m__setattr__\u001b[0m\u001b[0;34m(\u001b[0m\u001b[0mself\u001b[0m\u001b[0;34m,\u001b[0m \u001b[0mname\u001b[0m\u001b[0;34m:\u001b[0m \u001b[0mstr\u001b[0m\u001b[0;34m,\u001b[0m \u001b[0mvalue\u001b[0m\u001b[0;34m)\u001b[0m \u001b[0;34m->\u001b[0m \u001b[0;32mNone\u001b[0m\u001b[0;34m:\u001b[0m\u001b[0;34m\u001b[0m\u001b[0;34m\u001b[0m\u001b[0m\n",
            "\u001b[0;32m/usr/local/lib/python3.10/dist-packages/pandas/core/accessor.py\u001b[0m in \u001b[0;36m__get__\u001b[0;34m(self, obj, cls)\u001b[0m\n\u001b[1;32m    180\u001b[0m             \u001b[0;31m# we're accessing the attribute of the class, i.e., Dataset.geo\u001b[0m\u001b[0;34m\u001b[0m\u001b[0;34m\u001b[0m\u001b[0m\n\u001b[1;32m    181\u001b[0m             \u001b[0;32mreturn\u001b[0m \u001b[0mself\u001b[0m\u001b[0;34m.\u001b[0m\u001b[0m_accessor\u001b[0m\u001b[0;34m\u001b[0m\u001b[0;34m\u001b[0m\u001b[0m\n\u001b[0;32m--> 182\u001b[0;31m         \u001b[0maccessor_obj\u001b[0m \u001b[0;34m=\u001b[0m \u001b[0mself\u001b[0m\u001b[0;34m.\u001b[0m\u001b[0m_accessor\u001b[0m\u001b[0;34m(\u001b[0m\u001b[0mobj\u001b[0m\u001b[0;34m)\u001b[0m\u001b[0;34m\u001b[0m\u001b[0;34m\u001b[0m\u001b[0m\n\u001b[0m\u001b[1;32m    183\u001b[0m         \u001b[0;31m# Replace the property with the accessor object. Inspired by:\u001b[0m\u001b[0;34m\u001b[0m\u001b[0;34m\u001b[0m\u001b[0m\n\u001b[1;32m    184\u001b[0m         \u001b[0;31m# https://www.pydanny.com/cached-property.html\u001b[0m\u001b[0;34m\u001b[0m\u001b[0;34m\u001b[0m\u001b[0m\n",
            "\u001b[0;32m/usr/local/lib/python3.10/dist-packages/pandas/core/indexes/accessors.py\u001b[0m in \u001b[0;36m__new__\u001b[0;34m(cls, data)\u001b[0m\n\u001b[1;32m    510\u001b[0m             \u001b[0;32mreturn\u001b[0m \u001b[0mPeriodProperties\u001b[0m\u001b[0;34m(\u001b[0m\u001b[0mdata\u001b[0m\u001b[0;34m,\u001b[0m \u001b[0morig\u001b[0m\u001b[0;34m)\u001b[0m\u001b[0;34m\u001b[0m\u001b[0;34m\u001b[0m\u001b[0m\n\u001b[1;32m    511\u001b[0m \u001b[0;34m\u001b[0m\u001b[0m\n\u001b[0;32m--> 512\u001b[0;31m         \u001b[0;32mraise\u001b[0m \u001b[0mAttributeError\u001b[0m\u001b[0;34m(\u001b[0m\u001b[0;34m\"Can only use .dt accessor with datetimelike values\"\u001b[0m\u001b[0;34m)\u001b[0m\u001b[0;34m\u001b[0m\u001b[0;34m\u001b[0m\u001b[0m\n\u001b[0m",
            "\u001b[0;31mAttributeError\u001b[0m: Can only use .dt accessor with datetimelike values"
          ]
        }
      ],
      "source": [
        "TestAndDisplayResults(\"FANG\",\"MSC\",3,2,1)"
      ]
    },
    {
      "cell_type": "markdown",
      "metadata": {
        "id": "g6QkxCGpw8wL"
      },
      "source": [
        "#### print(LENGTH*\"*\")        \n",
        "print('Fw tests complete...Time elapsed (hh:mm:ss.ms) {}'.format(datetime.now() - start_time))\n",
        "print(LENGTH*\"*\")\n",
        "\n"
      ]
    },
    {
      "cell_type": "markdown",
      "metadata": {
        "tags": [],
        "id": "iJHWzQ-Fw8wL"
      },
      "source": [
        "### PRINT RESULTS TO STREAM AND FILES <a name=\"print_results\"></a>"
      ]
    },
    {
      "cell_type": "code",
      "execution_count": null,
      "metadata": {
        "id": "N5okJJaMw8wL"
      },
      "outputs": [],
      "source": []
    },
    {
      "cell_type": "code",
      "execution_count": 23,
      "metadata": {
        "id": "H7AVbwbJw8wL",
        "outputId": "1857a2ca-0fcc-4cd9-f90d-e57a1764d535",
        "colab": {
          "base_uri": "https://localhost:8080/",
          "height": 366
        }
      },
      "outputs": [
        {
          "output_type": "stream",
          "name": "stdout",
          "text": [
            "CPU times: user 1 µs, sys: 0 ns, total: 1 µs\n",
            "Wall time: 5.01 µs\n",
            "MSC Strategy applied to below assets with following performance:\n",
            "----------------------------------------------------------------\n",
            "Empty DataFrame\n",
            "Columns: [Stock, IR, Str_Sharpe, MDD, Str_Returns]\n",
            "Index: []\n"
          ]
        },
        {
          "output_type": "error",
          "ename": "FileNotFoundError",
          "evalue": "ignored",
          "traceback": [
            "\u001b[0;31m---------------------------------------------------------------------------\u001b[0m",
            "\u001b[0;31mFileNotFoundError\u001b[0m                         Traceback (most recent call last)",
            "\u001b[0;32m<ipython-input-23-da0ba4e61b14>\u001b[0m in \u001b[0;36m<cell line: 26>\u001b[0;34m()\u001b[0m\n\u001b[1;32m     24\u001b[0m \u001b[0;34m\u001b[0m\u001b[0m\n\u001b[1;32m     25\u001b[0m \u001b[0mprint\u001b[0m\u001b[0;34m(\u001b[0m\u001b[0msorted\u001b[0m\u001b[0;34m)\u001b[0m\u001b[0;34m\u001b[0m\u001b[0;34m\u001b[0m\u001b[0m\n\u001b[0;32m---> 26\u001b[0;31m \u001b[0mos\u001b[0m\u001b[0;34m.\u001b[0m\u001b[0mchdir\u001b[0m\u001b[0;34m(\u001b[0m\u001b[0mworking_dir\u001b[0m\u001b[0;34m+\u001b[0m\u001b[0;34m\"MR_Portfolios\"\u001b[0m\u001b[0;34m)\u001b[0m\u001b[0;34m\u001b[0m\u001b[0;34m\u001b[0m\u001b[0m\n\u001b[0m\u001b[1;32m     27\u001b[0m \u001b[0msorted\u001b[0m\u001b[0;34m.\u001b[0m\u001b[0mto_csv\u001b[0m\u001b[0;34m(\u001b[0m\u001b[0mfilename1\u001b[0m\u001b[0;34m)\u001b[0m\u001b[0;34m\u001b[0m\u001b[0;34m\u001b[0m\u001b[0m\n\u001b[1;32m     28\u001b[0m \u001b[0;34m\u001b[0m\u001b[0m\n",
            "\u001b[0;31mFileNotFoundError\u001b[0m: [Errno 2] No such file or directory: '/Users/alperulku/EPAT-99-FINAL PROJECT/EPAT PROJECT WORK/MR_Portfolios'"
          ]
        }
      ],
      "source": [
        "%time\n",
        "\n",
        "results = pd.DataFrame({'Stock':stock_name, 'Strategy' : strats, 'IR': Information_Ratios, 'Signal': COMMANDS, 'MDD': MDDs, 'R_Skew': R_Skews, 'Delta Skew': DELTA_SKEWs, 'R_Std_Dev' :R_Std_Devs, 'Str_R_Skew': Str_R_Skews, 'R_Sharpe': R_Sharpes, 'Str_Sharpe': sharpes, 'Returns ':returns, 'Str_Returns':str_returns,  'NHR':nhrs,\n",
        "                        'SumLast10Signals':Last_signal_Sum10, 'SMAs':SMAs, 'LMAs':LMAs, 'TP': AWRs, 'SL': ALRs, 'KellyR': Kellys, 'W:L': WinOverLoss, 'SharpeOverMDD': SharpeOverMDD   })\n",
        "\n",
        "from datetime import date, timedelta\n",
        "\n",
        "print('MSC Strategy applied to below assets with following performance:')\n",
        "print(LENGTH * '-')\n",
        "\n",
        "filename1 = f\"01_MR-{END_DATE}_BackTest.csv\"\n",
        "\n",
        "# sorted = results[(results['Delta Skew'] > 0.0) ].sort_values(by=[ 'Delta Skew', 'IR', 'R_Skew', 'R_Std_Dev'], ascending=[False,False,False,True]).reset_index(drop=True)\n",
        "#sorted = results[(results['Delta Skew'] > 0.0) ].sort_values(by=[ 'Delta Skew'], ascending=[False]).reset_index(drop=True)\n",
        "\n",
        "\n",
        "sorted = results[['Stock','IR','Str_Sharpe','MDD','Str_Returns']].sort_values(by=[ 'IR'], ascending=[False]).head(20).reset_index(drop=True)\n",
        "\n",
        "#sorted = results[(results['R_Std_Dev'] < 0.05) & (results['Delta Skew'] > 0.0)].sort_values(by=[ 'Signal', 'IR', 'R_Skew', 'R_Std_Dev'], ascending=[False,False,False,True]).reset_index(drop=True)\n",
        "#sorted = results[(results['Str_R_Skew'] > 0.14)].sort_values(by=[ 'Signal', 'Delta Skew'], ascending=[False,False]).reset_index(drop=True)\n",
        "#sorted = results.sort_values(by=['IR'], ascending=[False]).reset_index(drop=True)\n",
        "#sorted = results.sort_values(by=['Delta Skew'], ascending=[False]).reset_index(drop=True)\n",
        "#sorted = results.sort_values(by=[ 'MDD', 'Str_R_Skew'], ascending=[True,True]).reset_index(drop=True)\n",
        "\n",
        "print(sorted)\n",
        "#os.chdir(working_dir+\"MR_Portfolios\")\n",
        "sorted.to_csv(filename1)\n",
        "\n",
        "print(LENGTH * '-')\n",
        "print(f\"Data written to {filename1}\")\n",
        "print(LENGTH * '%')\n",
        "sorted = results.sort_values(by=[ 'Str_Returns'], ascending=[False]).reset_index(drop=True)\n",
        "TR_TOP_TEN = sorted.Stock\n",
        "\n",
        "print(LENGTH*\"*\")\n",
        "#print('Backtests complete...Time elapsed (hh:mm:ss.ms) {}'.format(datetime.today() - start_time))\n",
        "print(LENGTH*\"*\")\n",
        "\n",
        "\n",
        "\n",
        "%time\n",
        "\n",
        "filename1 = f\"01_MR-{END_DATE}_FwTest.csv\"\n",
        "\n",
        "# SORTING VALUES AGAINST A COLUMN VALUE LIMIT\n",
        "\n",
        "sorted2 = sorted[ (sorted['IR'] > 1) &\n",
        "                  (sorted['R_Std_Dev'] < 0.027) &\n",
        "                  (sorted['Str_Sharpe'] > 1) &\n",
        "                  (sorted['Str_R_Skew'] > 0.0) &\n",
        "                  (sorted['Delta Skew'] > 0.0) &\n",
        "                  (sorted['W:L'] > 1) &\n",
        "                  (sorted['Signal'] != 'HOLD') &\n",
        "                  (sorted['Signal'] != 'SELL') &\n",
        "                  (sorted['SharpeOverMDD'] > 1) &\n",
        "                  (sorted['MDD'] < 0.15) &\n",
        "                  #(sorted['Signal'] != 'STRONG SELL')].sort_values(by=[ 'SharpeOverMDD'], ascending=[False]).reset_index(drop=True)\n",
        "                  (sorted['Signal'] != 'STRONG SELL')].sort_values(by=[ 'IR'], ascending=[False]).reset_index(drop=True)\n",
        "\n",
        "#sorted = results.sort_values(by=[ 'Signal', 'Delta Skew'], ascending=[False,False]).reset_index(drop=True)\n",
        "#sorted = results.sort_values(by=[ 'MDD', 'Delta Skew'], ascending=[True,False]).reset_index(drop=True)\n",
        "\n",
        "\n",
        "print(sorted2)\n",
        "BIST_Top_22 = sorted2.Stock\n",
        "\n",
        "os.chdir(working_dir+\"MR_Portfolios\")\n",
        "sorted2.to_csv(filename1)\n",
        "print(LENGTH * '-')\n",
        "print(f\"Data written to {filename1}\")\n",
        "print(LENGTH * '%')\n",
        "\n",
        "# with open(writePath, 'a') as f:\n",
        "#     dfAsString = df.to_string(header=False, index=False)\n",
        "#     f.write(dfAsString)\n",
        "\n"
      ]
    },
    {
      "cell_type": "code",
      "execution_count": null,
      "metadata": {
        "id": "gXCsVv_aw8wL"
      },
      "outputs": [],
      "source": [
        "# import datetime\n",
        "# print(LENGTH*\"*\")\n",
        "# print('Fw testing complete...Time elapsed (hh:mm:ss.ms) {}'.format(datetime.now() - start_time))\n",
        "# print(LENGTH*\"*\")\n",
        "# start_time = datetime.now()"
      ]
    },
    {
      "cell_type": "code",
      "execution_count": null,
      "metadata": {
        "id": "Q6ZitF7Hw8wL"
      },
      "outputs": [],
      "source": [
        "# ENUMARATION OF ALL CSV IN A DIRECTORY\n",
        "\n",
        "# from collections import defaultdict\n",
        "# from itertools import count\n",
        "# from functools import partial\n",
        "\n",
        "# label_to_number = defaultdict(partial(next, count(1)))\n",
        "# [(label_to_number[label], label) for label in stock_list]\n",
        "\n",
        "# LISTING OF ALL CSV IN A DIRECTORY\n",
        "\n",
        "# os.chdir(f\"/Users/alperulku/EPAT-99-FINAL PROJECT/EPAT PROJECT WORK/BIST100\")\n",
        "# import pandas as pd\n",
        "# import os\n",
        "# all_csv = [file_name for file_name in os.listdir(os.getcwd()) if '.csv' in file_name]\n",
        "# all_csv"
      ]
    },
    {
      "cell_type": "markdown",
      "metadata": {
        "tags": [],
        "id": "nUCxQtqow8wL"
      },
      "source": [
        "### MY CURRENT PORTFOLIO PERFORMANCE <a name=\"my_pf_perf\"></a>"
      ]
    },
    {
      "cell_type": "code",
      "execution_count": null,
      "metadata": {
        "id": "bKq5yYBBw8wL"
      },
      "outputs": [],
      "source": [
        "'''\n",
        "UTILITY U=003 : SET_PORTFOLIO_PROPERTIES\n",
        "--------------------------------------------\n",
        "- SETS desired assets names\n",
        "- SETS number of shares for each asset\n",
        "- SETS extra cash value\n",
        "- PRINTS these as a table\n",
        "'''\n",
        "import pandas as pd\n",
        "Portfolio_Assets = [ \"TSLA\", \"AMZN\", \"GOOGL\" ]\n",
        "#Portfolio_Assets = stock_list\n",
        "#Portfolio_Shares = [  2846, 12.363, 2000]\n",
        "#Cash_Plus_MFs = 196000 # cash + fon + temettü\n",
        "#new_df = pd.Series(Portfolio_Shares, Portfolio_Assets)\n",
        "#print(new_df)\n"
      ]
    },
    {
      "cell_type": "code",
      "execution_count": null,
      "metadata": {
        "id": "KFU-DIjJw8wL"
      },
      "outputs": [],
      "source": [
        "'''\n",
        "UTILITY U=001 : CSV_MERGER\n",
        "--------------------------------------------\n",
        "- READS desired assets from csv files\n",
        "- APPENDS the 'close' columns required in a single df name `li`\n",
        "- DROPS NA rows\n",
        "'''\n",
        "import pandas as pd\n",
        "li = pd.DataFrame() # my real portfolio dataframe\n",
        "\n",
        "rets = pd.DataFrame()\n",
        "\n",
        "names = []\n",
        "count = len(Portfolio_Assets)\n",
        "\n",
        "os.chdir(working_dir+\"BIST100\")\n",
        "#for file in sorted2.Stock:\n",
        "for file in Portfolio_Assets:\n",
        "    df = pd.read_csv(f\"{file}.csv\", index_col='Date', parse_dates=True, keep_date_col = True, infer_datetime_format=True, dayfirst=True)\n",
        "    li = pd.concat([li,df['Close']],axis=1) #, ignore_index=False)\n",
        "    st_name = file.split('.',maxsplit = 1)\n",
        "    names.append(st_name[0])\n",
        "\n",
        "li.columns = names\n",
        "li = li.dropna()\n",
        "\n",
        "\n",
        "\n",
        "\n",
        "\n",
        "\n",
        "\n"
      ]
    },
    {
      "cell_type": "code",
      "execution_count": null,
      "metadata": {
        "id": "Wqw0GrHbw8wL"
      },
      "outputs": [],
      "source": [
        "names"
      ]
    },
    {
      "cell_type": "code",
      "execution_count": null,
      "metadata": {
        "id": "N1sW1V1Xw8wL"
      },
      "outputs": [],
      "source": [
        "li"
      ]
    },
    {
      "cell_type": "code",
      "execution_count": null,
      "metadata": {
        "id": "QDC2Mvmgw8wL"
      },
      "outputs": [],
      "source": [
        "li = li.rename_axis(index=\"Date\")\n",
        "li\n"
      ]
    },
    {
      "cell_type": "code",
      "execution_count": null,
      "metadata": {
        "id": "Pb6EVRlLw8wL"
      },
      "outputs": [],
      "source": [
        "sorted = li.sort_values(by=['Date'], ascending=[False])\n",
        "sorted.to_csv('BIST_22.csv')\n",
        "sorted"
      ]
    },
    {
      "cell_type": "code",
      "execution_count": null,
      "metadata": {
        "id": "U7tWmq1sw8wS"
      },
      "outputs": [],
      "source": [
        "# '''\n",
        "# UTILITY U=002 : PORTFOLIO_CALCULATOR\n",
        "# --------------------------------------------\n",
        "# - READS column of individual assets\n",
        "# - CALCULATES the portfolio value as `li[Portfolio]` appended to df `li`\n",
        "# - CALCULATES daily log returns for every column of li and writes to `rets`\n",
        "# - CALCULATES daily PF Index and writes to `li[Portfolio_Index] and normal daily returns and writes to `li[PF_Returns]`\n",
        "# - PRINTS the tear sheet of varios statistics\n",
        "# '''\n",
        "# import matplotlib.pyplot as plt\n",
        "# import pyfolio as pf\n",
        "# import numpy as np\n",
        "# ADD = 0\n",
        "# for i in np.arange(0,count):\n",
        "#     if names[i] == \"GC=F\" or names[i] == \"^DJI\":\n",
        "#         ADD +=  li[f\"{names[i]}\"] * li[\"TRY=X\"] * Portfolio_Shares[i]\n",
        "#     else:\n",
        "#         ADD +=  li[f\"{names[i]}\"] * Portfolio_Shares[i]\n",
        "\n",
        "# ADD += Cash_Plus_MFs # FONLARI EKLEDIK\n",
        "# #li = pd.concat([li, ADD], axis=1, ignore_index=False)\n",
        "# li['Portfolio'] = ADD\n",
        "# print(f\"Stocks selected = {names}\")\n",
        "# print(f\"Number of stocks selected = {len(names)}\")\n",
        "\n",
        "# for file in li.columns:\n",
        "#     a = np.log(li[f\"{file}\"] / (li[f\"{file}\"].shift(1)))\n",
        "#     rets[f\"{file}\"]= a\n",
        "\n",
        "# print(\" My Portfolio\", li.round(2).tail(30))\n",
        "\n",
        "# print(\" Returns\", rets.round(5).tail(30))\n",
        "\n",
        "# plt.plot(li.Portfolio.tail(99))\n",
        "\n",
        "# # li['Portfolio'] = ADD # cash added\n",
        "# li['Index'] = li['Portfolio'] / li['Portfolio'].iloc[0]\n",
        "# li['PF_Returns'] = ((li['Portfolio']-li['Portfolio'].shift(1)) / li['Portfolio'].shift(1)).fillna(method=\"ffill\").round(6)\n",
        "# li.dropna()\n",
        "\n",
        "# print(f\"********* PORTFOLIO TEARSHEET *************** \")\n",
        "# pf.create_simple_tear_sheet(li['PF_Returns'].dropna())\n",
        "# print(\"********* end of TEARSHEET **************\\n\")\n"
      ]
    },
    {
      "cell_type": "code",
      "execution_count": null,
      "metadata": {
        "id": "hUKjZ9UFw8wS"
      },
      "outputs": [],
      "source": [
        "'''\n",
        "UTILITY U=003A : SET_PORTFOLIO_PROPERTIES\n",
        "--------------------------------------------\n",
        "- SETS desired assets names\n",
        "- SETS number of shares for each asset\n",
        "- SETS extra cash value\n",
        "- EXTRACTS selected assets from 22 MFs\n",
        "- PRINTS these as a table\n",
        "'''\n",
        "\n",
        "Portfolio_Assets = [ \"TSLA\"]\n",
        "Portfolio_Shares = [  607]\n",
        "\n",
        "Ideal_Assets = [\"TGE\", \"AES\", \"NNF\", \"IOG\" ]\n",
        "Ideal_Weights = [ 0.14625, 0.40809, 0.3908, 0.05487 ]\n",
        "\n",
        "\n",
        "Cash_Plus_MFs = 0\n",
        "pf = li.loc[:,Portfolio_Assets]\n",
        "pf['PF_Value'] = np.round(np.dot(pf,Portfolio_Shares),2)  # PF_VALUE = dot product of shares and their prices !!!!\n",
        "new_df = pd.Series(Portfolio_Shares, Portfolio_Assets)\n",
        "print(new_df)"
      ]
    },
    {
      "cell_type": "code",
      "execution_count": null,
      "metadata": {
        "id": "XGOm5fgXw8wS"
      },
      "outputs": [],
      "source": [
        "InitialPrices = pf.iloc[0,:]\n",
        "print(f\"\\n Initial prices: \\n{InitialPrices} \\n\")"
      ]
    },
    {
      "cell_type": "code",
      "execution_count": null,
      "metadata": {
        "id": "1oklRfvEw8wS"
      },
      "outputs": [],
      "source": [
        "pf.tail(20)"
      ]
    },
    {
      "cell_type": "code",
      "execution_count": null,
      "metadata": {
        "id": "ak6hvTwnw8wS"
      },
      "outputs": [],
      "source": [
        "'''\n",
        "UTILITY U=012 : SHARPE_CALCULATOR\n",
        "--------------------------------------------\n",
        "- CALCULATES mean return, std dev and sharpe for a PF\n",
        "\n",
        "'''\n",
        "\n",
        "pf['Returns'] = (pf.PF_Value / pf.PF_Value.shift(1))-1\n",
        "MeanReturn =  np.round(100*pf.Returns.mean(),3)\n",
        "print(f\"Mean Strategy Return = % {MeanReturn}\")\n",
        "StandardDeviation =  np.round( pf.Returns.std()*100,3)\n",
        "print(f\"Std dev of Returns = % {StandardDeviation}\")\n",
        "\n",
        "Rf_daily = 0.25/252\n",
        "Sharpe = np.round(((MeanReturn - Rf_daily) / StandardDeviation)*np.sqrt(252),5)\n",
        "print(f\"Sharpe = {Sharpe}\")\n",
        "pf\n"
      ]
    },
    {
      "cell_type": "markdown",
      "metadata": {
        "tags": [],
        "id": "pl-ijDYfw8wS"
      },
      "source": [
        "### PORTFOLIO TEARSHEET  <a name=\"pf_tearsheet\"></a>"
      ]
    },
    {
      "cell_type": "code",
      "execution_count": null,
      "metadata": {
        "id": "NEiurwZUw8wS"
      },
      "outputs": [],
      "source": [
        "import pyfolio as py\n",
        "print(f\"********* PORTFOLIO TEARSHEET *************** \")\n",
        "py.create_returns_tear_sheet(pf['Returns'])\n",
        "print(\"********* end of TEARSHEET **************\\n\")"
      ]
    },
    {
      "cell_type": "code",
      "execution_count": null,
      "metadata": {
        "id": "KreOhhusw8wS"
      },
      "outputs": [],
      "source": [
        "'''\n",
        "UTILITY U=016 : OPTIMUM PF_MARKOVITZ PART 1\n",
        "--------------------------------------------\n",
        "- FINDS daily percentage change of 22 assets of last 66 days as `rets`\n",
        "- FORMS the mr matrix with returns, dropping 1st NA row\n",
        "- CALCULATES mean returns as r and covariance as C\n",
        "- PRINTS individual asset returns and std deviations\n",
        "'''\n",
        "\n",
        "rets = li.pct_change()\n",
        "rets\n",
        "#li.set_index('Date', inplace=True)\n",
        "days = 66\n",
        "mr = rets\n",
        "mr.index = pd.to_datetime(li.index)\n",
        "mr = mr[-days:].dropna()\n",
        "#mr = mr.resample('1M').mean()\n",
        "\n",
        "#mr.drop(mr.columns[[-1, -2, -3]], axis = 1, inplace = True)\n",
        "#mr.round(5).tail(20)\n",
        "mr\n",
        "\n",
        "symbols = mr.columns\n",
        "n= len(symbols)\n",
        "symbols, n\n",
        "return_data = mr.T # form the return matrix as transposed\n",
        "return_data\n",
        "\n",
        "# compute sum of daily returns and covariance matrix\n",
        "r = np.asarray(np.sum(return_data, axis=1))\n",
        "C = np.asmatrix(np.cov(return_data))\n",
        "\n",
        "\n",
        "print (\"------- RETURNS OF LAST 3 MOS and STD DEVIATIONS ---------------\")\n",
        "for j in range(len(symbols)):\n",
        "    print (f\"{symbols[j]}\\t\",\"Returns={0:.1%}\\t\".format(r[j]), \"Stdev={0:.1%}\".format(C[j,j]**0.5))\n",
        "\n",
        "\n"
      ]
    },
    {
      "cell_type": "code",
      "execution_count": null,
      "metadata": {
        "id": "KxZInQS4w8wS"
      },
      "outputs": [],
      "source": [
        "'''\n",
        "UTILITY U=016 : OPTIMUM PF_MARKOVITZ PART 2\n",
        "--------------------------------------------\n",
        "- CALLS cvxpy package for solver\n",
        "- CALCULATES risk matrix\n",
        "'''\n",
        "\n",
        "\n",
        "import cvxpy as cp\n",
        "n = len(symbols)\n",
        "x = cp.Variable(n)\n",
        "#x = [ .1,  0.2 , 0.7]\n",
        "\n",
        "ret = r.T*x\n",
        "risk = cp.quad_form(x, C)\n",
        "#std_dev = np.sqrt(risk.value)\n",
        "\n"
      ]
    },
    {
      "cell_type": "code",
      "execution_count": null,
      "metadata": {
        "id": "4zFx3nMtw8wS"
      },
      "outputs": [],
      "source": [
        "'''\n",
        "UTILITY U=016 : OPTIMUM PF_MARKOVITZ PART 3\n",
        "--------------------------------------------\n",
        "- GETS prob as input problem\n",
        "- SOLVES the minimization problem\n",
        "'''\n",
        "\n",
        "\n",
        "# req_return = 0.57\n",
        "# arrange so that std dev is % 1.618\n",
        "#prob = cp.Problem(cp.Minimize(risk), [cp.sum(x) == 1.0, ret >= req_return, x >= 0])\n",
        "# prob = cp.Problem(cp.Minimize(risk), [cp.sum(x) == 1.0, ret >= req_return, x >= 0])\n",
        "\n",
        "# prob.solve()\n",
        "# print (60*\"-\")\n",
        "# print (\"Optimal portfolio\")\n",
        "# print (60*\"-\")\n",
        "# print (f\"{symbols}\")\n",
        "# print (f\"Weights = {x.value}\\n\")\n",
        "# print (60*\"-\")\n",
        "# print (\"Exp ret =  {0:.1%}\".format(ret.value))\n",
        "# print (\"Standard deviation =  {0:.6%}\".format(risk.value**0.5))\n",
        "# print (60*\"-\")\n",
        "\n",
        "# symbols\n",
        "# index = x.value>=0.001\n",
        "# Portfolio_Weights = x.value[index].round(3)\n",
        "# Portfolio_Assets = symbols[index]\n",
        "# Portfolio_Amounts = Portfolio_Weights*30000\n",
        "\n",
        "# [int(num) for num in Portfolio_Amounts]\n",
        "\n",
        "\n",
        "# BEST_PF = pd.Series(Portfolio_Weights*100, Portfolio_Assets)\n",
        "# print(\"% weights of BEST PF\")\n",
        "# print (60*\"-\")\n",
        "# BEST_PF"
      ]
    },
    {
      "cell_type": "markdown",
      "metadata": {
        "tags": [],
        "id": "Qx3vSFR6w8wS"
      },
      "source": [
        "### AN ALTERNATIVE OPTIMUM PORTFOLIO <a name=\"alternative_pf\"></a>"
      ]
    },
    {
      "cell_type": "code",
      "execution_count": null,
      "metadata": {
        "id": "8BtBw2YOw8wS"
      },
      "outputs": [],
      "source": [
        "# Portfolio_Weights\n",
        "# Portfolio_Assets\n",
        "# Portfolio_Amounts\n",
        "# pd.Series(np.round(Portfolio_Amounts,0), Portfolio_Assets)\n"
      ]
    },
    {
      "cell_type": "markdown",
      "metadata": {
        "tags": [],
        "id": "XuQflB-rw8wS"
      },
      "source": [
        "### OPTIONS TRADING CALCULATIONS <a name=\"options\"></a>"
      ]
    },
    {
      "cell_type": "markdown",
      "metadata": {
        "tags": [],
        "id": "OCJd7HIow8wT"
      },
      "source": [
        "#### Bull Call Spread Payoff"
      ]
    },
    {
      "cell_type": "code",
      "execution_count": null,
      "metadata": {
        "id": "tLpmgNM4w8wT"
      },
      "outputs": [],
      "source": [
        "import numpy as np\n",
        "import matplotlib.pyplot as plt\n",
        "# For making an attractive and informative statistical graph\n",
        "plt.style.use('seaborn-darkgrid')"
      ]
    },
    {
      "cell_type": "code",
      "execution_count": null,
      "metadata": {
        "id": "_0lP7u6kw8wT"
      },
      "outputs": [],
      "source": [
        "def call_payoff(sT, strike_price, premium):\n",
        "    return np.where(sT > strike_price, sT - strike_price, 0) - premium"
      ]
    },
    {
      "cell_type": "code",
      "execution_count": null,
      "metadata": {
        "id": "vUCGkDgbw8wT"
      },
      "outputs": [],
      "source": [
        "# Infosys stock price\n",
        "factor = 1\n",
        "spot_price = 900/factor\n",
        "\n",
        "# Long call\n",
        "strike_price_long_call = 920/factor\n",
        "\n",
        "\n",
        "premium_long_call = 15/factor\n",
        "\n",
        "\n",
        "# Short call\n",
        "strike_price_short_call = 940/factor\n",
        "premium_short_call = 10/factor\n",
        "\n",
        "# Stock price range at expiration of the call\n",
        "sT = np.arange(0.95*spot_price, 1.1*spot_price, 1)"
      ]
    },
    {
      "cell_type": "code",
      "execution_count": null,
      "metadata": {
        "id": "WAuXGrx3w8wT"
      },
      "outputs": [],
      "source": [
        "payoff_long_call = call_payoff(sT, strike_price_long_call, premium_long_call)\n",
        "# Plot\n",
        "fig, ax = plt.subplots(figsize=(8, 5))\n",
        "ax.spines['bottom'].set_position('zero')\n",
        "ax.plot(sT, payoff_long_call, label='Long 920 Strike Call', color='g')\n",
        "plt.xlabel('Infosys Stock Price')\n",
        "plt.ylabel('Profit and loss')\n",
        "plt.legend()\n",
        "plt.show()"
      ]
    },
    {
      "cell_type": "code",
      "execution_count": null,
      "metadata": {
        "id": "Bl4HSLlhw8wT"
      },
      "outputs": [],
      "source": [
        "payoff_short_call = call_payoff(\n",
        "    sT, strike_price_short_call, premium_short_call) * -1.0\n",
        "\n",
        "# Plot\n",
        "fig, ax = plt.subplots(figsize=(8, 5))\n",
        "ax.spines['bottom'].set_position('zero')\n",
        "ax.plot(sT, payoff_short_call, label='Short 940 Strike Call', color='r')\n",
        "plt.xlabel('Infosys Stock Price')\n",
        "plt.ylabel('Profit and loss')\n",
        "plt.legend()\n",
        "plt.show()"
      ]
    },
    {
      "cell_type": "code",
      "execution_count": null,
      "metadata": {
        "id": "SIa4Aic5w8wT"
      },
      "outputs": [],
      "source": [
        "payoff_bull_call_spread = payoff_long_call + payoff_short_call\n",
        "\n",
        "print(\"Max Profit:\", max(payoff_bull_call_spread))\n",
        "print(\"Max Loss:\", min(payoff_bull_call_spread))\n",
        "\n",
        "# Plot\n",
        "fig, ax = plt.subplots(figsize=(8, 5))\n",
        "ax.spines['bottom'].set_position('zero')\n",
        "ax.plot(sT, payoff_long_call, '--', label='Long 920 Strike Call', color='g')\n",
        "ax.plot(sT, payoff_short_call, '--', label='Short 940 Strike Call ', color='r')\n",
        "ax.plot(sT, payoff_bull_call_spread, label='Bull Call Spread')\n",
        "plt.xlabel('Infosys Stock Price')\n",
        "plt.ylabel('Profit and loss')\n",
        "plt.legend()\n",
        "plt.show()"
      ]
    },
    {
      "cell_type": "markdown",
      "metadata": {
        "tags": [],
        "id": "Iw6CHShgw8wT"
      },
      "source": [
        "#### Bear put spread"
      ]
    },
    {
      "cell_type": "code",
      "execution_count": null,
      "metadata": {
        "id": "4T0mj2Edw8wT"
      },
      "outputs": [],
      "source": [
        "def put_payoff(sT, strike_price, premium):\n",
        "    return np.where(sT < strike_price, strike_price - sT, 0) - premium"
      ]
    },
    {
      "cell_type": "code",
      "execution_count": null,
      "metadata": {
        "id": "WIw_q4Yuw8wT"
      },
      "outputs": [],
      "source": [
        "# Infosys stock price\n",
        "spot_price = 900\n",
        "\n",
        "# Long put\n",
        "strike_price_long_put = 880\n",
        "premium_long_put = 15\n",
        "\n",
        "# Short put\n",
        "strike_price_short_put = 860\n",
        "premium_short_put = 10\n",
        "\n",
        "# Stock price range at expiration of the put\n",
        "sT = np.arange(0.9*spot_price,1.05*spot_price,1)"
      ]
    },
    {
      "cell_type": "code",
      "execution_count": null,
      "metadata": {
        "id": "lJlddzUUw8wT"
      },
      "outputs": [],
      "source": [
        "payoff_long_put = put_payoff(sT, strike_price_long_put, premium_long_put)\n",
        "# Plot\n",
        "fig, ax = plt.subplots(figsize=(8,5))\n",
        "ax.spines['bottom'].set_position('zero')\n",
        "ax.plot(sT,payoff_long_put,label='Long 880 Strike Put',color='g')\n",
        "plt.xlabel('Infosys Stock Price')\n",
        "plt.ylabel('Profit and loss')\n",
        "plt.legend()\n",
        "plt.show()"
      ]
    },
    {
      "cell_type": "code",
      "execution_count": null,
      "metadata": {
        "id": "ycmXO7Chw8wT"
      },
      "outputs": [],
      "source": [
        "payoff_short_put = put_payoff(sT, strike_price_short_put, premium_short_put) * -1.0\n",
        "# Plot\n",
        "fig, ax = plt.subplots(figsize=(8,5))\n",
        "ax.spines['bottom'].set_position('zero')\n",
        "ax.plot(sT,payoff_short_put,label='Short 860 Strike Put',color='r')\n",
        "plt.xlabel('Infosys Stock Price')\n",
        "plt.ylabel('Profit and loss')\n",
        "plt.legend()\n",
        "plt.show()"
      ]
    },
    {
      "cell_type": "code",
      "execution_count": null,
      "metadata": {
        "id": "c7F5LTuYw8wT"
      },
      "outputs": [],
      "source": [
        "payoff_bear_put_spread = payoff_long_put + payoff_short_put\n",
        "\n",
        "print (\"Max Profit:\", max(payoff_bear_put_spread))\n",
        "print (\"Max Loss:\", min(payoff_bear_put_spread))\n",
        "\n",
        "# Plot\n",
        "fig, ax = plt.subplots(figsize=(8,5))\n",
        "ax.spines['bottom'].set_position('zero')\n",
        "ax.plot(sT,payoff_long_put,'--',label='Long 880 Strike Put',color='g')\n",
        "ax.plot(sT,payoff_short_put,'--',label='Short 860 Strike Put',color='r')\n",
        "ax.plot(sT,payoff_bear_put_spread,label='Bear Put Spread')\n",
        "plt.xlabel('Infosys Stock Price')\n",
        "plt.ylabel('Profit and loss')\n",
        "plt.legend()\n",
        "plt.show()"
      ]
    },
    {
      "cell_type": "markdown",
      "metadata": {
        "tags": [],
        "id": "uhcgEPc6w8wT"
      },
      "source": [
        "#### Protective put"
      ]
    },
    {
      "cell_type": "code",
      "execution_count": null,
      "metadata": {
        "id": "hciP_eGFw8wT"
      },
      "outputs": [],
      "source": [
        "def put_payoff(sT, strike_price, premium):\n",
        "\n",
        "    return np.where(sT < strike_price, strike_price - sT, 0) - premium"
      ]
    },
    {
      "cell_type": "code",
      "execution_count": null,
      "metadata": {
        "id": "UONzKMntw8wT"
      },
      "outputs": [],
      "source": [
        "# Auro Pharma stock price\n",
        "spot_price = 700\n",
        "\n",
        "# Auro Pharma stock purchase price\n",
        "stock_purchase_price = 700\n",
        "\n",
        "# Long put\n",
        "strike_price_long_put = 700\n",
        "premium_long_put = 20\n",
        "\n",
        "# Stock price range at expiration of the put\n",
        "sT = np.arange(0.9*spot_price,1.1*spot_price,1)"
      ]
    },
    {
      "cell_type": "code",
      "execution_count": null,
      "metadata": {
        "id": "NTSoXZGvw8wT"
      },
      "outputs": [],
      "source": [
        "payoff_long_put = put_payoff(sT, strike_price_long_put, premium_long_put)\n",
        "# Plot\n",
        "fig, ax = plt.subplots(figsize=(8,5))\n",
        "ax.spines['bottom'].set_position('zero')\n",
        "ax.plot(sT,payoff_long_put,label='Long 700 Strike Put',color='r')\n",
        "plt.xlabel('Auro Pharma Stock Price')\n",
        "plt.ylabel('Profit and loss')\n",
        "plt.legend()\n",
        "plt.show()"
      ]
    },
    {
      "cell_type": "code",
      "execution_count": null,
      "metadata": {
        "id": "rDDbVDORw8wU"
      },
      "outputs": [],
      "source": [
        "payoff_auro_pharma_stock = sT - stock_purchase_price\n",
        "# Plot\n",
        "fig, ax = plt.subplots(figsize=(8,5))\n",
        "ax.spines['bottom'].set_position('zero')\n",
        "ax.plot(sT,payoff_auro_pharma_stock,label='Long Auro Pharma Stock',color='g')\n",
        "plt.xlabel('Auro Pharma Stock Price')\n",
        "plt.ylabel('Profit and loss')\n",
        "plt.legend()\n",
        "plt.show()"
      ]
    },
    {
      "cell_type": "code",
      "execution_count": null,
      "metadata": {
        "id": "JNyYdx8-w8wU"
      },
      "outputs": [],
      "source": [
        "payoff_protective_put = payoff_auro_pharma_stock + payoff_long_put\n",
        "\n",
        "# Plot\n",
        "fig, ax = plt.subplots(figsize=(8,5))\n",
        "ax.spines['bottom'].set_position('zero')\n",
        "ax.plot(sT,payoff_auro_pharma_stock,'--',label='Long Auro Pharma Stock',color='g')\n",
        "ax.plot(sT,payoff_long_put,'--',label='Long 700 Strike Put',color='r')\n",
        "ax.plot(sT,payoff_protective_put,label='Protective Put')\n",
        "plt.xlabel('Auro Pharma Stock Price')\n",
        "plt.ylabel('Profit and loss')\n",
        "plt.legend()\n",
        "plt.show()"
      ]
    },
    {
      "cell_type": "markdown",
      "metadata": {
        "tags": [],
        "id": "WTJct0gow8wU"
      },
      "source": [
        "#### Covered call"
      ]
    },
    {
      "cell_type": "code",
      "execution_count": null,
      "metadata": {
        "id": "_TOQ_Eqcw8wU"
      },
      "outputs": [],
      "source": [
        "def call_payoff(sT, strike_price, premium):\n",
        "    return np.where(sT > strike_price, sT - strike_price, 0) - premium"
      ]
    },
    {
      "cell_type": "code",
      "execution_count": null,
      "metadata": {
        "id": "FhRoWm4Ow8wU"
      },
      "outputs": [],
      "source": [
        "# Wipro stock price\n",
        "spot_price = 300\n",
        "\n",
        "# Short call\n",
        "strike_price_short_call = 300\n",
        "premium_short_call = 10\n",
        "\n",
        "# Stock price range at expiration of the call\n",
        "sT = np.arange(0.9*spot_price,1.1*spot_price,1)"
      ]
    },
    {
      "cell_type": "code",
      "execution_count": null,
      "metadata": {
        "id": "7-vfR4gZw8wU"
      },
      "outputs": [],
      "source": [
        "payoff_wipro_stock = sT-300\n",
        "fig, ax = plt.subplots(figsize=(8,5))\n",
        "ax.spines['bottom'].set_position('zero')\n",
        "ax.plot(sT,payoff_wipro_stock,label='Wipro Stock Payoff',color='g')\n",
        "plt.xlabel('Wipro Stock Price')\n",
        "plt.ylabel('Profit and loss')\n",
        "plt.legend()\n",
        "plt.show()"
      ]
    },
    {
      "cell_type": "code",
      "execution_count": null,
      "metadata": {
        "id": "prAGEk3gw8wU"
      },
      "outputs": [],
      "source": [
        "payoff_short_call = call_payoff(sT, strike_price_short_call, premium_short_call) * -1.0\n",
        "# Plot\n",
        "fig, ax = plt.subplots(figsize=(8,5))\n",
        "ax.spines['bottom'].set_position('zero')\n",
        "ax.plot(sT,payoff_short_call,label='Short 300 Strike Call',color='r')\n",
        "plt.xlabel('Wipro Stock Price')\n",
        "plt.ylabel('Profit and loss')\n",
        "plt.legend()\n",
        "plt.show()"
      ]
    },
    {
      "cell_type": "code",
      "execution_count": null,
      "metadata": {
        "id": "epskBpP3w8wU"
      },
      "outputs": [],
      "source": [
        "covered_call_payoff = payoff_wipro_stock + payoff_short_call\n",
        "# Plot\n",
        "fig, ax = plt.subplots(figsize=(8,5))\n",
        "ax.spines['bottom'].set_position('zero')\n",
        "ax.plot(sT,payoff_wipro_stock,'--',label='Long Wipro Stock',color='g')\n",
        "ax.plot(sT,payoff_short_call,'--',label='Short 300 Strike Call ',color='r')\n",
        "ax.plot(sT,covered_call_payoff,label='Covered Call')\n",
        "plt.xlabel('Wipro Stock Price')\n",
        "plt.ylabel('Profit and loss')\n",
        "plt.legend()\n",
        "plt.show()"
      ]
    },
    {
      "cell_type": "markdown",
      "metadata": {
        "id": "OFP8bPUnw8wU"
      },
      "source": [
        "Bu web sitesinden kontrol sagla:"
      ]
    },
    {
      "cell_type": "markdown",
      "metadata": {
        "id": "xzuAn8iLw8wU"
      },
      "source": [
        "https://optioncreator.com/"
      ]
    },
    {
      "cell_type": "markdown",
      "metadata": {
        "id": "ghtHYUhxw8wU"
      },
      "source": [
        "THYAO ve TKIQB.V: https://optioncreator.com/st0rlgz"
      ]
    },
    {
      "cell_type": "markdown",
      "metadata": {
        "id": "j8aNgx1yw8wU"
      },
      "source": [
        "THYAO ve TKIQI.V: https://optioncreator.com/stxr3gf\n"
      ]
    },
    {
      "cell_type": "code",
      "execution_count": null,
      "metadata": {
        "id": "7ObCj9bEw8wU"
      },
      "outputs": [],
      "source": []
    },
    {
      "cell_type": "code",
      "execution_count": null,
      "metadata": {
        "id": "VHhkzXNLw8wU"
      },
      "outputs": [],
      "source": []
    },
    {
      "cell_type": "code",
      "execution_count": null,
      "metadata": {
        "id": "aTH6Bx68w8wU"
      },
      "outputs": [],
      "source": []
    }
  ],
  "metadata": {
    "kernelspec": {
      "display_name": "Python 3 (ipykernel)",
      "language": "python",
      "name": "python3"
    },
    "language_info": {
      "codemirror_mode": {
        "name": "ipython",
        "version": 3
      },
      "file_extension": ".py",
      "mimetype": "text/x-python",
      "name": "python",
      "nbconvert_exporter": "python",
      "pygments_lexer": "ipython3",
      "version": "3.9.12"
    },
    "toc-autonumbering": false,
    "toc-showcode": true,
    "toc-showmarkdowntxt": false,
    "toc-showtags": false,
    "colab": {
      "provenance": [],
      "toc_visible": true,
      "include_colab_link": true
    }
  },
  "nbformat": 4,
  "nbformat_minor": 0
}