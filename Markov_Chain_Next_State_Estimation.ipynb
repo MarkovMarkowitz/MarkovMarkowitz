{
  "nbformat": 4,
  "nbformat_minor": 0,
  "metadata": {
    "colab": {
      "provenance": [],
      "toc_visible": true,
      "authorship_tag": "ABX9TyOY1kTqBJ34ySIvxYM+8C3v",
      "include_colab_link": true
    },
    "kernelspec": {
      "name": "python3",
      "display_name": "Python 3"
    },
    "language_info": {
      "name": "python"
    }
  },
  "cells": [
    {
      "cell_type": "markdown",
      "metadata": {
        "id": "view-in-github",
        "colab_type": "text"
      },
      "source": [
        "<a href=\"https://colab.research.google.com/github/MarkovMarkowitz/MarkovMarkowitz/blob/main/Markov_Chain_Next_State_Estimation.ipynb\" target=\"_parent\"><img src=\"https://colab.research.google.com/assets/colab-badge.svg\" alt=\"Open In Colab\"/></a>"
      ]
    },
    {
      "cell_type": "code",
      "execution_count": 9,
      "metadata": {
        "colab": {
          "base_uri": "https://localhost:8080/"
        },
        "id": "8_rnqlsG8BGs",
        "outputId": "4bb5f906-d78f-4175-f71f-20732e6e9f92"
      },
      "outputs": [
        {
          "output_type": "stream",
          "name": "stdout",
          "text": [
            "Requirement already satisfied: yfinance in /usr/local/lib/python3.10/dist-packages (0.2.25)\n",
            "Requirement already satisfied: pandas>=1.3.0 in /usr/local/lib/python3.10/dist-packages (from yfinance) (1.5.3)\n",
            "Requirement already satisfied: numpy>=1.16.5 in /usr/local/lib/python3.10/dist-packages (from yfinance) (1.22.4)\n",
            "Requirement already satisfied: requests>=2.26 in /usr/local/lib/python3.10/dist-packages (from yfinance) (2.27.1)\n",
            "Requirement already satisfied: multitasking>=0.0.7 in /usr/local/lib/python3.10/dist-packages (from yfinance) (0.0.11)\n",
            "Requirement already satisfied: lxml>=4.9.1 in /usr/local/lib/python3.10/dist-packages (from yfinance) (4.9.3)\n",
            "Requirement already satisfied: appdirs>=1.4.4 in /usr/local/lib/python3.10/dist-packages (from yfinance) (1.4.4)\n",
            "Requirement already satisfied: pytz>=2022.5 in /usr/local/lib/python3.10/dist-packages (from yfinance) (2022.7.1)\n",
            "Requirement already satisfied: frozendict>=2.3.4 in /usr/local/lib/python3.10/dist-packages (from yfinance) (2.3.8)\n",
            "Requirement already satisfied: beautifulsoup4>=4.11.1 in /usr/local/lib/python3.10/dist-packages (from yfinance) (4.11.2)\n",
            "Requirement already satisfied: html5lib>=1.1 in /usr/local/lib/python3.10/dist-packages (from yfinance) (1.1)\n",
            "Requirement already satisfied: soupsieve>1.2 in /usr/local/lib/python3.10/dist-packages (from beautifulsoup4>=4.11.1->yfinance) (2.4.1)\n",
            "Requirement already satisfied: six>=1.9 in /usr/local/lib/python3.10/dist-packages (from html5lib>=1.1->yfinance) (1.16.0)\n",
            "Requirement already satisfied: webencodings in /usr/local/lib/python3.10/dist-packages (from html5lib>=1.1->yfinance) (0.5.1)\n",
            "Requirement already satisfied: python-dateutil>=2.8.1 in /usr/local/lib/python3.10/dist-packages (from pandas>=1.3.0->yfinance) (2.8.2)\n",
            "Requirement already satisfied: urllib3<1.27,>=1.21.1 in /usr/local/lib/python3.10/dist-packages (from requests>=2.26->yfinance) (1.26.16)\n",
            "Requirement already satisfied: certifi>=2017.4.17 in /usr/local/lib/python3.10/dist-packages (from requests>=2.26->yfinance) (2023.7.22)\n",
            "Requirement already satisfied: charset-normalizer~=2.0.0 in /usr/local/lib/python3.10/dist-packages (from requests>=2.26->yfinance) (2.0.12)\n",
            "Requirement already satisfied: idna<4,>=2.5 in /usr/local/lib/python3.10/dist-packages (from requests>=2.26->yfinance) (3.4)\n"
          ]
        }
      ],
      "source": [
        "!pip install yfinance\n",
        "import pandas as pd\n",
        "import numpy as np\n",
        "import yfinance as yf\n",
        "from sklearn.cluster import KMeans\n",
        "\n",
        "# to measure exec time\n",
        "from timeit import default_timer as timer\n",
        "from datetime import date,timedelta\n",
        "from datetime import datetime\n",
        "import time\n",
        "import yfinance as yf\n",
        "\n",
        "start_time = datetime.now()\n",
        "current_date = date.today().isoformat()\n",
        "\n",
        "look_back = 32\n",
        "BACKTEST_PERIOD = 32\n",
        "FW_TEST_PERIOD = 0\n",
        "\n",
        "\n",
        "T0_START = ( date.today() - timedelta( days = look_back))\n",
        "T0_END   = ( T0_START + timedelta( days = BACKTEST_PERIOD ))\n",
        "T1_START = ( T0_END   + timedelta( days = 1 ))\n",
        "T1_END   = ( T1_START + timedelta( days = FW_TEST_PERIOD ))\n",
        "\n",
        "\n",
        "# Download historical market data\n",
        "#data = yf.download('BIMAS.IS',T1_START,T1_END)\n",
        "# Compute daily returns\n",
        "#BIMAS_return = data['Adj Close'].pct_change()\n",
        "#\n",
        "# Compute MArkov Probabilities of current portfolio\n",
        "#ODAS_return  = mypf['ODAS'].pct_change()\n",
        "#QUAGR_return = mypf['QUAGR'].pct_change()\n",
        "#AKSEN_return = mypf['AKSEN'].pct_change()\n",
        "#HEKTS_return = mypf['HEKTS'].pct_change()\n",
        "#PORTFOLIO_return = mypf['My Portfolio'].pct_change()\n",
        "#XU100_return = mypf['XU100'].pct_change()\n",
        "\n",
        "\n",
        "# Define the states\n",
        "#state_bins = [-np.inf, -0.035, -0.025, -0.015, -0.005, 0,  0.005, 0.015, 0.025, 0.035, np.inf]\n",
        "\n",
        "# Drop the first row since it has a NaN return\n",
        "\n",
        "def PredictNextState(datareturns):\n",
        "    state_bins = [-np.inf, 0, np.inf]\n",
        "    datastate = pd.cut(datareturns, bins=state_bins)\n",
        "    # Calculate the transition matrix\n",
        "    transition_matrix = pd.crosstab(datastate, datastate.shift(-1), normalize='index')\n",
        "    # Print the transition matrix\n",
        "    #print(transition_matrix)\n",
        "    current_state = datastate.iloc[-1]\n",
        "    #next_state = np.random.choice(transition_matrix.columns, p=transition_matrix.loc[current_state].values)\n",
        "    next_state = transition_matrix.loc[current_state].idxmax()\n",
        "    #print(f'Predicted next state: {next_state}')\n",
        "    # Print the probabilities of all states\n",
        "    state_probabilities = datastate.value_counts(normalize=True)\n",
        "    print(\"State probabilities:\")\n",
        "    print(state_probabilities)\n",
        "\n",
        "    return next_state\n",
        "\n",
        "def PredictNextStateProbability(datareturns):\n",
        "    state_bins = [-np.inf, 0, np.inf]\n",
        "    datastate = pd.cut(datareturns, bins=state_bins)\n",
        "    # Calculate the transition matrix\n",
        "    transition_matrix = pd.crosstab(datastate, datastate.shift(-1), normalize='index')\n",
        "    # Print the transition matrix\n",
        "    #print(transition_matrix)\n",
        "    current_state = datastate.iloc[-1]\n",
        "    #next_state = np.random.choice(transition_matrix.columns, p=transition_matrix.loc[current_state].values)\n",
        "    next_state = transition_matrix.loc[current_state].idxmax()\n",
        "    #print(f'Predicted next state: {next_state}')\n",
        "    # Print the probabilities of all states\n",
        "    state_probabilities = datastate.value_counts(normalize=True)\n",
        "    print(\"State probabilities:\")\n",
        "    print(state_probabilities)\n",
        "    return state_probabilities[0]\n",
        "\n",
        "\n",
        "\n",
        "# print(\"-------------------------\")\n",
        "# print(f\"Portfolio return will be: {PredictNextState(PORTFOLIO_return)}\")\n",
        "# print(\"-------------------------\")\n",
        "# print(f\"BIMAS return will be: {PredictNextState(BIMAS_return)}\")\n",
        "# print(\"-------------------------\")\n",
        "#print(f\"AKSEN return will be: {PredictNextState(AKSEN_return)}\")\n",
        "#print(f\"QUAGR return will be: {PredictNextState(QUAGR_return)}\")\n",
        "#print(f\"HEKTS return will be: {PredictNextState(HEKTS_return)}\")\n",
        "#print(f\"ODAS return will be:  {PredictNextState(ODAS_return)}\")\n",
        "# print(f\"XU100 return will be: {PredictNextState(XU100_return)}\")\n",
        "# print(\"-------------------------\")\n",
        "# BIMAS_return\n",
        "\n"
      ]
    },
    {
      "cell_type": "code",
      "source": [],
      "metadata": {
        "id": "4oZt_bt68DaS"
      },
      "execution_count": null,
      "outputs": []
    }
  ]
}