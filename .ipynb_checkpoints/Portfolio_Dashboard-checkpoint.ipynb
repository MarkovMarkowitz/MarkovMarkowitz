{
 "cells": [
  {
   "cell_type": "code",
   "execution_count": 11,
   "id": "ff16589f-93fc-4023-9d3d-9004e98f4629",
   "metadata": {},
   "outputs": [],
   "source": [
    "# Read stocks\n",
    "import yfinance as yf\n",
    "\n",
    "import pandas as pd\n",
    "import numpy as np\n",
    "\n",
    "import base64\n",
    "\n",
    "import plotly\n",
    "import plotly.graph_objects as go\n",
    "from plotly.subplots import make_subplots\n",
    "import plotly.express as px"
   ]
  },
  {
   "cell_type": "code",
   "execution_count": 12,
   "id": "05e6acf5-f771-4608-b144-4f02579b4d2d",
   "metadata": {},
   "outputs": [],
   "source": [
    "COLUMN_MAPPING = {\n",
    "    'symbol': 'Symbol', 'name': 'Name', 'industry': 'Industry', 'units': 'Units',\n",
    "    'current_price': 'Curr Price', 'paid': 'Paid Price', 'market_value': 'Mkt Value', 'cost': 'Cost', 'day_change': 'Day Change $',\n",
    "    'day_change_pct': 'Day Change %', 'gain_loss': 'Gain/Loss $', 'gain_loss_pct': 'Gain/Loss %',\n",
    "    'last_12_months': 'Price Change - Last 12 Months',\n",
    "    # Need these 2 for summary df\n",
    "    'tot_cost': 'Total Cost', 'tot_market_value' : 'Total Market Value'\n",
    "}\n",
    "# Using plotly dark template\n",
    "TEMPLATE = 'plotly_dark'"
   ]
  },
  {
   "cell_type": "markdown",
   "id": "3b86eaa4-e3d9-4438-9150-8a9b124fd391",
   "metadata": {},
   "source": [
    "## Load the transaction history"
   ]
  },
  {
   "cell_type": "code",
   "execution_count": 13,
   "id": "ced8aaa0-aa62-4579-90b8-0f0199f0b731",
   "metadata": {},
   "outputs": [
    {
     "data": {
      "text/html": [
       "<div>\n",
       "<style scoped>\n",
       "    .dataframe tbody tr th:only-of-type {\n",
       "        vertical-align: middle;\n",
       "    }\n",
       "\n",
       "    .dataframe tbody tr th {\n",
       "        vertical-align: top;\n",
       "    }\n",
       "\n",
       "    .dataframe thead th {\n",
       "        text-align: right;\n",
       "    }\n",
       "</style>\n",
       "<table border=\"1\" class=\"dataframe\">\n",
       "  <thead>\n",
       "    <tr style=\"text-align: right;\">\n",
       "      <th></th>\n",
       "      <th>Date</th>\n",
       "      <th>Symbol</th>\n",
       "      <th>Units</th>\n",
       "      <th>Paid</th>\n",
       "      <th>Price</th>\n",
       "      <th>Currency</th>\n",
       "    </tr>\n",
       "  </thead>\n",
       "  <tbody>\n",
       "    <tr>\n",
       "      <th>0</th>\n",
       "      <td>30-12-2019</td>\n",
       "      <td>HAL</td>\n",
       "      <td>200.00</td>\n",
       "      <td>4952.0000</td>\n",
       "      <td>24.760000</td>\n",
       "      <td>USD</td>\n",
       "    </tr>\n",
       "    <tr>\n",
       "      <th>1</th>\n",
       "      <td>23-03-2020</td>\n",
       "      <td>HAL</td>\n",
       "      <td>-180.00</td>\n",
       "      <td>-1152.0000</td>\n",
       "      <td>6.400000</td>\n",
       "      <td>USD</td>\n",
       "    </tr>\n",
       "    <tr>\n",
       "      <th>2</th>\n",
       "      <td>24-10-2021</td>\n",
       "      <td>TEAM</td>\n",
       "      <td>50.00</td>\n",
       "      <td>22900.0000</td>\n",
       "      <td>458.000000</td>\n",
       "      <td>USD</td>\n",
       "    </tr>\n",
       "    <tr>\n",
       "      <th>3</th>\n",
       "      <td>28-11-2022</td>\n",
       "      <td>GOOG</td>\n",
       "      <td>100.00</td>\n",
       "      <td>9625.0000</td>\n",
       "      <td>96.250000</td>\n",
       "      <td>USD</td>\n",
       "    </tr>\n",
       "    <tr>\n",
       "      <th>4</th>\n",
       "      <td>29-11-2022</td>\n",
       "      <td>AMZN</td>\n",
       "      <td>20.00</td>\n",
       "      <td>1848.4000</td>\n",
       "      <td>92.420000</td>\n",
       "      <td>USD</td>\n",
       "    </tr>\n",
       "    <tr>\n",
       "      <th>5</th>\n",
       "      <td>08-12-2022</td>\n",
       "      <td>GOOG</td>\n",
       "      <td>20.00</td>\n",
       "      <td>1871.2000</td>\n",
       "      <td>93.560000</td>\n",
       "      <td>USD</td>\n",
       "    </tr>\n",
       "    <tr>\n",
       "      <th>6</th>\n",
       "      <td>11-12-2022</td>\n",
       "      <td>TEAM</td>\n",
       "      <td>-30.00</td>\n",
       "      <td>-4410.0000</td>\n",
       "      <td>147.000000</td>\n",
       "      <td>USD</td>\n",
       "    </tr>\n",
       "    <tr>\n",
       "      <th>7</th>\n",
       "      <td>20-12-2022</td>\n",
       "      <td>GOOG</td>\n",
       "      <td>20.00</td>\n",
       "      <td>1792.6000</td>\n",
       "      <td>89.630000</td>\n",
       "      <td>USD</td>\n",
       "    </tr>\n",
       "    <tr>\n",
       "      <th>8</th>\n",
       "      <td>23-12-2022</td>\n",
       "      <td>AMZN</td>\n",
       "      <td>30.00</td>\n",
       "      <td>2557.5000</td>\n",
       "      <td>85.250000</td>\n",
       "      <td>USD</td>\n",
       "    </tr>\n",
       "    <tr>\n",
       "      <th>9</th>\n",
       "      <td>08-01-2023</td>\n",
       "      <td>GTLB</td>\n",
       "      <td>50.00</td>\n",
       "      <td>1510.5000</td>\n",
       "      <td>30.210000</td>\n",
       "      <td>USD</td>\n",
       "    </tr>\n",
       "    <tr>\n",
       "      <th>10</th>\n",
       "      <td>09-01-2023</td>\n",
       "      <td>GOOG</td>\n",
       "      <td>-10.00</td>\n",
       "      <td>-888.0000</td>\n",
       "      <td>88.800000</td>\n",
       "      <td>USD</td>\n",
       "    </tr>\n",
       "    <tr>\n",
       "      <th>11</th>\n",
       "      <td>15-01-2023</td>\n",
       "      <td>GTLB</td>\n",
       "      <td>-50.00</td>\n",
       "      <td>-1536.0000</td>\n",
       "      <td>30.720000</td>\n",
       "      <td>USD</td>\n",
       "    </tr>\n",
       "    <tr>\n",
       "      <th>12</th>\n",
       "      <td>24-06-2023</td>\n",
       "      <td>DDOG</td>\n",
       "      <td>20.23</td>\n",
       "      <td>1911.7500</td>\n",
       "      <td>94.500741</td>\n",
       "      <td>USD</td>\n",
       "    </tr>\n",
       "    <tr>\n",
       "      <th>13</th>\n",
       "      <td>25-06-2023</td>\n",
       "      <td>HAL</td>\n",
       "      <td>30.00</td>\n",
       "      <td>946.2000</td>\n",
       "      <td>31.540000</td>\n",
       "      <td>USD</td>\n",
       "    </tr>\n",
       "    <tr>\n",
       "      <th>14</th>\n",
       "      <td>24-07-2023</td>\n",
       "      <td>HAL</td>\n",
       "      <td>20.45</td>\n",
       "      <td>779.3495</td>\n",
       "      <td>38.110000</td>\n",
       "      <td>USD</td>\n",
       "    </tr>\n",
       "  </tbody>\n",
       "</table>\n",
       "</div>"
      ],
      "text/plain": [
       "          Date Symbol   Units        Paid       Price Currency\n",
       "0   30-12-2019    HAL  200.00   4952.0000   24.760000      USD\n",
       "1   23-03-2020    HAL -180.00  -1152.0000    6.400000      USD\n",
       "2   24-10-2021   TEAM   50.00  22900.0000  458.000000      USD\n",
       "3   28-11-2022   GOOG  100.00   9625.0000   96.250000      USD\n",
       "4   29-11-2022   AMZN   20.00   1848.4000   92.420000      USD\n",
       "5   08-12-2022   GOOG   20.00   1871.2000   93.560000      USD\n",
       "6   11-12-2022   TEAM  -30.00  -4410.0000  147.000000      USD\n",
       "7   20-12-2022   GOOG   20.00   1792.6000   89.630000      USD\n",
       "8   23-12-2022   AMZN   30.00   2557.5000   85.250000      USD\n",
       "9   08-01-2023   GTLB   50.00   1510.5000   30.210000      USD\n",
       "10  09-01-2023   GOOG  -10.00   -888.0000   88.800000      USD\n",
       "11  15-01-2023   GTLB  -50.00  -1536.0000   30.720000      USD\n",
       "12  24-06-2023   DDOG   20.23   1911.7500   94.500741      USD\n",
       "13  25-06-2023    HAL   30.00    946.2000   31.540000      USD\n",
       "14  24-07-2023    HAL   20.45    779.3495   38.110000      USD"
      ]
     },
     "execution_count": 13,
     "metadata": {},
     "output_type": "execute_result"
    }
   ],
   "source": [
    "hist_df = pd.read_excel('data/transactions.xlsx', sheet_name='History')\n",
    "hist_df"
   ]
  },
  {
   "cell_type": "markdown",
   "id": "b173609c-c719-44d0-9dff-903083ce95a8",
   "metadata": {},
   "source": [
    "## Sparklines"
   ]
  },
  {
   "cell_type": "code",
   "execution_count": 14,
   "id": "679d403d-7933-4549-a9c8-2c50076888c5",
   "metadata": {},
   "outputs": [],
   "source": [
    "def sparkline(df, Avg):\n",
    "    fig = go.Figure()\n",
    "\n",
    "    # Plot the Close price\n",
    "    fig.add_trace(go.Scatter(x=df.index, y=df['Close'], line_color='lightgreen', line_width=1))\n",
    "\n",
    "    # Plot the Avg line\n",
    "    fig.add_hline(y=Avg, line_color='indianred', line_width=1)\n",
    "\n",
    "    # hide and lock down axes\n",
    "    fig.update_xaxes(visible=False, fixedrange=True)\n",
    "    fig.update_yaxes(visible=False, fixedrange=True)\n",
    "    \n",
    "    # strip down the rest of the plot\n",
    "    fig.update_layout(\n",
    "        template=TEMPLATE,\n",
    "        width=250,\n",
    "        height=40,        \n",
    "        showlegend=False,\n",
    "        margin=dict(t=1,l=1,b=1,r=1)\n",
    "    )\n",
    "    \n",
    "    # disable the modebar for such a small plot - fig.show commented out for debugging purposes\n",
    "    # fig.show(config=dict(displayModeBar=False))\n",
    "\n",
    "    png = plotly.io.to_image(fig)\n",
    "    png_base64 = base64.b64encode(png).decode('ascii')\n",
    "    \n",
    "    return '<img src=\"data:image/png;base64,{}\"/>'.format(png_base64)"
   ]
  },
  {
   "cell_type": "markdown",
   "id": "0d432c8d-d41e-4976-862d-c0315d765d30",
   "metadata": {},
   "source": [
    "## Collect Data"
   ]
  },
  {
   "cell_type": "code",
   "execution_count": 15,
   "id": "cf33d064-69d3-4967-a3c4-2a657385ac1a",
   "metadata": {},
   "outputs": [],
   "source": [
    "# Dictionary to collect data to create a DF later\n",
    "data = {\n",
    "    'symbol': [],\n",
    "    'industry': [],\n",
    "    'units': [],\n",
    "    'paid': [],\n",
    "    'current_price': [],\n",
    "    'cost': [],\n",
    "    'market_value': [],\n",
    "    'day_change': [],\n",
    "    'day_change_pct': [],\n",
    "    'gain_loss': [],\n",
    "    'gain_loss_pct': [],\n",
    "    'last_12_months': []\n",
    "}\n",
    "# Total units, group by Symbol\n",
    "symbols = hist_df.groupby('Symbol')['Units'].sum()\n",
    "# Drop any symbols when units are zero (we have sold them)\n",
    "symbol_list= symbols.where(symbols > 0).dropna().index.to_list()\n",
    "\n",
    "for symbol in symbol_list:\n",
    "    units = hist_df.query(\"Symbol == @symbol\")['Units'].sum()\n",
    "\n",
    "    ticker = yf.Ticker(symbol)\n",
    "    \n",
    "    data['symbol'].append(ticker.info['symbol'])\n",
    "    data['industry'].append(ticker.info['industry'])\n",
    "    data['units'].append(units)\n",
    "    current_price = ticker.info['currentPrice']\n",
    "    data['current_price'].append(current_price)\n",
    "    # Round to 2 decimal points\n",
    "    market_value = round(units * current_price, 2)\n",
    "    data['market_value'].append(market_value)\n",
    "\n",
    "    # Prev close value to calculate day change\n",
    "    prev_close = ticker.info['previousClose']\n",
    "    day_change = (current_price - prev_close) * units\n",
    "    data['day_change'].append(day_change)\n",
    "    data['day_change_pct'].append(((current_price/prev_close) - 1) * 100)\n",
    "\n",
    "    # History data for 12 months\n",
    "    history = ticker.history(period='1y')['Close']\n",
    "\n",
    "    # Convert the history series to a DF\n",
    "    history_df = history.to_frame()\n",
    "    # Average price we bought the stock (exclude sell transactions)\n",
    "    t_df = hist_df.query(\"Symbol == @symbol & Units >= 0\")[['Price', 'Units']]\n",
    "    # Weighted average\n",
    "    avg = round(np.average(a=t_df.Price, weights=t_df.Units))\n",
    "    # Average weighted proice we have paid\n",
    "    data['paid'].append(avg)\n",
    "    cost = units * avg\n",
    "    data['cost'].append(cost)\n",
    "    \n",
    "    data['gain_loss'].append(market_value - cost)\n",
    "    data['gain_loss_pct'].append(((market_value/cost) - 1) * 100)\n",
    "\n",
    "    # Add the sparkline for 12 month history data\n",
    "    data['last_12_months'].append(sparkline(history_df, avg))"
   ]
  },
  {
   "cell_type": "markdown",
   "id": "cbec368c-078d-499b-b41d-271b99bcf9f1",
   "metadata": {},
   "source": [
    "## DF Styler related utilities"
   ]
  },
  {
   "cell_type": "code",
   "execution_count": 16,
   "id": "31428a3d-8b78-4547-a962-00c475842be3",
   "metadata": {},
   "outputs": [],
   "source": [
    "def make_pretty(styler):\n",
    "    # Column formatting\n",
    "    styler.format({\n",
    "        'units': '{:.2f}', 'Price': '${:.2f}', 'paid': '${:.2f}', 'cost': '${:,.2f}',\n",
    "        'current_price': '${:.2f}', 'market_value': '${:,.2f}'})\n",
    "\n",
    "    # Grid - uncomment this line if you want grids\n",
    "    # styler.set_properties(**{'border': '0.1px solid darkgrey'})\n",
    "\n",
    "    # No index\n",
    "    styler.hide(axis='index')\n",
    "\n",
    "    # Left text alignment for some columns\n",
    "    styler.set_properties(subset=['symbol', 'industry'], **{'text-align': 'left'})\n",
    "\n",
    "    styler.format(dollar_change, subset=['day_change','gain_loss'])\n",
    "    styler.format(pct_change, subset=['day_change_pct', 'gain_loss_pct'])\n",
    "    styler.map(color_arrow, subset=['day_change','day_change_pct','gain_loss', 'gain_loss_pct'])\n",
    "    return styler\n",
    "\n",
    "def dollar_change(val):\n",
    "    if val > 0:\n",
    "        return f\"{'🡅'} ${abs(val):,.2f}\"\n",
    "    elif val < 0:\n",
    "        return f\"{'🡇'} $({abs(val):,.2f})\"\n",
    "    else:\n",
    "        return f\"${val:,.2f}\"\n",
    "    \n",
    "def pct_change(val):\n",
    "    if val > 0:\n",
    "        return f\"{'🡅'} {abs(val):.2f}%\"\n",
    "    elif val < 0:\n",
    "        return f\"{'🡇'} ({abs(val):.2f})%\"\n",
    "    else:\n",
    "        return f\"{val:.2f}%\"\n",
    "    # return f\"{'↑' if val > 0 else '↓'} {abs(val):.2f}\" if val != 0 else f\"{val:.2f}\"\n",
    "\n",
    "def color_arrow(val):\n",
    "    return \"color: green\" if val > 0 else \"color: indianred\" if val < 0 else \"\"\n",
    "\n",
    "def column_formatter(name):\n",
    "    return COLUMN_MAPPING[name]"
   ]
  },
  {
   "cell_type": "markdown",
   "id": "0bc4c7ab-5a2f-4244-aa6b-0e6fbabc5cf4",
   "metadata": {},
   "source": [
    "## Create Portfolio DataFrame"
   ]
  },
  {
   "cell_type": "code",
   "execution_count": 17,
   "id": "6c48d9ad-6f73-4ae1-b62b-8250e76a9cac",
   "metadata": {},
   "outputs": [
    {
     "data": {
      "text/html": [
       "<style type=\"text/css\">\n",
       "#T_54168 th.col_heading {\n",
       "  text-align: center;\n",
       "}\n",
       "#T_54168 caption {\n",
       "  text-align: center;\n",
       "  font-size: 12pt;\n",
       "  font-weight: bold;\n",
       "}\n",
       "#T_54168_row0_col0, #T_54168_row0_col1, #T_54168_row1_col0, #T_54168_row1_col1, #T_54168_row2_col0, #T_54168_row2_col1, #T_54168_row3_col0, #T_54168_row3_col1, #T_54168_row4_col0, #T_54168_row4_col1 {\n",
       "  text-align: left;\n",
       "}\n",
       "#T_54168_row0_col7, #T_54168_row0_col8, #T_54168_row0_col9, #T_54168_row0_col10, #T_54168_row1_col9, #T_54168_row1_col10, #T_54168_row2_col9, #T_54168_row2_col10, #T_54168_row3_col7, #T_54168_row3_col8, #T_54168_row3_col9, #T_54168_row3_col10, #T_54168_row4_col7, #T_54168_row4_col8 {\n",
       "  color: green;\n",
       "}\n",
       "#T_54168_row1_col7, #T_54168_row1_col8, #T_54168_row2_col7, #T_54168_row2_col8, #T_54168_row4_col9, #T_54168_row4_col10 {\n",
       "  color: indianred;\n",
       "}\n",
       "</style>\n",
       "<table id=\"T_54168\">\n",
       "  <caption>My Stock Dashboard</caption>\n",
       "  <thead>\n",
       "    <tr>\n",
       "      <th id=\"T_54168_level0_col0\" class=\"col_heading level0 col0\" >Symbol</th>\n",
       "      <th id=\"T_54168_level0_col1\" class=\"col_heading level0 col1\" >Industry</th>\n",
       "      <th id=\"T_54168_level0_col2\" class=\"col_heading level0 col2\" >Units</th>\n",
       "      <th id=\"T_54168_level0_col3\" class=\"col_heading level0 col3\" >Paid Price</th>\n",
       "      <th id=\"T_54168_level0_col4\" class=\"col_heading level0 col4\" >Curr Price</th>\n",
       "      <th id=\"T_54168_level0_col5\" class=\"col_heading level0 col5\" >Cost</th>\n",
       "      <th id=\"T_54168_level0_col6\" class=\"col_heading level0 col6\" >Mkt Value</th>\n",
       "      <th id=\"T_54168_level0_col7\" class=\"col_heading level0 col7\" >Day Change $</th>\n",
       "      <th id=\"T_54168_level0_col8\" class=\"col_heading level0 col8\" >Day Change %</th>\n",
       "      <th id=\"T_54168_level0_col9\" class=\"col_heading level0 col9\" >Gain/Loss $</th>\n",
       "      <th id=\"T_54168_level0_col10\" class=\"col_heading level0 col10\" >Gain/Loss %</th>\n",
       "      <th id=\"T_54168_level0_col11\" class=\"col_heading level0 col11\" >Price Change - Last 12 Months</th>\n",
       "    </tr>\n",
       "  </thead>\n",
       "  <tbody>\n",
       "    <tr>\n",
       "      <td id=\"T_54168_row0_col0\" class=\"data row0 col0\" >AMZN</td>\n",
       "      <td id=\"T_54168_row0_col1\" class=\"data row0 col1\" >Internet Retail</td>\n",
       "      <td id=\"T_54168_row0_col2\" class=\"data row0 col2\" >50.00</td>\n",
       "      <td id=\"T_54168_row0_col3\" class=\"data row0 col3\" >$88.00</td>\n",
       "      <td id=\"T_54168_row0_col4\" class=\"data row0 col4\" >$146.30</td>\n",
       "      <td id=\"T_54168_row0_col5\" class=\"data row0 col5\" >$4,400.00</td>\n",
       "      <td id=\"T_54168_row0_col6\" class=\"data row0 col6\" >$7,315.00</td>\n",
       "      <td id=\"T_54168_row0_col7\" class=\"data row0 col7\" >🡅 $10.50</td>\n",
       "      <td id=\"T_54168_row0_col8\" class=\"data row0 col8\" >🡅 0.14%</td>\n",
       "      <td id=\"T_54168_row0_col9\" class=\"data row0 col9\" >🡅 $2,915.00</td>\n",
       "      <td id=\"T_54168_row0_col10\" class=\"data row0 col10\" >🡅 66.25%</td>\n",
       "      <td id=\"T_54168_row0_col11\" class=\"data row0 col11\" ><img src=\"data:image/png;base64,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\"/></td>\n",
       "    </tr>\n",
       "    <tr>\n",
       "      <td id=\"T_54168_row1_col0\" class=\"data row1 col0\" >DDOG</td>\n",
       "      <td id=\"T_54168_row1_col1\" class=\"data row1 col1\" >Software - Application</td>\n",
       "      <td id=\"T_54168_row1_col2\" class=\"data row1 col2\" >20.23</td>\n",
       "      <td id=\"T_54168_row1_col3\" class=\"data row1 col3\" >$95.00</td>\n",
       "      <td id=\"T_54168_row1_col4\" class=\"data row1 col4\" >$116.50</td>\n",
       "      <td id=\"T_54168_row1_col5\" class=\"data row1 col5\" >$1,921.85</td>\n",
       "      <td id=\"T_54168_row1_col6\" class=\"data row1 col6\" >$2,356.80</td>\n",
       "      <td id=\"T_54168_row1_col7\" class=\"data row1 col7\" >🡇 $(1.42)</td>\n",
       "      <td id=\"T_54168_row1_col8\" class=\"data row1 col8\" >🡇 (0.06)%</td>\n",
       "      <td id=\"T_54168_row1_col9\" class=\"data row1 col9\" >🡅 $434.95</td>\n",
       "      <td id=\"T_54168_row1_col10\" class=\"data row1 col10\" >🡅 22.63%</td>\n",
       "      <td id=\"T_54168_row1_col11\" class=\"data row1 col11\" ><img src=\"data:image/png;base64,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\"/></td>\n",
       "    </tr>\n",
       "    <tr>\n",
       "      <td id=\"T_54168_row2_col0\" class=\"data row2 col0\" >GOOG</td>\n",
       "      <td id=\"T_54168_row2_col1\" class=\"data row2 col1\" >Internet Content & Information</td>\n",
       "      <td id=\"T_54168_row2_col2\" class=\"data row2 col2\" >130.00</td>\n",
       "      <td id=\"T_54168_row2_col3\" class=\"data row2 col3\" >$95.00</td>\n",
       "      <td id=\"T_54168_row2_col4\" class=\"data row2 col4\" >$132.48</td>\n",
       "      <td id=\"T_54168_row2_col5\" class=\"data row2 col5\" >$12,350.00</td>\n",
       "      <td id=\"T_54168_row2_col6\" class=\"data row2 col6\" >$17,222.40</td>\n",
       "      <td id=\"T_54168_row2_col7\" class=\"data row2 col7\" >🡇 $(187.20)</td>\n",
       "      <td id=\"T_54168_row2_col8\" class=\"data row2 col8\" >🡇 (1.08)%</td>\n",
       "      <td id=\"T_54168_row2_col9\" class=\"data row2 col9\" >🡅 $4,872.40</td>\n",
       "      <td id=\"T_54168_row2_col10\" class=\"data row2 col10\" >🡅 39.45%</td>\n",
       "      <td id=\"T_54168_row2_col11\" class=\"data row2 col11\" ><img src=\"data:image/png;base64,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\"/></td>\n",
       "    </tr>\n",
       "    <tr>\n",
       "      <td id=\"T_54168_row3_col0\" class=\"data row3 col0\" >HAL</td>\n",
       "      <td id=\"T_54168_row3_col1\" class=\"data row3 col1\" >Oil & Gas Equipment & Services</td>\n",
       "      <td id=\"T_54168_row3_col2\" class=\"data row3 col2\" >70.45</td>\n",
       "      <td id=\"T_54168_row3_col3\" class=\"data row3 col3\" >$27.00</td>\n",
       "      <td id=\"T_54168_row3_col4\" class=\"data row3 col4\" >$37.33</td>\n",
       "      <td id=\"T_54168_row3_col5\" class=\"data row3 col5\" >$1,902.15</td>\n",
       "      <td id=\"T_54168_row3_col6\" class=\"data row3 col6\" >$2,629.90</td>\n",
       "      <td id=\"T_54168_row3_col7\" class=\"data row3 col7\" >🡅 $21.13</td>\n",
       "      <td id=\"T_54168_row3_col8\" class=\"data row3 col8\" >🡅 0.81%</td>\n",
       "      <td id=\"T_54168_row3_col9\" class=\"data row3 col9\" >🡅 $727.75</td>\n",
       "      <td id=\"T_54168_row3_col10\" class=\"data row3 col10\" >🡅 38.26%</td>\n",
       "      <td id=\"T_54168_row3_col11\" class=\"data row3 col11\" ><img src=\"data:image/png;base64,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\"/></td>\n",
       "    </tr>\n",
       "    <tr>\n",
       "      <td id=\"T_54168_row4_col0\" class=\"data row4 col0\" >TEAM</td>\n",
       "      <td id=\"T_54168_row4_col1\" class=\"data row4 col1\" >Software - Application</td>\n",
       "      <td id=\"T_54168_row4_col2\" class=\"data row4 col2\" >20.00</td>\n",
       "      <td id=\"T_54168_row4_col3\" class=\"data row4 col3\" >$458.00</td>\n",
       "      <td id=\"T_54168_row4_col4\" class=\"data row4 col4\" >$191.27</td>\n",
       "      <td id=\"T_54168_row4_col5\" class=\"data row4 col5\" >$9,160.00</td>\n",
       "      <td id=\"T_54168_row4_col6\" class=\"data row4 col6\" >$3,825.40</td>\n",
       "      <td id=\"T_54168_row4_col7\" class=\"data row4 col7\" >🡅 $6.40</td>\n",
       "      <td id=\"T_54168_row4_col8\" class=\"data row4 col8\" >🡅 0.17%</td>\n",
       "      <td id=\"T_54168_row4_col9\" class=\"data row4 col9\" >🡇 $(5,334.60)</td>\n",
       "      <td id=\"T_54168_row4_col10\" class=\"data row4 col10\" >🡇 (58.24)%</td>\n",
       "      <td id=\"T_54168_row4_col11\" class=\"data row4 col11\" ><img src=\"data:image/png;base64,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\"/></td>\n",
       "    </tr>\n",
       "  </tbody>\n",
       "</table>\n"
      ],
      "text/plain": [
       "<pandas.io.formats.style.Styler at 0x7faf169ea650>"
      ]
     },
     "execution_count": 17,
     "metadata": {},
     "output_type": "execute_result"
    }
   ],
   "source": [
    "df = pd.DataFrame(data)\n",
    "\n",
    "df.style.pipe(make_pretty).set_caption('My Stock Dashboard').set_table_styles(\n",
    "    [{'selector': 'th.col_heading', 'props': 'text-align: center'},\n",
    "     {'selector': 'caption', 'props': [('text-align', 'center'),\n",
    "                                       ('font-size', '12pt'), ('font-weight', 'bold')]}]).format_index(column_formatter, axis=1) "
   ]
  },
  {
   "cell_type": "markdown",
   "id": "6aefc9d4-6507-4af4-80d1-b5e63bcff450",
   "metadata": {},
   "source": [
    "## Portfolio Breakdown"
   ]
  },
  {
   "cell_type": "code",
   "execution_count": 18,
   "id": "c60cac89-5332-42a6-b531-a003bbc86072",
   "metadata": {},
   "outputs": [
    {
     "data": {
      "application/vnd.plotly.v1+json": {
       "config": {
        "plotlyServerURL": "https://plot.ly"
       },
       "data": [
        {
         "domain": {
          "x": [
           0,
           0.425
          ],
          "y": [
           0,
           1
          ]
         },
         "hole": 0.5,
         "labels": [
          "AMZN",
          "DDOG",
          "GOOG",
          "HAL",
          "TEAM"
         ],
         "legendgroup": "1",
         "marker": {
          "line": {
           "color": "black",
           "width": 2
          }
         },
         "name": "Market Value",
         "type": "pie",
         "values": [
          7315,
          2356.8,
          17222.4,
          2629.9,
          3825.4
         ]
        },
        {
         "domain": {
          "x": [
           0.575,
           1
          ],
          "y": [
           0,
           1
          ]
         },
         "hole": 0.5,
         "labels": [
          "Internet Retail",
          "Software - Application",
          "Internet Content & Information",
          "Oil & Gas Equipment & Services",
          "Software - Application"
         ],
         "legendgroup": "2",
         "marker": {
          "line": {
           "color": "black",
           "width": 2
          }
         },
         "name": "Industry Value",
         "type": "pie",
         "values": [
          7315,
          2356.8,
          17222.4,
          2629.9,
          3825.4
         ]
        }
       ],
       "layout": {
        "annotations": [
         {
          "font": {
           "size": 16
          },
          "showarrow": false,
          "text": "Stock",
          "x": 0.2125,
          "xanchor": "center",
          "xref": "paper",
          "y": 1,
          "yanchor": "bottom",
          "yref": "paper"
         },
         {
          "font": {
           "size": 16
          },
          "showarrow": false,
          "text": "Industry",
          "x": 0.7875,
          "xanchor": "center",
          "xref": "paper",
          "y": 1,
          "yanchor": "bottom",
          "yref": "paper"
         }
        ],
        "height": 400,
        "template": {
         "data": {
          "bar": [
           {
            "error_x": {
             "color": "#f2f5fa"
            },
            "error_y": {
             "color": "#f2f5fa"
            },
            "marker": {
             "line": {
              "color": "rgb(17,17,17)",
              "width": 0.5
             },
             "pattern": {
              "fillmode": "overlay",
              "size": 10,
              "solidity": 0.2
             }
            },
            "type": "bar"
           }
          ],
          "barpolar": [
           {
            "marker": {
             "line": {
              "color": "rgb(17,17,17)",
              "width": 0.5
             },
             "pattern": {
              "fillmode": "overlay",
              "size": 10,
              "solidity": 0.2
             }
            },
            "type": "barpolar"
           }
          ],
          "carpet": [
           {
            "aaxis": {
             "endlinecolor": "#A2B1C6",
             "gridcolor": "#506784",
             "linecolor": "#506784",
             "minorgridcolor": "#506784",
             "startlinecolor": "#A2B1C6"
            },
            "baxis": {
             "endlinecolor": "#A2B1C6",
             "gridcolor": "#506784",
             "linecolor": "#506784",
             "minorgridcolor": "#506784",
             "startlinecolor": "#A2B1C6"
            },
            "type": "carpet"
           }
          ],
          "choropleth": [
           {
            "colorbar": {
             "outlinewidth": 0,
             "ticks": ""
            },
            "type": "choropleth"
           }
          ],
          "contour": [
           {
            "colorbar": {
             "outlinewidth": 0,
             "ticks": ""
            },
            "colorscale": [
             [
              0,
              "#0d0887"
             ],
             [
              0.1111111111111111,
              "#46039f"
             ],
             [
              0.2222222222222222,
              "#7201a8"
             ],
             [
              0.3333333333333333,
              "#9c179e"
             ],
             [
              0.4444444444444444,
              "#bd3786"
             ],
             [
              0.5555555555555556,
              "#d8576b"
             ],
             [
              0.6666666666666666,
              "#ed7953"
             ],
             [
              0.7777777777777778,
              "#fb9f3a"
             ],
             [
              0.8888888888888888,
              "#fdca26"
             ],
             [
              1,
              "#f0f921"
             ]
            ],
            "type": "contour"
           }
          ],
          "contourcarpet": [
           {
            "colorbar": {
             "outlinewidth": 0,
             "ticks": ""
            },
            "type": "contourcarpet"
           }
          ],
          "heatmap": [
           {
            "colorbar": {
             "outlinewidth": 0,
             "ticks": ""
            },
            "colorscale": [
             [
              0,
              "#0d0887"
             ],
             [
              0.1111111111111111,
              "#46039f"
             ],
             [
              0.2222222222222222,
              "#7201a8"
             ],
             [
              0.3333333333333333,
              "#9c179e"
             ],
             [
              0.4444444444444444,
              "#bd3786"
             ],
             [
              0.5555555555555556,
              "#d8576b"
             ],
             [
              0.6666666666666666,
              "#ed7953"
             ],
             [
              0.7777777777777778,
              "#fb9f3a"
             ],
             [
              0.8888888888888888,
              "#fdca26"
             ],
             [
              1,
              "#f0f921"
             ]
            ],
            "type": "heatmap"
           }
          ],
          "heatmapgl": [
           {
            "colorbar": {
             "outlinewidth": 0,
             "ticks": ""
            },
            "colorscale": [
             [
              0,
              "#0d0887"
             ],
             [
              0.1111111111111111,
              "#46039f"
             ],
             [
              0.2222222222222222,
              "#7201a8"
             ],
             [
              0.3333333333333333,
              "#9c179e"
             ],
             [
              0.4444444444444444,
              "#bd3786"
             ],
             [
              0.5555555555555556,
              "#d8576b"
             ],
             [
              0.6666666666666666,
              "#ed7953"
             ],
             [
              0.7777777777777778,
              "#fb9f3a"
             ],
             [
              0.8888888888888888,
              "#fdca26"
             ],
             [
              1,
              "#f0f921"
             ]
            ],
            "type": "heatmapgl"
           }
          ],
          "histogram": [
           {
            "marker": {
             "pattern": {
              "fillmode": "overlay",
              "size": 10,
              "solidity": 0.2
             }
            },
            "type": "histogram"
           }
          ],
          "histogram2d": [
           {
            "colorbar": {
             "outlinewidth": 0,
             "ticks": ""
            },
            "colorscale": [
             [
              0,
              "#0d0887"
             ],
             [
              0.1111111111111111,
              "#46039f"
             ],
             [
              0.2222222222222222,
              "#7201a8"
             ],
             [
              0.3333333333333333,
              "#9c179e"
             ],
             [
              0.4444444444444444,
              "#bd3786"
             ],
             [
              0.5555555555555556,
              "#d8576b"
             ],
             [
              0.6666666666666666,
              "#ed7953"
             ],
             [
              0.7777777777777778,
              "#fb9f3a"
             ],
             [
              0.8888888888888888,
              "#fdca26"
             ],
             [
              1,
              "#f0f921"
             ]
            ],
            "type": "histogram2d"
           }
          ],
          "histogram2dcontour": [
           {
            "colorbar": {
             "outlinewidth": 0,
             "ticks": ""
            },
            "colorscale": [
             [
              0,
              "#0d0887"
             ],
             [
              0.1111111111111111,
              "#46039f"
             ],
             [
              0.2222222222222222,
              "#7201a8"
             ],
             [
              0.3333333333333333,
              "#9c179e"
             ],
             [
              0.4444444444444444,
              "#bd3786"
             ],
             [
              0.5555555555555556,
              "#d8576b"
             ],
             [
              0.6666666666666666,
              "#ed7953"
             ],
             [
              0.7777777777777778,
              "#fb9f3a"
             ],
             [
              0.8888888888888888,
              "#fdca26"
             ],
             [
              1,
              "#f0f921"
             ]
            ],
            "type": "histogram2dcontour"
           }
          ],
          "mesh3d": [
           {
            "colorbar": {
             "outlinewidth": 0,
             "ticks": ""
            },
            "type": "mesh3d"
           }
          ],
          "parcoords": [
           {
            "line": {
             "colorbar": {
              "outlinewidth": 0,
              "ticks": ""
             }
            },
            "type": "parcoords"
           }
          ],
          "pie": [
           {
            "automargin": true,
            "type": "pie"
           }
          ],
          "scatter": [
           {
            "marker": {
             "line": {
              "color": "#283442"
             }
            },
            "type": "scatter"
           }
          ],
          "scatter3d": [
           {
            "line": {
             "colorbar": {
              "outlinewidth": 0,
              "ticks": ""
             }
            },
            "marker": {
             "colorbar": {
              "outlinewidth": 0,
              "ticks": ""
             }
            },
            "type": "scatter3d"
           }
          ],
          "scattercarpet": [
           {
            "marker": {
             "colorbar": {
              "outlinewidth": 0,
              "ticks": ""
             }
            },
            "type": "scattercarpet"
           }
          ],
          "scattergeo": [
           {
            "marker": {
             "colorbar": {
              "outlinewidth": 0,
              "ticks": ""
             }
            },
            "type": "scattergeo"
           }
          ],
          "scattergl": [
           {
            "marker": {
             "line": {
              "color": "#283442"
             }
            },
            "type": "scattergl"
           }
          ],
          "scattermapbox": [
           {
            "marker": {
             "colorbar": {
              "outlinewidth": 0,
              "ticks": ""
             }
            },
            "type": "scattermapbox"
           }
          ],
          "scatterpolar": [
           {
            "marker": {
             "colorbar": {
              "outlinewidth": 0,
              "ticks": ""
             }
            },
            "type": "scatterpolar"
           }
          ],
          "scatterpolargl": [
           {
            "marker": {
             "colorbar": {
              "outlinewidth": 0,
              "ticks": ""
             }
            },
            "type": "scatterpolargl"
           }
          ],
          "scatterternary": [
           {
            "marker": {
             "colorbar": {
              "outlinewidth": 0,
              "ticks": ""
             }
            },
            "type": "scatterternary"
           }
          ],
          "surface": [
           {
            "colorbar": {
             "outlinewidth": 0,
             "ticks": ""
            },
            "colorscale": [
             [
              0,
              "#0d0887"
             ],
             [
              0.1111111111111111,
              "#46039f"
             ],
             [
              0.2222222222222222,
              "#7201a8"
             ],
             [
              0.3333333333333333,
              "#9c179e"
             ],
             [
              0.4444444444444444,
              "#bd3786"
             ],
             [
              0.5555555555555556,
              "#d8576b"
             ],
             [
              0.6666666666666666,
              "#ed7953"
             ],
             [
              0.7777777777777778,
              "#fb9f3a"
             ],
             [
              0.8888888888888888,
              "#fdca26"
             ],
             [
              1,
              "#f0f921"
             ]
            ],
            "type": "surface"
           }
          ],
          "table": [
           {
            "cells": {
             "fill": {
              "color": "#506784"
             },
             "line": {
              "color": "rgb(17,17,17)"
             }
            },
            "header": {
             "fill": {
              "color": "#2a3f5f"
             },
             "line": {
              "color": "rgb(17,17,17)"
             }
            },
            "type": "table"
           }
          ]
         },
         "layout": {
          "annotationdefaults": {
           "arrowcolor": "#f2f5fa",
           "arrowhead": 0,
           "arrowwidth": 1
          },
          "autotypenumbers": "strict",
          "coloraxis": {
           "colorbar": {
            "outlinewidth": 0,
            "ticks": ""
           }
          },
          "colorscale": {
           "diverging": [
            [
             0,
             "#8e0152"
            ],
            [
             0.1,
             "#c51b7d"
            ],
            [
             0.2,
             "#de77ae"
            ],
            [
             0.3,
             "#f1b6da"
            ],
            [
             0.4,
             "#fde0ef"
            ],
            [
             0.5,
             "#f7f7f7"
            ],
            [
             0.6,
             "#e6f5d0"
            ],
            [
             0.7,
             "#b8e186"
            ],
            [
             0.8,
             "#7fbc41"
            ],
            [
             0.9,
             "#4d9221"
            ],
            [
             1,
             "#276419"
            ]
           ],
           "sequential": [
            [
             0,
             "#0d0887"
            ],
            [
             0.1111111111111111,
             "#46039f"
            ],
            [
             0.2222222222222222,
             "#7201a8"
            ],
            [
             0.3333333333333333,
             "#9c179e"
            ],
            [
             0.4444444444444444,
             "#bd3786"
            ],
            [
             0.5555555555555556,
             "#d8576b"
            ],
            [
             0.6666666666666666,
             "#ed7953"
            ],
            [
             0.7777777777777778,
             "#fb9f3a"
            ],
            [
             0.8888888888888888,
             "#fdca26"
            ],
            [
             1,
             "#f0f921"
            ]
           ],
           "sequentialminus": [
            [
             0,
             "#0d0887"
            ],
            [
             0.1111111111111111,
             "#46039f"
            ],
            [
             0.2222222222222222,
             "#7201a8"
            ],
            [
             0.3333333333333333,
             "#9c179e"
            ],
            [
             0.4444444444444444,
             "#bd3786"
            ],
            [
             0.5555555555555556,
             "#d8576b"
            ],
            [
             0.6666666666666666,
             "#ed7953"
            ],
            [
             0.7777777777777778,
             "#fb9f3a"
            ],
            [
             0.8888888888888888,
             "#fdca26"
            ],
            [
             1,
             "#f0f921"
            ]
           ]
          },
          "colorway": [
           "#636efa",
           "#EF553B",
           "#00cc96",
           "#ab63fa",
           "#FFA15A",
           "#19d3f3",
           "#FF6692",
           "#B6E880",
           "#FF97FF",
           "#FECB52"
          ],
          "font": {
           "color": "#f2f5fa"
          },
          "geo": {
           "bgcolor": "rgb(17,17,17)",
           "lakecolor": "rgb(17,17,17)",
           "landcolor": "rgb(17,17,17)",
           "showlakes": true,
           "showland": true,
           "subunitcolor": "#506784"
          },
          "hoverlabel": {
           "align": "left"
          },
          "hovermode": "closest",
          "mapbox": {
           "style": "dark"
          },
          "paper_bgcolor": "rgb(17,17,17)",
          "plot_bgcolor": "rgb(17,17,17)",
          "polar": {
           "angularaxis": {
            "gridcolor": "#506784",
            "linecolor": "#506784",
            "ticks": ""
           },
           "bgcolor": "rgb(17,17,17)",
           "radialaxis": {
            "gridcolor": "#506784",
            "linecolor": "#506784",
            "ticks": ""
           }
          },
          "scene": {
           "xaxis": {
            "backgroundcolor": "rgb(17,17,17)",
            "gridcolor": "#506784",
            "gridwidth": 2,
            "linecolor": "#506784",
            "showbackground": true,
            "ticks": "",
            "zerolinecolor": "#C8D4E3"
           },
           "yaxis": {
            "backgroundcolor": "rgb(17,17,17)",
            "gridcolor": "#506784",
            "gridwidth": 2,
            "linecolor": "#506784",
            "showbackground": true,
            "ticks": "",
            "zerolinecolor": "#C8D4E3"
           },
           "zaxis": {
            "backgroundcolor": "rgb(17,17,17)",
            "gridcolor": "#506784",
            "gridwidth": 2,
            "linecolor": "#506784",
            "showbackground": true,
            "ticks": "",
            "zerolinecolor": "#C8D4E3"
           }
          },
          "shapedefaults": {
           "line": {
            "color": "#f2f5fa"
           }
          },
          "sliderdefaults": {
           "bgcolor": "#C8D4E3",
           "bordercolor": "rgb(17,17,17)",
           "borderwidth": 1,
           "tickwidth": 0
          },
          "ternary": {
           "aaxis": {
            "gridcolor": "#506784",
            "linecolor": "#506784",
            "ticks": ""
           },
           "baxis": {
            "gridcolor": "#506784",
            "linecolor": "#506784",
            "ticks": ""
           },
           "bgcolor": "rgb(17,17,17)",
           "caxis": {
            "gridcolor": "#506784",
            "linecolor": "#506784",
            "ticks": ""
           }
          },
          "title": {
           "x": 0.05
          },
          "updatemenudefaults": {
           "bgcolor": "#506784",
           "borderwidth": 0
          },
          "xaxis": {
           "automargin": true,
           "gridcolor": "#283442",
           "linecolor": "#506784",
           "ticks": "",
           "title": {
            "standoff": 15
           },
           "zerolinecolor": "#283442",
           "zerolinewidth": 2
          },
          "yaxis": {
           "automargin": true,
           "gridcolor": "#283442",
           "linecolor": "#506784",
           "ticks": "",
           "title": {
            "standoff": 15
           },
           "zerolinecolor": "#283442",
           "zerolinewidth": 2
          }
         }
        },
        "title": {
         "text": "Portfolio Breakdown"
        },
        "width": 1000
       }
      },
      "text/html": [
       "<div>                            <div id=\"83a69f43-f95b-4ac8-963b-bae2f3ba8cef\" class=\"plotly-graph-div\" style=\"height:400px; width:1000px;\"></div>            <script type=\"text/javascript\">                require([\"plotly\"], function(Plotly) {                    window.PLOTLYENV=window.PLOTLYENV || {};                                    if (document.getElementById(\"83a69f43-f95b-4ac8-963b-bae2f3ba8cef\")) {                    Plotly.newPlot(                        \"83a69f43-f95b-4ac8-963b-bae2f3ba8cef\",                        [{\"hole\":0.5,\"labels\":[\"AMZN\",\"DDOG\",\"GOOG\",\"HAL\",\"TEAM\"],\"legendgroup\":\"1\",\"marker\":{\"line\":{\"color\":\"black\",\"width\":2}},\"name\":\"Market Value\",\"values\":[7315.0,2356.8,17222.4,2629.9,3825.4],\"type\":\"pie\",\"domain\":{\"x\":[0.0,0.425],\"y\":[0.0,1.0]}},{\"hole\":0.5,\"labels\":[\"Internet Retail\",\"Software - Application\",\"Internet Content & Information\",\"Oil & Gas Equipment & Services\",\"Software - Application\"],\"legendgroup\":\"2\",\"marker\":{\"line\":{\"color\":\"black\",\"width\":2}},\"name\":\"Industry Value\",\"values\":[7315.0,2356.8,17222.4,2629.9,3825.4],\"type\":\"pie\",\"domain\":{\"x\":[0.575,1.0],\"y\":[0.0,1.0]}}],                        {\"template\":{\"data\":{\"barpolar\":[{\"marker\":{\"line\":{\"color\":\"rgb(17,17,17)\",\"width\":0.5},\"pattern\":{\"fillmode\":\"overlay\",\"size\":10,\"solidity\":0.2}},\"type\":\"barpolar\"}],\"bar\":[{\"error_x\":{\"color\":\"#f2f5fa\"},\"error_y\":{\"color\":\"#f2f5fa\"},\"marker\":{\"line\":{\"color\":\"rgb(17,17,17)\",\"width\":0.5},\"pattern\":{\"fillmode\":\"overlay\",\"size\":10,\"solidity\":0.2}},\"type\":\"bar\"}],\"carpet\":[{\"aaxis\":{\"endlinecolor\":\"#A2B1C6\",\"gridcolor\":\"#506784\",\"linecolor\":\"#506784\",\"minorgridcolor\":\"#506784\",\"startlinecolor\":\"#A2B1C6\"},\"baxis\":{\"endlinecolor\":\"#A2B1C6\",\"gridcolor\":\"#506784\",\"linecolor\":\"#506784\",\"minorgridcolor\":\"#506784\",\"startlinecolor\":\"#A2B1C6\"},\"type\":\"carpet\"}],\"choropleth\":[{\"colorbar\":{\"outlinewidth\":0,\"ticks\":\"\"},\"type\":\"choropleth\"}],\"contourcarpet\":[{\"colorbar\":{\"outlinewidth\":0,\"ticks\":\"\"},\"type\":\"contourcarpet\"}],\"contour\":[{\"colorbar\":{\"outlinewidth\":0,\"ticks\":\"\"},\"colorscale\":[[0.0,\"#0d0887\"],[0.1111111111111111,\"#46039f\"],[0.2222222222222222,\"#7201a8\"],[0.3333333333333333,\"#9c179e\"],[0.4444444444444444,\"#bd3786\"],[0.5555555555555556,\"#d8576b\"],[0.6666666666666666,\"#ed7953\"],[0.7777777777777778,\"#fb9f3a\"],[0.8888888888888888,\"#fdca26\"],[1.0,\"#f0f921\"]],\"type\":\"contour\"}],\"heatmapgl\":[{\"colorbar\":{\"outlinewidth\":0,\"ticks\":\"\"},\"colorscale\":[[0.0,\"#0d0887\"],[0.1111111111111111,\"#46039f\"],[0.2222222222222222,\"#7201a8\"],[0.3333333333333333,\"#9c179e\"],[0.4444444444444444,\"#bd3786\"],[0.5555555555555556,\"#d8576b\"],[0.6666666666666666,\"#ed7953\"],[0.7777777777777778,\"#fb9f3a\"],[0.8888888888888888,\"#fdca26\"],[1.0,\"#f0f921\"]],\"type\":\"heatmapgl\"}],\"heatmap\":[{\"colorbar\":{\"outlinewidth\":0,\"ticks\":\"\"},\"colorscale\":[[0.0,\"#0d0887\"],[0.1111111111111111,\"#46039f\"],[0.2222222222222222,\"#7201a8\"],[0.3333333333333333,\"#9c179e\"],[0.4444444444444444,\"#bd3786\"],[0.5555555555555556,\"#d8576b\"],[0.6666666666666666,\"#ed7953\"],[0.7777777777777778,\"#fb9f3a\"],[0.8888888888888888,\"#fdca26\"],[1.0,\"#f0f921\"]],\"type\":\"heatmap\"}],\"histogram2dcontour\":[{\"colorbar\":{\"outlinewidth\":0,\"ticks\":\"\"},\"colorscale\":[[0.0,\"#0d0887\"],[0.1111111111111111,\"#46039f\"],[0.2222222222222222,\"#7201a8\"],[0.3333333333333333,\"#9c179e\"],[0.4444444444444444,\"#bd3786\"],[0.5555555555555556,\"#d8576b\"],[0.6666666666666666,\"#ed7953\"],[0.7777777777777778,\"#fb9f3a\"],[0.8888888888888888,\"#fdca26\"],[1.0,\"#f0f921\"]],\"type\":\"histogram2dcontour\"}],\"histogram2d\":[{\"colorbar\":{\"outlinewidth\":0,\"ticks\":\"\"},\"colorscale\":[[0.0,\"#0d0887\"],[0.1111111111111111,\"#46039f\"],[0.2222222222222222,\"#7201a8\"],[0.3333333333333333,\"#9c179e\"],[0.4444444444444444,\"#bd3786\"],[0.5555555555555556,\"#d8576b\"],[0.6666666666666666,\"#ed7953\"],[0.7777777777777778,\"#fb9f3a\"],[0.8888888888888888,\"#fdca26\"],[1.0,\"#f0f921\"]],\"type\":\"histogram2d\"}],\"histogram\":[{\"marker\":{\"pattern\":{\"fillmode\":\"overlay\",\"size\":10,\"solidity\":0.2}},\"type\":\"histogram\"}],\"mesh3d\":[{\"colorbar\":{\"outlinewidth\":0,\"ticks\":\"\"},\"type\":\"mesh3d\"}],\"parcoords\":[{\"line\":{\"colorbar\":{\"outlinewidth\":0,\"ticks\":\"\"}},\"type\":\"parcoords\"}],\"pie\":[{\"automargin\":true,\"type\":\"pie\"}],\"scatter3d\":[{\"line\":{\"colorbar\":{\"outlinewidth\":0,\"ticks\":\"\"}},\"marker\":{\"colorbar\":{\"outlinewidth\":0,\"ticks\":\"\"}},\"type\":\"scatter3d\"}],\"scattercarpet\":[{\"marker\":{\"colorbar\":{\"outlinewidth\":0,\"ticks\":\"\"}},\"type\":\"scattercarpet\"}],\"scattergeo\":[{\"marker\":{\"colorbar\":{\"outlinewidth\":0,\"ticks\":\"\"}},\"type\":\"scattergeo\"}],\"scattergl\":[{\"marker\":{\"line\":{\"color\":\"#283442\"}},\"type\":\"scattergl\"}],\"scattermapbox\":[{\"marker\":{\"colorbar\":{\"outlinewidth\":0,\"ticks\":\"\"}},\"type\":\"scattermapbox\"}],\"scatterpolargl\":[{\"marker\":{\"colorbar\":{\"outlinewidth\":0,\"ticks\":\"\"}},\"type\":\"scatterpolargl\"}],\"scatterpolar\":[{\"marker\":{\"colorbar\":{\"outlinewidth\":0,\"ticks\":\"\"}},\"type\":\"scatterpolar\"}],\"scatter\":[{\"marker\":{\"line\":{\"color\":\"#283442\"}},\"type\":\"scatter\"}],\"scatterternary\":[{\"marker\":{\"colorbar\":{\"outlinewidth\":0,\"ticks\":\"\"}},\"type\":\"scatterternary\"}],\"surface\":[{\"colorbar\":{\"outlinewidth\":0,\"ticks\":\"\"},\"colorscale\":[[0.0,\"#0d0887\"],[0.1111111111111111,\"#46039f\"],[0.2222222222222222,\"#7201a8\"],[0.3333333333333333,\"#9c179e\"],[0.4444444444444444,\"#bd3786\"],[0.5555555555555556,\"#d8576b\"],[0.6666666666666666,\"#ed7953\"],[0.7777777777777778,\"#fb9f3a\"],[0.8888888888888888,\"#fdca26\"],[1.0,\"#f0f921\"]],\"type\":\"surface\"}],\"table\":[{\"cells\":{\"fill\":{\"color\":\"#506784\"},\"line\":{\"color\":\"rgb(17,17,17)\"}},\"header\":{\"fill\":{\"color\":\"#2a3f5f\"},\"line\":{\"color\":\"rgb(17,17,17)\"}},\"type\":\"table\"}]},\"layout\":{\"annotationdefaults\":{\"arrowcolor\":\"#f2f5fa\",\"arrowhead\":0,\"arrowwidth\":1},\"autotypenumbers\":\"strict\",\"coloraxis\":{\"colorbar\":{\"outlinewidth\":0,\"ticks\":\"\"}},\"colorscale\":{\"diverging\":[[0,\"#8e0152\"],[0.1,\"#c51b7d\"],[0.2,\"#de77ae\"],[0.3,\"#f1b6da\"],[0.4,\"#fde0ef\"],[0.5,\"#f7f7f7\"],[0.6,\"#e6f5d0\"],[0.7,\"#b8e186\"],[0.8,\"#7fbc41\"],[0.9,\"#4d9221\"],[1,\"#276419\"]],\"sequential\":[[0.0,\"#0d0887\"],[0.1111111111111111,\"#46039f\"],[0.2222222222222222,\"#7201a8\"],[0.3333333333333333,\"#9c179e\"],[0.4444444444444444,\"#bd3786\"],[0.5555555555555556,\"#d8576b\"],[0.6666666666666666,\"#ed7953\"],[0.7777777777777778,\"#fb9f3a\"],[0.8888888888888888,\"#fdca26\"],[1.0,\"#f0f921\"]],\"sequentialminus\":[[0.0,\"#0d0887\"],[0.1111111111111111,\"#46039f\"],[0.2222222222222222,\"#7201a8\"],[0.3333333333333333,\"#9c179e\"],[0.4444444444444444,\"#bd3786\"],[0.5555555555555556,\"#d8576b\"],[0.6666666666666666,\"#ed7953\"],[0.7777777777777778,\"#fb9f3a\"],[0.8888888888888888,\"#fdca26\"],[1.0,\"#f0f921\"]]},\"colorway\":[\"#636efa\",\"#EF553B\",\"#00cc96\",\"#ab63fa\",\"#FFA15A\",\"#19d3f3\",\"#FF6692\",\"#B6E880\",\"#FF97FF\",\"#FECB52\"],\"font\":{\"color\":\"#f2f5fa\"},\"geo\":{\"bgcolor\":\"rgb(17,17,17)\",\"lakecolor\":\"rgb(17,17,17)\",\"landcolor\":\"rgb(17,17,17)\",\"showlakes\":true,\"showland\":true,\"subunitcolor\":\"#506784\"},\"hoverlabel\":{\"align\":\"left\"},\"hovermode\":\"closest\",\"mapbox\":{\"style\":\"dark\"},\"paper_bgcolor\":\"rgb(17,17,17)\",\"plot_bgcolor\":\"rgb(17,17,17)\",\"polar\":{\"angularaxis\":{\"gridcolor\":\"#506784\",\"linecolor\":\"#506784\",\"ticks\":\"\"},\"bgcolor\":\"rgb(17,17,17)\",\"radialaxis\":{\"gridcolor\":\"#506784\",\"linecolor\":\"#506784\",\"ticks\":\"\"}},\"scene\":{\"xaxis\":{\"backgroundcolor\":\"rgb(17,17,17)\",\"gridcolor\":\"#506784\",\"gridwidth\":2,\"linecolor\":\"#506784\",\"showbackground\":true,\"ticks\":\"\",\"zerolinecolor\":\"#C8D4E3\"},\"yaxis\":{\"backgroundcolor\":\"rgb(17,17,17)\",\"gridcolor\":\"#506784\",\"gridwidth\":2,\"linecolor\":\"#506784\",\"showbackground\":true,\"ticks\":\"\",\"zerolinecolor\":\"#C8D4E3\"},\"zaxis\":{\"backgroundcolor\":\"rgb(17,17,17)\",\"gridcolor\":\"#506784\",\"gridwidth\":2,\"linecolor\":\"#506784\",\"showbackground\":true,\"ticks\":\"\",\"zerolinecolor\":\"#C8D4E3\"}},\"shapedefaults\":{\"line\":{\"color\":\"#f2f5fa\"}},\"sliderdefaults\":{\"bgcolor\":\"#C8D4E3\",\"bordercolor\":\"rgb(17,17,17)\",\"borderwidth\":1,\"tickwidth\":0},\"ternary\":{\"aaxis\":{\"gridcolor\":\"#506784\",\"linecolor\":\"#506784\",\"ticks\":\"\"},\"baxis\":{\"gridcolor\":\"#506784\",\"linecolor\":\"#506784\",\"ticks\":\"\"},\"bgcolor\":\"rgb(17,17,17)\",\"caxis\":{\"gridcolor\":\"#506784\",\"linecolor\":\"#506784\",\"ticks\":\"\"}},\"title\":{\"x\":0.05},\"updatemenudefaults\":{\"bgcolor\":\"#506784\",\"borderwidth\":0},\"xaxis\":{\"automargin\":true,\"gridcolor\":\"#283442\",\"linecolor\":\"#506784\",\"ticks\":\"\",\"title\":{\"standoff\":15},\"zerolinecolor\":\"#283442\",\"zerolinewidth\":2},\"yaxis\":{\"automargin\":true,\"gridcolor\":\"#283442\",\"linecolor\":\"#506784\",\"ticks\":\"\",\"title\":{\"standoff\":15},\"zerolinecolor\":\"#283442\",\"zerolinewidth\":2}}},\"annotations\":[{\"font\":{\"size\":16},\"showarrow\":false,\"text\":\"Stock\",\"x\":0.2125,\"xanchor\":\"center\",\"xref\":\"paper\",\"y\":1.0,\"yanchor\":\"bottom\",\"yref\":\"paper\"},{\"font\":{\"size\":16},\"showarrow\":false,\"text\":\"Industry\",\"x\":0.7875,\"xanchor\":\"center\",\"xref\":\"paper\",\"y\":1.0,\"yanchor\":\"bottom\",\"yref\":\"paper\"}],\"title\":{\"text\":\"Portfolio Breakdown\"},\"width\":1000,\"height\":400},                        {\"responsive\": true}                    ).then(function(){\n",
       "                            \n",
       "var gd = document.getElementById('83a69f43-f95b-4ac8-963b-bae2f3ba8cef');\n",
       "var x = new MutationObserver(function (mutations, observer) {{\n",
       "        var display = window.getComputedStyle(gd).display;\n",
       "        if (!display || display === 'none') {{\n",
       "            console.log([gd, 'removed!']);\n",
       "            Plotly.purge(gd);\n",
       "            observer.disconnect();\n",
       "        }}\n",
       "}});\n",
       "\n",
       "// Listen for the removal of the full notebook cells\n",
       "var notebookContainer = gd.closest('#notebook-container');\n",
       "if (notebookContainer) {{\n",
       "    x.observe(notebookContainer, {childList: true});\n",
       "}}\n",
       "\n",
       "// Listen for the clearing of the current output cell\n",
       "var outputEl = gd.closest('.output');\n",
       "if (outputEl) {{\n",
       "    x.observe(outputEl, {childList: true});\n",
       "}}\n",
       "\n",
       "                        })                };                });            </script>        </div>"
      ]
     },
     "metadata": {},
     "output_type": "display_data"
    }
   ],
   "source": [
    "labels = df['symbol']\n",
    "values = df['market_value']\n",
    "\n",
    "# Construct a 2 x 2 Plotly figure\n",
    "fig = make_subplots(rows=1, cols=2, specs=[[{'type': 'pie'}, {'type': 'pie'}]],\n",
    "                    subplot_titles=('Stock', 'Industry'),\n",
    "                    horizontal_spacing= 0.15)\n",
    "\n",
    "# Use `hole` to create a donut-like pie chart\n",
    "fig.add_trace(go.Pie(labels=labels, values=values, hole=.5, name='Market Value',\n",
    "                     marker = dict(line = dict(color = 'black', width = 2)),  legendgroup = '1'), row=1, col=1)\n",
    "fig.add_trace(go.Pie(labels=df['industry'], values=values, hole=.5, name='Industry Value',\n",
    "                     marker = dict(line = dict(color = 'black', width = 2)),  legendgroup = '2'), row=1, col=2)\n",
    "fig.update_layout(\n",
    "    title='Portfolio Breakdown',\n",
    "    template=TEMPLATE,\n",
    "    width=1000,\n",
    "    height=400,\n",
    ")\n",
    "\n",
    "fig.show()"
   ]
  },
  {
   "cell_type": "markdown",
   "id": "aeaa3a64-064c-41db-8eb6-970c4faaaef7",
   "metadata": {},
   "source": [
    "## Portfolio Growth"
   ]
  },
  {
   "cell_type": "code",
   "execution_count": 19,
   "id": "2b6e76dc-31fc-480e-9f8c-0689ba3953ca",
   "metadata": {},
   "outputs": [
    {
     "data": {
      "application/vnd.plotly.v1+json": {
       "config": {
        "plotlyServerURL": "https://plot.ly"
       },
       "data": [
        {
         "alignmentgroup": "True",
         "hovertemplate": "symbol=%{x}<br>gain_loss_pct=%{y}<extra></extra>",
         "legendgroup": "",
         "marker": {
          "color": "#636efa",
          "pattern": {
           "shape": ""
          }
         },
         "name": "",
         "offsetgroup": "",
         "orientation": "v",
         "showlegend": false,
         "textposition": "auto",
         "type": "bar",
         "x": [
          "AMZN",
          "DDOG",
          "GOOG",
          "HAL",
          "TEAM"
         ],
         "xaxis": "x",
         "y": [
          66.25000000000001,
          22.631839113354314,
          39.45263157894738,
          38.25933811739348,
          -58.237991266375545
         ],
         "yaxis": "y"
        }
       ],
       "layout": {
        "barmode": "relative",
        "height": 400,
        "legend": {
         "tracegroupgap": 0
        },
        "margin": {
         "t": 60
        },
        "template": {
         "data": {
          "bar": [
           {
            "error_x": {
             "color": "#f2f5fa"
            },
            "error_y": {
             "color": "#f2f5fa"
            },
            "marker": {
             "line": {
              "color": "rgb(17,17,17)",
              "width": 0.5
             },
             "pattern": {
              "fillmode": "overlay",
              "size": 10,
              "solidity": 0.2
             }
            },
            "type": "bar"
           }
          ],
          "barpolar": [
           {
            "marker": {
             "line": {
              "color": "rgb(17,17,17)",
              "width": 0.5
             },
             "pattern": {
              "fillmode": "overlay",
              "size": 10,
              "solidity": 0.2
             }
            },
            "type": "barpolar"
           }
          ],
          "carpet": [
           {
            "aaxis": {
             "endlinecolor": "#A2B1C6",
             "gridcolor": "#506784",
             "linecolor": "#506784",
             "minorgridcolor": "#506784",
             "startlinecolor": "#A2B1C6"
            },
            "baxis": {
             "endlinecolor": "#A2B1C6",
             "gridcolor": "#506784",
             "linecolor": "#506784",
             "minorgridcolor": "#506784",
             "startlinecolor": "#A2B1C6"
            },
            "type": "carpet"
           }
          ],
          "choropleth": [
           {
            "colorbar": {
             "outlinewidth": 0,
             "ticks": ""
            },
            "type": "choropleth"
           }
          ],
          "contour": [
           {
            "colorbar": {
             "outlinewidth": 0,
             "ticks": ""
            },
            "colorscale": [
             [
              0,
              "#0d0887"
             ],
             [
              0.1111111111111111,
              "#46039f"
             ],
             [
              0.2222222222222222,
              "#7201a8"
             ],
             [
              0.3333333333333333,
              "#9c179e"
             ],
             [
              0.4444444444444444,
              "#bd3786"
             ],
             [
              0.5555555555555556,
              "#d8576b"
             ],
             [
              0.6666666666666666,
              "#ed7953"
             ],
             [
              0.7777777777777778,
              "#fb9f3a"
             ],
             [
              0.8888888888888888,
              "#fdca26"
             ],
             [
              1,
              "#f0f921"
             ]
            ],
            "type": "contour"
           }
          ],
          "contourcarpet": [
           {
            "colorbar": {
             "outlinewidth": 0,
             "ticks": ""
            },
            "type": "contourcarpet"
           }
          ],
          "heatmap": [
           {
            "colorbar": {
             "outlinewidth": 0,
             "ticks": ""
            },
            "colorscale": [
             [
              0,
              "#0d0887"
             ],
             [
              0.1111111111111111,
              "#46039f"
             ],
             [
              0.2222222222222222,
              "#7201a8"
             ],
             [
              0.3333333333333333,
              "#9c179e"
             ],
             [
              0.4444444444444444,
              "#bd3786"
             ],
             [
              0.5555555555555556,
              "#d8576b"
             ],
             [
              0.6666666666666666,
              "#ed7953"
             ],
             [
              0.7777777777777778,
              "#fb9f3a"
             ],
             [
              0.8888888888888888,
              "#fdca26"
             ],
             [
              1,
              "#f0f921"
             ]
            ],
            "type": "heatmap"
           }
          ],
          "heatmapgl": [
           {
            "colorbar": {
             "outlinewidth": 0,
             "ticks": ""
            },
            "colorscale": [
             [
              0,
              "#0d0887"
             ],
             [
              0.1111111111111111,
              "#46039f"
             ],
             [
              0.2222222222222222,
              "#7201a8"
             ],
             [
              0.3333333333333333,
              "#9c179e"
             ],
             [
              0.4444444444444444,
              "#bd3786"
             ],
             [
              0.5555555555555556,
              "#d8576b"
             ],
             [
              0.6666666666666666,
              "#ed7953"
             ],
             [
              0.7777777777777778,
              "#fb9f3a"
             ],
             [
              0.8888888888888888,
              "#fdca26"
             ],
             [
              1,
              "#f0f921"
             ]
            ],
            "type": "heatmapgl"
           }
          ],
          "histogram": [
           {
            "marker": {
             "pattern": {
              "fillmode": "overlay",
              "size": 10,
              "solidity": 0.2
             }
            },
            "type": "histogram"
           }
          ],
          "histogram2d": [
           {
            "colorbar": {
             "outlinewidth": 0,
             "ticks": ""
            },
            "colorscale": [
             [
              0,
              "#0d0887"
             ],
             [
              0.1111111111111111,
              "#46039f"
             ],
             [
              0.2222222222222222,
              "#7201a8"
             ],
             [
              0.3333333333333333,
              "#9c179e"
             ],
             [
              0.4444444444444444,
              "#bd3786"
             ],
             [
              0.5555555555555556,
              "#d8576b"
             ],
             [
              0.6666666666666666,
              "#ed7953"
             ],
             [
              0.7777777777777778,
              "#fb9f3a"
             ],
             [
              0.8888888888888888,
              "#fdca26"
             ],
             [
              1,
              "#f0f921"
             ]
            ],
            "type": "histogram2d"
           }
          ],
          "histogram2dcontour": [
           {
            "colorbar": {
             "outlinewidth": 0,
             "ticks": ""
            },
            "colorscale": [
             [
              0,
              "#0d0887"
             ],
             [
              0.1111111111111111,
              "#46039f"
             ],
             [
              0.2222222222222222,
              "#7201a8"
             ],
             [
              0.3333333333333333,
              "#9c179e"
             ],
             [
              0.4444444444444444,
              "#bd3786"
             ],
             [
              0.5555555555555556,
              "#d8576b"
             ],
             [
              0.6666666666666666,
              "#ed7953"
             ],
             [
              0.7777777777777778,
              "#fb9f3a"
             ],
             [
              0.8888888888888888,
              "#fdca26"
             ],
             [
              1,
              "#f0f921"
             ]
            ],
            "type": "histogram2dcontour"
           }
          ],
          "mesh3d": [
           {
            "colorbar": {
             "outlinewidth": 0,
             "ticks": ""
            },
            "type": "mesh3d"
           }
          ],
          "parcoords": [
           {
            "line": {
             "colorbar": {
              "outlinewidth": 0,
              "ticks": ""
             }
            },
            "type": "parcoords"
           }
          ],
          "pie": [
           {
            "automargin": true,
            "type": "pie"
           }
          ],
          "scatter": [
           {
            "marker": {
             "line": {
              "color": "#283442"
             }
            },
            "type": "scatter"
           }
          ],
          "scatter3d": [
           {
            "line": {
             "colorbar": {
              "outlinewidth": 0,
              "ticks": ""
             }
            },
            "marker": {
             "colorbar": {
              "outlinewidth": 0,
              "ticks": ""
             }
            },
            "type": "scatter3d"
           }
          ],
          "scattercarpet": [
           {
            "marker": {
             "colorbar": {
              "outlinewidth": 0,
              "ticks": ""
             }
            },
            "type": "scattercarpet"
           }
          ],
          "scattergeo": [
           {
            "marker": {
             "colorbar": {
              "outlinewidth": 0,
              "ticks": ""
             }
            },
            "type": "scattergeo"
           }
          ],
          "scattergl": [
           {
            "marker": {
             "line": {
              "color": "#283442"
             }
            },
            "type": "scattergl"
           }
          ],
          "scattermapbox": [
           {
            "marker": {
             "colorbar": {
              "outlinewidth": 0,
              "ticks": ""
             }
            },
            "type": "scattermapbox"
           }
          ],
          "scatterpolar": [
           {
            "marker": {
             "colorbar": {
              "outlinewidth": 0,
              "ticks": ""
             }
            },
            "type": "scatterpolar"
           }
          ],
          "scatterpolargl": [
           {
            "marker": {
             "colorbar": {
              "outlinewidth": 0,
              "ticks": ""
             }
            },
            "type": "scatterpolargl"
           }
          ],
          "scatterternary": [
           {
            "marker": {
             "colorbar": {
              "outlinewidth": 0,
              "ticks": ""
             }
            },
            "type": "scatterternary"
           }
          ],
          "surface": [
           {
            "colorbar": {
             "outlinewidth": 0,
             "ticks": ""
            },
            "colorscale": [
             [
              0,
              "#0d0887"
             ],
             [
              0.1111111111111111,
              "#46039f"
             ],
             [
              0.2222222222222222,
              "#7201a8"
             ],
             [
              0.3333333333333333,
              "#9c179e"
             ],
             [
              0.4444444444444444,
              "#bd3786"
             ],
             [
              0.5555555555555556,
              "#d8576b"
             ],
             [
              0.6666666666666666,
              "#ed7953"
             ],
             [
              0.7777777777777778,
              "#fb9f3a"
             ],
             [
              0.8888888888888888,
              "#fdca26"
             ],
             [
              1,
              "#f0f921"
             ]
            ],
            "type": "surface"
           }
          ],
          "table": [
           {
            "cells": {
             "fill": {
              "color": "#506784"
             },
             "line": {
              "color": "rgb(17,17,17)"
             }
            },
            "header": {
             "fill": {
              "color": "#2a3f5f"
             },
             "line": {
              "color": "rgb(17,17,17)"
             }
            },
            "type": "table"
           }
          ]
         },
         "layout": {
          "annotationdefaults": {
           "arrowcolor": "#f2f5fa",
           "arrowhead": 0,
           "arrowwidth": 1
          },
          "autotypenumbers": "strict",
          "coloraxis": {
           "colorbar": {
            "outlinewidth": 0,
            "ticks": ""
           }
          },
          "colorscale": {
           "diverging": [
            [
             0,
             "#8e0152"
            ],
            [
             0.1,
             "#c51b7d"
            ],
            [
             0.2,
             "#de77ae"
            ],
            [
             0.3,
             "#f1b6da"
            ],
            [
             0.4,
             "#fde0ef"
            ],
            [
             0.5,
             "#f7f7f7"
            ],
            [
             0.6,
             "#e6f5d0"
            ],
            [
             0.7,
             "#b8e186"
            ],
            [
             0.8,
             "#7fbc41"
            ],
            [
             0.9,
             "#4d9221"
            ],
            [
             1,
             "#276419"
            ]
           ],
           "sequential": [
            [
             0,
             "#0d0887"
            ],
            [
             0.1111111111111111,
             "#46039f"
            ],
            [
             0.2222222222222222,
             "#7201a8"
            ],
            [
             0.3333333333333333,
             "#9c179e"
            ],
            [
             0.4444444444444444,
             "#bd3786"
            ],
            [
             0.5555555555555556,
             "#d8576b"
            ],
            [
             0.6666666666666666,
             "#ed7953"
            ],
            [
             0.7777777777777778,
             "#fb9f3a"
            ],
            [
             0.8888888888888888,
             "#fdca26"
            ],
            [
             1,
             "#f0f921"
            ]
           ],
           "sequentialminus": [
            [
             0,
             "#0d0887"
            ],
            [
             0.1111111111111111,
             "#46039f"
            ],
            [
             0.2222222222222222,
             "#7201a8"
            ],
            [
             0.3333333333333333,
             "#9c179e"
            ],
            [
             0.4444444444444444,
             "#bd3786"
            ],
            [
             0.5555555555555556,
             "#d8576b"
            ],
            [
             0.6666666666666666,
             "#ed7953"
            ],
            [
             0.7777777777777778,
             "#fb9f3a"
            ],
            [
             0.8888888888888888,
             "#fdca26"
            ],
            [
             1,
             "#f0f921"
            ]
           ]
          },
          "colorway": [
           "#636efa",
           "#EF553B",
           "#00cc96",
           "#ab63fa",
           "#FFA15A",
           "#19d3f3",
           "#FF6692",
           "#B6E880",
           "#FF97FF",
           "#FECB52"
          ],
          "font": {
           "color": "#f2f5fa"
          },
          "geo": {
           "bgcolor": "rgb(17,17,17)",
           "lakecolor": "rgb(17,17,17)",
           "landcolor": "rgb(17,17,17)",
           "showlakes": true,
           "showland": true,
           "subunitcolor": "#506784"
          },
          "hoverlabel": {
           "align": "left"
          },
          "hovermode": "closest",
          "mapbox": {
           "style": "dark"
          },
          "paper_bgcolor": "rgb(17,17,17)",
          "plot_bgcolor": "rgb(17,17,17)",
          "polar": {
           "angularaxis": {
            "gridcolor": "#506784",
            "linecolor": "#506784",
            "ticks": ""
           },
           "bgcolor": "rgb(17,17,17)",
           "radialaxis": {
            "gridcolor": "#506784",
            "linecolor": "#506784",
            "ticks": ""
           }
          },
          "scene": {
           "xaxis": {
            "backgroundcolor": "rgb(17,17,17)",
            "gridcolor": "#506784",
            "gridwidth": 2,
            "linecolor": "#506784",
            "showbackground": true,
            "ticks": "",
            "zerolinecolor": "#C8D4E3"
           },
           "yaxis": {
            "backgroundcolor": "rgb(17,17,17)",
            "gridcolor": "#506784",
            "gridwidth": 2,
            "linecolor": "#506784",
            "showbackground": true,
            "ticks": "",
            "zerolinecolor": "#C8D4E3"
           },
           "zaxis": {
            "backgroundcolor": "rgb(17,17,17)",
            "gridcolor": "#506784",
            "gridwidth": 2,
            "linecolor": "#506784",
            "showbackground": true,
            "ticks": "",
            "zerolinecolor": "#C8D4E3"
           }
          },
          "shapedefaults": {
           "line": {
            "color": "#f2f5fa"
           }
          },
          "sliderdefaults": {
           "bgcolor": "#C8D4E3",
           "bordercolor": "rgb(17,17,17)",
           "borderwidth": 1,
           "tickwidth": 0
          },
          "ternary": {
           "aaxis": {
            "gridcolor": "#506784",
            "linecolor": "#506784",
            "ticks": ""
           },
           "baxis": {
            "gridcolor": "#506784",
            "linecolor": "#506784",
            "ticks": ""
           },
           "bgcolor": "rgb(17,17,17)",
           "caxis": {
            "gridcolor": "#506784",
            "linecolor": "#506784",
            "ticks": ""
           }
          },
          "title": {
           "x": 0.05
          },
          "updatemenudefaults": {
           "bgcolor": "#506784",
           "borderwidth": 0
          },
          "xaxis": {
           "automargin": true,
           "gridcolor": "#283442",
           "linecolor": "#506784",
           "ticks": "",
           "title": {
            "standoff": 15
           },
           "zerolinecolor": "#283442",
           "zerolinewidth": 2
          },
          "yaxis": {
           "automargin": true,
           "gridcolor": "#283442",
           "linecolor": "#506784",
           "ticks": "",
           "title": {
            "standoff": 15
           },
           "zerolinecolor": "#283442",
           "zerolinewidth": 2
          }
         }
        },
        "title": {
         "text": "Portfolio Growth"
        },
        "width": 600,
        "xaxis": {
         "anchor": "y",
         "autorange": true,
         "domain": [
          0,
          1
         ],
         "range": [
          -0.5,
          4.5
         ],
         "title": {
          "text": "Symbol"
         },
         "type": "category"
        },
        "yaxis": {
         "anchor": "x",
         "autorange": true,
         "domain": [
          0,
          1
         ],
         "range": [
          -65.15399078117419,
          73.16599951479866
         ],
         "title": {
          "text": "Growth %"
         },
         "type": "linear"
        }
       }
      },
      "text/html": [
       "<div>                            <div id=\"9a0abfc6-3dad-4aaf-863d-56f587454c74\" class=\"plotly-graph-div\" style=\"height:400px; width:600px;\"></div>            <script type=\"text/javascript\">                require([\"plotly\"], function(Plotly) {                    window.PLOTLYENV=window.PLOTLYENV || {};                                    if (document.getElementById(\"9a0abfc6-3dad-4aaf-863d-56f587454c74\")) {                    Plotly.newPlot(                        \"9a0abfc6-3dad-4aaf-863d-56f587454c74\",                        [{\"alignmentgroup\":\"True\",\"hovertemplate\":\"symbol=%{x}\\u003cbr\\u003egain_loss_pct=%{y}\\u003cextra\\u003e\\u003c\\u002fextra\\u003e\",\"legendgroup\":\"\",\"marker\":{\"color\":\"#636efa\",\"pattern\":{\"shape\":\"\"}},\"name\":\"\",\"offsetgroup\":\"\",\"orientation\":\"v\",\"showlegend\":false,\"textposition\":\"auto\",\"x\":[\"AMZN\",\"DDOG\",\"GOOG\",\"HAL\",\"TEAM\"],\"xaxis\":\"x\",\"y\":[66.25000000000001,22.631839113354314,39.45263157894738,38.25933811739348,-58.237991266375545],\"yaxis\":\"y\",\"type\":\"bar\"}],                        {\"template\":{\"data\":{\"barpolar\":[{\"marker\":{\"line\":{\"color\":\"rgb(17,17,17)\",\"width\":0.5},\"pattern\":{\"fillmode\":\"overlay\",\"size\":10,\"solidity\":0.2}},\"type\":\"barpolar\"}],\"bar\":[{\"error_x\":{\"color\":\"#f2f5fa\"},\"error_y\":{\"color\":\"#f2f5fa\"},\"marker\":{\"line\":{\"color\":\"rgb(17,17,17)\",\"width\":0.5},\"pattern\":{\"fillmode\":\"overlay\",\"size\":10,\"solidity\":0.2}},\"type\":\"bar\"}],\"carpet\":[{\"aaxis\":{\"endlinecolor\":\"#A2B1C6\",\"gridcolor\":\"#506784\",\"linecolor\":\"#506784\",\"minorgridcolor\":\"#506784\",\"startlinecolor\":\"#A2B1C6\"},\"baxis\":{\"endlinecolor\":\"#A2B1C6\",\"gridcolor\":\"#506784\",\"linecolor\":\"#506784\",\"minorgridcolor\":\"#506784\",\"startlinecolor\":\"#A2B1C6\"},\"type\":\"carpet\"}],\"choropleth\":[{\"colorbar\":{\"outlinewidth\":0,\"ticks\":\"\"},\"type\":\"choropleth\"}],\"contourcarpet\":[{\"colorbar\":{\"outlinewidth\":0,\"ticks\":\"\"},\"type\":\"contourcarpet\"}],\"contour\":[{\"colorbar\":{\"outlinewidth\":0,\"ticks\":\"\"},\"colorscale\":[[0.0,\"#0d0887\"],[0.1111111111111111,\"#46039f\"],[0.2222222222222222,\"#7201a8\"],[0.3333333333333333,\"#9c179e\"],[0.4444444444444444,\"#bd3786\"],[0.5555555555555556,\"#d8576b\"],[0.6666666666666666,\"#ed7953\"],[0.7777777777777778,\"#fb9f3a\"],[0.8888888888888888,\"#fdca26\"],[1.0,\"#f0f921\"]],\"type\":\"contour\"}],\"heatmapgl\":[{\"colorbar\":{\"outlinewidth\":0,\"ticks\":\"\"},\"colorscale\":[[0.0,\"#0d0887\"],[0.1111111111111111,\"#46039f\"],[0.2222222222222222,\"#7201a8\"],[0.3333333333333333,\"#9c179e\"],[0.4444444444444444,\"#bd3786\"],[0.5555555555555556,\"#d8576b\"],[0.6666666666666666,\"#ed7953\"],[0.7777777777777778,\"#fb9f3a\"],[0.8888888888888888,\"#fdca26\"],[1.0,\"#f0f921\"]],\"type\":\"heatmapgl\"}],\"heatmap\":[{\"colorbar\":{\"outlinewidth\":0,\"ticks\":\"\"},\"colorscale\":[[0.0,\"#0d0887\"],[0.1111111111111111,\"#46039f\"],[0.2222222222222222,\"#7201a8\"],[0.3333333333333333,\"#9c179e\"],[0.4444444444444444,\"#bd3786\"],[0.5555555555555556,\"#d8576b\"],[0.6666666666666666,\"#ed7953\"],[0.7777777777777778,\"#fb9f3a\"],[0.8888888888888888,\"#fdca26\"],[1.0,\"#f0f921\"]],\"type\":\"heatmap\"}],\"histogram2dcontour\":[{\"colorbar\":{\"outlinewidth\":0,\"ticks\":\"\"},\"colorscale\":[[0.0,\"#0d0887\"],[0.1111111111111111,\"#46039f\"],[0.2222222222222222,\"#7201a8\"],[0.3333333333333333,\"#9c179e\"],[0.4444444444444444,\"#bd3786\"],[0.5555555555555556,\"#d8576b\"],[0.6666666666666666,\"#ed7953\"],[0.7777777777777778,\"#fb9f3a\"],[0.8888888888888888,\"#fdca26\"],[1.0,\"#f0f921\"]],\"type\":\"histogram2dcontour\"}],\"histogram2d\":[{\"colorbar\":{\"outlinewidth\":0,\"ticks\":\"\"},\"colorscale\":[[0.0,\"#0d0887\"],[0.1111111111111111,\"#46039f\"],[0.2222222222222222,\"#7201a8\"],[0.3333333333333333,\"#9c179e\"],[0.4444444444444444,\"#bd3786\"],[0.5555555555555556,\"#d8576b\"],[0.6666666666666666,\"#ed7953\"],[0.7777777777777778,\"#fb9f3a\"],[0.8888888888888888,\"#fdca26\"],[1.0,\"#f0f921\"]],\"type\":\"histogram2d\"}],\"histogram\":[{\"marker\":{\"pattern\":{\"fillmode\":\"overlay\",\"size\":10,\"solidity\":0.2}},\"type\":\"histogram\"}],\"mesh3d\":[{\"colorbar\":{\"outlinewidth\":0,\"ticks\":\"\"},\"type\":\"mesh3d\"}],\"parcoords\":[{\"line\":{\"colorbar\":{\"outlinewidth\":0,\"ticks\":\"\"}},\"type\":\"parcoords\"}],\"pie\":[{\"automargin\":true,\"type\":\"pie\"}],\"scatter3d\":[{\"line\":{\"colorbar\":{\"outlinewidth\":0,\"ticks\":\"\"}},\"marker\":{\"colorbar\":{\"outlinewidth\":0,\"ticks\":\"\"}},\"type\":\"scatter3d\"}],\"scattercarpet\":[{\"marker\":{\"colorbar\":{\"outlinewidth\":0,\"ticks\":\"\"}},\"type\":\"scattercarpet\"}],\"scattergeo\":[{\"marker\":{\"colorbar\":{\"outlinewidth\":0,\"ticks\":\"\"}},\"type\":\"scattergeo\"}],\"scattergl\":[{\"marker\":{\"line\":{\"color\":\"#283442\"}},\"type\":\"scattergl\"}],\"scattermapbox\":[{\"marker\":{\"colorbar\":{\"outlinewidth\":0,\"ticks\":\"\"}},\"type\":\"scattermapbox\"}],\"scatterpolargl\":[{\"marker\":{\"colorbar\":{\"outlinewidth\":0,\"ticks\":\"\"}},\"type\":\"scatterpolargl\"}],\"scatterpolar\":[{\"marker\":{\"colorbar\":{\"outlinewidth\":0,\"ticks\":\"\"}},\"type\":\"scatterpolar\"}],\"scatter\":[{\"marker\":{\"line\":{\"color\":\"#283442\"}},\"type\":\"scatter\"}],\"scatterternary\":[{\"marker\":{\"colorbar\":{\"outlinewidth\":0,\"ticks\":\"\"}},\"type\":\"scatterternary\"}],\"surface\":[{\"colorbar\":{\"outlinewidth\":0,\"ticks\":\"\"},\"colorscale\":[[0.0,\"#0d0887\"],[0.1111111111111111,\"#46039f\"],[0.2222222222222222,\"#7201a8\"],[0.3333333333333333,\"#9c179e\"],[0.4444444444444444,\"#bd3786\"],[0.5555555555555556,\"#d8576b\"],[0.6666666666666666,\"#ed7953\"],[0.7777777777777778,\"#fb9f3a\"],[0.8888888888888888,\"#fdca26\"],[1.0,\"#f0f921\"]],\"type\":\"surface\"}],\"table\":[{\"cells\":{\"fill\":{\"color\":\"#506784\"},\"line\":{\"color\":\"rgb(17,17,17)\"}},\"header\":{\"fill\":{\"color\":\"#2a3f5f\"},\"line\":{\"color\":\"rgb(17,17,17)\"}},\"type\":\"table\"}]},\"layout\":{\"annotationdefaults\":{\"arrowcolor\":\"#f2f5fa\",\"arrowhead\":0,\"arrowwidth\":1},\"autotypenumbers\":\"strict\",\"coloraxis\":{\"colorbar\":{\"outlinewidth\":0,\"ticks\":\"\"}},\"colorscale\":{\"diverging\":[[0,\"#8e0152\"],[0.1,\"#c51b7d\"],[0.2,\"#de77ae\"],[0.3,\"#f1b6da\"],[0.4,\"#fde0ef\"],[0.5,\"#f7f7f7\"],[0.6,\"#e6f5d0\"],[0.7,\"#b8e186\"],[0.8,\"#7fbc41\"],[0.9,\"#4d9221\"],[1,\"#276419\"]],\"sequential\":[[0.0,\"#0d0887\"],[0.1111111111111111,\"#46039f\"],[0.2222222222222222,\"#7201a8\"],[0.3333333333333333,\"#9c179e\"],[0.4444444444444444,\"#bd3786\"],[0.5555555555555556,\"#d8576b\"],[0.6666666666666666,\"#ed7953\"],[0.7777777777777778,\"#fb9f3a\"],[0.8888888888888888,\"#fdca26\"],[1.0,\"#f0f921\"]],\"sequentialminus\":[[0.0,\"#0d0887\"],[0.1111111111111111,\"#46039f\"],[0.2222222222222222,\"#7201a8\"],[0.3333333333333333,\"#9c179e\"],[0.4444444444444444,\"#bd3786\"],[0.5555555555555556,\"#d8576b\"],[0.6666666666666666,\"#ed7953\"],[0.7777777777777778,\"#fb9f3a\"],[0.8888888888888888,\"#fdca26\"],[1.0,\"#f0f921\"]]},\"colorway\":[\"#636efa\",\"#EF553B\",\"#00cc96\",\"#ab63fa\",\"#FFA15A\",\"#19d3f3\",\"#FF6692\",\"#B6E880\",\"#FF97FF\",\"#FECB52\"],\"font\":{\"color\":\"#f2f5fa\"},\"geo\":{\"bgcolor\":\"rgb(17,17,17)\",\"lakecolor\":\"rgb(17,17,17)\",\"landcolor\":\"rgb(17,17,17)\",\"showlakes\":true,\"showland\":true,\"subunitcolor\":\"#506784\"},\"hoverlabel\":{\"align\":\"left\"},\"hovermode\":\"closest\",\"mapbox\":{\"style\":\"dark\"},\"paper_bgcolor\":\"rgb(17,17,17)\",\"plot_bgcolor\":\"rgb(17,17,17)\",\"polar\":{\"angularaxis\":{\"gridcolor\":\"#506784\",\"linecolor\":\"#506784\",\"ticks\":\"\"},\"bgcolor\":\"rgb(17,17,17)\",\"radialaxis\":{\"gridcolor\":\"#506784\",\"linecolor\":\"#506784\",\"ticks\":\"\"}},\"scene\":{\"xaxis\":{\"backgroundcolor\":\"rgb(17,17,17)\",\"gridcolor\":\"#506784\",\"gridwidth\":2,\"linecolor\":\"#506784\",\"showbackground\":true,\"ticks\":\"\",\"zerolinecolor\":\"#C8D4E3\"},\"yaxis\":{\"backgroundcolor\":\"rgb(17,17,17)\",\"gridcolor\":\"#506784\",\"gridwidth\":2,\"linecolor\":\"#506784\",\"showbackground\":true,\"ticks\":\"\",\"zerolinecolor\":\"#C8D4E3\"},\"zaxis\":{\"backgroundcolor\":\"rgb(17,17,17)\",\"gridcolor\":\"#506784\",\"gridwidth\":2,\"linecolor\":\"#506784\",\"showbackground\":true,\"ticks\":\"\",\"zerolinecolor\":\"#C8D4E3\"}},\"shapedefaults\":{\"line\":{\"color\":\"#f2f5fa\"}},\"sliderdefaults\":{\"bgcolor\":\"#C8D4E3\",\"bordercolor\":\"rgb(17,17,17)\",\"borderwidth\":1,\"tickwidth\":0},\"ternary\":{\"aaxis\":{\"gridcolor\":\"#506784\",\"linecolor\":\"#506784\",\"ticks\":\"\"},\"baxis\":{\"gridcolor\":\"#506784\",\"linecolor\":\"#506784\",\"ticks\":\"\"},\"bgcolor\":\"rgb(17,17,17)\",\"caxis\":{\"gridcolor\":\"#506784\",\"linecolor\":\"#506784\",\"ticks\":\"\"}},\"title\":{\"x\":0.05},\"updatemenudefaults\":{\"bgcolor\":\"#506784\",\"borderwidth\":0},\"xaxis\":{\"automargin\":true,\"gridcolor\":\"#283442\",\"linecolor\":\"#506784\",\"ticks\":\"\",\"title\":{\"standoff\":15},\"zerolinecolor\":\"#283442\",\"zerolinewidth\":2},\"yaxis\":{\"automargin\":true,\"gridcolor\":\"#283442\",\"linecolor\":\"#506784\",\"ticks\":\"\",\"title\":{\"standoff\":15},\"zerolinecolor\":\"#283442\",\"zerolinewidth\":2}}},\"xaxis\":{\"anchor\":\"y\",\"domain\":[0.0,1.0],\"title\":{\"text\":\"Symbol\"}},\"yaxis\":{\"anchor\":\"x\",\"domain\":[0.0,1.0],\"title\":{\"text\":\"Growth %\"}},\"legend\":{\"tracegroupgap\":0},\"margin\":{\"t\":60},\"barmode\":\"relative\",\"title\":{\"text\":\"Portfolio Growth\"},\"width\":600,\"height\":400},                        {\"responsive\": true}                    ).then(function(){\n",
       "                            \n",
       "var gd = document.getElementById('9a0abfc6-3dad-4aaf-863d-56f587454c74');\n",
       "var x = new MutationObserver(function (mutations, observer) {{\n",
       "        var display = window.getComputedStyle(gd).display;\n",
       "        if (!display || display === 'none') {{\n",
       "            console.log([gd, 'removed!']);\n",
       "            Plotly.purge(gd);\n",
       "            observer.disconnect();\n",
       "        }}\n",
       "}});\n",
       "\n",
       "// Listen for the removal of the full notebook cells\n",
       "var notebookContainer = gd.closest('#notebook-container');\n",
       "if (notebookContainer) {{\n",
       "    x.observe(notebookContainer, {childList: true});\n",
       "}}\n",
       "\n",
       "// Listen for the clearing of the current output cell\n",
       "var outputEl = gd.closest('.output');\n",
       "if (outputEl) {{\n",
       "    x.observe(outputEl, {childList: true});\n",
       "}}\n",
       "\n",
       "                        })                };                });            </script>        </div>"
      ]
     },
     "metadata": {},
     "output_type": "display_data"
    }
   ],
   "source": [
    "fig = px.bar(df, x='symbol', y='gain_loss_pct')\n",
    "fig['layout']['yaxis']['title']='Growth %'\n",
    "fig['layout']['xaxis']['title']='Symbol'\n",
    "fig.update_layout(\n",
    "    title='Portfolio Growth',\n",
    "    template=TEMPLATE,\n",
    "    width=600,\n",
    "    height=400,\n",
    ")\n",
    "\n",
    "fig.show()"
   ]
  },
  {
   "cell_type": "markdown",
   "id": "b1db6b66-99bc-4b36-b236-a79641644e7c",
   "metadata": {},
   "source": [
    "## Portfolio summary"
   ]
  },
  {
   "cell_type": "code",
   "execution_count": 20,
   "id": "a6ca5a6c-fe19-464d-9d11-0212ebc36394",
   "metadata": {},
   "outputs": [
    {
     "data": {
      "text/html": [
       "<style type=\"text/css\">\n",
       "#T_94944 th.col_heading {\n",
       "  text-align: center;\n",
       "}\n",
       "#T_94944 caption {\n",
       "  text-align: center;\n",
       "  font-size: 12pt;\n",
       "  font-weight: bold;\n",
       "}\n",
       "#T_94944_row0_col2, #T_94944_row0_col3 {\n",
       "  color: green;\n",
       "}\n",
       "</style>\n",
       "<table id=\"T_94944\">\n",
       "  <caption>My Portfolio Summary</caption>\n",
       "  <thead>\n",
       "    <tr>\n",
       "      <th id=\"T_94944_level0_col0\" class=\"col_heading level0 col0\" >Total Cost</th>\n",
       "      <th id=\"T_94944_level0_col1\" class=\"col_heading level0 col1\" >Total Market Value</th>\n",
       "      <th id=\"T_94944_level0_col2\" class=\"col_heading level0 col2\" >Gain/Loss $</th>\n",
       "      <th id=\"T_94944_level0_col3\" class=\"col_heading level0 col3\" >Gain/Loss %</th>\n",
       "    </tr>\n",
       "  </thead>\n",
       "  <tbody>\n",
       "    <tr>\n",
       "      <td id=\"T_94944_row0_col0\" class=\"data row0 col0\" >$29,734.00</td>\n",
       "      <td id=\"T_94944_row0_col1\" class=\"data row0 col1\" >$33,349.50</td>\n",
       "      <td id=\"T_94944_row0_col2\" class=\"data row0 col2\" >🡅 $3,615.50</td>\n",
       "      <td id=\"T_94944_row0_col3\" class=\"data row0 col3\" >🡅 12.16%</td>\n",
       "    </tr>\n",
       "  </tbody>\n",
       "</table>\n"
      ],
      "text/plain": [
       "<pandas.io.formats.style.Styler at 0x7faf141bd610>"
      ]
     },
     "execution_count": 20,
     "metadata": {},
     "output_type": "execute_result"
    }
   ],
   "source": [
    "cost = df['cost'].sum()\n",
    "market_value = df['market_value'].sum()\n",
    "summary_df = pd.DataFrame(np.array([[cost, market_value, 0, 0]]),\n",
    "                   columns=['tot_cost', 'tot_market_value', 'gain_loss', 'gain_loss_pct'])\n",
    "gain = market_value - cost\n",
    "summary_df.at[0, 'gain_loss'] = gain\n",
    "summary_df.at[0, 'gain_loss_pct'] = (gain/cost) * 100\n",
    "\n",
    "summary_df.style.set_caption('My Portfolio Summary').set_table_styles(\n",
    "    [{'selector': 'th.col_heading', 'props': 'text-align: center'},\n",
    "     {'selector': 'caption', 'props': [('text-align', 'center'),\n",
    "                                       ('font-size', '12pt'), ('font-weight', 'bold')]}]).map(\n",
    "    color_arrow, subset=['gain_loss','gain_loss_pct']).format({\n",
    "        'tot_cost': '${:,.2f}', 'tot_market_value': '${:,.2f}'}).format(\n",
    "    dollar_change, subset=['gain_loss']).format(pct_change, subset=['gain_loss_pct']).format_index(\n",
    "    column_formatter, axis=1).hide(axis='index')"
   ]
  }
 ],
 "metadata": {
  "kernelspec": {
   "display_name": "Python 3 (ipykernel)",
   "language": "python",
   "name": "python3"
  },
  "language_info": {
   "codemirror_mode": {
    "name": "ipython",
    "version": 3
   },
   "file_extension": ".py",
   "mimetype": "text/x-python",
   "name": "python",
   "nbconvert_exporter": "python",
   "pygments_lexer": "ipython3",
   "version": "3.11.6"
  }
 },
 "nbformat": 4,
 "nbformat_minor": 5
}
