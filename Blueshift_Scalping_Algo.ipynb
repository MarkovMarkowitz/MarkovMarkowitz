{
  "nbformat": 4,
  "nbformat_minor": 0,
  "metadata": {
    "colab": {
      "provenance": [],
      "authorship_tag": "ABX9TyPdwGaAcQTuMe2GU/7C7veI",
      "include_colab_link": true
    },
    "kernelspec": {
      "name": "python3",
      "display_name": "Python 3"
    },
    "language_info": {
      "name": "python"
    }
  },
  "cells": [
    {
      "cell_type": "markdown",
      "metadata": {
        "id": "view-in-github",
        "colab_type": "text"
      },
      "source": [
        "<a href=\"https://colab.research.google.com/github/MarkovMarkowitz/MarkovMarkowitz/blob/main/Blueshift_Scalping_Algo.ipynb\" target=\"_parent\"><img src=\"https://colab.research.google.com/assets/colab-badge.svg\" alt=\"Open In Colab\"/></a>"
      ]
    },
    {
      "cell_type": "code",
      "execution_count": 11,
      "metadata": {
        "colab": {
          "base_uri": "https://localhost:8080/",
          "height": 435
        },
        "id": "aC0ZfddRkXIq",
        "outputId": "d2d0c6f7-7be3-4bec-c24a-bce3396ca845"
      },
      "outputs": [
        {
          "output_type": "stream",
          "name": "stdout",
          "text": [
            "Requirement already satisfied: blueshift in /usr/local/lib/python3.10/dist-packages (1.0.0)\n",
            "\u001b[31mERROR: Could not find a version that satisfies the requirement blueshift.api (from versions: none)\u001b[0m\u001b[31m\n",
            "\u001b[0m\u001b[31mERROR: No matching distribution found for blueshift.api\u001b[0m\u001b[31m\n",
            "\u001b[0m"
          ]
        },
        {
          "output_type": "error",
          "ename": "ModuleNotFoundError",
          "evalue": "ignored",
          "traceback": [
            "\u001b[0;31m---------------------------------------------------------------------------\u001b[0m",
            "\u001b[0;31mModuleNotFoundError\u001b[0m                       Traceback (most recent call last)",
            "\u001b[0;32m<ipython-input-11-a90af44af5a7>\u001b[0m in \u001b[0;36m<cell line: 18>\u001b[0;34m()\u001b[0m\n\u001b[1;32m     16\u001b[0m \u001b[0;34m\u001b[0m\u001b[0m\n\u001b[1;32m     17\u001b[0m \u001b[0;34m\u001b[0m\u001b[0m\n\u001b[0;32m---> 18\u001b[0;31m from blueshift.api import(symbol,\n\u001b[0m\u001b[1;32m     19\u001b[0m                         \u001b[0morder_target_percent\u001b[0m\u001b[0;34m,\u001b[0m\u001b[0;34m\u001b[0m\u001b[0;34m\u001b[0m\u001b[0m\n\u001b[1;32m     20\u001b[0m                         \u001b[0morder\u001b[0m\u001b[0;34m,\u001b[0m\u001b[0;34m\u001b[0m\u001b[0;34m\u001b[0m\u001b[0m\n",
            "\u001b[0;31mModuleNotFoundError\u001b[0m: No module named 'blueshift.api'",
            "",
            "\u001b[0;31m---------------------------------------------------------------------------\u001b[0;32m\nNOTE: If your import is failing due to a missing package, you can\nmanually install dependencies using either !pip or !apt.\n\nTo view examples of installing some common dependencies, click the\n\"Open Examples\" button below.\n\u001b[0;31m---------------------------------------------------------------------------\u001b[0m\n"
          ],
          "errorDetails": {
            "actions": [
              {
                "action": "open_url",
                "actionText": "Open Examples",
                "url": "/notebooks/snippets/importing_libraries.ipynb"
              }
            ]
          }
        }
      ],
      "source": [
        "\"\"\"\n",
        "    Title: ATR scalping strategy\n",
        "    Description: This strategy uses ATR indicator for the short term volatility change\n",
        "                 which helps to take long or short positions depending on\n",
        "                 where the price is moving\n",
        "    Style tags: Momentum\n",
        "    Asset class: Equities\n",
        "    Dataset: US Equities\n",
        "    Start and end date: Keep the backtesting date range small (1 or 2 years)\n",
        "                        to avoid time out error\n",
        "\"\"\"\n",
        "\n",
        "\n",
        "\n",
        "from blueshift.api import(symbol,\n",
        "                        order_target_percent,\n",
        "                        order,\n",
        "                        schedule_function,\n",
        "                        date_rules,\n",
        "                        time_rules,\n",
        "                        get_datetime\n",
        "                        )\n",
        "\n",
        "import numpy as np\n",
        "import talib\n",
        "from datetime import datetime\n",
        "\n",
        "\n",
        "def initialize(context):\n",
        "\n",
        "    # Define symbol\n",
        "    context.security = symbol('PXD')\n",
        "\n",
        "    # Define stop-loss and take-profit thesholds\n",
        "    context.stop_loss_threshold = 0.01\n",
        "    context.take_profit_threshold = 0.02\n",
        "\n",
        "    context.stop_loss = np.nan\n",
        "    context.take_profit = np.nan\n",
        "\n",
        "    context.position = 0\n",
        "\n",
        "    context.eod_flag = False\n",
        "\n",
        "    # Schedule strategy logic\n",
        "    schedule_function(square_off,\n",
        "                     date_rule=date_rules.every_day(),\n",
        "                     time_rule=time_rules.market_close(minutes=10))\n",
        "\n",
        "\n",
        "def before_trading_start(context, data):\n",
        "    context.eod_flag = False\n",
        "\n",
        "\n",
        "def handle_data(context, data):\n",
        "\n",
        "    if not context.eod_flag:\n",
        "\n",
        "        # Fetch 1 min data for the above security\n",
        "        try:\n",
        "            prices = data.history(\n",
        "                context.security, ['open', 'high', 'low', 'close','volume'], 60, '1m')\n",
        "            prices = prices[prices.volume!=0]\n",
        "            if len(prices) < 60:\n",
        "                return\n",
        "        except IndexError:\n",
        "            return\n",
        "\n",
        "        # Calculate the Average True Range(ATR)\n",
        "        prices['ATR'] = talib.ATR(prices['high'].values, prices['low'].values,\n",
        "                                  prices['close'].values, timeperiod=30)\n",
        "\n",
        "        # Calculate the rolling mean of ATR\n",
        "        prices['ATR_MA_5'] = prices['ATR'].rolling(5).mean()\n",
        "\n",
        "        # Flag the minutes where ATR breaks out its rolling mean\n",
        "        ATR_breakout = prices['ATR'][-1] > prices['ATR_MA_5'][-1]\n",
        "\n",
        "        # Check if the fourth candle is higher than the highest of the previous 3 candle\n",
        "        four_candle_high = prices.iloc[-1, 1] >= prices.iloc[-4:, 1].max()\n",
        "\n",
        "        # Check if the fourth candle is lower than the lowest of the previous 3 candles\n",
        "        four_candle_low = prices.iloc[-1, 2] <= prices.iloc[-4:, 2].min()\n",
        "\n",
        "        # Long entry and exit condition\n",
        "        long_entry = ATR_breakout and four_candle_high\n",
        "        long_exit = prices['close'][-1] < context.stop_loss or prices['close'][-1] > context.take_profit\n",
        "\n",
        "\n",
        "        # Short entry and exit condition\n",
        "        short_entry = ATR_breakout and four_candle_low\n",
        "        short_exit = prices['close'][-1] > context.stop_loss or prices['close'][-1] < context.take_profit\n",
        "\n",
        "\n",
        "        # Place the order\n",
        "        if long_entry and context.position == 0:\n",
        "            print(\"{} Opening long position in: {}\".format(get_datetime(), context.security.symbol))\n",
        "            order_target_percent(context.security, 1)\n",
        "            context.position = 1\n",
        "            context.stop_loss = prices['close'][-1] * \\\n",
        "                (1-context.stop_loss_threshold)\n",
        "            context.take_profit = prices['close'][-1] * \\\n",
        "                (1+context.take_profit_threshold)\n",
        "\n",
        "        elif short_entry and context.position == 0:\n",
        "            print(\"{} Opening short position in: {}\".format(get_datetime(), context.security.symbol))\n",
        "            order_target_percent(context.security, -1)\n",
        "            context.position = -1\n",
        "            context.stop_loss = prices['close'][-1] * \\\n",
        "                (1+context.stop_loss_threshold)\n",
        "            context.take_profit = prices['close'][-1] * \\\n",
        "                (1-context.take_profit_threshold)\n",
        "\n",
        "        elif long_exit and context.position == 1:\n",
        "            print(\"{} Closing long position in: {}\".format(get_datetime(), context.security.symbol))\n",
        "            order_target_percent(context.security, 0)\n",
        "            context.position = 0\n",
        "            context.stop_loss = np.nan\n",
        "            context.take_profit = np.nan\n",
        "\n",
        "        elif short_exit and context.position == -1:\n",
        "            print(\"{} Closing short position in: {}\".format(get_datetime(), context.security.symbol))\n",
        "            order_target_percent(context.security, 0)\n",
        "            context.position = 0\n",
        "            context.stop_loss = np.nan\n",
        "            context.take_profit = np.nan\n",
        "\n",
        "\n",
        "def square_off(context, data):\n",
        "\n",
        "    # Exit position\n",
        "    if not context.position == 0:\n",
        "        order_target_percent(context.security, 0)\n",
        "        context.position = 0\n",
        "        context.stop_loss = np.nan\n",
        "        context.take_profit = np.nan\n",
        "    context.eod_flag = True"
      ]
    },
    {
      "cell_type": "code",
      "source": [],
      "metadata": {
        "id": "bLRi5ofEkaJ7"
      },
      "execution_count": null,
      "outputs": []
    }
  ]
}