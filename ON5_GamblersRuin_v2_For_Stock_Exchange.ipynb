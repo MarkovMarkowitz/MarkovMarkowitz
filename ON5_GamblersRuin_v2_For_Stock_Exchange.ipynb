{
  "nbformat": 4,
  "nbformat_minor": 0,
  "metadata": {
    "colab": {
      "provenance": [],
      "authorship_tag": "ABX9TyPrIhXH71Q3BU6p6SakIYPT",
      "include_colab_link": true
    },
    "kernelspec": {
      "name": "python3",
      "display_name": "Python 3"
    },
    "language_info": {
      "name": "python"
    }
  },
  "cells": [
    {
      "cell_type": "markdown",
      "metadata": {
        "id": "view-in-github",
        "colab_type": "text"
      },
      "source": [
        "<a href=\"https://colab.research.google.com/github/MarkovMarkowitz/MarkovMarkowitz/blob/main/ON5_GamblersRuin_v2_For_Stock_Exchange.ipynb\" target=\"_parent\"><img src=\"https://colab.research.google.com/assets/colab-badge.svg\" alt=\"Open In Colab\"/></a>"
      ]
    },
    {
      "cell_type": "markdown",
      "source": [
        "## **Two Absorbing States: Gambler's Ruin**\n",
        "\n",
        "Now, consider the following situation. A gambler bets on the outcome of a sequence of independent fair coin tosses. With each heads, the gambler gains one dollar. With each tails, the gambler loses one dollar. The gambler stops betting after reaching a fortune of $\\overline{S}$ dollars or after emptying their pockets.\n",
        "\n",
        "*   What are the probabilities of each stopping outcome?\n",
        "*   How long will it take for the gambler, in expectation, to arrive at one of the stopping outcomes?\n",
        "\n",
        "To answer these questions, we can model this setting as a Markov chain on the state space $\\mathcal{S}\\in\\{0,1,...,\\overline{s}\\}$. The gambler starts with initial money $k\\in\\mathcal{S}$, and $s_t$ represents the money in the gambler's pocket at time $t$. Thus, we have that, for $0\\lt s_t \\lt \\overline{s}$:\n",
        "\n",
        "*   $\\mathbb{P}(s_{t+1}=s_t+1|s_{t})=0.5$\n",
        "*   $\\mathbb{P}(s_{t+1}=s_t-1|s_{t})=0.5$\n",
        "\n",
        "States 0 and $\\overline{s}$ are absorbing states because any sequence of draws from the Markov chain stops after reaching any of those situations. Alternatively, we can think that $\\mathbb{P}(s_{t+1}=s_t|s_{t}=\\overline{s})=\\mathbb{P}(s_{t+1}=s_t|s_{t}=0)=1$. We can then represent the $(\\overline{s}+1)\\times(\\overline{s}+1)$ transition matrix as:\n",
        "$$\n",
        "\\begin{align}\n",
        "\\begin{bmatrix}\n",
        "1 & 0 & 0 & 0 & 0 &\\cdots & 0 \\\\\n",
        "0.5 & 0 & 0.5 & 0 & 0 &\\cdots & 0 \\\\\n",
        "0 & 0.5 & 0 & 0.5 & 0 & \\cdots & 0 \\\\\n",
        "\\vdots & \\vdots & \\vdots & \\vdots & \\vdots& \\cdots & \\vdots \\\\\n",
        "0 & 0 & 0 & 0.5 & 0 & 0.5 & 0 \\\\\n",
        "0 & 0 & 0 & 0 & 0.5 & 0 & 0.5 \\\\\n",
        "0 & 0 & 0 & 0 & 0 & 0 & 1\n",
        "\\end{bmatrix}\n",
        "\\end{align}\n",
        "$$\n",
        "Before solving this with math, let's see some Monte Carlo simulation results (in this example, the gambler stops betting after reaching a fortune of 5 USD and starts with 1 USD):"
      ],
      "metadata": {
        "id": "M5AYFR_IeEaO"
      }
    },
    {
      "cell_type": "code",
      "source": [
        "# below code modified for Stock Exchange\n",
        "# https://github.com/raklokesh/GamblersRuin_RandomWalks/blob/master/GamblersRuin.py\n",
        "\n",
        "\n",
        "# Random walk of gamblers money to show Gambler Ruin in roulette\n",
        "# Gambler tries to achieve a goal money by betting one dollar every spin in roulette\n",
        "# What is the probability that the gambler is not ruined i.e. gambler doesnt run out of money?\n",
        "# Run simulations of several episodes and count proportion of episodes in which the gambler is not ruined! Each episode ends when the gambler is ruined or when he achieves goal money.\n",
        "\n",
        "\n",
        "\n",
        "PWIN = 0.759\n",
        "# %1 wait 1 day\n",
        "# %2 wait 2 days\n",
        "# %3 wait 3 days\n",
        "# %4 wait 6 days\n",
        "# %5 wait 5 days\n",
        "\n",
        "TARGET_PURSE = 105\n",
        "INIT_PURSE = 100\n",
        "MEAN_DAILY_RETURN = 0.01\n",
        "\n",
        "import numpy as np\n",
        "\n",
        "class Gambler():\n",
        "    def __init__(self):\n",
        "        self.initial_money=INIT_PURSE\n",
        "        self.current_money=self.initial_money\n",
        "        self.goal_money=TARGET_PURSE\n",
        "        self.bets_won=0\n",
        "        self.trials=0\n",
        "\n",
        "    def update_money(self,outcome):\n",
        "        self.current_money+=outcome\n",
        "        if outcome>0:\n",
        "            self.bets_won+=1\n",
        "            self.trials+=1\n",
        "        else:\n",
        "            self.trials+=1\n",
        "\n",
        "        if self.current_money>=self.goal_money or self.current_money<=0:\n",
        "            result=self.current_money/self.goal_money\n",
        "            return True,result,self.trials,self.current_money\n",
        "        else:\n",
        "            return False,0,self.trials,self.current_money\n",
        "\n",
        "\n",
        "class Roulette():\n",
        "    def __init__(self):\n",
        "        self.win_prob= PWIN\n",
        "\n",
        "    def play_roulette(self,current_money):\n",
        "        fate=np.random.random_sample()\n",
        "        if fate < self.win_prob:\n",
        "            outcome=current_money*MEAN_DAILY_RETURN\n",
        "        else:\n",
        "            outcome=-current_money*MEAN_DAILY_RETURN\n",
        "\n",
        "        return outcome\n",
        "\n",
        "\n",
        "episodes=10000\n",
        "finished_episodes=np.arange(int(episodes/10),episodes,int(episodes/10))\n",
        "\n",
        "gambler = Gambler()\n",
        "roulette = Roulette()\n",
        "\n",
        "episode_trials=np.zeros(episodes)\n",
        "episode_wins=0\n",
        "episode_spins=np.zeros(episodes)\n",
        "episode_betswon=np.zeros(episodes)\n",
        "current_money = INIT_PURSE\n",
        "for i in range(episodes):\n",
        "    if i in finished_episodes:\n",
        "        print('Completed {} episodes'.format(i))\n",
        "\n",
        "    end = False\n",
        "    gambler.__init__()\n",
        "    spins=0\n",
        "    TR = 0\n",
        "    while end==False:\n",
        "        outcome=roulette.play_roulette(current_money)\n",
        "        end,result,trials, current_money = gambler.update_money(outcome)\n",
        "        spins+=1\n",
        "    episode_trials[i]=trials\n",
        "    episode_wins+=result\n",
        "    episode_spins[i]=spins\n",
        "    episode_betswon[i]=gambler.bets_won\n",
        "\n",
        "\n",
        "print('The probability of winning from simulation of {} episodes is {} in {} days, if daily return is %{}'.format(episodes,episode_wins/episodes,trials, 100*MEAN_DAILY_RETURN))\n",
        "print('The average number of roulette spins per episode is: ', np.mean(episode_spins))\n",
        "print('The average number of trials per episode is: ', np.mean(episode_trials))\n",
        "\n",
        "\n",
        "# Reference : http://web.mit.edu/neboat/Public/6.042/randomwalks.pdf\n",
        "# Using recursive relation we can obtain true probability of achieving the goal amount using the formula shown below\n",
        "p=roulette.win_prob\n",
        "\n",
        "T=gambler.goal_money\n",
        "n=gambler.initial_money\n",
        "true_probability=(((1-p)/p)**n-1)/(((1-p)/p)**T-1)\n",
        "print(\"The true probability of winning is {}\".format(true_probability))\n",
        "\n"
      ],
      "metadata": {
        "id": "WoowM1nVe_do",
        "outputId": "d3e7ed27-ed72-49e5-89bd-7767947fc398",
        "colab": {
          "base_uri": "https://localhost:8080/"
        }
      },
      "execution_count": 63,
      "outputs": [
        {
          "output_type": "stream",
          "name": "stdout",
          "text": [
            "Completed 1000 episodes\n",
            "Completed 2000 episodes\n",
            "Completed 3000 episodes\n",
            "Completed 4000 episodes\n",
            "Completed 5000 episodes\n",
            "Completed 6000 episodes\n",
            "Completed 7000 episodes\n",
            "Completed 8000 episodes\n",
            "Completed 9000 episodes\n",
            "The probability of winning from simulation of 10000 episodes is 1.0017192862185846 in 5 days, if daily return is %1.0\n",
            "The average number of roulette spins per episode is:  9.7364\n",
            "The average number of trials per episode is:  9.7364\n",
            "The true probability of winning is 1.0\n"
          ]
        }
      ]
    },
    {
      "cell_type": "code",
      "source": [],
      "metadata": {
        "id": "2lTpuEl4U_q6"
      },
      "execution_count": 63,
      "outputs": []
    }
  ]
}