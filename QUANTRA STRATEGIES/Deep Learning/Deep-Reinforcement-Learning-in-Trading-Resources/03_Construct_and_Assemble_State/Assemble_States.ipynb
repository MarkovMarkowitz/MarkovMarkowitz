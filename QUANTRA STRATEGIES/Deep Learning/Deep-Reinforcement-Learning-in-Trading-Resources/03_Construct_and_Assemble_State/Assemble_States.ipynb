{
 "cells": [
  {
   "cell_type": "markdown",
   "metadata": {
    "colab_type": "text",
    "id": "g3AjJPBKb-gr"
   },
   "source": [
    "# Notebook Instructions\n",
    "\n",
    "1. If you are new to Jupyter notebooks, please go through this introductory manual <a href='https://quantra.quantinsti.com/quantra-notebook' target=\"_blank\">here</a>.\n",
    "1. Any changes made in this notebook would be lost after you close the browser window. **You can download the notebook to save your work on your PC.**\n",
    "1. Before running this notebook on your local PC:<br>\n",
    "i.  You need to set up a Python environment and the relevant packages on your local PC. To do so, go through the section on \"**Run Codes Locally on Your Machine**\" in the course.<br>\n",
    "ii. You need to **download the zip file available in the last unit** of this course. The zip file contains the data files and/or python modules that might be required to run this notebook."
   ]
  },
  {
   "cell_type": "markdown",
   "metadata": {
    "colab_type": "text",
    "id": "kLgBxYHvb-gt"
   },
   "source": [
    "## Assemble States\n",
    "\n",
    "In this notebook, you will learn how to create input features to construct a state. You have already learned to make candlestick bars of 5 minutes, 1 hour, 1 day for a specific lookback period. Using these bars of different granularity, you will create input features and construct the state.\n",
    "\n",
    "The steps to do the same are as follows:\n",
    "1. [Get last N time bars](#timebars)\n",
    "2. [Construct state](#state)<br>\n",
    "    2.1. [Create stationary candlestick bars](#candlesticks)<br>\n",
    "    2.2. [Create technical indicators](#indicators)<br>\n",
    "    2.3. [Create time signature](#time)"
   ]
  },
  {
   "cell_type": "markdown",
   "metadata": {
    "colab_type": "text",
    "id": "nmeyohr6b-gv"
   },
   "source": [
    "<a id='timebars'></a> \n",
    "## Get last N time bars\n",
    "\n",
    "You already have done this step in the previous notebook. You need to create the last N time bars from the current time to create input features. Here we will define a current time. In the Game class, the current time is fetched using the current index of the price data to get the last N time bars."
   ]
  },
  {
   "cell_type": "code",
   "execution_count": 1,
   "metadata": {
    "colab": {},
    "colab_type": "code",
    "id": "kDQDbzswb-gw"
   },
   "outputs": [],
   "source": [
    "# Import necessary libraries\n",
    "import numpy as np\n",
    "import pandas as pd\n",
    "from datetime import datetime, timedelta\n",
    "import datetime\n",
    "import talib\n",
    "\n",
    "# Ignore warnings\n",
    "import warnings\n",
    "warnings.filterwarnings(\"ignore\")\n",
    "\n",
    "# The data is stored in the directory 'data_modules'\n",
    "path = '../data_modules/'\n",
    "\n",
    "# Read the pickle file\n",
    "bars5m = pd.read_pickle(path+ 'PriceData5m.bz2')\n",
    "\n",
    "ohlcv_dict = {\n",
    "        'open': 'first',\n",
    "        'high': 'max',\n",
    "        'low': 'min',\n",
    "        'close': 'last',\n",
    "        'volume': 'sum'\n",
    "    }\n",
    "\n",
    "bars1h = bars5m.resample('1H', closed='right', label='left').agg(ohlcv_dict).dropna()\n",
    "bars1d = bars5m.resample('1D', closed='right', label='left').agg(ohlcv_dict).dropna()\n",
    "\n",
    "def get_last_N_timebars(bars5m, bars1h, bars1d, curr_time, lkbk):\n",
    "    '''This function gets the timebars for the 5m, 1hr and 1d resolution based\n",
    "    on the lookback we've specified.\n",
    "    '''\n",
    "   \n",
    "    \"\"\"Width of the 5m, 1hr, and 1d\"\"\"\n",
    "    wdw5m = 9\n",
    "    wdw1h = np.ceil(lkbk*15/24.)\n",
    "    wdw1d = np.ceil(lkbk*15)\n",
    "\n",
    "    \"\"\"Creating the timebars based on the lookback\"\"\"\n",
    "    last5m = bars5m[curr_time-timedelta(wdw5m):curr_time].iloc[-lkbk:]\n",
    "    last1h = bars1h[curr_time-timedelta(wdw1h):curr_time].iloc[-lkbk:]\n",
    "    last1d = bars1d[curr_time-timedelta(wdw1d):curr_time].iloc[-lkbk:]\n",
    "    \n",
    "    return last5m, last1h, last1d"
   ]
  },
  {
   "cell_type": "code",
   "execution_count": 2,
   "metadata": {
    "colab": {},
    "colab_type": "code",
    "id": "iJiUJQIMb-g2"
   },
   "outputs": [
    {
     "data": {
      "text/html": [
       "<div>\n",
       "<style scoped>\n",
       "    .dataframe tbody tr th:only-of-type {\n",
       "        vertical-align: middle;\n",
       "    }\n",
       "\n",
       "    .dataframe tbody tr th {\n",
       "        vertical-align: top;\n",
       "    }\n",
       "\n",
       "    .dataframe thead th {\n",
       "        text-align: right;\n",
       "    }\n",
       "</style>\n",
       "<table border=\"1\" class=\"dataframe\">\n",
       "  <thead>\n",
       "    <tr style=\"text-align: right;\">\n",
       "      <th></th>\n",
       "      <th>open</th>\n",
       "      <th>high</th>\n",
       "      <th>low</th>\n",
       "      <th>close</th>\n",
       "      <th>volume</th>\n",
       "    </tr>\n",
       "    <tr>\n",
       "      <th>Time</th>\n",
       "      <th></th>\n",
       "      <th></th>\n",
       "      <th></th>\n",
       "      <th></th>\n",
       "      <th></th>\n",
       "    </tr>\n",
       "  </thead>\n",
       "  <tbody>\n",
       "    <tr>\n",
       "      <th>2012-05-09 15:55:00-04:00</th>\n",
       "      <td>116.109</td>\n",
       "      <td>116.113</td>\n",
       "      <td>115.810</td>\n",
       "      <td>115.870</td>\n",
       "      <td>3311517.0</td>\n",
       "    </tr>\n",
       "    <tr>\n",
       "      <th>2012-05-09 16:00:00-04:00</th>\n",
       "      <td>115.879</td>\n",
       "      <td>115.938</td>\n",
       "      <td>115.742</td>\n",
       "      <td>115.827</td>\n",
       "      <td>5225624.0</td>\n",
       "    </tr>\n",
       "    <tr>\n",
       "      <th>2012-05-10 09:35:00-04:00</th>\n",
       "      <td>116.638</td>\n",
       "      <td>116.749</td>\n",
       "      <td>116.578</td>\n",
       "      <td>116.749</td>\n",
       "      <td>3081260.0</td>\n",
       "    </tr>\n",
       "    <tr>\n",
       "      <th>2012-05-10 09:40:00-04:00</th>\n",
       "      <td>116.741</td>\n",
       "      <td>116.741</td>\n",
       "      <td>116.596</td>\n",
       "      <td>116.689</td>\n",
       "      <td>2404169.0</td>\n",
       "    </tr>\n",
       "    <tr>\n",
       "      <th>2012-05-10 09:45:00-04:00</th>\n",
       "      <td>116.698</td>\n",
       "      <td>116.698</td>\n",
       "      <td>116.408</td>\n",
       "      <td>116.502</td>\n",
       "      <td>2932492.0</td>\n",
       "    </tr>\n",
       "    <tr>\n",
       "      <th>2012-05-10 09:50:00-04:00</th>\n",
       "      <td>116.502</td>\n",
       "      <td>116.689</td>\n",
       "      <td>116.450</td>\n",
       "      <td>116.681</td>\n",
       "      <td>2169711.0</td>\n",
       "    </tr>\n",
       "    <tr>\n",
       "      <th>2012-05-10 09:55:00-04:00</th>\n",
       "      <td>116.681</td>\n",
       "      <td>116.783</td>\n",
       "      <td>116.621</td>\n",
       "      <td>116.664</td>\n",
       "      <td>2074586.0</td>\n",
       "    </tr>\n",
       "    <tr>\n",
       "      <th>2012-05-10 10:00:00-04:00</th>\n",
       "      <td>116.664</td>\n",
       "      <td>116.758</td>\n",
       "      <td>116.578</td>\n",
       "      <td>116.587</td>\n",
       "      <td>1836284.0</td>\n",
       "    </tr>\n",
       "    <tr>\n",
       "      <th>2012-05-10 10:05:00-04:00</th>\n",
       "      <td>116.587</td>\n",
       "      <td>116.655</td>\n",
       "      <td>116.510</td>\n",
       "      <td>116.536</td>\n",
       "      <td>2586152.0</td>\n",
       "    </tr>\n",
       "    <tr>\n",
       "      <th>2012-05-10 10:10:00-04:00</th>\n",
       "      <td>116.527</td>\n",
       "      <td>116.732</td>\n",
       "      <td>116.509</td>\n",
       "      <td>116.647</td>\n",
       "      <td>2785794.0</td>\n",
       "    </tr>\n",
       "    <tr>\n",
       "      <th>2012-05-10 10:15:00-04:00</th>\n",
       "      <td>116.638</td>\n",
       "      <td>116.672</td>\n",
       "      <td>116.416</td>\n",
       "      <td>116.425</td>\n",
       "      <td>2657357.0</td>\n",
       "    </tr>\n",
       "    <tr>\n",
       "      <th>2012-05-10 10:20:00-04:00</th>\n",
       "      <td>116.425</td>\n",
       "      <td>116.604</td>\n",
       "      <td>116.399</td>\n",
       "      <td>116.485</td>\n",
       "      <td>1946186.0</td>\n",
       "    </tr>\n",
       "    <tr>\n",
       "      <th>2012-05-10 10:25:00-04:00</th>\n",
       "      <td>116.485</td>\n",
       "      <td>116.578</td>\n",
       "      <td>116.263</td>\n",
       "      <td>116.298</td>\n",
       "      <td>2881626.0</td>\n",
       "    </tr>\n",
       "    <tr>\n",
       "      <th>2012-05-10 10:30:00-04:00</th>\n",
       "      <td>116.297</td>\n",
       "      <td>116.314</td>\n",
       "      <td>116.211</td>\n",
       "      <td>116.254</td>\n",
       "      <td>2577411.0</td>\n",
       "    </tr>\n",
       "    <tr>\n",
       "      <th>2012-05-10 10:35:00-04:00</th>\n",
       "      <td>116.254</td>\n",
       "      <td>116.322</td>\n",
       "      <td>116.126</td>\n",
       "      <td>116.254</td>\n",
       "      <td>2426893.0</td>\n",
       "    </tr>\n",
       "    <tr>\n",
       "      <th>2012-05-10 10:40:00-04:00</th>\n",
       "      <td>116.254</td>\n",
       "      <td>116.339</td>\n",
       "      <td>116.237</td>\n",
       "      <td>116.314</td>\n",
       "      <td>1951331.0</td>\n",
       "    </tr>\n",
       "    <tr>\n",
       "      <th>2012-05-10 10:45:00-04:00</th>\n",
       "      <td>116.314</td>\n",
       "      <td>116.425</td>\n",
       "      <td>116.297</td>\n",
       "      <td>116.374</td>\n",
       "      <td>1917502.0</td>\n",
       "    </tr>\n",
       "    <tr>\n",
       "      <th>2012-05-10 10:50:00-04:00</th>\n",
       "      <td>116.365</td>\n",
       "      <td>116.374</td>\n",
       "      <td>116.237</td>\n",
       "      <td>116.289</td>\n",
       "      <td>1517253.0</td>\n",
       "    </tr>\n",
       "    <tr>\n",
       "      <th>2012-05-10 10:55:00-04:00</th>\n",
       "      <td>116.297</td>\n",
       "      <td>116.297</td>\n",
       "      <td>116.143</td>\n",
       "      <td>116.160</td>\n",
       "      <td>1760156.0</td>\n",
       "    </tr>\n",
       "    <tr>\n",
       "      <th>2012-05-10 11:00:00-04:00</th>\n",
       "      <td>116.152</td>\n",
       "      <td>116.169</td>\n",
       "      <td>115.990</td>\n",
       "      <td>116.160</td>\n",
       "      <td>3202995.0</td>\n",
       "    </tr>\n",
       "  </tbody>\n",
       "</table>\n",
       "</div>"
      ],
      "text/plain": [
       "                              open     high      low    close     volume\n",
       "Time                                                                    \n",
       "2012-05-09 15:55:00-04:00  116.109  116.113  115.810  115.870  3311517.0\n",
       "2012-05-09 16:00:00-04:00  115.879  115.938  115.742  115.827  5225624.0\n",
       "2012-05-10 09:35:00-04:00  116.638  116.749  116.578  116.749  3081260.0\n",
       "2012-05-10 09:40:00-04:00  116.741  116.741  116.596  116.689  2404169.0\n",
       "2012-05-10 09:45:00-04:00  116.698  116.698  116.408  116.502  2932492.0\n",
       "2012-05-10 09:50:00-04:00  116.502  116.689  116.450  116.681  2169711.0\n",
       "2012-05-10 09:55:00-04:00  116.681  116.783  116.621  116.664  2074586.0\n",
       "2012-05-10 10:00:00-04:00  116.664  116.758  116.578  116.587  1836284.0\n",
       "2012-05-10 10:05:00-04:00  116.587  116.655  116.510  116.536  2586152.0\n",
       "2012-05-10 10:10:00-04:00  116.527  116.732  116.509  116.647  2785794.0\n",
       "2012-05-10 10:15:00-04:00  116.638  116.672  116.416  116.425  2657357.0\n",
       "2012-05-10 10:20:00-04:00  116.425  116.604  116.399  116.485  1946186.0\n",
       "2012-05-10 10:25:00-04:00  116.485  116.578  116.263  116.298  2881626.0\n",
       "2012-05-10 10:30:00-04:00  116.297  116.314  116.211  116.254  2577411.0\n",
       "2012-05-10 10:35:00-04:00  116.254  116.322  116.126  116.254  2426893.0\n",
       "2012-05-10 10:40:00-04:00  116.254  116.339  116.237  116.314  1951331.0\n",
       "2012-05-10 10:45:00-04:00  116.314  116.425  116.297  116.374  1917502.0\n",
       "2012-05-10 10:50:00-04:00  116.365  116.374  116.237  116.289  1517253.0\n",
       "2012-05-10 10:55:00-04:00  116.297  116.297  116.143  116.160  1760156.0\n",
       "2012-05-10 11:00:00-04:00  116.152  116.169  115.990  116.160  3202995.0"
      ]
     },
     "execution_count": 2,
     "metadata": {},
     "output_type": "execute_result"
    }
   ],
   "source": [
    "# Set the current time\n",
    "curr_time = datetime.datetime(2012, 5, 10, 11, 0, 0)\n",
    "\n",
    "# Fixed the lookback period to get last time bars from the current time.\n",
    "# This is also used to calculate the value of technical indicators. This is a hyperparameter that you can tweak.\n",
    "lkbk = 20\n",
    "\n",
    "# Store the last N time bars for 5mins, 1h, and 1d bars\n",
    "last5m, last1h, last1d = get_last_N_timebars(\n",
    "    bars5m, bars1h, bars1d, curr_time, lkbk)\n",
    "\n",
    "last5m"
   ]
  },
  {
   "cell_type": "markdown",
   "metadata": {
    "colab": {},
    "colab_type": "code",
    "id": "SukCW-IIb-g7",
    "outputId": "8a0c2c5e-983b-48d0-cbe8-222a0f72ef17"
   },
   "source": [
    "The above output shows the last 20 (lookback) data points from the current time for the 5 mins bar. You can also check the result for 1 hour and 1 day bars."
   ]
  },
  {
   "cell_type": "markdown",
   "metadata": {
    "colab_type": "text",
    "id": "zHAC0wsmb-hB"
   },
   "source": [
    "<a id='state'></a> \n",
    "\n",
    "## Construct state\n",
    "\n",
    "In this step, you will create input features and append them to the state array. First, you will create an array `state` which will store all the input features. The first input feature is candlestick bars for the 5 mins, 1 hour, and 1 day data. Next, you will add technical indicators for each granularity of data. Finally, you will add the time of day, day of the week and position as features to the state array. \n",
    "\n",
    "1. Candlestick bars\n",
    "2. Technical indicators\n",
    "3. Time signatures\n",
    "\n",
    "But before calculating input features, you need to convert dataframe into the 1-dimensional array as the neural networks prefer array as an input."
   ]
  },
  {
   "cell_type": "code",
   "execution_count": 3,
   "metadata": {},
   "outputs": [],
   "source": [
    "\"\"\"Adding State Variable\"\"\"\n",
    "state = np.array([])"
   ]
  },
  {
   "cell_type": "code",
   "execution_count": 4,
   "metadata": {},
   "outputs": [
    {
     "data": {
      "text/plain": [
       "(0,)"
      ]
     },
     "execution_count": 4,
     "metadata": {},
     "output_type": "execute_result"
    }
   ],
   "source": [
    "state.shape"
   ]
  },
  {
   "cell_type": "markdown",
   "metadata": {},
   "source": [
    "We start with a state array of size 0."
   ]
  },
  {
   "cell_type": "markdown",
   "metadata": {
    "colab_type": "text",
    "id": "-zzPMgRib-hC"
   },
   "source": [
    "<a id='flatten'></a> \n",
    "### Flatten the dataframe\n",
    "\n",
    "You will flatten the dataframe into the 1-dimensional array. This will be done using the `flatten()` method of Numpy.\n",
    "\n",
    "Syntax: \n",
    "```python\n",
    "DataFrame.flatten()\n",
    "```\n",
    "Return:\n",
    "    An array flattened to one dimension"
   ]
  },
  {
   "cell_type": "code",
   "execution_count": 5,
   "metadata": {
    "colab": {},
    "colab_type": "code",
    "id": "uTY_uGO_b-hD",
    "outputId": "6f3b8aaf-6fb9-45b6-9a8b-cfa3228f0192"
   },
   "outputs": [
    {
     "data": {
      "text/plain": [
       "array([116.638, 116.672, 116.416, 116.425, 116.425, 116.604, 116.399,\n",
       "       116.485, 116.485, 116.578, 116.263, 116.298, 116.297, 116.314,\n",
       "       116.211, 116.254, 116.254, 116.322, 116.126, 116.254, 116.254,\n",
       "       116.339, 116.237, 116.314, 116.314, 116.425, 116.297, 116.374,\n",
       "       116.365, 116.374, 116.237, 116.289, 116.297, 116.297, 116.143,\n",
       "       116.16 , 116.152, 116.169, 115.99 , 116.16 ])"
      ]
     },
     "execution_count": 5,
     "metadata": {},
     "output_type": "execute_result"
    }
   ],
   "source": [
    "last5m_flat = last5m.iloc[-10:, :-1].values.flatten()\n",
    "last5m_flat"
   ]
  },
  {
   "cell_type": "code",
   "execution_count": 6,
   "metadata": {},
   "outputs": [
    {
     "name": "stdout",
     "output_type": "stream",
     "text": [
      "Shape of the array: (40,)\n"
     ]
    }
   ],
   "source": [
    "print('Shape of the array:', last5m_flat.shape)"
   ]
  },
  {
   "cell_type": "markdown",
   "metadata": {
    "colab_type": "text",
    "id": "5E65ShB2b-hH"
   },
   "source": [
    "You can see the 5 mins bar is flatten into an array of size 40 as there are 4 columns (open, high, low, close) and 10 rows in last5m dataframe."
   ]
  },
  {
   "cell_type": "markdown",
   "metadata": {
    "colab_type": "text",
    "id": "bnhtFGf-b-hI"
   },
   "source": [
    "<a id='candlesticks'></a> \n",
    "## Create stationary candlestick bars\n",
    "\n",
    "The first input feature is candlestick bars. As you have already learned in the previous video that candlestick bars are not stationary and neural network prefer stationary features. Therefore, you have to make candlestick bars stationary. This is done using the z-score.\n",
    "\n",
    "**Z-score = (price bars - mean of bars)/ standard deviation of bars**\n",
    "\n",
    "Mean and standard deviation are calculated by simple `mean` and `std` function of NumPy."
   ]
  },
  {
   "cell_type": "code",
   "execution_count": 7,
   "metadata": {
    "colab": {},
    "colab_type": "code",
    "id": "I5cZEWZsb-hI"
   },
   "outputs": [
    {
     "data": {
      "text/plain": [
       "array([ 2.21143692,  2.44988568,  0.65450678,  0.71762557,  0.71762557,\n",
       "        1.97298816,  0.5352824 ,  1.1384175 ,  1.1384175 ,  1.79064499,\n",
       "       -0.41851264, -0.17305068, -0.18006388, -0.0608395 , -0.78319898,\n",
       "       -0.48163143, -0.48163143, -0.00473391, -1.37932088, -0.48163143,\n",
       "       -0.48163143,  0.11449047, -0.60085581, -0.0608395 , -0.0608395 ,\n",
       "        0.71762557, -0.18006388,  0.35995243,  0.29683364,  0.35995243,\n",
       "       -0.60085581, -0.23616947, -0.18006388, -0.18006388, -1.2600965 ,\n",
       "       -1.14087212, -1.19697771, -1.07775333, -2.33311592, -1.14087212])"
      ]
     },
     "execution_count": 7,
     "metadata": {},
     "output_type": "execute_result"
    }
   ],
   "source": [
    "\"\"\"Normalizing candlesticks for 5 mins data\"\"\"\n",
    "last5m_norm = (last5m_flat-np.mean(last5m_flat))/np.std(last5m_flat)\n",
    "last5m_norm"
   ]
  },
  {
   "cell_type": "code",
   "execution_count": 8,
   "metadata": {
    "colab": {},
    "colab_type": "code",
    "id": "cgr9JGbzb-hM",
    "outputId": "8f56c198-d786-43bb-acb4-5e16e04ca90a"
   },
   "outputs": [
    {
     "data": {
      "text/plain": [
       "(40,)"
      ]
     },
     "execution_count": 8,
     "metadata": {},
     "output_type": "execute_result"
    }
   ],
   "source": [
    "last5m_norm.shape"
   ]
  },
  {
   "cell_type": "code",
   "execution_count": 9,
   "metadata": {},
   "outputs": [
    {
     "data": {
      "text/plain": [
       "array([ 2.21143692e+00,  2.44988568e+00,  6.54506779e-01,  7.17625569e-01,\n",
       "        7.17625569e-01,  1.97298816e+00,  5.35282399e-01,  1.13841750e+00,\n",
       "        1.13841750e+00,  1.79064499e+00, -4.18512639e-01, -1.73050681e-01,\n",
       "       -1.80063880e-01, -6.08394997e-02, -7.83198978e-01, -4.81631429e-01,\n",
       "       -4.81631429e-01, -4.73390920e-03, -1.37932088e+00, -4.81631429e-01,\n",
       "       -4.81631429e-01,  1.14490471e-01, -6.00855808e-01, -6.08394997e-02,\n",
       "       -6.08394997e-02,  7.17625569e-01, -1.80063880e-01,  3.59952429e-01,\n",
       "        2.96833640e-01,  3.59952429e-01, -6.00855808e-01, -2.36169470e-01,\n",
       "       -1.80063880e-01, -1.80063880e-01, -1.26009650e+00, -1.14087212e+00,\n",
       "       -1.19697771e+00, -1.07775333e+00, -2.33311592e+00, -1.14087212e+00,\n",
       "       -1.41310441e+00, -8.24332730e-01, -1.71691897e+00, -1.25176840e+00,\n",
       "       -1.25176840e+00, -6.62996719e-01, -2.50474157e+00, -1.25176840e+00,\n",
       "       -1.23500621e+00,  5.71119003e-01, -1.53882078e+00, -8.90490971e-04,\n",
       "       -8.90490971e-04,  7.03487867e-02, -8.41094913e-01, -1.62226502e-01,\n",
       "       -1.62226502e-01,  1.28560705e+00, -2.14608324e-01,  7.68074654e-01,\n",
       "        7.68074654e-01,  8.74933570e-01, -1.97479468e-02,  1.79669649e-02,\n",
       "       -8.90490971e-04,  5.35499365e-01, -4.66041069e-01, -2.87942875e-01,\n",
       "        1.41132343e+00,  1.71513799e+00,  9.29410665e-01,  1.30446451e+00,\n",
       "        1.30446451e+00,  1.60827908e+00,  5.35866037e-02,  4.09782992e-01,\n",
       "        4.09782992e-01,  1.12636631e+00,  5.35866037e-02,  5.89976459e-01,\n",
       "        1.14098220e+00,  1.24740883e+00,  7.47794912e-01,  1.06530103e+00,\n",
       "        9.03887307e-01,  9.54735588e-01,  5.91111258e-01,  7.57846316e-01,\n",
       "        7.42473580e-01,  1.68612306e+00,  6.62062347e-01,  1.21193328e+00,\n",
       "        8.08103338e-01,  1.08067377e+00,  5.76329781e-01,  1.01977409e+00,\n",
       "        1.01977409e+00,  1.07535244e+00,  3.38643634e-01,  4.95327288e-01,\n",
       "        9.91837094e-02,  1.72499834e-01, -7.05519888e-01, -6.59992940e-01,\n",
       "       -9.12460564e-01, -3.82692435e-01, -9.37884704e-01, -6.04414587e-01,\n",
       "       -1.02834734e+00, -7.81201050e-01, -1.71479913e+00, -9.07139232e-01,\n",
       "       -1.62374523e+00, -8.62203543e-01, -1.93179121e+00, -1.30623911e+00,\n",
       "       -8.26727998e-01, -7.40995433e-01, -1.31629051e+00, -1.15487678e+00])"
      ]
     },
     "execution_count": 9,
     "metadata": {},
     "output_type": "execute_result"
    }
   ],
   "source": [
    "\"\"\"Adding candlesticks\"\"\"\n",
    "def get_normalised_bars_array(bars):\n",
    "    bars = bars.iloc[-10:, :-1].values.flatten()\n",
    "\n",
    "    \"\"\"Normalizing candlesticks\"\"\"\n",
    "    bars = (bars-np.mean(bars))/np.std(bars)\n",
    "    return bars\n",
    "\n",
    "\n",
    "\"\"\"\" Append normalised candlestick bars for all granularity\"\"\"\n",
    "state = np.append(state, get_normalised_bars_array(last5m))\n",
    "state = np.append(state, get_normalised_bars_array(last1h))\n",
    "state = np.append(state, get_normalised_bars_array(last1d))\n",
    "state"
   ]
  },
  {
   "cell_type": "code",
   "execution_count": 10,
   "metadata": {},
   "outputs": [
    {
     "data": {
      "text/plain": [
       "(120,)"
      ]
     },
     "execution_count": 10,
     "metadata": {},
     "output_type": "execute_result"
    }
   ],
   "source": [
    "state.shape"
   ]
  },
  {
   "cell_type": "markdown",
   "metadata": {
    "colab_type": "text",
    "id": "8JrXbKjBb-hP"
   },
   "source": [
    "For 5 mins candlesticks bars, you got the normalised candlestick bar of size 40. Similarly, for 1 hour and 1 day bars, you get the candlestick bar of the same shape. So, the final size of the normalised candlesticks bars input feature for 5 mins, 1 hour, and 1 day is 120."
   ]
  },
  {
   "cell_type": "markdown",
   "metadata": {
    "colab_type": "text",
    "id": "VCKZtdwSb-hg"
   },
   "source": [
    "<a id='indicators'></a> \n",
    "## Technical indicators\n",
    "\n",
    "Now, you will create and add technical indicators to the state array. The technical indicators that we will use are:\n",
    "1. Relative differences between two moving averages\n",
    "2. Relative Strength Index (RSI) \n",
    "3. Momentum\n",
    "4. Balance of Power (BOP) \n",
    "5. Aroon Oscillator\n",
    "\n",
    "You will use Ta-Lib package to calculate the values of these indicators."
   ]
  },
  {
   "cell_type": "code",
   "execution_count": 11,
   "metadata": {
    "colab": {},
    "colab_type": "code",
    "id": "JtZtKaIUb-hh",
    "outputId": "b6e548c5-3f70-49d3-9e52-757bf0b3004c"
   },
   "outputs": [
    {
     "data": {
      "text/plain": [
       "array([ 5.66049315e-04,  5.58139535e+01,  2.90000000e-01,  4.46927374e-02,\n",
       "       -7.64705882e+01])"
      ]
     },
     "execution_count": 11,
     "metadata": {},
     "output_type": "execute_result"
    }
   ],
   "source": [
    "# Create an array to store the value of indicators\n",
    "tech_ind = np.array([])\n",
    "\n",
    "\"\"\"Relative difference two moving averages\"\"\"\n",
    "sma1 = talib.SMA(last5m['close'], lkbk-1)[-1]\n",
    "sma2 = talib.SMA(last5m['close'], lkbk-8)[-1]\n",
    "tech_ind = np.append(tech_ind, (sma1-sma2)/sma2)\n",
    "\n",
    "\"\"\"Relative Strength Index\"\"\"\n",
    "tech_ind = np.append(tech_ind, talib.RSI(\n",
    "    last5m['close'], lkbk-1)[-1])\n",
    "\n",
    "\"\"\"Momentum\"\"\"\n",
    "tech_ind = np.append(tech_ind, talib.MOM(\n",
    "    last5m['close'], lkbk-1)[-1])\n",
    "\n",
    "\"\"\"Balance of Power\"\"\"\n",
    "tech_ind = np.append(tech_ind, talib.BOP(last5m['open'],\n",
    "                                         last5m['high'],\n",
    "                                         last5m['low'],\n",
    "                                         last5m['close'])[-1])\n",
    "\"\"\"Aroon Oscillator\"\"\"\n",
    "tech_ind = np.append(tech_ind, talib.AROONOSC(last5m['high'],\n",
    "                                              last5m['low'],\n",
    "                                              lkbk-3)[-1])\n",
    "tech_ind"
   ]
  },
  {
   "cell_type": "markdown",
   "metadata": {
    "colab_type": "text",
    "id": "oWT7-LvQb-hl"
   },
   "source": [
    "We used five technical indicators, so for each indicator, we get one value. Therefore, the size of this array is 5."
   ]
  },
  {
   "cell_type": "markdown",
   "metadata": {},
   "source": [
    "In the previous cell, you have calculated the values of technical indicators for only 5 mins data. Here, similar to that you will calculate values of technical indicators for 5 mins, 1 hour and 1 day data and append to the state array. "
   ]
  },
  {
   "cell_type": "code",
   "execution_count": 12,
   "metadata": {
    "colab": {},
    "colab_type": "code",
    "id": "m5UUbwwDb-hm"
   },
   "outputs": [],
   "source": [
    "def get_technical_indicators(bars):\n",
    "    # Create an array to store the value of indicators\n",
    "    tech_ind = np.array([])\n",
    "\n",
    "    \"\"\"Relative difference two moving averages\"\"\"\n",
    "    sma1 = talib.SMA(bars['close'], lkbk-1)[-1]\n",
    "    sma2 = talib.SMA(bars['close'], lkbk-8)[-1]\n",
    "    tech_ind = np.append(tech_ind, (sma1-sma2)/sma2)\n",
    "\n",
    "    \"\"\"Relative Strength Index\"\"\"\n",
    "    tech_ind = np.append(tech_ind, talib.RSI(\n",
    "        bars['close'], lkbk-1)[-1])\n",
    "\n",
    "    \"\"\"Momentum\"\"\"\n",
    "    tech_ind = np.append(tech_ind, talib.MOM(\n",
    "        bars['close'], lkbk-1)[-1])\n",
    "\n",
    "    \"\"\"Balance of Power\"\"\"\n",
    "    tech_ind = np.append(tech_ind, talib.BOP(bars['open'],\n",
    "                                             bars['high'],\n",
    "                                             bars['low'],\n",
    "                                             bars['close'])[-1])\n",
    "\n",
    "    \"\"\"Aroon Oscillator\"\"\"\n",
    "    tech_ind = np.append(tech_ind, talib.AROONOSC(bars['high'],\n",
    "                                                  bars['low'],\n",
    "                                                  lkbk-3)[-1])\n",
    "    return tech_ind"
   ]
  },
  {
   "cell_type": "code",
   "execution_count": 13,
   "metadata": {
    "colab": {},
    "colab_type": "code",
    "id": "xpL4IQM3b-hr",
    "outputId": "9e725471-337d-429a-cc8b-6fe9a51072f7"
   },
   "outputs": [
    {
     "data": {
      "text/plain": [
       "array([ 2.21143692e+00,  2.44988568e+00,  6.54506779e-01,  7.17625569e-01,\n",
       "        7.17625569e-01,  1.97298816e+00,  5.35282399e-01,  1.13841750e+00,\n",
       "        1.13841750e+00,  1.79064499e+00, -4.18512639e-01, -1.73050681e-01,\n",
       "       -1.80063880e-01, -6.08394997e-02, -7.83198978e-01, -4.81631429e-01,\n",
       "       -4.81631429e-01, -4.73390920e-03, -1.37932088e+00, -4.81631429e-01,\n",
       "       -4.81631429e-01,  1.14490471e-01, -6.00855808e-01, -6.08394997e-02,\n",
       "       -6.08394997e-02,  7.17625569e-01, -1.80063880e-01,  3.59952429e-01,\n",
       "        2.96833640e-01,  3.59952429e-01, -6.00855808e-01, -2.36169470e-01,\n",
       "       -1.80063880e-01, -1.80063880e-01, -1.26009650e+00, -1.14087212e+00,\n",
       "       -1.19697771e+00, -1.07775333e+00, -2.33311592e+00, -1.14087212e+00,\n",
       "       -1.41310441e+00, -8.24332730e-01, -1.71691897e+00, -1.25176840e+00,\n",
       "       -1.25176840e+00, -6.62996719e-01, -2.50474157e+00, -1.25176840e+00,\n",
       "       -1.23500621e+00,  5.71119003e-01, -1.53882078e+00, -8.90490971e-04,\n",
       "       -8.90490971e-04,  7.03487867e-02, -8.41094913e-01, -1.62226502e-01,\n",
       "       -1.62226502e-01,  1.28560705e+00, -2.14608324e-01,  7.68074654e-01,\n",
       "        7.68074654e-01,  8.74933570e-01, -1.97479468e-02,  1.79669649e-02,\n",
       "       -8.90490971e-04,  5.35499365e-01, -4.66041069e-01, -2.87942875e-01,\n",
       "        1.41132343e+00,  1.71513799e+00,  9.29410665e-01,  1.30446451e+00,\n",
       "        1.30446451e+00,  1.60827908e+00,  5.35866037e-02,  4.09782992e-01,\n",
       "        4.09782992e-01,  1.12636631e+00,  5.35866037e-02,  5.89976459e-01,\n",
       "        1.14098220e+00,  1.24740883e+00,  7.47794912e-01,  1.06530103e+00,\n",
       "        9.03887307e-01,  9.54735588e-01,  5.91111258e-01,  7.57846316e-01,\n",
       "        7.42473580e-01,  1.68612306e+00,  6.62062347e-01,  1.21193328e+00,\n",
       "        8.08103338e-01,  1.08067377e+00,  5.76329781e-01,  1.01977409e+00,\n",
       "        1.01977409e+00,  1.07535244e+00,  3.38643634e-01,  4.95327288e-01,\n",
       "        9.91837094e-02,  1.72499834e-01, -7.05519888e-01, -6.59992940e-01,\n",
       "       -9.12460564e-01, -3.82692435e-01, -9.37884704e-01, -6.04414587e-01,\n",
       "       -1.02834734e+00, -7.81201050e-01, -1.71479913e+00, -9.07139232e-01,\n",
       "       -1.62374523e+00, -8.62203543e-01, -1.93179121e+00, -1.30623911e+00,\n",
       "       -8.26727998e-01, -7.40995433e-01, -1.31629051e+00, -1.15487678e+00,\n",
       "        5.66049315e-04,  5.58139535e+01,  2.90000000e-01,  4.46927374e-02,\n",
       "       -7.64705882e+01,  3.40865322e-04,  4.29107478e+01, -1.05800000e+00,\n",
       "        1.67968750e-01, -5.29411765e+01, -1.98913400e-03,  4.64765478e+01,\n",
       "       -9.39000000e-01, -5.70400822e-01, -3.52941176e+01])"
      ]
     },
     "execution_count": 13,
     "metadata": {},
     "output_type": "execute_result"
    }
   ],
   "source": [
    "state = np.append(state, get_technical_indicators(last5m))\n",
    "state = np.append(state, get_technical_indicators(last1h))\n",
    "state = np.append(state, get_technical_indicators(last1d))\n",
    "state"
   ]
  },
  {
   "cell_type": "code",
   "execution_count": 14,
   "metadata": {
    "colab": {},
    "colab_type": "code",
    "id": "NEe4pKvjb-hv",
    "outputId": "ed467c79-d274-4719-ed2f-ffedda9cdfda"
   },
   "outputs": [
    {
     "data": {
      "text/plain": [
       "(135,)"
      ]
     },
     "execution_count": 14,
     "metadata": {},
     "output_type": "execute_result"
    }
   ],
   "source": [
    "state.shape"
   ]
  },
  {
   "cell_type": "markdown",
   "metadata": {
    "colab_type": "text",
    "id": "XHHg4gBqb-h0"
   },
   "source": [
    "There are 5 technical indicators, and for each granularity of data, you get 5 values. Therefore the size of technical indicators is 15 (5*3). And the total size of the state array is 135, that is (120+15)."
   ]
  },
  {
   "cell_type": "markdown",
   "metadata": {
    "colab_type": "text",
    "id": "ZL7PDhFMb-h1"
   },
   "source": [
    "<a id='time'></a> \n",
    "## Time signature\n",
    "\n",
    "In this step, you will add the time of the day, day of the week and position to the state array. "
   ]
  },
  {
   "cell_type": "markdown",
   "metadata": {},
   "source": [
    "### Time of the day\n",
    "\n",
    "To calculate the time of the day, we use hours and minutes from the current time. We divide by 24*60 to convert the time into an hour and finally normalise it."
   ]
  },
  {
   "cell_type": "code",
   "execution_count": 15,
   "metadata": {
    "colab": {},
    "colab_type": "code",
    "id": "v175ITUab-h4"
   },
   "outputs": [
    {
     "name": "stdout",
     "output_type": "stream",
     "text": [
      "Time of the day: 0.4583333333333333\n"
     ]
    }
   ],
   "source": [
    "# Extract hours and minutes from current time and map that into float\n",
    "tm_lst = list(map(float, str(curr_time.time()).split(':')[:2]))\n",
    "\n",
    "# Calculate time of the day\n",
    "_time_of_day = (tm_lst[0]*60 + tm_lst[1])/(24*60)\n",
    "print('Time of the day:', _time_of_day)"
   ]
  },
  {
   "cell_type": "markdown",
   "metadata": {},
   "source": [
    "Since we set the current time as (2012, 5, 10, 11, 0, 0). The hour and minutes are 11 and 0 respectively. Then we use the above formula to get the time of the day."
   ]
  },
  {
   "cell_type": "markdown",
   "metadata": {
    "colab": {},
    "colab_type": "code",
    "id": "-8gSA9zyb-h-"
   },
   "source": [
    "### Day of the week\n",
    "\n",
    "We use `weekday()` property of datetime to get the day of the week as an integer. Then we divide it by 6 to normalise it.\n",
    "\n",
    "\n",
    "Syntax: \n",
    "```python\n",
    "DatetimeIndex.weekday()\n",
    "```\n",
    " \n",
    "Returns:\n",
    "\n",
    "Integers indicating the day of the week. The day of the week with: <br>\n",
    "Monday = 0, \n",
    "Tuesday = 1,\n",
    "Wednesday = 2,\n",
    "Thursday = 3,\n",
    "Friday = 4,\n",
    "Saturday = 5,\n",
    "Sunday = 6"
   ]
  },
  {
   "cell_type": "code",
   "execution_count": 16,
   "metadata": {
    "colab": {},
    "colab_type": "code",
    "id": "WgFeEVCab-iC"
   },
   "outputs": [
    {
     "name": "stdout",
     "output_type": "stream",
     "text": [
      "Day of the Week: 0.5\n"
     ]
    }
   ],
   "source": [
    "_day_of_week = curr_time.weekday()/6\n",
    "print('Day of the Week:', _day_of_week)"
   ]
  },
  {
   "cell_type": "markdown",
   "metadata": {
    "colab": {},
    "colab_type": "code",
    "id": "J8Jq6pLeb-iE",
    "outputId": "e73171d2-0b39-41b4-e142-6eb3b65772d7"
   },
   "source": [
    "Since we set the current time as (2012, 5, 10, 11, 0, 0), which falls on Thursday, therefore the day of the week is 0.5. "
   ]
  },
  {
   "cell_type": "markdown",
   "metadata": {
    "colab": {},
    "colab_type": "code",
    "id": "MoJb0ZS9b-iI",
    "outputId": "dba0ef08-5998-4f1d-ec4d-0492775111fa"
   },
   "source": [
    "### Position"
   ]
  },
  {
   "cell_type": "code",
   "execution_count": 17,
   "metadata": {},
   "outputs": [],
   "source": [
    "# The position is updated using update_postion() function of Game class. \n",
    "# For the illustration purpose, we have manually set to 1.\n",
    "position = 1"
   ]
  },
  {
   "cell_type": "code",
   "execution_count": 18,
   "metadata": {},
   "outputs": [],
   "source": [
    "state = np.append(state, _time_of_day)\n",
    "state = np.append(state, _day_of_week)\n",
    "state = np.append(state, position)"
   ]
  },
  {
   "cell_type": "code",
   "execution_count": 19,
   "metadata": {},
   "outputs": [
    {
     "data": {
      "text/plain": [
       "array([ 2.21143692e+00,  2.44988568e+00,  6.54506779e-01,  7.17625569e-01,\n",
       "        7.17625569e-01,  1.97298816e+00,  5.35282399e-01,  1.13841750e+00,\n",
       "        1.13841750e+00,  1.79064499e+00, -4.18512639e-01, -1.73050681e-01,\n",
       "       -1.80063880e-01, -6.08394997e-02, -7.83198978e-01, -4.81631429e-01,\n",
       "       -4.81631429e-01, -4.73390920e-03, -1.37932088e+00, -4.81631429e-01,\n",
       "       -4.81631429e-01,  1.14490471e-01, -6.00855808e-01, -6.08394997e-02,\n",
       "       -6.08394997e-02,  7.17625569e-01, -1.80063880e-01,  3.59952429e-01,\n",
       "        2.96833640e-01,  3.59952429e-01, -6.00855808e-01, -2.36169470e-01,\n",
       "       -1.80063880e-01, -1.80063880e-01, -1.26009650e+00, -1.14087212e+00,\n",
       "       -1.19697771e+00, -1.07775333e+00, -2.33311592e+00, -1.14087212e+00,\n",
       "       -1.41310441e+00, -8.24332730e-01, -1.71691897e+00, -1.25176840e+00,\n",
       "       -1.25176840e+00, -6.62996719e-01, -2.50474157e+00, -1.25176840e+00,\n",
       "       -1.23500621e+00,  5.71119003e-01, -1.53882078e+00, -8.90490971e-04,\n",
       "       -8.90490971e-04,  7.03487867e-02, -8.41094913e-01, -1.62226502e-01,\n",
       "       -1.62226502e-01,  1.28560705e+00, -2.14608324e-01,  7.68074654e-01,\n",
       "        7.68074654e-01,  8.74933570e-01, -1.97479468e-02,  1.79669649e-02,\n",
       "       -8.90490971e-04,  5.35499365e-01, -4.66041069e-01, -2.87942875e-01,\n",
       "        1.41132343e+00,  1.71513799e+00,  9.29410665e-01,  1.30446451e+00,\n",
       "        1.30446451e+00,  1.60827908e+00,  5.35866037e-02,  4.09782992e-01,\n",
       "        4.09782992e-01,  1.12636631e+00,  5.35866037e-02,  5.89976459e-01,\n",
       "        1.14098220e+00,  1.24740883e+00,  7.47794912e-01,  1.06530103e+00,\n",
       "        9.03887307e-01,  9.54735588e-01,  5.91111258e-01,  7.57846316e-01,\n",
       "        7.42473580e-01,  1.68612306e+00,  6.62062347e-01,  1.21193328e+00,\n",
       "        8.08103338e-01,  1.08067377e+00,  5.76329781e-01,  1.01977409e+00,\n",
       "        1.01977409e+00,  1.07535244e+00,  3.38643634e-01,  4.95327288e-01,\n",
       "        9.91837094e-02,  1.72499834e-01, -7.05519888e-01, -6.59992940e-01,\n",
       "       -9.12460564e-01, -3.82692435e-01, -9.37884704e-01, -6.04414587e-01,\n",
       "       -1.02834734e+00, -7.81201050e-01, -1.71479913e+00, -9.07139232e-01,\n",
       "       -1.62374523e+00, -8.62203543e-01, -1.93179121e+00, -1.30623911e+00,\n",
       "       -8.26727998e-01, -7.40995433e-01, -1.31629051e+00, -1.15487678e+00,\n",
       "        5.66049315e-04,  5.58139535e+01,  2.90000000e-01,  4.46927374e-02,\n",
       "       -7.64705882e+01,  3.40865322e-04,  4.29107478e+01, -1.05800000e+00,\n",
       "        1.67968750e-01, -5.29411765e+01, -1.98913400e-03,  4.64765478e+01,\n",
       "       -9.39000000e-01, -5.70400822e-01, -3.52941176e+01,  4.58333333e-01,\n",
       "        5.00000000e-01,  1.00000000e+00])"
      ]
     },
     "execution_count": 19,
     "metadata": {},
     "output_type": "execute_result"
    }
   ],
   "source": [
    "state"
   ]
  },
  {
   "cell_type": "code",
   "execution_count": 20,
   "metadata": {},
   "outputs": [
    {
     "data": {
      "text/plain": [
       "(138,)"
      ]
     },
     "execution_count": 20,
     "metadata": {},
     "output_type": "execute_result"
    }
   ],
   "source": [
    "state.shape"
   ]
  },
  {
   "cell_type": "markdown",
   "metadata": {
    "colab_type": "text",
    "id": "7ydU8xw-b-iM"
   },
   "source": [
    "Finally, we added 3 more features to the state array, that is the 'day of the week', 'time of the day' and 'position'. And for each of these features, we get one value. Therefore the final size of the state array is 138, that is (135+3). We pass this state array to the neural networks to predict the action that is, buy, sell, or hold. \n",
    "\n",
    "Till now, you have learned to create a state array, update position, and design a reward system. In the next notebook, you will learn to put it all together in the Game class.<br><br>"
   ]
  }
 ],
 "metadata": {
  "colab": {
   "name": "Assemble States.ipynb",
   "provenance": []
  },
  "kernelspec": {
   "display_name": "Python 3 (ipykernel)",
   "language": "python",
   "name": "python3"
  },
  "language_info": {
   "codemirror_mode": {
    "name": "ipython",
    "version": 3
   },
   "file_extension": ".py",
   "mimetype": "text/x-python",
   "name": "python",
   "nbconvert_exporter": "python",
   "pygments_lexer": "ipython3",
   "version": "3.9.5"
  }
 },
 "nbformat": 4,
 "nbformat_minor": 4
}
