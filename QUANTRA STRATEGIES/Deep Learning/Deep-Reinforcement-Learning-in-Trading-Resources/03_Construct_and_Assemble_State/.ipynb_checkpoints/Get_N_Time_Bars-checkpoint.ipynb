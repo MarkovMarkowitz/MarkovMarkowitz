{
 "cells": [
  {
   "cell_type": "markdown",
   "metadata": {
    "colab_type": "text",
    "id": "kXkT-jqvoDyt"
   },
   "source": [
    "# Notebook Instructions\n",
    "\n",
    "1. If you are new to Jupyter notebooks, please go through this introductory manual <a href='https://quantra.quantinsti.com/quantra-notebook' target=\"_blank\">here</a>.\n",
    "1. Any changes made in this notebook would be lost after you close the browser window. **You can download the notebook to save your work on your PC.**\n",
    "1. Before running this notebook on your local PC:<br>\n",
    "i.  You need to set up a Python environment and the relevant packages on your local PC. To do so, go through the section on \"**Run Codes Locally on Your Machine**\" in the course.<br>\n",
    "ii. You need to **download the zip file available in the last unit** of this course. The zip file contains the data files and/or python modules that might be required to run this notebook."
   ]
  },
  {
   "cell_type": "markdown",
   "metadata": {
    "colab_type": "text",
    "id": "gpXIzrMnoDyw"
   },
   "source": [
    "# Get N Time Bars \n",
    "\n",
    "In this notebook, you will learn to create N time bars from the current time. The N represents the lookback period. You already have learned that we are using three input features; candlestick bars, technical indicators, and time signature to construct a state. For creating candlestick bars and technical indicators, we required time bars of last N period. \n",
    "\n",
    "![title](https://d2a032ejo53cab.cloudfront.net/Glossary/90h7GDAv/Untitled-Diagram-1.png)\n",
    "\n",
    "\n",
    "The steps used to create N time bars are:\n",
    "1. [Read price data](#read)\n",
    "2. [Get N 5 mins bars ](#5mins)\n",
    "3. [Resample price data ](#resample)\n",
    "4. [Get N time bars](#timebars)"
   ]
  },
  {
   "cell_type": "markdown",
   "metadata": {
    "colab_type": "text",
    "id": "RXUn9SW1oDyy"
   },
   "source": [
    "<a id='read'></a> \n",
    "## Read Price data"
   ]
  },
  {
   "cell_type": "code",
   "execution_count": 1,
   "metadata": {
    "colab": {},
    "colab_type": "code",
    "id": "bTsUTvGpoDyz",
    "outputId": "079b9996-e0f6-41fd-9f9f-4a6740736bd1"
   },
   "outputs": [
    {
     "data": {
      "text/html": [
       "<div>\n",
       "<style scoped>\n",
       "    .dataframe tbody tr th:only-of-type {\n",
       "        vertical-align: middle;\n",
       "    }\n",
       "\n",
       "    .dataframe tbody tr th {\n",
       "        vertical-align: top;\n",
       "    }\n",
       "\n",
       "    .dataframe thead th {\n",
       "        text-align: right;\n",
       "    }\n",
       "</style>\n",
       "<table border=\"1\" class=\"dataframe\">\n",
       "  <thead>\n",
       "    <tr style=\"text-align: right;\">\n",
       "      <th></th>\n",
       "      <th>open</th>\n",
       "      <th>high</th>\n",
       "      <th>low</th>\n",
       "      <th>close</th>\n",
       "      <th>volume</th>\n",
       "    </tr>\n",
       "    <tr>\n",
       "      <th>Time</th>\n",
       "      <th></th>\n",
       "      <th></th>\n",
       "      <th></th>\n",
       "      <th></th>\n",
       "      <th></th>\n",
       "    </tr>\n",
       "  </thead>\n",
       "  <tbody>\n",
       "    <tr>\n",
       "      <th>2010-01-04 09:35:00-05:00</th>\n",
       "      <td>91.711</td>\n",
       "      <td>91.809</td>\n",
       "      <td>91.703</td>\n",
       "      <td>91.760</td>\n",
       "      <td>4448908.0</td>\n",
       "    </tr>\n",
       "    <tr>\n",
       "      <th>2010-01-04 09:40:00-05:00</th>\n",
       "      <td>91.752</td>\n",
       "      <td>91.973</td>\n",
       "      <td>91.752</td>\n",
       "      <td>91.932</td>\n",
       "      <td>4380988.0</td>\n",
       "    </tr>\n",
       "    <tr>\n",
       "      <th>2010-01-04 09:45:00-05:00</th>\n",
       "      <td>91.940</td>\n",
       "      <td>92.022</td>\n",
       "      <td>91.928</td>\n",
       "      <td>92.005</td>\n",
       "      <td>2876633.0</td>\n",
       "    </tr>\n",
       "    <tr>\n",
       "      <th>2010-01-04 09:50:00-05:00</th>\n",
       "      <td>92.005</td>\n",
       "      <td>92.177</td>\n",
       "      <td>91.973</td>\n",
       "      <td>92.177</td>\n",
       "      <td>4357079.0</td>\n",
       "    </tr>\n",
       "    <tr>\n",
       "      <th>2010-01-04 09:55:00-05:00</th>\n",
       "      <td>92.168</td>\n",
       "      <td>92.177</td>\n",
       "      <td>92.038</td>\n",
       "      <td>92.079</td>\n",
       "      <td>2955068.0</td>\n",
       "    </tr>\n",
       "  </tbody>\n",
       "</table>\n",
       "</div>"
      ],
      "text/plain": [
       "                             open    high     low   close     volume\n",
       "Time                                                                \n",
       "2010-01-04 09:35:00-05:00  91.711  91.809  91.703  91.760  4448908.0\n",
       "2010-01-04 09:40:00-05:00  91.752  91.973  91.752  91.932  4380988.0\n",
       "2010-01-04 09:45:00-05:00  91.940  92.022  91.928  92.005  2876633.0\n",
       "2010-01-04 09:50:00-05:00  92.005  92.177  91.973  92.177  4357079.0\n",
       "2010-01-04 09:55:00-05:00  92.168  92.177  92.038  92.079  2955068.0"
      ]
     },
     "execution_count": 1,
     "metadata": {},
     "output_type": "execute_result"
    }
   ],
   "source": [
    "# Import necessary libraries\n",
    "import numpy as np\n",
    "import pandas as pd\n",
    "from datetime import datetime, timedelta\n",
    "import datetime\n",
    "\n",
    "# Ignore warnings\n",
    "import warnings\n",
    "warnings.filterwarnings(\"ignore\")\n",
    "\n",
    "# The data is stored in the directory 'data_modules'\n",
    "path = '../data_modules/'\n",
    "\n",
    "# Read the pickle file\n",
    "bars5m = pd.read_pickle(path+ 'PriceData5m.bz2')\n",
    "bars5m.head()"
   ]
  },
  {
   "cell_type": "markdown",
   "metadata": {
    "colab_type": "text",
    "id": "yvKIyV4PoDy8"
   },
   "source": [
    "<a id='5mins'></a> \n",
    "### Get N 5 minutes bars \n",
    "\n",
    "In this step, we will illustrate how to get 5 minutes bars based on the lookback period. First, we will reduce the size of the data by defining the width of the data to 9 days (arbitrarily chosen). This is done to reduce the computation power as whenever you create time bars for certain lookback, you need to pull data from the start date. Next, you define the lookback period and make the times bars based on the specified lookback period.\n",
    "\n",
    "We are also making sure that the length of the bars equals to the lookback period. This is done using the `assert` keyword. \n",
    "\n",
    "The assert keyword lets you test if a condition in your code returns True, if not, the code will raise an exception. For example, if the length of your created bars is 70 and you passed the lookback of 100, then it will raise an exception."
   ]
  },
  {
   "cell_type": "code",
   "execution_count": 2,
   "metadata": {
    "colab": {},
    "colab_type": "code",
    "id": "RHk4Umw8oDy_"
   },
   "outputs": [],
   "source": [
    "def get_last_N_5m_bars(bars5m, curr_time, lkbk):\n",
    "    '''This function gets the timebars for the 5m resolution based\n",
    "    on the lookback we've specified.\n",
    "    '''\n",
    "    # Width of the data, arbitrarly chosen\n",
    "    wdw5m = 9\n",
    "\n",
    "    \"\"\"---creating the time bars based on the lookback---\"\"\"\n",
    "    # Reduce the size of the data\n",
    "    curtail_data = bars5m[curr_time-timedelta(wdw5m):curr_time]\n",
    "    # Create candlestick based on lookback window \n",
    "    last5m = curtail_data.iloc[-lkbk:]\n",
    "\n",
    "    '''---Making sure that window lengths agree with lookback---'''\n",
    "    try:\n",
    "        assert(len(last5m) == lkbk)\n",
    "\n",
    "    except Exception as e:\n",
    "        print('****Window length too short****')\n",
    "\n",
    "    return last5m"
   ]
  },
  {
   "cell_type": "code",
   "execution_count": 3,
   "metadata": {
    "colab": {},
    "colab_type": "code",
    "id": "42Ayvms1oDzF",
    "outputId": "df42e206-2f31-4fe8-a31f-60a8faeeef98"
   },
   "outputs": [
    {
     "data": {
      "text/html": [
       "<div>\n",
       "<style scoped>\n",
       "    .dataframe tbody tr th:only-of-type {\n",
       "        vertical-align: middle;\n",
       "    }\n",
       "\n",
       "    .dataframe tbody tr th {\n",
       "        vertical-align: top;\n",
       "    }\n",
       "\n",
       "    .dataframe thead th {\n",
       "        text-align: right;\n",
       "    }\n",
       "</style>\n",
       "<table border=\"1\" class=\"dataframe\">\n",
       "  <thead>\n",
       "    <tr style=\"text-align: right;\">\n",
       "      <th></th>\n",
       "      <th>open</th>\n",
       "      <th>high</th>\n",
       "      <th>low</th>\n",
       "      <th>close</th>\n",
       "      <th>volume</th>\n",
       "    </tr>\n",
       "    <tr>\n",
       "      <th>Time</th>\n",
       "      <th></th>\n",
       "      <th></th>\n",
       "      <th></th>\n",
       "      <th></th>\n",
       "      <th></th>\n",
       "    </tr>\n",
       "  </thead>\n",
       "  <tbody>\n",
       "    <tr>\n",
       "      <th>2012-05-10 10:40:00-04:00</th>\n",
       "      <td>116.254</td>\n",
       "      <td>116.339</td>\n",
       "      <td>116.237</td>\n",
       "      <td>116.314</td>\n",
       "      <td>1951331.0</td>\n",
       "    </tr>\n",
       "    <tr>\n",
       "      <th>2012-05-10 10:45:00-04:00</th>\n",
       "      <td>116.314</td>\n",
       "      <td>116.425</td>\n",
       "      <td>116.297</td>\n",
       "      <td>116.374</td>\n",
       "      <td>1917502.0</td>\n",
       "    </tr>\n",
       "    <tr>\n",
       "      <th>2012-05-10 10:50:00-04:00</th>\n",
       "      <td>116.365</td>\n",
       "      <td>116.374</td>\n",
       "      <td>116.237</td>\n",
       "      <td>116.289</td>\n",
       "      <td>1517253.0</td>\n",
       "    </tr>\n",
       "    <tr>\n",
       "      <th>2012-05-10 10:55:00-04:00</th>\n",
       "      <td>116.297</td>\n",
       "      <td>116.297</td>\n",
       "      <td>116.143</td>\n",
       "      <td>116.160</td>\n",
       "      <td>1760156.0</td>\n",
       "    </tr>\n",
       "    <tr>\n",
       "      <th>2012-05-10 11:00:00-04:00</th>\n",
       "      <td>116.152</td>\n",
       "      <td>116.169</td>\n",
       "      <td>115.990</td>\n",
       "      <td>116.160</td>\n",
       "      <td>3202995.0</td>\n",
       "    </tr>\n",
       "  </tbody>\n",
       "</table>\n",
       "</div>"
      ],
      "text/plain": [
       "                              open     high      low    close     volume\n",
       "Time                                                                    \n",
       "2012-05-10 10:40:00-04:00  116.254  116.339  116.237  116.314  1951331.0\n",
       "2012-05-10 10:45:00-04:00  116.314  116.425  116.297  116.374  1917502.0\n",
       "2012-05-10 10:50:00-04:00  116.365  116.374  116.237  116.289  1517253.0\n",
       "2012-05-10 10:55:00-04:00  116.297  116.297  116.143  116.160  1760156.0\n",
       "2012-05-10 11:00:00-04:00  116.152  116.169  115.990  116.160  3202995.0"
      ]
     },
     "execution_count": 3,
     "metadata": {},
     "output_type": "execute_result"
    }
   ],
   "source": [
    "curr_time = datetime.datetime(2012, 5, 10, 11, 0, 0)\n",
    "lkbk = 5\n",
    "get_last_N_5m_bars(bars5m, curr_time, lkbk)"
   ]
  },
  {
   "cell_type": "markdown",
   "metadata": {
    "colab_type": "text",
    "id": "H7lBXx7ZoDzL"
   },
   "source": [
    "In the above output, you can see, we have created 5 mins timebar for lookback of 5 period from the mentioned time period. You can change the `lkbk` and `curr_time` parameter and experiment with that. You can also try to use the large value of lookback to check when the code raise an exception."
   ]
  },
  {
   "cell_type": "markdown",
   "metadata": {
    "colab_type": "text",
    "id": "hJwO1YDQoDzM"
   },
   "source": [
    "<a id='resample'></a> \n",
    "## Resample price data\n",
    "\n",
    "Since we will work with 5 min, 1 hour and 1 day data, we need to resmaple the 5 mins data to these granularity. We have already discussed the resample method in the \"Initialise and Reset Game Class\" notebook."
   ]
  },
  {
   "cell_type": "code",
   "execution_count": 4,
   "metadata": {
    "colab": {},
    "colab_type": "code",
    "id": "BSBr83ozoDzO"
   },
   "outputs": [],
   "source": [
    "ohlcv_dict = {\n",
    "        'open': 'first',\n",
    "        'high': 'max',\n",
    "        'low': 'min',\n",
    "        'close': 'last',\n",
    "        'volume': 'sum'\n",
    "    }\n",
    "\n",
    "\n",
    "bars1h = bars5m.resample('1H', closed='right', label='left').agg(ohlcv_dict).dropna()\n",
    "bars1d = bars5m.resample('1D', closed='right', label='left').agg(ohlcv_dict).dropna()"
   ]
  },
  {
   "cell_type": "markdown",
   "metadata": {
    "colab_type": "text",
    "id": "mA1sb2wIoDzU"
   },
   "source": [
    "<a id='timebars'></a> \n",
    "## Get N time bars\n",
    "\n",
    "Similar to the above code, we first define the width(time interval, in days) of the 5 mins, 1 hour and 1 day data. Width for the 5 minutes is 9 days. \n",
    "\n",
    "For width of 1 hour time bars, we will multiply the lookback period with 15 in order to create a time interval(width) wider than lookback period and divide it by 24 as there are 24 hours in a day. Finally, we will apply `ceil` method on that. This is done to make sure that the width should be greater than lookback period and that's why we multiply lookback period with a arbitrarily chosen number(15) higher than lookback period.\n",
    "\n",
    "For width of 1 day time bars, we will multiply the lookback period with 15(to have a wider time interval than lookback period) and apply `ceil` method on that. \n",
    "\n",
    "Syntax: \n",
    "```python\n",
    "import numpy as np\n",
    "np.ceil(x)\n",
    "```\n",
    "Returns: smallest integer not less than x.\n",
    "\n",
    "Example: np.ceil(17.3) == 18"
   ]
  },
  {
   "cell_type": "code",
   "execution_count": 5,
   "metadata": {
    "colab": {},
    "colab_type": "code",
    "id": "YejUruxzoDzW"
   },
   "outputs": [],
   "source": [
    "def get_last_N_timebars(bars5m, bars1h, bars1d, curr_time, lkbk):\n",
    "    '''This function gets the timebars for the 5m, 1hr and 1d resolution based\n",
    "    on the lookback we've specified.\n",
    "    '''\n",
    "   \n",
    "    \"\"\" Width of the 5m, 1hr, and 1d\"\"\"\n",
    "    wdw5m = 9\n",
    "    wdw1h = np.ceil(lkbk*15/24.)\n",
    "    wdw1d = np.ceil(lkbk*15)\n",
    "\n",
    "    \"\"\"---creating the timebars based on the lookback---\"\"\"\n",
    "    last5m = bars5m[curr_time-timedelta(wdw5m):curr_time].iloc[-lkbk:]\n",
    "    last1h = bars1h[curr_time-timedelta(wdw1h):curr_time].iloc[-lkbk:]\n",
    "    last1d = bars1d[curr_time-timedelta(wdw1d):curr_time].iloc[-lkbk:]\n",
    "\n",
    "    '''---Making sure that window lengths agree with lookback---'''\n",
    "    try:\n",
    "        assert(len(last5m) == lkbk)\n",
    "        assert(len(last1h) == lkbk)\n",
    "        assert(len(last1d) == lkbk)\n",
    "\n",
    "    except Exception as e:\n",
    "        print('****Window length too short****')\n",
    "\n",
    "    return last5m, last1h, last1d"
   ]
  },
  {
   "cell_type": "code",
   "execution_count": 6,
   "metadata": {
    "colab": {},
    "colab_type": "code",
    "id": "k7Vmyzw4oDzc",
    "outputId": "5e687308-342c-436f-8c82-799cb4a79cbd"
   },
   "outputs": [
    {
     "data": {
      "text/plain": [
       "(                              open     high      low    close     volume\n",
       " Time                                                                    \n",
       " 2012-05-10 10:40:00-04:00  116.254  116.339  116.237  116.314  1951331.0\n",
       " 2012-05-10 10:45:00-04:00  116.314  116.425  116.297  116.374  1917502.0\n",
       " 2012-05-10 10:50:00-04:00  116.365  116.374  116.237  116.289  1517253.0\n",
       " 2012-05-10 10:55:00-04:00  116.297  116.297  116.143  116.160  1760156.0\n",
       " 2012-05-10 11:00:00-04:00  116.152  116.169  115.990  116.160  3202995.0,\n",
       "                               open     high      low    close      volume\n",
       " Time                                                                     \n",
       " 2012-05-09 14:00:00-04:00  116.331  116.382  115.955  115.973  18745626.0\n",
       " 2012-05-09 15:00:00-04:00  115.964  116.220  115.742  115.827  34107806.0\n",
       " 2012-05-10 09:00:00-04:00  116.638  116.783  116.408  116.587  14498502.0\n",
       " 2012-05-10 10:00:00-04:00  116.587  116.732  115.990  116.160  28210656.0\n",
       " 2012-05-10 11:00:00-04:00  116.160  116.502  115.990  116.246  18072362.0,\n",
       "                               open     high      low    close       volume\n",
       " Time                                                                      \n",
       " 2012-05-04 00:00:00-04:00  118.204  118.328  116.843  116.920  149545597.0\n",
       " 2012-05-07 00:00:00-04:00  116.493  117.389  116.450  117.014  103239090.0\n",
       " 2012-05-08 00:00:00-04:00  116.297  116.715  115.136  116.502  183332215.0\n",
       " 2012-05-09 00:00:00-04:00  115.290  116.578  114.769  115.827  195514564.0\n",
       " 2012-05-10 00:00:00-04:00  116.638  116.783  115.810  116.083  125291028.0)"
      ]
     },
     "execution_count": 6,
     "metadata": {},
     "output_type": "execute_result"
    }
   ],
   "source": [
    "curr_time = datetime.datetime(2012, 5, 10, 11, 0, 0)\n",
    "lkbk = 5\n",
    "get_last_N_timebars(bars5m, bars1h, bars1d, curr_time, lkbk)"
   ]
  },
  {
   "cell_type": "markdown",
   "metadata": {
    "colab_type": "text",
    "id": "2h2vkjzzoDzl"
   },
   "source": [
    "We have created 5 min, 1 hour, 1 day timebar for lookback of 5 periods from the mentioned time period.\n",
    "In the upcoming notebook, you will learn to use these bars to create the input features for the state construction.<br><br>"
   ]
  }
 ],
 "metadata": {
  "colab": {
   "name": "Get N Time Bars.ipynb",
   "provenance": []
  },
  "kernelspec": {
   "display_name": "Python 3 (ipykernel)",
   "language": "python",
   "name": "python3"
  },
  "language_info": {
   "codemirror_mode": {
    "name": "ipython",
    "version": 3
   },
   "file_extension": ".py",
   "mimetype": "text/x-python",
   "name": "python",
   "nbconvert_exporter": "python",
   "pygments_lexer": "ipython3",
   "version": "3.9.5"
  }
 },
 "nbformat": 4,
 "nbformat_minor": 4
}
