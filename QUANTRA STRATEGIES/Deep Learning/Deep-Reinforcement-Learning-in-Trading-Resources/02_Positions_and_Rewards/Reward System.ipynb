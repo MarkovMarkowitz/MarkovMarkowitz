{
 "cells": [
  {
   "cell_type": "markdown",
   "metadata": {},
   "source": [
    "# Notebook Instructions\n",
    "\n",
    "1. If you are new to Jupyter notebooks, please go through this introductory manual <a href='https://quantra.quantinsti.com/quantra-notebook' target=\"_blank\">here</a>.\n",
    "1. Any changes made in this notebook would be lost after you close the browser window. **You can download the notebook to save your work on your PC.**\n",
    "1. Before running this notebook on your local PC:<br>\n",
    "i.  You need to set up a Python environment and the relevant packages on your local PC. To do so, go through the section on \"**Run Codes Locally on Your Machine**\" in the course.<br>\n",
    "ii. You need to **download the zip file available in the last unit** of this course. The zip file contains the data files and/or python modules that might be required to run this notebook."
   ]
  },
  {
   "cell_type": "markdown",
   "metadata": {},
   "source": [
    "\n",
    "# Reward System\n",
    "\n",
    "Reward function design is complicated and can significantly impact the performance of the algorithm. In our approach, we used pnl based reward system, but it is conceivable to use other metrics such as Sharpe ratio, average return, etc. \n",
    "\n",
    "Here are some of the examples of pnl based reward system.\n",
    "\n",
    "1. [Percentage pnl](#percentage_pnl)\n",
    "2. [Positive pnl](#positive_pnl)\n",
    "3. [Positive log pnl](#positive_log_pnl)\n",
    "4. [Categorical pnl](#categorical_pnl)\n",
    "5. [Positive categorical pnl](#positive_categorical_pnl)\n",
    "6. [Exponential pnl](#exponential_pnl)"
   ]
  },
  {
   "cell_type": "markdown",
   "metadata": {},
   "source": [
    "<a id='percentage_pnl'></a>\n",
    "\n",
    "### Percentage pnl\n",
    "The percentage pnl give the percentage returns from the trade. This is calculated by subtracting the current price from entry price and dividing it by entry price. The simple percentage calculation formula. Finally, it is multiplied with the position (1 for long and -1 for short) of the trade.\n",
    "\n",
    "We have also incorporated the transaction cost and commissions in the pnl calculation. Feel free to change the transaction cost and commission to a value that suits your local markets and brokers.\n",
    "\n",
    "You can also include slippage into pnl, but here we are not including it to avoid the complexity.  "
   ]
  },
  {
   "cell_type": "code",
   "execution_count": 1,
   "metadata": {},
   "outputs": [],
   "source": [
    "def get_pnl(entry, curr_price, position):\n",
    "    # Transaction cost and commissions\n",
    "    tc = 0.001\n",
    "    return (curr_price*(1-tc) - entry*(1+tc))/entry*(1+tc)*position"
   ]
  },
  {
   "cell_type": "code",
   "execution_count": 2,
   "metadata": {},
   "outputs": [
    {
     "name": "stdout",
     "output_type": "stream",
     "text": [
      "The percentage pnl is 4.80\n"
     ]
    }
   ],
   "source": [
    "def reward_pure_pnl(entry, curr_price, position):\n",
    "    '''pure pnl'''\n",
    "    return get_pnl(entry, curr_price, position)\n",
    "\n",
    "\n",
    "# Example:\n",
    "# Let's see reward for entry price 100 and exit price of 105 for a long position\n",
    "entry_price = 100\n",
    "curr_price = 105\n",
    "position = 1  # Long\n",
    "print('The percentage pnl is %.2f' %\n",
    "      (reward_pure_pnl(entry_price, curr_price, position)*100))"
   ]
  },
  {
   "cell_type": "code",
   "execution_count": 3,
   "metadata": {},
   "outputs": [
    {
     "name": "stdout",
     "output_type": "stream",
     "text": [
      "The percentage pnl is -2.77\n"
     ]
    }
   ],
   "source": [
    "# Now it's your turn, change the values of entry_price, exit_price and position\n",
    "# And see how the reward changes\n",
    "entry_price = 101\n",
    "curr_price = 104\n",
    "position = -1\n",
    "print('The percentage pnl is %.2f' %\n",
    "      (reward_pure_pnl(entry_price, curr_price, position)*100))"
   ]
  },
  {
   "cell_type": "markdown",
   "metadata": {},
   "source": [
    "<a id='positive_pnl'></a> \n",
    "### Positive pnl\n",
    "In this pnl reward system, only positive reinforcement is allowed. This means you will be only rewarded when the pnl is positive and no reward is given when the pnl is negative. "
   ]
  },
  {
   "cell_type": "code",
   "execution_count": 4,
   "metadata": {},
   "outputs": [
    {
     "name": "stdout",
     "output_type": "stream",
     "text": [
      "The reward is 4.80\n"
     ]
    }
   ],
   "source": [
    "def reward_positive_pnl(entry, curr_price, position):\n",
    "    '''Positive pnl, zero otherwise'''\n",
    "    pnl = get_pnl(entry, curr_price, position)\n",
    "\n",
    "    if pnl >= 0:\n",
    "        return pnl\n",
    "\n",
    "    else:\n",
    "        return 0\n",
    "\n",
    "\n",
    "# Example:\n",
    "# Let's see reward for entry price 100 and exit price of 105 for a long position\n",
    "entry_price = 100\n",
    "curr_price = 105\n",
    "position = 1  # Long\n",
    "print('The reward is %.2f' %\n",
    "      (reward_positive_pnl(entry_price, curr_price, position)*100))"
   ]
  },
  {
   "cell_type": "code",
   "execution_count": 5,
   "metadata": {},
   "outputs": [
    {
     "name": "stdout",
     "output_type": "stream",
     "text": [
      "The reward is 0.00\n"
     ]
    }
   ],
   "source": [
    "# Now it's your turn, change the values of entry_price, exit_price and position\n",
    "# And see how the reward changes\n",
    "entry_price = 101\n",
    "curr_price = 104\n",
    "position = -1\n",
    "print('The reward is %.2f' %\n",
    "      (reward_positive_pnl(entry_price, curr_price, position)*100))"
   ]
  },
  {
   "cell_type": "markdown",
   "metadata": {},
   "source": [
    "<a id='positive_log_pnl'></a> \n",
    "### Positive log pnl\n",
    "This reward system is similar to positive pnl. The only difference is when your percentage pnl is greater or equal to 0, you will calculate the log and then ceiling value of pnl, otherwise 0. \n",
    "\n",
    "The ceiling value of a number x is the smallest integer not less than x. In Python, you use ceil() method of Numpy to calculate the ceiling of a number x.\n",
    "\n",
    "Syntax: \n",
    "```python\n",
    "import numpy as np\n",
    "np.ceil(x) \n",
    "```\n",
    "\n",
    "Example:\n",
    "Ceiling value of 1.2 is 2, 1.8 is also 2 and for 0.99 is 1"
   ]
  },
  {
   "cell_type": "code",
   "execution_count": 6,
   "metadata": {
    "scrolled": true
   },
   "outputs": [],
   "source": [
    "import numpy as np\n",
    "\n",
    "\n",
    "def reward_pos_log_pnl(entry, curr_price, position):\n",
    "    '''Positive log pnl, zero otherwise'''\n",
    "    pnl = get_pnl(entry, curr_price, position)\n",
    "\n",
    "    # Return the ceiling of the input\n",
    "    return [np.ceil(np.log(i*100+1)) if i > 0 else 0 for i in pnl]"
   ]
  },
  {
   "cell_type": "code",
   "execution_count": 7,
   "metadata": {},
   "outputs": [],
   "source": [
    "# Define values of entry price, current price and position\n",
    "entry = 100\n",
    "curr_price = np.linspace(50, 150, 100)\n",
    "position = 1\n",
    "\n",
    "# Call reward_pure_pnl and reward_pos_log_pnl\n",
    "pure_pnl = reward_pure_pnl(entry, curr_price, position)\n",
    "pos_log_pnl = reward_pos_log_pnl(entry, curr_price, position)"
   ]
  },
  {
   "cell_type": "code",
   "execution_count": 8,
   "metadata": {},
   "outputs": [
    {
     "data": {
      "image/png": "[encoded data removed]",
      "text/plain": [
       "<Figure size 1000x500 with 1 Axes>"
      ]
     },
     "metadata": {},
     "output_type": "display_data"
    }
   ],
   "source": [
    "# Import matplotlib\n",
    "import matplotlib.pyplot as plt\n",
    "%matplotlib inline\n",
    "plt.style.use('seaborn-darkgrid')\n",
    "\n",
    "# Compare pnl and positive log pnl\n",
    "plt.figure(figsize=(10, 5))\n",
    "plt.plot(pure_pnl, label='PnL')\n",
    "plt.plot(pos_log_pnl, label='Positive Log PnL')\n",
    "plt.legend()\n",
    "plt.show()"
   ]
  },
  {
   "cell_type": "markdown",
   "metadata": {},
   "source": [
    "The above graph shows that for the negative value of the pnl, the value of positive log pnl is zero. But as the pnl value moves to positive, the positive log pnl is also positive, and its value depends on the log of the pnl."
   ]
  },
  {
   "cell_type": "markdown",
   "metadata": {},
   "source": [
    "<a id='categorical_pnl'></a> \n",
    "### Categorical pnl\n",
    "\n",
    "This categorical pnl reward system returns the sign of the pnl value that is +1 for the positive pnl and -1 for the negative pnl."
   ]
  },
  {
   "cell_type": "code",
   "execution_count": 9,
   "metadata": {},
   "outputs": [
    {
     "name": "stdout",
     "output_type": "stream",
     "text": [
      "The reward is 1.00\n"
     ]
    }
   ],
   "source": [
    "def reward_categorical_pnl(entry, curr_price, position):\n",
    "    '''Sign of pnl'''\n",
    "    pnl = get_pnl(entry, curr_price, position)\n",
    "    # Returns an element-wise indication of the sign of the input\n",
    "    return np.sign(pnl)\n",
    "\n",
    "\n",
    "# Example:\n",
    "# Let's see reward for entry price 100 and exit price of 105 for a long position\n",
    "entry_price = 100\n",
    "curr_price = 105\n",
    "position = 1  # Long\n",
    "print('The reward is %.2f' %\n",
    "      (reward_categorical_pnl(entry_price, curr_price, position)))"
   ]
  },
  {
   "cell_type": "code",
   "execution_count": 10,
   "metadata": {},
   "outputs": [
    {
     "name": "stdout",
     "output_type": "stream",
     "text": [
      "The reward is -1.00\n"
     ]
    }
   ],
   "source": [
    "# Now it's your turn, change the values of entry_price, exit_price and position\n",
    "# And see how the reward changes\n",
    "entry_price = 101\n",
    "curr_price = 104\n",
    "position = -1\n",
    "print('The reward is %.2f' %\n",
    "      (reward_categorical_pnl(entry_price, curr_price, position)))"
   ]
  },
  {
   "cell_type": "markdown",
   "metadata": {},
   "source": [
    "<a id='positive_categorical_pnl'></a> \n",
    "### Positive categorical pnl\n",
    "\n",
    "This is similar to the categorical pnl. Here when the pnl value is greater than zero, it returns 1. When the pnl is negative or equals to 0, it returns 0. This type of pnl reward system can be used where you are creating a long only strategy."
   ]
  },
  {
   "cell_type": "code",
   "execution_count": 11,
   "metadata": {},
   "outputs": [],
   "source": [
    "def reward_positive_categorical_pnl(entry, curr_price, position):\n",
    "    '''1 for win, 0 for loss'''\n",
    "    pnl = get_pnl(entry, curr_price, position)\n",
    "    return [1 if i > 0 else 0 for i in pnl]"
   ]
  },
  {
   "cell_type": "code",
   "execution_count": 12,
   "metadata": {},
   "outputs": [
    {
     "data": {
      "image/png": "[encoded data removed]",
      "text/plain": [
       "<Figure size 1000x500 with 1 Axes>"
      ]
     },
     "metadata": {},
     "output_type": "display_data"
    }
   ],
   "source": [
    "# Define values of entry price, current price and position\n",
    "entry = 100\n",
    "curr_price = np.linspace(50, 150, 100)\n",
    "position = 1\n",
    "\n",
    "# Call reward_positive_categorical_pnl function\n",
    "positive_categorical_pnl = reward_positive_categorical_pnl(\n",
    "    entry, curr_price, position)\n",
    "\n",
    "# Compare pnl and positive categorical pnl\n",
    "plt.figure(figsize=(10, 5))\n",
    "plt.plot(pure_pnl, label='PnL')\n",
    "plt.plot(positive_categorical_pnl, label='Win Loss PnL')\n",
    "plt.legend()\n",
    "plt.show()"
   ]
  },
  {
   "cell_type": "markdown",
   "metadata": {},
   "source": [
    "As you can see in the above graph, win loss pnl returns zero for the negative pnl and +1 for the positive pnl."
   ]
  },
  {
   "cell_type": "markdown",
   "metadata": {},
   "source": [
    "<a id='exponential_pnl'></a>\n",
    "### Exponential pnl\n",
    "\n",
    "In this method, we calculate the percentage pnl and then take exponential of that. "
   ]
  },
  {
   "cell_type": "code",
   "execution_count": 13,
   "metadata": {},
   "outputs": [],
   "source": [
    "def reward_exponential_pnl(entry, curr_price, position):\n",
    "    '''Exponentual percentage pnl'''\n",
    "    pnl = get_pnl(entry, curr_price, position)\n",
    "    return np.exp(pnl)\n",
    "\n",
    "\n",
    "exponential_pnl = reward_exponential_pnl(entry, curr_price, position)"
   ]
  },
  {
   "cell_type": "code",
   "execution_count": 14,
   "metadata": {
    "scrolled": true
   },
   "outputs": [
    {
     "data": {
      "image/png": "[encoded data removed]",
      "text/plain": [
       "<Figure size 1000x500 with 1 Axes>"
      ]
     },
     "metadata": {},
     "output_type": "display_data"
    }
   ],
   "source": [
    "# Define values of entry price, current price and position\n",
    "entry = 100\n",
    "curr_price = np.linspace(50, 150, 100)\n",
    "position = 1\n",
    "\n",
    "# Call reward_exponential_pnl function\n",
    "exponential_pnl = reward_exponential_pnl(entry, curr_price, position)\n",
    "\n",
    "# Compare pnl and positive categorical pnl\n",
    "plt.figure(figsize=(10, 5))\n",
    "plt.plot(pure_pnl, label='PnL')\n",
    "plt.plot(exponential_pnl, label='Expoential PnL')\n",
    "plt.legend()\n",
    "plt.show()"
   ]
  },
  {
   "cell_type": "markdown",
   "metadata": {},
   "source": [
    "In the above graph, you can observe the pnl is increasing linearly, while the exponential pnl graph is increasing exponentially. This type of pnl reward system is used to penalise the small change in the pnl value. "
   ]
  },
  {
   "cell_type": "markdown",
   "metadata": {},
   "source": [
    "## Reward design system\n",
    "\n",
    "In the \"Update Position\" notebook, you learned that game would only be finished when the current position is opposite of the action suggested by neural networks. When the trading game is finished, you get the reward. In the algorithm, we used the exponential pnl method to calculate the reward.\n",
    "\n",
    "The below flow chart helps you understand the mechanism of reward system.<br><br>\n",
    "![title](https://d2a032ejo53cab.cloudfront.net/Glossary/hDQnrHKd/Untitled-Diagram-2.png)"
   ]
  },
  {
   "cell_type": "code",
   "execution_count": 15,
   "metadata": {},
   "outputs": [],
   "source": [
    "def get_reward(entry, curr_price, position, is_over, reward):\n",
    "    \"\"\"Here we calculate the reward when the game is finished.\n",
    "    \"\"\"\n",
    "\n",
    "    # Reward is given, only if the game is over.\n",
    "    if is_over:\n",
    "        return reward(entry, curr_price, position)\n",
    "\n",
    "    # When game is not over\n",
    "    print('No reward')"
   ]
  },
  {
   "cell_type": "markdown",
   "metadata": {},
   "source": [
    "### Analyse the output"
   ]
  },
  {
   "cell_type": "code",
   "execution_count": 16,
   "metadata": {
    "scrolled": true
   },
   "outputs": [
    {
     "data": {
      "text/plain": [
       "0.953135741003771"
      ]
     },
     "execution_count": 16,
     "metadata": {},
     "output_type": "execute_result"
    }
   ],
   "source": [
    "get_reward(100, 105, -1, True, reward_exponential_pnl)"
   ]
  },
  {
   "cell_type": "markdown",
   "metadata": {},
   "source": [
    "Since the game is over and you are in short position, the reward is calculated using the pnl formula."
   ]
  },
  {
   "cell_type": "code",
   "execution_count": 17,
   "metadata": {},
   "outputs": [
    {
     "data": {
      "text/plain": [
       "1.0491685045268317"
      ]
     },
     "execution_count": 17,
     "metadata": {},
     "output_type": "execute_result"
    }
   ],
   "source": [
    "get_reward(100, 105, 1, True, reward_exponential_pnl)"
   ]
  },
  {
   "cell_type": "markdown",
   "metadata": {},
   "source": [
    "Since the game is over and you are in long position, the reward is calculated using the pnl formula."
   ]
  },
  {
   "cell_type": "code",
   "execution_count": 18,
   "metadata": {},
   "outputs": [
    {
     "name": "stdout",
     "output_type": "stream",
     "text": [
      "No reward\n"
     ]
    }
   ],
   "source": [
    "get_reward(100, 105, -1, False, reward_exponential_pnl)"
   ]
  },
  {
   "cell_type": "markdown",
   "metadata": {},
   "source": [
    "Since the game is not over, no reward is given."
   ]
  },
  {
   "cell_type": "markdown",
   "metadata": {},
   "source": [
    "We used exponential pnl as a reward system in the algorithm. But you can create your reward system based on Sharpe ratio, maximum drawdown, average return etc. Let's try out one such reward system based on the Sharpe ratio."
   ]
  },
  {
   "cell_type": "code",
   "execution_count": 19,
   "metadata": {},
   "outputs": [],
   "source": [
    "# Formula of Sharpe ratio\n",
    "# Sharpe ratio = (returns on the portfolio - risk-free rate)/ standard deviation of the portfolio's returns\n",
    "\n",
    "\n",
    "\n",
    "\n",
    "\n"
   ]
  },
  {
   "cell_type": "markdown",
   "metadata": {},
   "source": [
    "On the final note, you can create your reward system, or you can tweak the pnl based reward system used in this notebook and use according to your strategy. For example, if you are creating a long only strategy, you can use win loss pnl. In this course, you can also try out changing the reward system from exponential pnl to other reward system and can check the efficacy of the algorithm<br><br>"
   ]
  }
 ],
 "metadata": {
  "kernelspec": {
   "display_name": "Python 3 (ipykernel)",
   "language": "python",
   "name": "python3"
  },
  "language_info": {
   "codemirror_mode": {
    "name": "ipython",
    "version": 3
   },
   "file_extension": ".py",
   "mimetype": "text/x-python",
   "name": "python",
   "nbconvert_exporter": "python",
   "pygments_lexer": "ipython3",
   "version": "3.9.5"
  }
 },
 "nbformat": 4,
 "nbformat_minor": 4
}
