{
 "cells": [
  {
   "cell_type": "markdown",
   "metadata": {
    "colab_type": "text",
    "id": "EMVT0__v8x6i"
   },
   "source": [
    "# Notebook Instructions\n",
    "\n",
    "1. If you are new to Jupyter notebooks, please go through this introductory manual <a href='https://quantra.quantinsti.com/quantra-notebook' target=\"_blank\">here</a>.\n",
    "1. Any changes made in this notebook would be lost after you close the browser window. **You can download the notebook to save your work on your PC.**\n",
    "1. Before running this notebook on your local PC:<br>\n",
    "i.  You need to set up a Python environment and the relevant packages on your local PC. To do so, go through the section on \"**Run Codes Locally on Your Machine**\" in the course.<br>\n",
    "ii. You need to **download the zip file available in the last unit** of this course. The zip file contains the data files and/or python modules that might be required to run this notebook."
   ]
  },
  {
   "cell_type": "markdown",
   "metadata": {
    "colab_type": "text",
    "id": "VqiWzYtu8x6j"
   },
   "source": [
    "# Update Position\n",
    "\n",
    "The `update_position()` function updates the current position of the trading game. The positions are updated by responding to the value of the action suggested by the neural network. \n",
    "\n",
    "**1. Do nothing**\n",
    "\n",
    "* If the action is zero or hold. <br>\n",
    "* If the action matches your current position. For example; if you are in long position and action is buy or if you are in short position and action is sell.<br>\n",
    "\n",
    "**2. Open new position**<br>\n",
    "\n",
    "* If you receive an action, and you are not in any existing position, then you open a new position in the direction of the action.\n",
    "\n",
    "**3. Close position**<br>\n",
    "\n",
    "* If you are in a position, and you receive the opposite action, then you close your position. For example; if you are in a long position and receive sell action from neural networks, then you close the existing position. When a position is closed, it indicates the end of the game."
   ]
  },
  {
   "cell_type": "code",
   "execution_count": 1,
   "metadata": {
    "colab": {},
    "colab_type": "code",
    "id": "VOJmox828x6k"
   },
   "outputs": [],
   "source": [
    "def update_position(action, position, curr_price, curr_idx):\n",
    "    '''This is where we update our position'''\n",
    "\n",
    "    # If the action is zero or hold, do nothing\n",
    "    if action == 0:\n",
    "        print('Position:', position)\n",
    "        pass\n",
    "\n",
    "# ---------------------------------------------------------------------------------------------\n",
    "\n",
    "    elif action == 2:\n",
    "        \"\"\"---Enter a long or exit a short position---\"\"\"\n",
    "\n",
    "        # Current position (long) same as the action (buy), do nothing\n",
    "        if position == 1:\n",
    "            print(\"Position:\", position)\n",
    "            pass\n",
    "\n",
    "        # No current position, and action is buy, update the position to indicate buy\n",
    "        elif position == 0:\n",
    "            position = 1\n",
    "            entry = curr_price\n",
    "            start_idx = curr_idx\n",
    "            print(\"New Position: {} | Current price: {} | Index position: {}\".format(\n",
    "                position, curr_price, start_idx))\n",
    "\n",
    "        # Current postion (short) is different than the action (buy), end the game\n",
    "        elif position == -1:\n",
    "            print('Game Over')\n",
    "            is_over = True\n",
    "\n",
    "# ------------------------------------------------------------------------------------------------\n",
    "\n",
    "    elif action == 1:\n",
    "        \"\"\"---Enter a short or exit a long position---\"\"\"\n",
    "\n",
    "        # Current position (short) same as the action (sell), do nothing\n",
    "        if position == -1:\n",
    "            print(\"Position:\", position)\n",
    "            pass\n",
    "\n",
    "        # No current position, and action is sell, update the position to indicate sell\n",
    "        elif position == 0:\n",
    "            position = -1\n",
    "            entry = curr_price\n",
    "            start_idx = curr_idx\n",
    "            print(\"New Position: {} | Current price: {} | Index position: {}\".format(\n",
    "                position, curr_price, start_idx))\n",
    "\n",
    "        # Current postion (long) is different than the action (sell), end the game\n",
    "        elif position == 1:\n",
    "            print(\"Game Over\")\n",
    "            is_over = True"
   ]
  },
  {
   "cell_type": "markdown",
   "metadata": {
    "colab_type": "text",
    "id": "JDEngl7q8x6p"
   },
   "source": [
    "## Analyse output\n"
   ]
  },
  {
   "cell_type": "code",
   "execution_count": 2,
   "metadata": {
    "colab": {},
    "colab_type": "code",
    "id": "Stgug9LX8x6p",
    "outputId": "757eadea-1e7e-4427-a75c-f66e86bc159f"
   },
   "outputs": [
    {
     "name": "stdout",
     "output_type": "stream",
     "text": [
      "Position: 0\n"
     ]
    }
   ],
   "source": [
    "# Pass action = 0, position = 0, current price = 100, and current index = 45\n",
    "update_position(0, 0, 100, 45)"
   ]
  },
  {
   "cell_type": "markdown",
   "metadata": {
    "colab_type": "text",
    "id": "Zol0Wt5H8x6u"
   },
   "source": [
    "Since the action is 0 or hold and there is no existing position, we will not open a new position."
   ]
  },
  {
   "cell_type": "code",
   "execution_count": 3,
   "metadata": {
    "colab": {},
    "colab_type": "code",
    "id": "uG2qlozd8x6u",
    "outputId": "0afd2cb6-d2a4-45a5-fcfb-3cbcec9eda53"
   },
   "outputs": [
    {
     "name": "stdout",
     "output_type": "stream",
     "text": [
      "Position: 1\n"
     ]
    }
   ],
   "source": [
    "# Pass action = 2, position = 1, current price = 100, and current index = 45\n",
    "update_position(2, 1, 100, 45)"
   ]
  },
  {
   "cell_type": "markdown",
   "metadata": {
    "colab_type": "text",
    "id": "ViC71ZQ38x6y"
   },
   "source": [
    "Since the action is buy and we are already in a long position, we will not add any new position."
   ]
  },
  {
   "cell_type": "code",
   "execution_count": 4,
   "metadata": {
    "colab": {},
    "colab_type": "code",
    "id": "-zHQBOJ98x6y",
    "outputId": "2bec4bff-bd13-45fa-f720-22f1defba72d"
   },
   "outputs": [
    {
     "name": "stdout",
     "output_type": "stream",
     "text": [
      "New Position: 1 | Current price: 100 | Index position: 45\n"
     ]
    }
   ],
   "source": [
    "# Pass action = 2, position = 0, current price = 100, and current index = 45\n",
    "update_position(2, 0, 100, 45)"
   ]
  },
  {
   "cell_type": "markdown",
   "metadata": {
    "colab_type": "text",
    "id": "bRHcrD8w8x62"
   },
   "source": [
    "Since the action is buy and we don't have any exisiting position, we will open a new position in the direction of action, which is 1 or buy in this case.\n"
   ]
  },
  {
   "cell_type": "code",
   "execution_count": 5,
   "metadata": {
    "colab": {},
    "colab_type": "code",
    "id": "kZGZC-Km8x62",
    "outputId": "ac650cf2-885f-4da4-e64d-1dd0fbda975c"
   },
   "outputs": [
    {
     "name": "stdout",
     "output_type": "stream",
     "text": [
      "Game Over\n"
     ]
    }
   ],
   "source": [
    "# Pass action = 2, position = -1, current price = 100, and current index = 45\n",
    "update_position(2, -1, 100, 45)"
   ]
  },
  {
   "cell_type": "markdown",
   "metadata": {
    "colab_type": "text",
    "id": "VoCYNeSj8x65"
   },
   "source": [
    "Since the action is buy and we are in a short position, we will close the position and game will be over."
   ]
  },
  {
   "cell_type": "markdown",
   "metadata": {
    "colab_type": "text",
    "id": "oxYaanBk8x66"
   },
   "source": [
    "**Note: This `update_position()` function will be used in the `Game` class. It takes action as the only input which is generated by the neural networks. You will learn this in the later notebook. For the demonstration purpose, we passed the value of action to it.** <br><br>\n"
   ]
  }
 ],
 "metadata": {
  "colab": {
   "collapsed_sections": [],
   "name": "Update Position.ipynb",
   "provenance": []
  },
  "kernelspec": {
   "display_name": "Python 3 (ipykernel)",
   "language": "python",
   "name": "python3"
  },
  "language_info": {
   "codemirror_mode": {
    "name": "ipython",
    "version": 3
   },
   "file_extension": ".py",
   "mimetype": "text/x-python",
   "name": "python",
   "nbconvert_exporter": "python",
   "pygments_lexer": "ipython3",
   "version": "3.9.5"
  }
 },
 "nbformat": 4,
 "nbformat_minor": 4
}
