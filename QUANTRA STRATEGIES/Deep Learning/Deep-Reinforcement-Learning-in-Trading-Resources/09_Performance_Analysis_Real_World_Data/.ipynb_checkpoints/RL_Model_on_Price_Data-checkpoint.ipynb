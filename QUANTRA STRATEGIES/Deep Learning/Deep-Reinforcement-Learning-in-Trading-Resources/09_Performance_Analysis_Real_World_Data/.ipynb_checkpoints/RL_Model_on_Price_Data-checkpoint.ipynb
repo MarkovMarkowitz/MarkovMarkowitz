{
 "cells": [
  {
   "cell_type": "markdown",
   "metadata": {
    "colab": {},
    "colab_type": "code",
    "id": "VKiBv2GIg_JA"
   },
   "source": [
    "# Notebook Instructions\n",
    "\n",
    "1. If you are new to Jupyter notebooks, please go through this introductory manual <a href='https://quantra.quantinsti.com/quantra-notebook' target=\"_blank\">here</a>.\n",
    "1. Any changes made in this notebook would be lost after you close the browser window. **You can download the notebook to save your work on your PC.**\n",
    "1. Before running this notebook on your local PC:<br>\n",
    "i.  You need to set up a Python environment and the relevant packages on your local PC. To do so, go through the section on \"**Run Codes Locally on Your Machine**\" in the course.<br>\n",
    "ii. You need to **download the zip file available in the last unit** of this course. The zip file contains the data files and/or python modules that might be required to run this notebook."
   ]
  },
  {
   "cell_type": "markdown",
   "metadata": {},
   "source": [
    "#  Applying Reinforcement Learning on Price Data\n",
    "You have already applied the RL model to a synthetic time series. Now it's time to apply that model on actual price data.\n",
    "\n",
    "In this notebook, you will learn how to run the RL model on price and see the reinforcement learning strategy performance.\n",
    "To do this, you need to follow these steps:\n",
    "\n",
    "1. [Import modules](#Import_modules)\n",
    "1. [Read price data](#Read_price_data)\n",
    "1. [Run the RL model on the price data](#RL_run)\n",
    "1. [Analyse strategy performance](#analyse)\n",
    "1. [Result analysis](#results)"
   ]
  },
  {
   "cell_type": "markdown",
   "metadata": {},
   "source": [
    "<a id='Import_modules'></a> \n",
    "## Import modules"
   ]
  },
  {
   "cell_type": "code",
   "execution_count": null,
   "metadata": {
    "colab": {},
    "colab_type": "code",
    "id": "_Dax01x6g_JM",
    "outputId": "2752c2e2-3ec0-4108-c6e8-c38686b6a5f6"
   },
   "outputs": [],
   "source": [
    "# Import libaries\n",
    "import pandas as pd\n",
    "import numpy as np\n",
    "import matplotlib.pyplot as plt\n",
    "%matplotlib inline\n",
    "plt.style.use('seaborn-darkgrid')\n",
    "\n",
    "import os\n",
    "import sys\n",
    "sys.path.append(\"..\")\n",
    "\n",
    "# To suppress GPU related warnings\n",
    "import os\n",
    "os.environ['TF_CPP_MIN_LOG_LEVEL'] = '3'\n",
    "\n",
    "# Import Quantra RL libraries\n",
    "from data_modules.quantra_reinforcement_learning import run\n",
    "from data_modules.quantra_reinforcement_learning import reward_exponential_pnl\n",
    "from data_modules.quantra_reinforcement_learning import trade_analytics\n",
    "\n",
    "# Ignore warnings\n",
    "import warnings\n",
    "warnings.filterwarnings(\"ignore\")"
   ]
  },
  {
   "cell_type": "markdown",
   "metadata": {},
   "source": [
    "<a id='Read_price_data'></a>\n",
    "## Read price data"
   ]
  },
  {
   "cell_type": "code",
   "execution_count": null,
   "metadata": {},
   "outputs": [],
   "source": [
    "# Price data is stored in data_modules\n",
    "path = os.path.join('..','data_modules','PriceData5m.bz2')\n",
    "\n",
    "# Read the price data\n",
    "bars5m = pd.read_pickle(path)\n",
    "\n",
    "# Display the last 5 entries of price data\n",
    "bars5m.tail()"
   ]
  },
  {
   "cell_type": "code",
   "execution_count": null,
   "metadata": {},
   "outputs": [],
   "source": [
    "# Define the figure size for the price data\n",
    "bars5m['close'].plot(figsize=(10, 7), color='g')\n",
    "\n",
    "# Add legend to the axis\n",
    "plt.legend()\n",
    "\n",
    "# Add labels\n",
    "plt.ylabel('Price', fontsize=14)\n",
    "plt.xlabel('Time', fontsize=14)\n",
    "plt.title('Price Data', fontsize=16)\n",
    "    \n",
    "# Define the tick size for x-axis and y-axis\n",
    "plt.xticks(fontsize=12)\n",
    "plt.yticks(fontsize=12)\n",
    "\n",
    "# Display the plot\n",
    "plt.show()"
   ]
  },
  {
   "cell_type": "markdown",
   "metadata": {},
   "source": [
    "<a id='RL_run'></a>\n",
    "## Run the RL model on the price data"
   ]
  },
  {
   "cell_type": "code",
   "execution_count": null,
   "metadata": {
    "colab": {},
    "colab_type": "code",
    "id": "W3VTmDBtg_JV"
   },
   "outputs": [],
   "source": [
    "\"\"\"\n",
    "For running the RL model on the price data, you need to \n",
    "set the configuration parameters.\n",
    "These configuration parameters are hyperparameters for the \n",
    "RL model and the ANN used in it.\n",
    "\"\"\"\n",
    "rl_config = {\n",
    "    \n",
    "             'LEARNING_RATE': 0.00001,\n",
    "             'LOSS_FUNCTION': 'mse',\n",
    "             'ACTIVATION_FUN': 'relu',\n",
    "             'NUM_ACTIONS': 3,\n",
    "             'HIDDEN_MULT': 2,\n",
    "             'DISCOUNT_RATE': 0.9,\n",
    "             'LKBK': 30,\n",
    "             'BATCH_SIZE': 1,\n",
    "             'MAX_MEM': 600,\n",
    "             'EPSILON': 0.0001,\n",
    "             'EPS_MIN': 0.001,\n",
    "             'START_IDX': 5000,\n",
    "             'WEIGHTS_FILE': '../data_modules/indicator_model_price_data.h5',\n",
    "             'TRADE_FILE': '../data_modules/trade_logs_price_data.bz2',\n",
    "             'REPLAY_FILE': '../data_modules/memory_price_data.bz2',\n",
    "             'RF': reward_exponential_pnl,\n",
    "             'TEST_MODE': False,\n",
    "             'PRELOAD': False,\n",
    "             'UPDATE_QR': True\n",
    "}"
   ]
  },
  {
   "cell_type": "code",
   "execution_count": null,
   "metadata": {
    "colab": {},
    "colab_type": "code",
    "id": "aoHv57YHg_Ja",
    "outputId": "d243a623-a416-4502-ef47-ef630552a5ff",
    "scrolled": true
   },
   "outputs": [],
   "source": [
    "\"\"\"\n",
    "Run the RL model on the price data\n",
    "Note: To run in a local machine, please change the `TEST_MODE` to \n",
    "`False` in `rl_config`\n",
    "\"\"\"\n",
    "run(bars5m, rl_config)"
   ]
  },
  {
   "cell_type": "markdown",
   "metadata": {
    "colab": {},
    "colab_type": "code",
    "id": "52NdzwTMg_Jf",
    "outputId": "10195da0-8cbc-4b24-efb4-1336d61a4040"
   },
   "source": [
    "<a id='analyse'></a>\n",
    "## Analyse strategy performance for the full dataset\n",
    "\n",
    "Now you will analyse the strategy performance by plotting the returns and drawdown and by calculating a few performance metrics.\n",
    "\n",
    "You can use the `trade_analytics` function from `quantra_reinforcement_learning` module to perform the analysis"
   ]
  },
  {
   "cell_type": "code",
   "execution_count": null,
   "metadata": {
    "colab": {},
    "colab_type": "code",
    "id": "xpS6qF4Dg_Jj",
    "outputId": "a99366c7-8c9f-4110-e2b9-862b6afe7fbc"
   },
   "outputs": [],
   "source": [
    "# Call the trade_analytics function\n",
    "trade_analytics_df = trade_analytics(rl_config['TRADE_FILE'], bars5m, \"Price Data\")"
   ]
  },
  {
   "cell_type": "markdown",
   "metadata": {
    "colab": {},
    "colab_type": "code",
    "id": "7_bFzKK9g_Jt",
    "outputId": "02dd8081-ba99-41de-ab45-488ba0adcdeb"
   },
   "source": [
    "<a id='results'></a>\n",
    "## Result analysis\n",
    "\n",
    "The RL model performs fairly well on the actual price data. It took some time to learn the pattern, and after the year 2012, it has given consistent returns.\n",
    "\n",
    "Note that the price dips a lot in 2019 and in 2020(corona effect), but the RL model handles it well.\n",
    "\n",
    "In 2019 it manages to keep the returns fairly flat in a crashing market.\n",
    "\n",
    "In 2020, the returns drawdown due to the price crash, but the model makes up for this drawdown remarkably well in a short timeframe."
   ]
  },
  {
   "cell_type": "markdown",
   "metadata": {
    "colab": {},
    "colab_type": "code",
    "id": "U-m5vS0bg_Jn",
    "outputId": "be11ca21-22f8-4267-eda1-2659550903eb"
   },
   "source": [
    "## Tweak the code\n",
    "You can tweak the code in the following ways:\n",
    "\n",
    "1. Use different data sets: backtest and try out the model on different stock data\n",
    "1. Change the settings of the configuration parameters to see how the RL model performs on changing these settings. A few setting you may try changing:\n",
    "    1. learning rate (`LEARNING_RATE`)\n",
    "    1. lookback period (`LKBK`)\n",
    "    1. batch size (`BATCH_SIZE`)\n",
    "    1. maximum memory buffer (`MAX_MEM`)\n",
    "    1. the epsilon (`EPSILON` or `EPS_MIN`) values \n",
    "\n",
    "In the upcoming units, you will learn how to automate your trades and do paper/live trades.\n",
    "<br><br>"
   ]
  }
 ],
 "metadata": {
  "colab": {
   "collapsed_sections": [],
   "name": "RL on Price Data.ipynb",
   "provenance": []
  },
  "kernelspec": {
   "display_name": "Python 3 (ipykernel)",
   "language": "python",
   "name": "python3"
  },
  "language_info": {
   "codemirror_mode": {
    "name": "ipython",
    "version": 3
   },
   "file_extension": ".py",
   "mimetype": "text/x-python",
   "name": "python",
   "nbconvert_exporter": "python",
   "pygments_lexer": "ipython3",
   "version": "3.9.5"
  }
 },
 "nbformat": 4,
 "nbformat_minor": 1
}
