{
 "cells": [
  {
   "cell_type": "markdown",
   "metadata": {
    "id": "LwN0zwyV5Tak"
   },
   "source": [
    "# Notebook Instructions\n",
    "\n",
    "1. If you are new to Jupyter notebooks, please go through this introductory manual <a href='https://quantra.quantinsti.com/quantra-notebook' target=\"_blank\">here</a>.\n",
    "1. Any changes made in this notebook would be lost after you close the browser window. **You can download the notebook to save your work on your PC.**\n",
    "1. Before running this notebook on your local PC:<br>\n",
    "i.  You need to set up a Python environment and the relevant packages on your local PC. To do so, go through the section on \"**Run Codes Locally on Your Machine**\" in the course.<br>\n",
    "ii. You need to **download the zip file available in the last unit** of this course. The zip file contains the data files and/or python modules that might be required to run this notebook."
   ]
  },
  {
   "cell_type": "markdown",
   "metadata": {
    "id": "-XSB3F615Tal"
   },
   "source": [
    "# Initialise and Reset Game Class\n",
    "\n",
    "In the previous units, you learned the idea of gamification, where we treat each trade as an individual game. To play this trading game, we create a class called `Game`. In the Game class, we will generate input features and assemble states. These states will pass to the agent or neural networks which will predict the action which is buy, sell or hold. We will also update the position of the trade and calculate the reward when the game is over. You will learn all these things one by one in a stepwise manner in the later sections of this course. But before doing all that, we need to initialise the Game class. \n",
    "\n",
    "In this notebook, you will perform the following steps:\n",
    "1. [Read price data](#read)\n",
    "2. [Resample price data ](#resample)\n",
    "3. [Initialise Game class](#game)"
   ]
  },
  {
   "cell_type": "markdown",
   "metadata": {
    "id": "zHxkH7x-5Tam"
   },
   "source": [
    "<a id='read'></a> \n",
    "## Read Price data\n",
    "\n",
    "The OHLCV data is stored in the compressed pickle file. This is the 5 minutes data starting from 2010-04-01 to 2020-08-31. You can download this data from the last section of this course '**Python Codes and Data**' unit.\n",
    "\n",
    "To read a pickle file, you can use `read_pickle` method of pandas. The syntax is shown below.\n",
    "\n",
    "Syntax: \n",
    "```python\n",
    "import pandas as pd\n",
    "pd.read_pickle(filename)\n",
    "```\n",
    "filename: name of the file in the string format. The extension of the compressed file is bz2."
   ]
  },
  {
   "cell_type": "code",
   "execution_count": 1,
   "metadata": {
    "id": "bQbeMb8v5Tan",
    "outputId": "568851eb-870a-432e-f128-449354e95c41"
   },
   "outputs": [
    {
     "data": {
      "text/html": [
       "<div>\n",
       "<style scoped>\n",
       "    .dataframe tbody tr th:only-of-type {\n",
       "        vertical-align: middle;\n",
       "    }\n",
       "\n",
       "    .dataframe tbody tr th {\n",
       "        vertical-align: top;\n",
       "    }\n",
       "\n",
       "    .dataframe thead th {\n",
       "        text-align: right;\n",
       "    }\n",
       "</style>\n",
       "<table border=\"1\" class=\"dataframe\">\n",
       "  <thead>\n",
       "    <tr style=\"text-align: right;\">\n",
       "      <th></th>\n",
       "      <th>open</th>\n",
       "      <th>high</th>\n",
       "      <th>low</th>\n",
       "      <th>close</th>\n",
       "      <th>volume</th>\n",
       "    </tr>\n",
       "    <tr>\n",
       "      <th>Time</th>\n",
       "      <th></th>\n",
       "      <th></th>\n",
       "      <th></th>\n",
       "      <th></th>\n",
       "      <th></th>\n",
       "    </tr>\n",
       "  </thead>\n",
       "  <tbody>\n",
       "    <tr>\n",
       "      <th>2010-01-04 09:35:00-05:00</th>\n",
       "      <td>91.711</td>\n",
       "      <td>91.809</td>\n",
       "      <td>91.703</td>\n",
       "      <td>91.760</td>\n",
       "      <td>4448908.0</td>\n",
       "    </tr>\n",
       "    <tr>\n",
       "      <th>2010-01-04 09:40:00-05:00</th>\n",
       "      <td>91.752</td>\n",
       "      <td>91.973</td>\n",
       "      <td>91.752</td>\n",
       "      <td>91.932</td>\n",
       "      <td>4380988.0</td>\n",
       "    </tr>\n",
       "    <tr>\n",
       "      <th>2010-01-04 09:45:00-05:00</th>\n",
       "      <td>91.940</td>\n",
       "      <td>92.022</td>\n",
       "      <td>91.928</td>\n",
       "      <td>92.005</td>\n",
       "      <td>2876633.0</td>\n",
       "    </tr>\n",
       "    <tr>\n",
       "      <th>2010-01-04 09:50:00-05:00</th>\n",
       "      <td>92.005</td>\n",
       "      <td>92.177</td>\n",
       "      <td>91.973</td>\n",
       "      <td>92.177</td>\n",
       "      <td>4357079.0</td>\n",
       "    </tr>\n",
       "    <tr>\n",
       "      <th>2010-01-04 09:55:00-05:00</th>\n",
       "      <td>92.168</td>\n",
       "      <td>92.177</td>\n",
       "      <td>92.038</td>\n",
       "      <td>92.079</td>\n",
       "      <td>2955068.0</td>\n",
       "    </tr>\n",
       "  </tbody>\n",
       "</table>\n",
       "</div>"
      ],
      "text/plain": [
       "                             open    high     low   close     volume\n",
       "Time                                                                \n",
       "2010-01-04 09:35:00-05:00  91.711  91.809  91.703  91.760  4448908.0\n",
       "2010-01-04 09:40:00-05:00  91.752  91.973  91.752  91.932  4380988.0\n",
       "2010-01-04 09:45:00-05:00  91.940  92.022  91.928  92.005  2876633.0\n",
       "2010-01-04 09:50:00-05:00  92.005  92.177  91.973  92.177  4357079.0\n",
       "2010-01-04 09:55:00-05:00  92.168  92.177  92.038  92.079  2955068.0"
      ]
     },
     "execution_count": 1,
     "metadata": {},
     "output_type": "execute_result"
    }
   ],
   "source": [
    "# Import pickle\n",
    "import pandas as pd\n",
    "\n",
    "# Import datetime\n",
    "from datetime import datetime, timedelta\n",
    "import datetime\n",
    "\n",
    "# The data is stored in the directory 'data_modules'\n",
    "path = '../data_modules/'\n",
    "\n",
    "# Read the pickle file\n",
    "bars5m = pd.read_pickle(path+ 'PriceData5m.bz2')\n",
    "bars5m.head()"
   ]
  },
  {
   "cell_type": "markdown",
   "metadata": {
    "id": "8BsJojcQ5Tat"
   },
   "source": [
    "<a id='resample'></a> \n",
    "## Resample price data\n",
    "\n",
    "We use `resample()` and `agg()` method for the resampling of time series. \n",
    "\n",
    "Syntax: \n",
    "```python\n",
    "DataFrame.resample(frequency, label, closed).agg(func)\n",
    "```\n",
    "\n",
    "Parameters:\n",
    "\n",
    "    frequency: Frequency of resampling. Some of the values are '1D' to resample to the daily frequency and '1H' to resample to hourly frequency.\n",
    "    \n",
    "    label: Label parameter takes 'left', 'right' as an input. The 'label' parameter is used to choose whether start or end are used as a representative of the interval. For example, the original 5 mins data starts at 2010-01-04 09:35:00 and ends at 2020-08-31 16:00:00. If you want to resample the data to 1 hour and choose left as an input, it will keep the left side of the data that is it starts at 2010-01-04 09:30:00 and ends at 2020-08-31 15:00:00. If you want to choose right as an input, it will keep the right side of the data that is it starts at 2010-01-04 10:00:00 and ends at 2020-08-31 16:00:00. \n",
    "    \n",
    "    closed: Closed parameter takes 'left', 'right' as an input. The 'closed' parameter is used to set the strict vs non-strict inequality to perform the action (in our case it's to aggregate using one or more operations). \n",
    "    \n",
    "    left: (start, end]\n",
    "    right: [start, end)\n",
    "   \n",
    "For more details on closed and label parameter, refer this <a href=\"https://stackoverflow.com/questions/48340463/how-to-understand-closed-and-label-arguments-in-pandas-resample-method\" target=\"_blank\"> link</a>.  \n",
    "\n",
    "    func: Function to use for aggregating the data. For a dataframe, can pass a dictionary, if the keys are dataframe column names.\n",
    "\n",
    "Returns: DataFrame with resampled time series"
   ]
  },
  {
   "cell_type": "code",
   "execution_count": 2,
   "metadata": {
    "id": "oeONh3c95Tav"
   },
   "outputs": [],
   "source": [
    "# Create a dictionary to map the open, high, low, close, volume\n",
    "# open is the 'first' value in the set of defined frequency\n",
    "# high is the 'max' value in the set of defined frequency \n",
    "# low is the min value in the set of defined frequency \n",
    "# close is the 'last' value in the set of defined frequency\n",
    "# volume is the 'sum' of volume in the set of defined frequency\n",
    "\n",
    "ohlcv_dict = {\n",
    "        'open': 'first',\n",
    "        'high': 'max',\n",
    "        'low': 'min',\n",
    "        'close': 'last',\n",
    "        'volume': 'sum'\n",
    "    }"
   ]
  },
  {
   "cell_type": "code",
   "execution_count": 3,
   "metadata": {
    "id": "A3a_kNZx5Ta0",
    "outputId": "f0245c7e-2de0-4d44-f997-edae2d35d28e"
   },
   "outputs": [
    {
     "data": {
      "text/html": [
       "<div>\n",
       "<style scoped>\n",
       "    .dataframe tbody tr th:only-of-type {\n",
       "        vertical-align: middle;\n",
       "    }\n",
       "\n",
       "    .dataframe tbody tr th {\n",
       "        vertical-align: top;\n",
       "    }\n",
       "\n",
       "    .dataframe thead th {\n",
       "        text-align: right;\n",
       "    }\n",
       "</style>\n",
       "<table border=\"1\" class=\"dataframe\">\n",
       "  <thead>\n",
       "    <tr style=\"text-align: right;\">\n",
       "      <th></th>\n",
       "      <th>open</th>\n",
       "      <th>high</th>\n",
       "      <th>low</th>\n",
       "      <th>close</th>\n",
       "      <th>volume</th>\n",
       "    </tr>\n",
       "    <tr>\n",
       "      <th>Time</th>\n",
       "      <th></th>\n",
       "      <th></th>\n",
       "      <th></th>\n",
       "      <th></th>\n",
       "      <th></th>\n",
       "    </tr>\n",
       "  </thead>\n",
       "  <tbody>\n",
       "    <tr>\n",
       "      <th>2010-01-04 09:00:00-05:00</th>\n",
       "      <td>91.711</td>\n",
       "      <td>92.177</td>\n",
       "      <td>91.703</td>\n",
       "      <td>92.091</td>\n",
       "      <td>20908095.0</td>\n",
       "    </tr>\n",
       "    <tr>\n",
       "      <th>2010-01-04 10:00:00-05:00</th>\n",
       "      <td>92.095</td>\n",
       "      <td>92.422</td>\n",
       "      <td>92.005</td>\n",
       "      <td>92.307</td>\n",
       "      <td>22280055.0</td>\n",
       "    </tr>\n",
       "    <tr>\n",
       "      <th>2010-01-04 11:00:00-05:00</th>\n",
       "      <td>92.307</td>\n",
       "      <td>92.544</td>\n",
       "      <td>92.307</td>\n",
       "      <td>92.450</td>\n",
       "      <td>11781384.0</td>\n",
       "    </tr>\n",
       "    <tr>\n",
       "      <th>2010-01-04 12:00:00-05:00</th>\n",
       "      <td>92.454</td>\n",
       "      <td>92.519</td>\n",
       "      <td>92.430</td>\n",
       "      <td>92.466</td>\n",
       "      <td>6703479.0</td>\n",
       "    </tr>\n",
       "    <tr>\n",
       "      <th>2010-01-04 13:00:00-05:00</th>\n",
       "      <td>92.495</td>\n",
       "      <td>92.536</td>\n",
       "      <td>92.364</td>\n",
       "      <td>92.381</td>\n",
       "      <td>7132690.0</td>\n",
       "    </tr>\n",
       "  </tbody>\n",
       "</table>\n",
       "</div>"
      ],
      "text/plain": [
       "                             open    high     low   close      volume\n",
       "Time                                                                 \n",
       "2010-01-04 09:00:00-05:00  91.711  92.177  91.703  92.091  20908095.0\n",
       "2010-01-04 10:00:00-05:00  92.095  92.422  92.005  92.307  22280055.0\n",
       "2010-01-04 11:00:00-05:00  92.307  92.544  92.307  92.450  11781384.0\n",
       "2010-01-04 12:00:00-05:00  92.454  92.519  92.430  92.466   6703479.0\n",
       "2010-01-04 13:00:00-05:00  92.495  92.536  92.364  92.381   7132690.0"
      ]
     },
     "execution_count": 3,
     "metadata": {},
     "output_type": "execute_result"
    }
   ],
   "source": [
    "bars1h = bars5m.resample('1H', label='left', closed='right').agg(ohlcv_dict).dropna()\n",
    "bars1h.head()"
   ]
  },
  {
   "cell_type": "code",
   "execution_count": 4,
   "metadata": {
    "id": "8khEVm555Ta5",
    "outputId": "1bf5fda9-074d-4d12-c11e-2cf166991d3d"
   },
   "outputs": [
    {
     "data": {
      "text/html": [
       "<div>\n",
       "<style scoped>\n",
       "    .dataframe tbody tr th:only-of-type {\n",
       "        vertical-align: middle;\n",
       "    }\n",
       "\n",
       "    .dataframe tbody tr th {\n",
       "        vertical-align: top;\n",
       "    }\n",
       "\n",
       "    .dataframe thead th {\n",
       "        text-align: right;\n",
       "    }\n",
       "</style>\n",
       "<table border=\"1\" class=\"dataframe\">\n",
       "  <thead>\n",
       "    <tr style=\"text-align: right;\">\n",
       "      <th></th>\n",
       "      <th>open</th>\n",
       "      <th>high</th>\n",
       "      <th>low</th>\n",
       "      <th>close</th>\n",
       "      <th>volume</th>\n",
       "    </tr>\n",
       "    <tr>\n",
       "      <th>Time</th>\n",
       "      <th></th>\n",
       "      <th></th>\n",
       "      <th></th>\n",
       "      <th></th>\n",
       "      <th></th>\n",
       "    </tr>\n",
       "  </thead>\n",
       "  <tbody>\n",
       "    <tr>\n",
       "      <th>2010-01-04 00:00:00-05:00</th>\n",
       "      <td>91.711</td>\n",
       "      <td>92.544</td>\n",
       "      <td>91.703</td>\n",
       "      <td>92.487</td>\n",
       "      <td>95717178.0</td>\n",
       "    </tr>\n",
       "    <tr>\n",
       "      <th>2010-01-05 00:00:00-05:00</th>\n",
       "      <td>92.438</td>\n",
       "      <td>92.781</td>\n",
       "      <td>92.103</td>\n",
       "      <td>92.740</td>\n",
       "      <td>96560334.0</td>\n",
       "    </tr>\n",
       "    <tr>\n",
       "      <th>2010-01-06 00:00:00-05:00</th>\n",
       "      <td>92.650</td>\n",
       "      <td>93.034</td>\n",
       "      <td>92.577</td>\n",
       "      <td>92.830</td>\n",
       "      <td>96116363.0</td>\n",
       "    </tr>\n",
       "    <tr>\n",
       "      <th>2010-01-07 00:00:00-05:00</th>\n",
       "      <td>92.634</td>\n",
       "      <td>93.311</td>\n",
       "      <td>92.373</td>\n",
       "      <td>93.205</td>\n",
       "      <td>106214432.0</td>\n",
       "    </tr>\n",
       "    <tr>\n",
       "      <th>2010-01-08 00:00:00-05:00</th>\n",
       "      <td>92.952</td>\n",
       "      <td>93.540</td>\n",
       "      <td>92.764</td>\n",
       "      <td>93.507</td>\n",
       "      <td>96925188.0</td>\n",
       "    </tr>\n",
       "  </tbody>\n",
       "</table>\n",
       "</div>"
      ],
      "text/plain": [
       "                             open    high     low   close       volume\n",
       "Time                                                                  \n",
       "2010-01-04 00:00:00-05:00  91.711  92.544  91.703  92.487   95717178.0\n",
       "2010-01-05 00:00:00-05:00  92.438  92.781  92.103  92.740   96560334.0\n",
       "2010-01-06 00:00:00-05:00  92.650  93.034  92.577  92.830   96116363.0\n",
       "2010-01-07 00:00:00-05:00  92.634  93.311  92.373  93.205  106214432.0\n",
       "2010-01-08 00:00:00-05:00  92.952  93.540  92.764  93.507   96925188.0"
      ]
     },
     "execution_count": 4,
     "metadata": {},
     "output_type": "execute_result"
    }
   ],
   "source": [
    "bars1d = bars1h.resample('1D', label='left', closed='right').agg(ohlcv_dict).dropna()\n",
    "bars1d.head()"
   ]
  },
  {
   "cell_type": "markdown",
   "metadata": {
    "id": "lT_wBDLJ5Ta_"
   },
   "source": [
    "<a id='game'></a> \n",
    "## Initialise Game class\n",
    "\n",
    "We have discussed the idea of gamification where we treat each individual trade as a game with start, play period, and end. In our RL algorithm, this is handled by the `Game` class. When a new trade is initiated, we create a new instance of the Game class. And reset all its state values to default by calling the `self.reset()` function, when the individual trade game is over. "
   ]
  },
  {
   "cell_type": "code",
   "execution_count": 5,
   "metadata": {
    "id": "I7giPfCM5TbB"
   },
   "outputs": [],
   "source": [
    "class Game(object):\n",
    "\n",
    "    def __init__(self, bars5m, bars1d, bars1h, reward_function, lkbk=20,  init_idx=None):\n",
    "\n",
    "        # Initialise 5 mins frequency data\n",
    "        self.bars5m = bars5m\n",
    "        # Initilaise lookback period for the calculation of technical indicators\n",
    "        self.lkbk = lkbk\n",
    "        # Intialise length of each trade\n",
    "        self.trade_len = 0\n",
    "        # Initialise 1 day frequency data\n",
    "        self.bars1d = bars1d\n",
    "        # Initialise 1 hour frequency data\n",
    "        self.bars1h = bars1h\n",
    "        # Initialise when game is over to update the state, position and calculate reward\n",
    "        self.is_over = False\n",
    "        # Intialise reward to store the value of reward\n",
    "        self.reward = 0\n",
    "        # Define pnl_sum to calculate the pnl when all episodes are complete.\n",
    "        self.pnl_sum = 0\n",
    "        # Supply a starting index which indicates a position in our price dataframe\n",
    "        # and denotes the point at which the game starts\n",
    "        self.init_idx = init_idx\n",
    "        # Instantiate reward function\n",
    "        self.reward_function = reward_function\n",
    "        # When game is over, reset all state values\n",
    "        self.reset()\n",
    "\n",
    "    def reset(self):\n",
    "        \"\"\"When an individual trade game is over, we reset the system for new trading game.\n",
    "        \"\"\"\n",
    "        self.pnl = 0\n",
    "        self.entry = 0\n",
    "        self._time_of_day = 0\n",
    "        self._day_of_week = 0\n",
    "        self.curr_idx = self.init_idx\n",
    "        self.t_in_secs = (\n",
    "            self.bars5m.index[-1]-self.bars5m.index[0]).total_seconds()\n",
    "        self.start_idx = self.curr_idx\n",
    "        self.curr_time = self.bars5m.index[self.curr_idx]\n",
    "        self._get_last_N_timebars()\n",
    "        self.position = 0  \n",
    "        self.act(0)\n",
    "        self.state = []\n",
    "        self._assemble_state()"
   ]
  },
  {
   "cell_type": "markdown",
   "metadata": {
    "id": "XUDxC5tL5TbH"
   },
   "source": [
    "The whole trading game is played inside the Game class. In this notebook you learned to initialise the Game class. In the later sections, you will learn to assemble the state, update the trading position and calculate reward in the individual notebooks and finally fit all these inside the Game class to complete that.<br><br>"
   ]
  }
 ],
 "metadata": {
  "colab": {
   "name": "Initialise Game Class.ipynb",
   "provenance": []
  },
  "kernelspec": {
   "display_name": "Python 3 (ipykernel)",
   "language": "python",
   "name": "python3"
  },
  "language_info": {
   "codemirror_mode": {
    "name": "ipython",
    "version": 3
   },
   "file_extension": ".py",
   "mimetype": "text/x-python",
   "name": "python",
   "nbconvert_exporter": "python",
   "pygments_lexer": "ipython3",
   "version": "3.9.5"
  }
 },
 "nbformat": 4,
 "nbformat_minor": 4
}
