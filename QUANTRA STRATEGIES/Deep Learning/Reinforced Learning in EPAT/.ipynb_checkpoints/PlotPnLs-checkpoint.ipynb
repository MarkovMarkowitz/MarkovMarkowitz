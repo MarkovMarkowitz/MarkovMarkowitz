{
 "cells": [
  {
   "cell_type": "code",
   "execution_count": null,
   "metadata": {},
   "outputs": [],
   "source": [
    "import pandas as pd\n",
    "import matplotlib.pyplot as plt\n",
    "import matplotlib\n",
    "import pickle\n",
    "import numpy as np\n",
    "%matplotlib inline"
   ]
  },
  {
   "cell_type": "code",
   "execution_count": null,
   "metadata": {},
   "outputs": [],
   "source": [
    "dft = pickle.load(open('PriceData.pick','rb'))\n",
    "dates,pnls=pickle.load(open('pnls.pick','rb'))\n",
    "plt.plot(dates,np.cumsum(pnls))\n",
    "\n",
    "\n",
    "plt.plot(dft['close'].loc[:dates[-1]].pct_change().cumsum())\n",
    "plt.grid()\n",
    "plt.title('PnL: %.2f'%(sum(pnls)));"
   ]
  },
  {
   "cell_type": "code",
   "execution_count": null,
   "metadata": {},
   "outputs": [],
   "source": [
    "dfs_day = pd.DataFrame(pd.Series(pnls,index=dates)).resample('1D').sum()\n",
    "\n",
    "dfs_day['close2'] = dft['close'].loc[:dates[-1]].pct_change().resample('1D').sum()\n",
    "dfs_day = dfs_day.fillna(0)\n",
    "\n",
    "dfs_day.plot()"
   ]
  },
  {
   "cell_type": "code",
   "execution_count": null,
   "metadata": {},
   "outputs": [],
   "source": [
    "plt.plot(dfs_day[0],dfs_day['close2'],'o')\n",
    "m = np.polyfit(dfs_day[0],dfs_day['close2'],1)\n",
    "beta = m[0]\n",
    "beta"
   ]
  },
  {
   "cell_type": "code",
   "execution_count": null,
   "metadata": {},
   "outputs": [],
   "source": [
    "# Sharpes for both\n",
    "dfs_day.mean()/dfs_day.std()*np.sqrt(252)"
   ]
  },
  {
   "cell_type": "code",
   "execution_count": null,
   "metadata": {},
   "outputs": [],
   "source": [
    "!cp pnls.pick pnls_ma3_98-11.pick"
   ]
  },
  {
   "cell_type": "code",
   "execution_count": null,
   "metadata": {},
   "outputs": [],
   "source": [
    "0.15/np.sqrt(252)"
   ]
  }
 ],
 "metadata": {
  "kernelspec": {
   "display_name": "Python 3",
   "language": "python",
   "name": "python3"
  },
  "language_info": {
   "codemirror_mode": {
    "name": "ipython",
    "version": 3
   },
   "file_extension": ".py",
   "mimetype": "text/x-python",
   "name": "python",
   "nbconvert_exporter": "python",
   "pygments_lexer": "ipython3",
   "version": "3.6.1"
  }
 },
 "nbformat": 4,
 "nbformat_minor": 2
}
