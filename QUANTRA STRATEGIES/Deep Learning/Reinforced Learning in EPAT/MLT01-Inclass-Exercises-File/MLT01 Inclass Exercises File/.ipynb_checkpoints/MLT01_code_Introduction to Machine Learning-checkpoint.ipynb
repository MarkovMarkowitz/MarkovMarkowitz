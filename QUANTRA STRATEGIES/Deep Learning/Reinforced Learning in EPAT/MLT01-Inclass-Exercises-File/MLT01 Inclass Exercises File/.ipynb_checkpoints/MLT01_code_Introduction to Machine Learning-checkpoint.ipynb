{
 "cells": [
  {
   "cell_type": "markdown",
   "id": "9f427485",
   "metadata": {},
   "source": [
    "# Machine Learning for Trading\n",
    "\n",
    "- Authored by: *Jay Parmar*\n",
    "- Last modified on: *12th August 2023*"
   ]
  },
  {
   "cell_type": "markdown",
   "id": "b729bfb3",
   "metadata": {},
   "source": [
    "## AI, ML and DL"
   ]
  },
  {
   "cell_type": "markdown",
   "id": "371732c1",
   "metadata": {},
   "source": [
    "![Difference between AI, ML and DL](https://www.simplilearn.com/ice9/free_resources_article_thumb/AIvsML.png)\n",
    "\n",
    "###### Credits: [Simplilearn](https://www.simplilearn.com)"
   ]
  },
  {
   "cell_type": "markdown",
   "id": "8514f49e",
   "metadata": {},
   "source": [
    "## Types of Learning in Machine Learning"
   ]
  },
  {
   "cell_type": "markdown",
   "id": "afafbede",
   "metadata": {},
   "source": [
    "![Types of Learning](https://viso.ai/wp-content/uploads/2021/04/Types-of-Learning-Styles-for-Machine-Learning.jpg)\n",
    "\n",
    "###### Credits: [Viso](https://viso.ai)"
   ]
  },
  {
   "cell_type": "markdown",
   "id": "6fd46225",
   "metadata": {},
   "source": [
    "## Learning Tasks"
   ]
  },
  {
   "cell_type": "markdown",
   "id": "944f5cf4",
   "metadata": {},
   "source": [
    "![Learning Tasks](https://www3.tuhh.de/sts/hoou/data-quality-explored/_images/0-1-ML-types.jpg)"
   ]
  },
  {
   "cell_type": "markdown",
   "id": "5b15798f",
   "metadata": {},
   "source": [
    "###### Credits: [Tuhh](https://www3.tuhh.de)"
   ]
  },
  {
   "cell_type": "markdown",
   "id": "25b0991f",
   "metadata": {},
   "source": [
    "## Supervised Learning Algorithms"
   ]
  },
  {
   "cell_type": "markdown",
   "id": "9968bd4f",
   "metadata": {},
   "source": [
    "![Supervised Learning Algorithms](https://www.oreilly.com/api/v2/epubs/9781492073048/files/assets/mlbf_0401.png)"
   ]
  },
  {
   "cell_type": "markdown",
   "id": "f4a15e6c",
   "metadata": {},
   "source": [
    "###### Credits: [O'Reilly](https://www.oreilly.com)"
   ]
  },
  {
   "cell_type": "code",
   "execution_count": null,
   "id": "dd1f8c60",
   "metadata": {},
   "outputs": [],
   "source": []
  }
 ],
 "metadata": {
  "kernelspec": {
   "display_name": "Python 3 (ipykernel)",
   "language": "python",
   "name": "python3"
  },
  "language_info": {
   "codemirror_mode": {
    "name": "ipython",
    "version": 3
   },
   "file_extension": ".py",
   "mimetype": "text/x-python",
   "name": "python",
   "nbconvert_exporter": "python",
   "pygments_lexer": "ipython3",
   "version": "3.11.4"
  }
 },
 "nbformat": 4,
 "nbformat_minor": 5
}
