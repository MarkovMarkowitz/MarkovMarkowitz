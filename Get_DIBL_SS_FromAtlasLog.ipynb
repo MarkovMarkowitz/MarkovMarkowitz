{
  "cells": [
    {
      "cell_type": "markdown",
      "metadata": {
        "id": "view-in-github",
        "colab_type": "text"
      },
      "source": [
        "<a href=\"https://colab.research.google.com/github/MarkovMarkowitz/MarkovMarkowitz/blob/main/Get_DIBL_SS_FromAtlasLog.ipynb\" target=\"_parent\"><img src=\"https://colab.research.google.com/assets/colab-badge.svg\" alt=\"Open In Colab\"/></a>"
      ]
    },
    {
      "cell_type": "code",
      "source": [
        "# @title Thesis Work Python Code for Decoding the ATLAS TCAD output files\n",
        "# @markdown ---\n",
        "# @markdown Input parameters for the code\n",
        "\n",
        "F1_FILENAME = \"FinFET_v8B_Lg14W5H5Wf5Nd5_19Tox1.5_BOUSARI_vd1.00.log\" # @param {type:\"string\"}\n",
        "F2_FILENAME = \"FinFET_v8B_Lg14W5H5Wf5Nd5_19Tox1.5_BOUSARI_vd0.05.log\" # @param {type:\"string\"}\n",
        "\n",
        "# @markdown ---"
      ],
      "metadata": {
        "id": "6klMswuiiAmj"
      },
      "id": "6klMswuiiAmj",
      "execution_count": 10,
      "outputs": []
    },
    {
      "cell_type": "code",
      "source": [
        "from pathlib import Path\n",
        "\n",
        "def GetAtlasFileNames(F1_FILENAME, F2_FILENAME):\n",
        "\n",
        "    from google.colab import files\n",
        "\n",
        "\n",
        "    my_file = Path(f\"/content/{F1_FILENAME}\")\n",
        "    if my_file.is_file():\n",
        "        f1 = F1_FILENAME\n",
        "        print (f\"F1: {F1_FILENAME} is present\")\n",
        "    else:\n",
        "        files.upload_file(F1_FILENAME)\n",
        "        f1 = F1_FILENAME\n",
        "        print (f\"F1: Loading {F1_FILENAME}...Done\")\n",
        "\n",
        "    my_file = Path(f\"/content/{F2_FILENAME}\")\n",
        "    if my_file.is_file():\n",
        "        f2 = F1_FILENAME\n",
        "        print (f\"F2: {F2_FILENAME} is present\")\n",
        "    else:\n",
        "        files.upload_file(F1_FILENAME)\n",
        "        f2 = F2_FILENAME\n",
        "        print (f\"F2: Loading {F2_FILENAME}...Done\")\n",
        "\n",
        "    return(f1, f2)\n",
        "\n",
        "f1, f2 = GetAtlasFileNames(F1_FILENAME, F2_FILENAME)"
      ],
      "metadata": {
        "colab": {
          "base_uri": "https://localhost:8080/"
        },
        "id": "-HsUbM9rjjSK",
        "outputId": "b374f1b7-cbf0-4bea-d4fb-e70d3cfa32c3"
      },
      "id": "-HsUbM9rjjSK",
      "execution_count": 11,
      "outputs": [
        {
          "output_type": "stream",
          "name": "stdout",
          "text": [
            "F1: FinFET_v8B_Lg14W5H5Wf5Nd5_19Tox1.5_BOUSARI_vd1.00.log is present\n",
            "F2: FinFET_v8B_Lg14W5H5Wf5Nd5_19Tox1.5_BOUSARI_vd0.05.log is present\n"
          ]
        }
      ]
    },
    {
      "cell_type": "code",
      "execution_count": 12,
      "id": "8c826703-dd9a-42a6-89a1-4bbeb2cada07",
      "metadata": {
        "tags": [],
        "colab": {
          "base_uri": "https://localhost:8080/"
        },
        "id": "8c826703-dd9a-42a6-89a1-4bbeb2cada07",
        "outputId": "df1cd974-abbd-4a55-b031-fc943a7dfc8c"
      },
      "outputs": [
        {
          "output_type": "stream",
          "name": "stdout",
          "text": [
            "Requirement already satisfied: matplotlib in /usr/local/lib/python3.10/dist-packages (3.7.1)\n",
            "Requirement already satisfied: contourpy>=1.0.1 in /usr/local/lib/python3.10/dist-packages (from matplotlib) (1.1.0)\n",
            "Requirement already satisfied: cycler>=0.10 in /usr/local/lib/python3.10/dist-packages (from matplotlib) (0.11.0)\n",
            "Requirement already satisfied: fonttools>=4.22.0 in /usr/local/lib/python3.10/dist-packages (from matplotlib) (4.42.1)\n",
            "Requirement already satisfied: kiwisolver>=1.0.1 in /usr/local/lib/python3.10/dist-packages (from matplotlib) (1.4.5)\n",
            "Requirement already satisfied: numpy>=1.20 in /usr/local/lib/python3.10/dist-packages (from matplotlib) (1.23.5)\n",
            "Requirement already satisfied: packaging>=20.0 in /usr/local/lib/python3.10/dist-packages (from matplotlib) (23.1)\n",
            "Requirement already satisfied: pillow>=6.2.0 in /usr/local/lib/python3.10/dist-packages (from matplotlib) (9.4.0)\n",
            "Requirement already satisfied: pyparsing>=2.3.1 in /usr/local/lib/python3.10/dist-packages (from matplotlib) (3.1.1)\n",
            "Requirement already satisfied: python-dateutil>=2.7 in /usr/local/lib/python3.10/dist-packages (from matplotlib) (2.8.2)\n",
            "Requirement already satisfied: six>=1.5 in /usr/local/lib/python3.10/dist-packages (from python-dateutil>=2.7->matplotlib) (1.16.0)\n"
          ]
        }
      ],
      "source": [
        "!pip install matplotlib\n",
        "import numpy as np\n",
        "\n",
        "import pandas as pd\n",
        "from matplotlib import pyplot as plt\n",
        "from matplotlib import style\n",
        ""
      ]
    },
    {
      "cell_type": "code",
      "execution_count": 13,
      "id": "a3c648e1-d736-4c37-b292-6d1dcd1745e0",
      "metadata": {
        "tags": [],
        "id": "a3c648e1-d736-4c37-b292-6d1dcd1745e0"
      },
      "outputs": [],
      "source": [
        "def load_data(filename):\n",
        "\n",
        "    Id = []\n",
        "    Vg = []\n",
        "    with open(filename, 'r') as file:\n",
        "        for line in file:\n",
        "            line = line.strip()\n",
        "            if line.startswith('d'):\n",
        "                values = line.split()\n",
        "                first_column_value = float(values[1]) # read voltage\n",
        "                last_column_value = float(values[-1]) # read current\n",
        "                Id.append(last_column_value)\n",
        "                Vg.append(first_column_value)\n",
        "\n",
        "    return Vg, Id\n"
      ]
    },
    {
      "cell_type": "code",
      "execution_count": 14,
      "id": "87b69f75-d410-4fc3-b97f-9093e17a4317",
      "metadata": {
        "id": "87b69f75-d410-4fc3-b97f-9093e17a4317"
      },
      "outputs": [],
      "source": [
        "def plot_norm_IdVg(Vg, Id):\n",
        "    #style.use('ggplot')\n",
        "    plt.title('Id-Vgs')\n",
        "    plt.ylabel('Id')\n",
        "    plt.xlabel('Vgs')\n",
        "    plt.plot(Vg, Id, color='g')\n",
        "\n",
        "    plt.grid(True,color='k')\n",
        "\n",
        "def plot_log_IdVg(Vg, Id):\n",
        "    #style.use('ggplot')\n",
        "    plt.title('Id-Vgs')\n",
        "    plt.ylabel('Id')\n",
        "    plt.xlabel('Vgs')\n",
        "    plt.plot(Vg, np.log10(Id),color='m')\n",
        "    plt.grid(True,color='k')\n",
        "\n",
        "def generate_double_plot(Vg, Id):\n",
        "    plt.title(f1)\n",
        "    plt.subplot(211)\n",
        "    plot_norm_IdVg(Vg, Id)\n",
        "    plt.subplot(212)\n",
        "    plot_log_IdVg(Vg, Id)\n",
        "    plt.show()\n",
        "\n",
        "def generate_merged_plot(Vg1, Id1, Vg2, Id2):\n",
        "\n",
        "    plt.plot(Vg1, np.log10(Id1), \"r\", Vg2, np.log10(Id2), \"b\")\n",
        "    plt.grid(True,color='k')\n",
        "    plt.title('log(Id)-Vgs')\n",
        "    plt.ylabel('log(Id)')\n",
        "    plt.xlabel('Vgs')\n",
        "    plt.legend()\n",
        "    plt.show()\n"
      ]
    },
    {
      "cell_type": "code",
      "execution_count": 15,
      "id": "b1787e75-9dff-40ee-b12f-d713f2960f92",
      "metadata": {
        "scrolled": true,
        "tags": [],
        "colab": {
          "base_uri": "https://localhost:8080/",
          "height": 1000
        },
        "id": "b1787e75-9dff-40ee-b12f-d713f2960f92",
        "outputId": "865b0f3d-f260-452c-f398-a4bef2e8d1b2"
      },
      "outputs": [
        {
          "output_type": "stream",
          "name": "stderr",
          "text": [
            "<ipython-input-14-8f6377aef728>:20: MatplotlibDeprecationWarning: Auto-removal of overlapping axes is deprecated since 3.6 and will be removed two minor releases later; explicitly call ax.remove() as needed.\n",
            "  plt.subplot(211)\n"
          ]
        },
        {
          "output_type": "display_data",
          "data": {
            "text/plain": [
              "<Figure size 640x480 with 2 Axes>"
            ],
            "image/png": "[encoded data removed]"
          },
          "metadata": {}
        },
        {
          "output_type": "display_data",
          "data": {
            "text/plain": [
              "<Figure size 640x480 with 2 Axes>"
            ],
            "image/png": "[encoded data removed]"
          },
          "metadata": {}
        },
        {
          "output_type": "stream",
          "name": "stderr",
          "text": [
            "WARNING:matplotlib.legend:No artists with labels found to put in legend.  Note that artists whose label start with an underscore are ignored when legend() is called with no argument.\n"
          ]
        },
        {
          "output_type": "display_data",
          "data": {
            "text/plain": [
              "<Figure size 640x480 with 1 Axes>"
            ],
            "image/png": "[encoded data removed]"
          },
          "metadata": {}
        }
      ],
      "source": [
        "# BEST PERFORMANCE SO FAR\n",
        "# f1 = \"FinFET_v8B_Lg30W2H5Wf5Nd2_19Tox1_vd1.00.log\"\n",
        "# f2 = \"FinFET_v8B_Lg30W2H5Wf5Nd2_19Tox1_vd0.05.log\"\n",
        "\n",
        "#f1 = \"FinFET_v8B_Lg24W2H5Wf5Nd2_19Tox1Tgate5_vd1.00.log\"\n",
        "#f2 = \"FinFET_v8B_Lg24W2H5Wf5Nd2_19Tox1Tgate5_vd0.05.log\"\n",
        "\n",
        "# BOUSARI PAPER DHGO FinFET\n",
        "#f1 = \"FinFET_v8B_Lg14W5H5Wf5Nd5_19Tox1.5_BOUSARI_vd1.00.log\"\n",
        "#f2 = \"FinFET_v8B_Lg14W5H5Wf5Nd5_19Tox1.5_BOUSARI_vd0.05.log\"\n",
        "\n",
        "\n",
        "\n",
        "Vg12, Id12 =  load_data(f1)\n",
        "Vg00, Id00 =  load_data(f2)\n",
        "\n",
        "generate_double_plot(Vg00, Id00)\n",
        "generate_double_plot(Vg12, Id12)\n",
        "generate_merged_plot(Vg00, Id00, Vg12, Id12)\n"
      ]
    },
    {
      "cell_type": "code",
      "execution_count": 16,
      "id": "4b692cc2-f800-452c-862b-b9363faa343d",
      "metadata": {
        "colab": {
          "base_uri": "https://localhost:8080/"
        },
        "id": "4b692cc2-f800-452c-862b-b9363faa343d",
        "outputId": "019858ad-7cdd-4ef9-b876-6ba6479cd4cb"
      },
      "outputs": [
        {
          "output_type": "execute_result",
          "data": {
            "text/plain": [
              "array([0.0626, 0.0571, 0.0643, 0.0592, 0.0612, 0.0849, 0.3642])"
            ]
          },
          "metadata": {},
          "execution_count": 16
        }
      ],
      "source": [
        "import numpy as np\n",
        "\n",
        "# Load the data from the .log files\n",
        "# You would need to implement the actual data loading\n",
        "Vg_07, Id_07 = load_data(f1)\n",
        "Vg_005, Id_005 = load_data(f2)\n",
        "\n",
        "\n",
        "# Take the logarithm of the drain current\n",
        "log_Id_005 = np.log10(Id_005)\n",
        "log_Id_07 = np.log10(Id_07)\n",
        "\n",
        "# Calculate the slope of the ID-VG curve in the subthreshold region\n",
        "# You might need to adjust the indices depending on where the subthreshold region is in your data\n",
        "SS_005 = np.round(np.diff(Vg_005[5:15]) / np.diff(log_Id_005[5:15]),4)\n",
        "SS_07 = np.round(np.diff(Vg_07[5:15]) / np.diff(log_Id_07[5:15]),4)\n",
        "\n",
        "\n",
        "\n",
        "# SS = (dV_GS / d(log10(I_D))) * (k * T / q),\n",
        "\n",
        "# The subthreshold swing is the average slope in the subthreshold region\n",
        "# SS_005 = np.round(np.mean(SS_005),4)\n",
        "# SS_07 = np.round(np.mean(SS_07),4)\n",
        "SS_07"
      ]
    },
    {
      "cell_type": "code",
      "execution_count": 17,
      "id": "d11ab9e2-9401-4b10-acc8-cec94bb8f624",
      "metadata": {
        "tags": [],
        "colab": {
          "base_uri": "https://localhost:8080/"
        },
        "id": "d11ab9e2-9401-4b10-acc8-cec94bb8f624",
        "outputId": "0441d39d-21b9-4932-92d8-4fff1d79567e"
      },
      "outputs": [
        {
          "output_type": "stream",
          "name": "stdout",
          "text": [
            "Vth (at Vds = 1.2V) is 1.0612 V\n",
            "SS is [ 62.6  57.1  64.3  59.2  61.2  84.9 364.2] mV/dec\n",
            "DIBL is 0.0 mV/V\n",
            "Id_00 is 1e-23 A\n",
            "Id_th is 1e-07 A\n",
            "Ion/Ioff is 1.000000e+16 \n",
            "leakage_current is 4.755506434e-25 A\n",
            "max_current is 5.388919777e-07 A\n",
            "Imax/Ileakage is 1.133196e+18 \n"
          ]
        }
      ],
      "source": [
        "\n",
        "# Find the threshold voltage for both drain voltages\n",
        "# You might need to adjust the threshold current depending on your device\n",
        "\n",
        "Vth005 = 0.35 #np.interp(1e-7, Vg00, Id00)\n",
        "Vth120 = 0.37 # np.interp(1e-7, Vg12, Id12)\n",
        "\n",
        "Vth005 = np.round(np.interp(-7, np.log10(Id00), Vg00 ),4)\n",
        "Vth120 = np.round(np.interp(-7, np.log10(Id12), Vg12 ),4)\n",
        "\n",
        "Id_00 = np.round(np.interp(0.05, Vg12, np.log10(Id12) ,4))\n",
        "Id_th = np.round(np.interp(Vth120, Vg12, np.log10(Id12) ,4))\n",
        "\n",
        "\n",
        "# The DIBL is the change in threshold voltage divided by the change in drain voltage\n",
        "DIBL = np.round(1000* (np.abs(Vth120 - Vth005)) / (1.2 - 0.05),2)\n",
        "#Please note that this Python code is an example and might not work perfectly for your specific case. The exact indices for the subthreshold region and the threshold current may need to be adjusted based on your device and simulation parameters. Also, the data loading part isn't implemented, you would need to handle it based on the format of your log files.\n",
        "#print (f\"Vth at Vds=0.05V is {Vth005} V\")\n",
        "print (f\"Vth (at Vds = 1.2V) is {Vth120} V\")\n",
        "\n",
        "# Leakage current\n",
        "leakage_current = Id12[np.argmin(np.abs(Vg12))]\n",
        "max_current = Id12[np.argmax(np.abs(Vg12))]\n",
        "\n",
        "Imax_Ileak = max_current / leakage_current\n",
        "\n",
        "#print(f\"SS_005 = {SS_005*1000} mV/dec\")\n",
        "print(f\"SS is {SS_07*1000} mV/dec\")\n",
        "print (f\"DIBL is {DIBL} mV/V\")\n",
        "print (f\"Id_00 is {10**Id_00} A\")\n",
        "print (f\"Id_th is {10**Id_th} A\")\n",
        "\n",
        "ION_IOFF = 10**Id_th / 10**Id_00\n",
        "\n",
        "print (f\"Ion/Ioff is {'%e' % ION_IOFF} \")\n",
        "\n",
        "print (f\"leakage_current is {leakage_current} A\")\n",
        "print (f\"max_current is {max_current} A\")\n",
        "print (f\"Imax/Ileakage is {'%e' % Imax_Ileak} \")\n",
        "\n"
      ]
    },
    {
      "cell_type": "code",
      "execution_count": 17,
      "id": "7304b806-e176-4db7-a9b8-9c0ac714074d",
      "metadata": {
        "id": "7304b806-e176-4db7-a9b8-9c0ac714074d"
      },
      "outputs": [],
      "source": []
    },
    {
      "cell_type": "code",
      "execution_count": 17,
      "id": "c2146711-7f5e-4af9-8054-060c0c49c975",
      "metadata": {
        "id": "c2146711-7f5e-4af9-8054-060c0c49c975"
      },
      "outputs": [],
      "source": []
    },
    {
      "cell_type": "code",
      "execution_count": 17,
      "id": "80ce8f99-6984-4228-8983-5d2f7cbe0365",
      "metadata": {
        "id": "80ce8f99-6984-4228-8983-5d2f7cbe0365"
      },
      "outputs": [],
      "source": []
    },
    {
      "cell_type": "code",
      "execution_count": 17,
      "id": "5a04cf48-2c6c-4c79-af19-933605ad2c04",
      "metadata": {
        "id": "5a04cf48-2c6c-4c79-af19-933605ad2c04"
      },
      "outputs": [],
      "source": []
    },
    {
      "cell_type": "code",
      "execution_count": 17,
      "id": "f7de21b9-b346-4d6a-a133-74711c1f7f27",
      "metadata": {
        "id": "f7de21b9-b346-4d6a-a133-74711c1f7f27"
      },
      "outputs": [],
      "source": []
    },
    {
      "cell_type": "code",
      "execution_count": 17,
      "id": "490c186b-36f1-4e96-855d-9ddaa6e868e0",
      "metadata": {
        "id": "490c186b-36f1-4e96-855d-9ddaa6e868e0"
      },
      "outputs": [],
      "source": []
    },
    {
      "cell_type": "code",
      "execution_count": 17,
      "id": "b60c30b2-1ee2-422c-97a6-a2a1b05f478f",
      "metadata": {
        "id": "b60c30b2-1ee2-422c-97a6-a2a1b05f478f"
      },
      "outputs": [],
      "source": []
    },
    {
      "cell_type": "code",
      "execution_count": 18,
      "id": "d762cb8c-b042-40ec-a871-8ff3bfeaae18",
      "metadata": {
        "tags": [],
        "id": "d762cb8c-b042-40ec-a871-8ff3bfeaae18"
      },
      "outputs": [],
      "source": [
        "# import re\n",
        "# import numpy as np\n",
        "# import matplotlib.pyplot as plt\n",
        "\n",
        "# # Parse Atlas code to extract input values\n",
        "# def extract_params_from_atlas_code(filename):\n",
        "#     with open(filename, 'r') as file:\n",
        "#         atlas_code = file.read()\n",
        "\n",
        "#     # Input values\n",
        "#     # gate_length = float(re.search(r'x\\.m l=(\\d\\.\\d{2})', atlas_code).group(1))\n",
        "#     # gate_oxide_thickness = float(re.search(r'z\\.m l=(-?\\d\\.\\d{3})', atlas_code).group(1)) - float(re.search(r'z\\.m l=(-?\\d\\.\\d{3})', atlas_code).group(1))\n",
        "#     # channel_thickness = float(re.search(r'y\\.m l=(-?\\d\\.\\d{3})', atlas_code).group(1)) - float(re.search(r'y\\.m l=(-?\\d\\.\\d{3})', atlas_code).group(1))\n",
        "#     # work_function = float(re.search(r'contact name= gate workfun=(\\d\\.\\d)', atlas_code).group(1))\n",
        "#     # gate_dielectric_permittivity = float(re.search(r'region\\s*num=2\\s*material=(\\w+)', atlas_code).group(1))\n",
        "#     # doping_concentration = float(re.search(r'doping region=1 n.type uniform conc=(\\d\\.\\dE\\d{2})', atlas_code).group(1))\n",
        "\n",
        "#     #return gate_length, gate_oxide_thickness, channel_thickness, work_function, gate_dielectric_permittivity, doping_concentration\n",
        "#     return gate_length\n",
        "\n",
        "# # Read IV curve data\n",
        "# def read_iv_curve_data(filename):\n",
        "#     data = np.loadtxt(filename, skiprows=1)\n",
        "#     vgs = data[:, 0]\n",
        "#     id = data[:, 1]\n",
        "#     return vgs, id\n",
        "\n",
        "# # Calculate output parameters\n",
        "# def calculate_output_params(vgs, id, gate_length, gate_oxide_thickness, channel_thickness, gate_dielectric_permittivity):\n",
        "#     # V_TH\n",
        "#     vth_index = np.argmax(np.gradient(id))\n",
        "#     v_th = vgs[vth_index]\n",
        "\n",
        "#     # I_ON and I_OFF\n",
        "#     i_on = np.max(id)\n",
        "#     i_off = np.min(id)\n",
        "\n",
        "#     # DIBL\n",
        "#     vth_low_vds = np.argmax(np.gradient(id[:vth_index]))\n",
        "#     vth_high_vds = np.argmax(np.gradient(id[vth_index:])) + vth_index\n",
        "#     dibl = (vgs[vth_low_vds] - vgs[vth_high_vds]) / (vgs[vth_high_vds] - vgs[vth_low_vds])\n",
        "\n",
        "#     # SS\n",
        "#     log_id = np.log10(id)\n",
        "#     ss = np.abs(np.gradient(log_id) / np.gradient(vgs))[vth_index]\n",
        "\n",
        "#     # Gate capacitance\n",
        "#     epsilon_0 = 8.854e-12  # F/m\n",
        "#     gate_capacitance = gate_dielectric_permittivity * epsilon_0 * gate_length * channel_thickness / gate_oxide_thickness\n",
        "\n",
        "#     # Leakage current\n",
        "#     leakage_current = id[np.argmin(np.abs(vgs))]\n",
        "\n",
        "#     return v_th, i_on, i_off, dibl, ss, gate_capacitance, leakage_current\n",
        "\n",
        "# def calculate_ss(vgs, id):\n",
        "#     # V_TH\n",
        "#     vth_index = np.argmax(np.gradient(id))\n",
        "#     v_th = vgs[vth_index]\n",
        "\n",
        "#     # I_ON and I_OFF\n",
        "#     i_on = np.max(id)\n",
        "#     i_off = np.min(id)\n",
        "\n",
        "#     # DIBL\n",
        "#     # vth_low_vds = np.argmax(np.gradient(id[:vth_index]))\n",
        "#     # vth_high_vds = np.argmax(np.gradient(id[vth_index:])) + vth_index\n",
        "#     # dibl = (vgs[vth_low_vds] - vgs[vth_high_vds]) / (vgs[vth_high_vds] - vgs[vth_low_vds])\n",
        "\n",
        "#     # SS\n",
        "#     log_id = np.log10(id)\n",
        "#     ss = np.abs(np.gradient(log_id) / np.gradient(vgs))[vth_index]\n",
        "\n",
        "#     # Gate capacitance\n",
        "#     # epsilon_0 = 8.854e-12  # F/m\n",
        "#     # gate_capacitance = gate_dielectric_permittivity * epsilon_0 * gate_length * channel_thickness / gate_oxide_thickness\n",
        "\n",
        "#     # # Leakage current\n",
        "#     # leakage_current = id[np.argmin(np.abs(vgs))]\n",
        "\n",
        "#     return ss, v_th, vth_index\n",
        "\n",
        "\n"
      ]
    },
    {
      "cell_type": "code",
      "execution_count": 19,
      "id": "07704d85-7f79-43d0-874f-ea6786300784",
      "metadata": {
        "id": "07704d85-7f79-43d0-874f-ea6786300784"
      },
      "outputs": [],
      "source": [
        "# # Main\n",
        "# atlas_code_file = 'FinFET_v8B_Lg14W2H5Wf5Nd2_19Tox1.in'\n",
        "# iv_curve_file = 'FinFET_v8B_Lg30W2H5Wf5Nd2_19Tox1_vd1.00.log'\n",
        "\n",
        "# # Extract input parameters from Atlas code\n",
        "# #gate_length, gate_oxide_thickness, channel_thickness, work_function, gate_dielectric_permittivity, doping_concentration = extract_params_from_atlas_code(atlas_code_file)\n",
        "# gate_length = extract_params_from_atlas_code(atlas_code_file)\n",
        "# gate_length\n",
        "\n",
        "# # Read IV curve data\n",
        "# vgs, id = load_data(iv_curve_file)\n",
        "\n",
        "# ss, v_th, vth_index = calculate_ss(vgs, id)\n",
        "# # # Calculate output parameters\n",
        "# # v_th, i_on, i_off, dibl, ss, gate_capacitance, leakage_current = calculate_output_params(vgs, id, gate_length, gate_oxide_thickness, channel_thickness, gate_dielectric_permittivity)\n",
        "\n",
        "# # # Print results\n",
        "# # print(\"Input parameters:\")\n",
        "# # print(f\"Gate length: {gate_length} um\")\n",
        "# # print(f\"Gate oxide thickness: {gate_oxide_thickness} um\")\n",
        "# # print(f\"Channel thickness: {channel_thickness} um\")\n",
        "# # print(f\"Work function of the gate: {work_function} eV\")\n",
        "# # print(f\"Gate dielectric permittivity: {gate_dielectric_permittivity}\")\n",
        "# # print(f\"Source/drain doping concentration: {doping_concentration} cm^-3\")\n",
        "\n",
        "# print(\"\\nOutput parameters:\")\n",
        "# print(f\"SS: {ss} V/dec\")\n",
        "# print(f\"V_TH: {v_th} V\")\n",
        "# # print(f\"I_ON: {i_on} A\")\n",
        "# # print(f\"I_OFF: {i_off} A\")\n",
        "# # print(f\"DIBL: {dibl} V/V\")\n",
        "# print(f\"VTH_INDEX: {vth_index} \")\n",
        "\n",
        "# # print(f\"Gate capacitance: {gate_capacitance} F\")\n",
        "# # print(f\"Leakage current: {leakage_current} A\")\n"
      ]
    },
    {
      "cell_type": "code",
      "execution_count": 20,
      "id": "6d853a46-0d49-480a-ab97-eb11e28b694f",
      "metadata": {
        "colab": {
          "base_uri": "https://localhost:8080/"
        },
        "id": "6d853a46-0d49-480a-ab97-eb11e28b694f",
        "outputId": "512efe3c-ef33-4acf-f4a8-b1a71ad01144"
      },
      "outputs": [
        {
          "output_type": "stream",
          "name": "stdout",
          "text": [
            "ION/IOFF ratio: nan\n"
          ]
        },
        {
          "output_type": "stream",
          "name": "stderr",
          "text": [
            "/usr/local/lib/python3.10/dist-packages/numpy/core/fromnumeric.py:3432: RuntimeWarning: Mean of empty slice.\n",
            "  return _methods._mean(a, axis=axis, dtype=dtype,\n",
            "/usr/local/lib/python3.10/dist-packages/numpy/core/_methods.py:190: RuntimeWarning: invalid value encountered in double_scalars\n",
            "  ret = ret.dtype.type(ret / rcount)\n"
          ]
        }
      ],
      "source": [
        "import numpy as np\n",
        "\n",
        "def calculate_ion_ioff(ig_data, vgs_data, vgs_off):\n",
        "    # Find the indices for Vgs ON and OFF\n",
        "    vgs_on_index = np.argmax(vgs_data == vgs_off)\n",
        "    vgs_off_index = np.argmax(vgs_data == 0)\n",
        "\n",
        "    # Calculate ION and IOFF\n",
        "    ion = np.mean(ig_data[vgs_on_index:vgs_off_index])\n",
        "    ioff = np.mean(ig_data[vgs_off_index:])\n",
        "\n",
        "    # Calculate ION/IOFF ratio\n",
        "    ion_ioff_ratio = ion / ioff\n",
        "\n",
        "    return ion_ioff_ratio\n",
        "\n",
        "\n",
        "# Example usage\n",
        "\n",
        "vgs_off = -1.0  # Vgs OFF threshold\n",
        "ion_ioff_ratio = calculate_ion_ioff(Id_07, Vg_07, Vth120)\n",
        "print(f\"ION/IOFF ratio: {ion_ioff_ratio}\")\n"
      ]
    },
    {
      "cell_type": "code",
      "execution_count": 20,
      "id": "1a235535-b3ca-4784-af1a-9392af3df570",
      "metadata": {
        "id": "1a235535-b3ca-4784-af1a-9392af3df570"
      },
      "outputs": [],
      "source": []
    },
    {
      "cell_type": "code",
      "execution_count": 20,
      "id": "c567f82e-7c2e-49cb-9616-f8e1f7a85f61",
      "metadata": {
        "id": "c567f82e-7c2e-49cb-9616-f8e1f7a85f61"
      },
      "outputs": [],
      "source": []
    }
  ],
  "metadata": {
    "kernelspec": {
      "display_name": "Python 3 (ipykernel)",
      "language": "python",
      "name": "python3"
    },
    "language_info": {
      "codemirror_mode": {
        "name": "ipython",
        "version": 3
      },
      "file_extension": ".py",
      "mimetype": "text/x-python",
      "name": "python",
      "nbconvert_exporter": "python",
      "pygments_lexer": "ipython3",
      "version": "3.11.3"
    },
    "colab": {
      "provenance": [],
      "include_colab_link": true
    }
  },
  "nbformat": 4,
  "nbformat_minor": 5
}