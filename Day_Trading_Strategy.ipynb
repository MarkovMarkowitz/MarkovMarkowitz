{
  "nbformat": 4,
  "nbformat_minor": 0,
  "metadata": {
    "colab": {
      "provenance": [],
      "toc_visible": true,
      "authorship_tag": "ABX9TyPdieaGeG9qRwXtn9T0sGg9",
      "include_colab_link": true
    },
    "kernelspec": {
      "name": "python3",
      "display_name": "Python 3"
    },
    "language_info": {
      "name": "python"
    }
  },
  "cells": [
    {
      "cell_type": "markdown",
      "metadata": {
        "id": "view-in-github",
        "colab_type": "text"
      },
      "source": [
        "<a href=\"https://colab.research.google.com/github/MarkovMarkowitz/MarkovMarkowitz/blob/main/Day_Trading_Strategy.ipynb\" target=\"_parent\"><img src=\"https://colab.research.google.com/assets/colab-badge.svg\" alt=\"Open In Colab\"/></a>"
      ]
    },
    {
      "cell_type": "code",
      "execution_count": null,
      "metadata": {
        "id": "Ia1DEDPuVS4b",
        "colab": {
          "base_uri": "https://localhost:8080/"
        },
        "outputId": "fb63f31d-6fa9-49a9-8763-68ca26147352"
      },
      "outputs": [
        {
          "output_type": "stream",
          "name": "stdout",
          "text": [
            "Requirement already satisfied: pyfolio in /usr/local/lib/python3.10/dist-packages (0.9.2)\n",
            "Requirement already satisfied: ipython>=3.2.3 in /usr/local/lib/python3.10/dist-packages (from pyfolio) (7.34.0)\n",
            "Requirement already satisfied: matplotlib>=1.4.0 in /usr/local/lib/python3.10/dist-packages (from pyfolio) (3.7.1)\n",
            "Requirement already satisfied: numpy>=1.11.1 in /usr/local/lib/python3.10/dist-packages (from pyfolio) (1.22.4)\n",
            "Requirement already satisfied: pandas>=0.18.1 in /usr/local/lib/python3.10/dist-packages (from pyfolio) (1.5.3)\n",
            "Requirement already satisfied: pytz>=2014.10 in /usr/local/lib/python3.10/dist-packages (from pyfolio) (2022.7.1)\n",
            "Requirement already satisfied: scipy>=0.14.0 in /usr/local/lib/python3.10/dist-packages (from pyfolio) (1.10.1)\n",
            "Requirement already satisfied: scikit-learn>=0.16.1 in /usr/local/lib/python3.10/dist-packages (from pyfolio) (1.2.2)\n",
            "Requirement already satisfied: seaborn>=0.7.1 in /usr/local/lib/python3.10/dist-packages (from pyfolio) (0.12.2)\n",
            "Requirement already satisfied: empyrical>=0.5.0 in /usr/local/lib/python3.10/dist-packages (from pyfolio) (0.5.5)\n",
            "Requirement already satisfied: pandas-datareader>=0.2 in /usr/local/lib/python3.10/dist-packages (from empyrical>=0.5.0->pyfolio) (0.10.0)\n",
            "Requirement already satisfied: setuptools>=18.5 in /usr/local/lib/python3.10/dist-packages (from ipython>=3.2.3->pyfolio) (67.7.2)\n",
            "Requirement already satisfied: jedi>=0.16 in /usr/local/lib/python3.10/dist-packages (from ipython>=3.2.3->pyfolio) (0.19.0)\n",
            "Requirement already satisfied: decorator in /usr/local/lib/python3.10/dist-packages (from ipython>=3.2.3->pyfolio) (4.4.2)\n",
            "Requirement already satisfied: pickleshare in /usr/local/lib/python3.10/dist-packages (from ipython>=3.2.3->pyfolio) (0.7.5)\n",
            "Requirement already satisfied: traitlets>=4.2 in /usr/local/lib/python3.10/dist-packages (from ipython>=3.2.3->pyfolio) (5.7.1)\n",
            "Requirement already satisfied: prompt-toolkit!=3.0.0,!=3.0.1,<3.1.0,>=2.0.0 in /usr/local/lib/python3.10/dist-packages (from ipython>=3.2.3->pyfolio) (3.0.39)\n",
            "Requirement already satisfied: pygments in /usr/local/lib/python3.10/dist-packages (from ipython>=3.2.3->pyfolio) (2.14.0)\n",
            "Requirement already satisfied: backcall in /usr/local/lib/python3.10/dist-packages (from ipython>=3.2.3->pyfolio) (0.2.0)\n",
            "Requirement already satisfied: matplotlib-inline in /usr/local/lib/python3.10/dist-packages (from ipython>=3.2.3->pyfolio) (0.1.6)\n",
            "Requirement already satisfied: pexpect>4.3 in /usr/local/lib/python3.10/dist-packages (from ipython>=3.2.3->pyfolio) (4.8.0)\n",
            "Requirement already satisfied: contourpy>=1.0.1 in /usr/local/lib/python3.10/dist-packages (from matplotlib>=1.4.0->pyfolio) (1.1.0)\n",
            "Requirement already satisfied: cycler>=0.10 in /usr/local/lib/python3.10/dist-packages (from matplotlib>=1.4.0->pyfolio) (0.11.0)\n",
            "Requirement already satisfied: fonttools>=4.22.0 in /usr/local/lib/python3.10/dist-packages (from matplotlib>=1.4.0->pyfolio) (4.41.1)\n",
            "Requirement already satisfied: kiwisolver>=1.0.1 in /usr/local/lib/python3.10/dist-packages (from matplotlib>=1.4.0->pyfolio) (1.4.4)\n",
            "Requirement already satisfied: packaging>=20.0 in /usr/local/lib/python3.10/dist-packages (from matplotlib>=1.4.0->pyfolio) (23.1)\n",
            "Requirement already satisfied: pillow>=6.2.0 in /usr/local/lib/python3.10/dist-packages (from matplotlib>=1.4.0->pyfolio) (9.4.0)\n",
            "Requirement already satisfied: pyparsing>=2.3.1 in /usr/local/lib/python3.10/dist-packages (from matplotlib>=1.4.0->pyfolio) (3.1.0)\n",
            "Requirement already satisfied: python-dateutil>=2.7 in /usr/local/lib/python3.10/dist-packages (from matplotlib>=1.4.0->pyfolio) (2.8.2)\n",
            "Requirement already satisfied: joblib>=1.1.1 in /usr/local/lib/python3.10/dist-packages (from scikit-learn>=0.16.1->pyfolio) (1.3.1)\n",
            "Requirement already satisfied: threadpoolctl>=2.0.0 in /usr/local/lib/python3.10/dist-packages (from scikit-learn>=0.16.1->pyfolio) (3.2.0)\n",
            "Requirement already satisfied: parso<0.9.0,>=0.8.3 in /usr/local/lib/python3.10/dist-packages (from jedi>=0.16->ipython>=3.2.3->pyfolio) (0.8.3)\n",
            "Requirement already satisfied: lxml in /usr/local/lib/python3.10/dist-packages (from pandas-datareader>=0.2->empyrical>=0.5.0->pyfolio) (4.9.3)\n",
            "Requirement already satisfied: requests>=2.19.0 in /usr/local/lib/python3.10/dist-packages (from pandas-datareader>=0.2->empyrical>=0.5.0->pyfolio) (2.27.1)\n",
            "Requirement already satisfied: ptyprocess>=0.5 in /usr/local/lib/python3.10/dist-packages (from pexpect>4.3->ipython>=3.2.3->pyfolio) (0.7.0)\n",
            "Requirement already satisfied: wcwidth in /usr/local/lib/python3.10/dist-packages (from prompt-toolkit!=3.0.0,!=3.0.1,<3.1.0,>=2.0.0->ipython>=3.2.3->pyfolio) (0.2.6)\n",
            "Requirement already satisfied: six>=1.5 in /usr/local/lib/python3.10/dist-packages (from python-dateutil>=2.7->matplotlib>=1.4.0->pyfolio) (1.16.0)\n",
            "Requirement already satisfied: urllib3<1.27,>=1.21.1 in /usr/local/lib/python3.10/dist-packages (from requests>=2.19.0->pandas-datareader>=0.2->empyrical>=0.5.0->pyfolio) (1.26.16)\n",
            "Requirement already satisfied: certifi>=2017.4.17 in /usr/local/lib/python3.10/dist-packages (from requests>=2.19.0->pandas-datareader>=0.2->empyrical>=0.5.0->pyfolio) (2023.7.22)\n",
            "Requirement already satisfied: charset-normalizer~=2.0.0 in /usr/local/lib/python3.10/dist-packages (from requests>=2.19.0->pandas-datareader>=0.2->empyrical>=0.5.0->pyfolio) (2.0.12)\n",
            "Requirement already satisfied: idna<4,>=2.5 in /usr/local/lib/python3.10/dist-packages (from requests>=2.19.0->pandas-datareader>=0.2->empyrical>=0.5.0->pyfolio) (3.4)\n"
          ]
        }
      ],
      "source": [
        "!pip3 install pyfolio\n",
        "import pyfolio as pyf"
      ]
    },
    {
      "cell_type": "markdown",
      "source": [
        "**DAY TRADING STRATEGY**"
      ],
      "metadata": {
        "id": "ih7-VamUZ4qc"
      }
    },
    {
      "cell_type": "markdown",
      "source": [
        "# Notebook Instructions\n",
        "\n",
        "1. If you are new to Jupyter notebooks, please go through this introductory manual <a href='https://quantra.quantinsti.com/quantra-notebook' target=\"_blank\">here</a>.\n",
        "1. Any changes made in this notebook would be lost after you close the browser window. **You can download the notebook to save your work on your PC.**\n",
        "1. Before running this notebook on your local PC:<br>\n",
        "i.  You need to set up a Python environment and the relevant packages on your local PC. To do so, go through the section on \"**Run Codes Locally on Your Machine**\" in the course.<br>\n",
        "ii. You need to **download the zip file available in the last unit** of this course. The zip file contains the data files and/or python modules that might be required to run this notebook."
      ],
      "metadata": {
        "id": "kQK6fotMVYtJ"
      }
    },
    {
      "cell_type": "code",
      "source": [
        "# For data manupulations\n",
        "\n",
        "START = '2022-08-01'\n",
        "END = '2023-08-01'\n",
        "\n",
        "VOLATILITY_FACTOR = 0.45\n",
        "LOOKBACK = 45\n",
        "\n",
        "# VF    LB    PEAK_CUM  CUM_LAST\n",
        "# 0.25  45    3.83       2.54\n",
        "# 0.35  45    4.46       2.84\n",
        "# 0.40  45    4.44       2.84\n",
        "# 0.45  45    4.446      3.095   ******* best\n",
        "# 0.45  55    3.91       2.5\n",
        "# 0.45  25    2.51       1.66\n",
        "# 0.45  65    4.05       2.59\n",
        "# 0.45  90    4.3        2.7\n",
        "# 0.50  45    4.34       3.02\n",
        "# 0.55  45    3.84       2.67\n",
        "# 1.00  45    3.76       2.62\n",
        "\n",
        "import pandas as pd\n",
        "import numpy as np\n",
        "import yfinance as yf\n",
        "\n",
        "# For plotting\n",
        "import matplotlib.pyplot as plt\n",
        "\n",
        "Ticker = \"CANTE\"\n",
        "# Read data from Yahoo finance\n",
        "TickerIS = Ticker + \".IS\"\n",
        "data = yf.download(TickerIS,START, END)\n",
        "\n",
        "data_close = data['Adj Close']\n",
        "# Convert index into datetime format\n",
        "data.index = pd.to_datetime(data.index,format=\"%d-%m-%Y\")\n",
        "\n",
        "# Calculate adjustment factor\n",
        "adjusted_factor = data['Adj Close'] / data['Close']\n",
        "\n",
        "# Calculate adjusted open price\n",
        "data['Adj Open'] = adjusted_factor * data['Open']\n",
        "\n",
        "data.tail()"
      ],
      "metadata": {
        "id": "Wa8x3mz3VZuT"
      },
      "execution_count": null,
      "outputs": []
    },
    {
      "cell_type": "code",
      "source": [
        "# Calculate returns\n",
        "data['returns'] = (data['Adj Open'] - data['Adj Close'].shift(1)) / data['Adj Close'].shift(1)"
      ],
      "metadata": {
        "id": "JJK6QI6dVkIZ"
      },
      "execution_count": null,
      "outputs": []
    },
    {
      "cell_type": "code",
      "source": [
        "# Calculate standard deviation of returns\n",
        "data['std'] = data['returns'].rolling(LOOKBACK).std()"
      ],
      "metadata": {
        "id": "a_DlgxlpVpek"
      },
      "execution_count": null,
      "outputs": []
    },
    {
      "cell_type": "code",
      "source": [
        "data['positions'] = np.nan"
      ],
      "metadata": {
        "id": "JjbGoDkj__BH"
      },
      "execution_count": null,
      "outputs": []
    },
    {
      "cell_type": "code",
      "source": [
        "# GAP UP-GAP DOWN STRATEGY\n",
        "\n",
        "# Long entry condition\n",
        "# long_entry = data['Adj Open'] > data['Adj Close'].shift(1)\n",
        "\n",
        "# # Short entry condition\n",
        "# short_entry = data['Adj Open'] < data['Adj Close'].shift(1)"
      ],
      "metadata": {
        "id": "LCppA4pzAUyu"
      },
      "execution_count": null,
      "outputs": []
    },
    {
      "cell_type": "code",
      "source": [
        "# # IMPROVED STRATEGY\n",
        "\n",
        "# Long entry condition\n",
        "longs_entry = data['returns'] < VOLATILITY_FACTOR * data['std']\n",
        "\n",
        "# Short entry condition\n",
        "short_entry = data['returns'] > VOLATILITY_FACTOR * data['std']\n"
      ],
      "metadata": {
        "id": "kEBR-ALlVuDa"
      },
      "execution_count": null,
      "outputs": []
    },
    {
      "cell_type": "code",
      "source": [
        "# Store 1 when long entry condition is true\n",
        "data.loc[long_entry, 'positions'] = 1\n",
        "\n",
        "# Store -1 when short entry condition is true\n",
        "# data.loc[short_entry, 'positions'] = -1\n",
        "\n",
        "# Store 0 when wait condition is true\n",
        "data.loc[short_entry, 'positions'] = 0\n",
        "\n",
        "data['positions'].fillna(method='ffill', inplace=True)\n",
        "\n",
        "# Drop NaN values\n",
        "#data = data.dropna()"
      ],
      "metadata": {
        "id": "At1lib6fAOJT"
      },
      "execution_count": null,
      "outputs": []
    },
    {
      "cell_type": "code",
      "source": [
        "data['strategy_returns'] = ((data['Adj Close'] - data['Adj Open']) / data['Adj Open']) * data.positions"
      ],
      "metadata": {
        "id": "UEasbkyqVxJf"
      },
      "execution_count": null,
      "outputs": []
    },
    {
      "cell_type": "code",
      "source": [
        "plt.subplot(3, 1, 1)\n",
        "plt.plot(data_close)\n",
        "plt.title(f\"{Ticker} time series\")\n",
        "\n",
        "data_log_returns = data_close.pct_change().apply(lambda x: np.log(1+x))\n",
        "\n",
        "plt.subplot(3, 1, 2)\n",
        "plt.plot(data_log_returns)\n",
        "plt.title(f\"{Ticker} returns time series\")\n",
        "\n",
        "plt.subplot(3, 1, 3)\n",
        "data_vlt = data_close.rolling(LOOKBACK).std()*(252**0.5)\n",
        "plt.title(f\"{Ticker} volatility time series\")\n",
        "plt.plot(data_vlt)\n",
        "\n",
        "fig = plt.gcf()\n",
        "fig.set_size_inches(16, 11)\n",
        "plt.show()"
      ],
      "metadata": {
        "id": "14EFET83XE-L"
      },
      "execution_count": null,
      "outputs": []
    },
    {
      "cell_type": "code",
      "source": [
        "# Plot cumulative returns\n",
        "plt.figure(figsize=(14,11))\n",
        "\n",
        "plt.subplot(3, 1, 1)\n",
        "plt.plot(data_close)\n",
        "plt.title(f\"{Ticker} time series\", fontsize=16)\n",
        "plt.xlabel('Date', fontsize=14)\n",
        "plt.ylabel('Price', fontsize=14)\n",
        "plt.grid()\n",
        "\n",
        "plt.subplot(3, 1, 2)\n",
        "data['cumulative_strategy_returns'] = (data.strategy_returns+1).cumprod()\n",
        "data['cumulative_strategy_returns'].fillna(method='ffill', inplace=True)\n",
        "\n",
        "plt.plot(data.cumulative_strategy_returns)\n",
        "plt.title(f\"{Ticker} returns time series\")\n",
        "plt.grid()\n",
        "plt.xticks(fontsize=12)\n",
        "plt.yticks(fontsize=12)\n",
        "\n",
        "# Cumulative strategy returns\n",
        "# Define the label for the title of the figure\n",
        "plt.title(f\"{Ticker} Cumulative Strategy Returns\", fontsize=16)\n",
        "# Define the labels for x-axis and y-axis\n",
        "plt.xlabel('Date', fontsize=14)\n",
        "plt.ylabel('Cumulative Returns', fontsize=14)\n",
        "\n",
        "# Define the tick size for x-axis and y-axis\n",
        "plt.xticks(fontsize=12)\n",
        "plt.yticks(fontsize=12)\n",
        "\n",
        "\n",
        "plt.subplot(3, 1, 3)\n",
        "plt.xlabel('Date', fontsize=14)\n",
        "plt.ylabel(f'{Ticker} volatility', fontsize=14)\n",
        "plt.grid()\n",
        "plt.xticks(fontsize=12)\n",
        "plt.title(f\"{Ticker} volatility\")\n",
        "plt.plot(data_vlt)\n",
        "\n",
        "\n",
        "plt.show()"
      ],
      "metadata": {
        "id": "eLPhtXvAV3Hb"
      },
      "execution_count": null,
      "outputs": []
    },
    {
      "cell_type": "code",
      "source": [],
      "metadata": {
        "id": "tmUVKFuGItRj"
      },
      "execution_count": null,
      "outputs": []
    },
    {
      "cell_type": "code",
      "source": [
        "data.tail(59)"
      ],
      "metadata": {
        "id": "tKMItuCzV4JF"
      },
      "execution_count": null,
      "outputs": []
    },
    {
      "cell_type": "code",
      "source": [],
      "metadata": {
        "id": "Rp0cjuVFDs29"
      },
      "execution_count": null,
      "outputs": []
    },
    {
      "cell_type": "code",
      "source": [
        "pyf.create_simple_tear_sheet(data.strategy_returns)"
      ],
      "metadata": {
        "id": "yKbDGMn0Fang"
      },
      "execution_count": null,
      "outputs": []
    },
    {
      "cell_type": "code",
      "source": [
        "np.max(data.cumulative_strategy_returns)"
      ],
      "metadata": {
        "id": "ua_pz7NxFlAL"
      },
      "execution_count": null,
      "outputs": []
    },
    {
      "cell_type": "code",
      "source": [
        "(data.cumulative_strategy_returns[-1])"
      ],
      "metadata": {
        "id": "qkj9rzzdQ3UN"
      },
      "execution_count": null,
      "outputs": []
    },
    {
      "cell_type": "code",
      "source": [],
      "metadata": {
        "id": "Xk7XUvLzRkI7"
      },
      "execution_count": null,
      "outputs": []
    }
  ]
}