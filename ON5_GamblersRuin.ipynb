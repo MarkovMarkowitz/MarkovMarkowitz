{
  "nbformat": 4,
  "nbformat_minor": 0,
  "metadata": {
    "colab": {
      "provenance": [],
      "authorship_tag": "ABX9TyPu+VcvgoH5lC1irBHzYpFV",
      "include_colab_link": true
    },
    "kernelspec": {
      "name": "python3",
      "display_name": "Python 3"
    },
    "language_info": {
      "name": "python"
    }
  },
  "cells": [
    {
      "cell_type": "markdown",
      "metadata": {
        "id": "view-in-github",
        "colab_type": "text"
      },
      "source": [
        "<a href=\"https://colab.research.google.com/github/MarkovMarkowitz/MarkovMarkowitz/blob/main/ON5_GamblersRuin.ipynb\" target=\"_parent\"><img src=\"https://colab.research.google.com/assets/colab-badge.svg\" alt=\"Open In Colab\"/></a>"
      ]
    },
    {
      "cell_type": "markdown",
      "source": [
        "## **Two Absorbing States: Gambler's Ruin**\n",
        "\n",
        "Now, consider the following situation. A gambler bets on the outcome of a sequence of independent fair coin tosses. With each heads, the gambler gains one dollar. With each tails, the gambler loses one dollar. The gambler stops betting after reaching a fortune of $\\overline{S}$ dollars or after emptying their pockets.\n",
        "\n",
        "*   What are the probabilities of each stopping outcome?\n",
        "*   How long will it take for the gambler, in expectation, to arrive at one of the stopping outcomes?\n",
        "\n",
        "To answer these questions, we can model this setting as a Markov chain on the state space $\\mathcal{S}\\in\\{0,1,...,\\overline{s}\\}$. The gambler starts with initial money $k\\in\\mathcal{S}$, and $s_t$ represents the money in the gambler's pocket at time $t$. Thus, we have that, for $0\\lt s_t \\lt \\overline{s}$:\n",
        "\n",
        "*   $\\mathbb{P}(s_{t+1}=s_t+1|s_{t})=0.5$\n",
        "*   $\\mathbb{P}(s_{t+1}=s_t-1|s_{t})=0.5$\n",
        "\n",
        "States 0 and $\\overline{s}$ are absorbing states because any sequence of draws from the Markov chain stops after reaching any of those situations. Alternatively, we can think that $\\mathbb{P}(s_{t+1}=s_t|s_{t}=\\overline{s})=\\mathbb{P}(s_{t+1}=s_t|s_{t}=0)=1$. We can then represent the $(\\overline{s}+1)\\times(\\overline{s}+1)$ transition matrix as:\n",
        "$$\n",
        "\\begin{align}\n",
        "\\begin{bmatrix}\n",
        "1 & 0 & 0 & 0 & 0 &\\cdots & 0 \\\\\n",
        "0.5 & 0 & 0.5 & 0 & 0 &\\cdots & 0 \\\\\n",
        "0 & 0.5 & 0 & 0.5 & 0 & \\cdots & 0 \\\\\n",
        "\\vdots & \\vdots & \\vdots & \\vdots & \\vdots& \\cdots & \\vdots \\\\\n",
        "0 & 0 & 0 & 0.5 & 0 & 0.5 & 0 \\\\\n",
        "0 & 0 & 0 & 0 & 0.5 & 0 & 0.5 \\\\\n",
        "0 & 0 & 0 & 0 & 0 & 0 & 1\n",
        "\\end{bmatrix}\n",
        "\\end{align}\n",
        "$$\n",
        "Before solving this with math, let's see some Monte Carlo simulation results (in this example, the gambler stops betting after reaching a fortune of 5 USD and starts with 1 USD):"
      ],
      "metadata": {
        "id": "M5AYFR_IeEaO"
      }
    },
    {
      "cell_type": "code",
      "source": [
        "# LIBRARIES WE USE IN THE NOTEBOOK\n",
        "import matplotlib.pyplot as plt\n",
        "import numpy as np\n",
        "from numpy.random import rand, seed\n",
        "from scipy.stats import norm\n",
        "\n",
        "# seed random number generator\n",
        "seed(324)\n",
        "\n",
        "p = 0.55\n",
        "\n",
        "TARGET_PURSE = 100\n",
        "INIT_PURSE = 10\n",
        "\n",
        "PROFIT = (TARGET_PURSE - INIT_PURSE) / INIT_PURSE * 100\n",
        "\n",
        "N_STATES = TARGET_PURSE + 1\n",
        "\n",
        "S = np.zeros((N_STATES, 1))\n",
        "P = np.zeros((N_STATES, N_STATES))\n",
        "\n",
        "P[0, 0] = 1.0\n",
        "P[N_STATES - 1, N_STATES - 1] = 1.0\n",
        "\n",
        "for ii in range(1, N_STATES - 1):\n",
        "    for jj in range(0, N_STATES):\n",
        "        if jj == ii - 1:\n",
        "            P[ii, jj] = 1-p\n",
        "        if jj == ii + 1:\n",
        "            P[ii, jj] = p\n",
        "\n",
        "print(\"Transition matrix:\\n\", P)"
      ],
      "metadata": {
        "colab": {
          "base_uri": "https://localhost:8080/"
        },
        "id": "jMWFl6JVeCcH",
        "outputId": "1794215e-1c84-4f23-afd9-769268f83437"
      },
      "execution_count": null,
      "outputs": [
        {
          "output_type": "stream",
          "name": "stdout",
          "text": [
            "Transition matrix:\n",
            " [[1.   0.   0.   ... 0.   0.   0.  ]\n",
            " [0.45 0.   0.55 ... 0.   0.   0.  ]\n",
            " [0.   0.45 0.   ... 0.   0.   0.  ]\n",
            " ...\n",
            " [0.   0.   0.   ... 0.   0.55 0.  ]\n",
            " [0.   0.   0.   ... 0.45 0.   0.55]\n",
            " [0.   0.   0.   ... 0.   0.   1.  ]]\n"
          ]
        }
      ]
    },
    {
      "cell_type": "code",
      "source": [
        "N_HISTORIES = 100000  # number of histories or simulations\n",
        "LEN_HIST = 100  # Length of each simulation\n",
        "histories = np.zeros((N_HISTORIES, LEN_HIST))\n",
        "histories[:, 0] = INIT_PURSE * np.ones(N_HISTORIES)\n",
        "randarray = rand(N_HISTORIES, LEN_HIST)\n",
        "\n",
        "for i in range(0, N_HISTORIES):\n",
        "    for j in range(1, LEN_HIST):\n",
        "        histories[i, j] = (\n",
        "            histories[i, j - 1] + (randarray[i, j] >= 1-p) - (randarray[i, j] < 1-p)\n",
        "\n",
        "        )\n",
        "        if histories[i, j] == TARGET_PURSE or histories[i, j] < 1:\n",
        "            histories[i, j + 1 : LEN_HIST + 1] = histories[i, j]  # noQA E203\n",
        "            break\n",
        "\n",
        "target_num = np.sum(np.max(histories, axis=1) == TARGET_PURSE)\n",
        "\n",
        "end_gamble = np.zeros(N_HISTORIES)\n",
        "end_gamble_sum = 0\n",
        "\n",
        "for i in range(0, N_HISTORIES):\n",
        "    if np.max(histories[i, :]) == TARGET_PURSE:\n",
        "        where_gamble_ends_T = np.where((histories[i, :] == TARGET_PURSE))\n",
        "        end_gamble[i] = where_gamble_ends_T[0][0]\n",
        "        end_gamble_sum += 1\n",
        "    elif np.min(histories[i, :]) < 1:\n",
        "        where_gamble_ends_0 = np.where((histories[i, :] < 1))\n",
        "        end_gamble[i] = where_gamble_ends_0[0][0]\n",
        "        end_gamble_sum += 1\n",
        "    else:\n",
        "        end_gamble[i] = 0.0\n",
        "\n",
        "broke_num = np.sum(np.min(histories, axis=1) < 1)\n",
        "\n",
        "print(\n",
        "    f\"Chance of getting the profit of %{PROFIT}: %{100*np.round(target_num / N_HISTORIES,2)}\",\n",
        "    f\"\\nChance of losing all the money: %{100*np.round(broke_num / N_HISTORIES,2)}\")\n",
        "print(\n",
        "    \"Expected days to reach the target:\",\n",
        "    np.round(np.sum(end_gamble) / end_gamble_sum,1), \"Trade days\",\n",
        "\n",
        "    \"\\nTotal number of simulations:\",\n",
        "    end_gamble_sum,\n",
        ")"
      ],
      "metadata": {
        "colab": {
          "base_uri": "https://localhost:8080/"
        },
        "id": "202KktyUeLUu",
        "outputId": "def1c792-a78c-41b4-fc8d-a5c3d43c13e2"
      },
      "execution_count": null,
      "outputs": [
        {
          "output_type": "stream",
          "name": "stdout",
          "text": [
            "Chance of getting the profit of %900.0: %0.0 \n",
            "Chance of losing all the money: %9.0\n",
            "Expected days to reach the target: 49.6 Trade days \n",
            "Total number of simulations: 9091\n"
          ]
        }
      ]
    },
    {
      "cell_type": "code",
      "source": [
        "\n",
        "# Random walk of gamblers money to show Gambler Ruin in roulette\n",
        "# Gambler tries to achieve a goal money by betting one dollar every spin in roulette\n",
        "# What is the probability that the gambler is not ruined i.e. gambler doesnt run out of money?\n",
        "# Run simulations of several episodes and count proportion of episodes in which the gambler is not ruined! Each episode ends when the gambler is ruined or when he achieves goal money.\n",
        "\n",
        "PWIN = 0.491\n",
        "\n",
        "TARGET_PURSE = 100\n",
        "INIT_PURSE = 10\n",
        "\n",
        "import numpy as np\n",
        "\n",
        "class Gambler():\n",
        "    def __init__(self):\n",
        "        self.initial_money=INIT_PURSE\n",
        "        self.current_money=self.initial_money\n",
        "        self.goal_money=TARGET_PURSE\n",
        "        self.bets_won=0\n",
        "        self.trials=0\n",
        "\n",
        "    def update_money(self,outcome):\n",
        "        self.current_money+=outcome\n",
        "        self.trials+=1\n",
        "        if outcome==1:\n",
        "            self.bets_won+=1\n",
        "\n",
        "        if self.current_money==self.goal_money or self.current_money==0:\n",
        "            result=self.current_money/self.goal_money\n",
        "            return True,result,self.trials\n",
        "        else:\n",
        "            return False,0,self.trials\n",
        "\n",
        "\n",
        "class Roulette():\n",
        "    def __init__(self):\n",
        "        self.win_prob= PWIN\n",
        "\n",
        "    def play_roulette(self):\n",
        "        fate=np.random.random_sample()\n",
        "        if fate<self.win_prob:\n",
        "            outcome=1\n",
        "        else:\n",
        "            outcome=-1\n",
        "\n",
        "        return outcome\n",
        "\n",
        "\n",
        "episodes=10000\n",
        "finished_episodes=np.arange(int(episodes/10),episodes,int(episodes/10))\n",
        "\n",
        "gambler = Gambler()\n",
        "roulette = Roulette()\n",
        "\n",
        "episode_wins=0\n",
        "episode_spins=np.zeros(episodes)\n",
        "episode_betswon=np.zeros(episodes)\n",
        "\n",
        "for i in range(episodes):\n",
        "    if i in finished_episodes:\n",
        "        print('Completed {} episodes'.format(i))\n",
        "\n",
        "    end = False\n",
        "    gambler.__init__()\n",
        "    spins=0\n",
        "    while end==False:\n",
        "        outcome=roulette.play_roulette()\n",
        "        end,result,trials=gambler.update_money(outcome)\n",
        "        spins+=1\n",
        "    episode_wins+=result\n",
        "    episode_spins[i]=spins\n",
        "    episode_betswon[i]=gambler.bets_won\n",
        "\n",
        "print('The probability of winning from simulation of {} episodes is {} in {} days, if daily return is %1'.format(episodes,episode_wins/episodes,trials))\n",
        "# print('The average number of roulette spins per episode is: ', np.mean(episode_spins))\n",
        "\n",
        "# Reference : http://web.mit.edu/neboat/Public/6.042/randomwalks.pdf\n",
        "# Using recursive relation we can obtain true probability of achieving the goal amount using the formula shown below\n",
        "p=roulette.win_prob\n",
        "\n",
        "T=gambler.goal_money\n",
        "n=gambler.initial_money\n",
        "true_probability=(((1-p)/p)**n-1)/(((1-p)/p)**T-1)\n",
        "print(\"The true probability of winning is {}\".format(true_probability))\n",
        "\n"
      ],
      "metadata": {
        "id": "WoowM1nVe_do",
        "outputId": "940156a6-5b2b-4caa-83ab-cbc4cf1723d3",
        "colab": {
          "base_uri": "https://localhost:8080/"
        }
      },
      "execution_count": null,
      "outputs": [
        {
          "output_type": "stream",
          "name": "stdout",
          "text": [
            "Completed 1000 episodes\n",
            "Completed 2000 episodes\n",
            "Completed 3000 episodes\n",
            "Completed 4000 episodes\n",
            "Completed 5000 episodes\n",
            "Completed 6000 episodes\n",
            "Completed 7000 episodes\n",
            "Completed 8000 episodes\n",
            "Completed 9000 episodes\n",
            "The probability of winning from simulation of 10000 episodes is 1.0 in 168 days, if daily return is %1\n",
            "The true probability of winning is 1.0\n"
          ]
        }
      ]
    },
    {
      "cell_type": "code",
      "source": [],
      "metadata": {
        "id": "2lTpuEl4U_q6"
      },
      "execution_count": null,
      "outputs": []
    }
  ]
}