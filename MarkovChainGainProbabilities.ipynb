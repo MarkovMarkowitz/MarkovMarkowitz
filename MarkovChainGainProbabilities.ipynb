{
  "nbformat": 4,
  "nbformat_minor": 0,
  "metadata": {
    "colab": {
      "provenance": [],
      "toc_visible": true,
      "authorship_tag": "ABX9TyPC6w1mMKSIx8jPxUK/X2Mg",
      "include_colab_link": true
    },
    "kernelspec": {
      "name": "python3",
      "display_name": "Python 3"
    },
    "language_info": {
      "name": "python"
    }
  },
  "cells": [
    {
      "cell_type": "markdown",
      "metadata": {
        "id": "view-in-github",
        "colab_type": "text"
      },
      "source": [
        "<a href=\"https://colab.research.google.com/github/MarkovMarkowitz/MarkovMarkowitz/blob/main/MarkovChainGainProbabilities.ipynb\" target=\"_parent\"><img src=\"https://colab.research.google.com/assets/colab-badge.svg\" alt=\"Open In Colab\"/></a>"
      ]
    },
    {
      "cell_type": "markdown",
      "source": [
        "## **Two Absorbing States: Gambler's Ruin**\n",
        "\n",
        "Now, consider the following situation. A gambler bets on the outcome of a sequence of independent fair coin tosses. With each heads, the gambler gains one dollar. With each tails, the gambler loses one dollar. The gambler stops betting after reaching a fortune of $\\overline{S}$ dollars or after emptying their pockets.\n",
        "\n",
        "*   What are the probabilities of each stopping outcome?\n",
        "*   How long will it take for the gambler, in expectation, to arrive at one of the stopping outcomes?\n",
        "\n",
        "To answer these questions, we can model this setting as a Markov chain on the state space $\\mathcal{S}\\in\\{0,1,...,\\overline{s}\\}$. The gambler starts with initial money $k\\in\\mathcal{S}$, and $s_t$ represents the money in the gambler's pocket at time $t$. Thus, we have that, for $0\\lt s_t \\lt \\overline{s}$:\n",
        "\n",
        "*   $\\mathbb{P}(s_{t+1}=s_t+1|s_{t})=0.5$\n",
        "*   $\\mathbb{P}(s_{t+1}=s_t-1|s_{t})=0.5$\n",
        "\n",
        "States 0 and $\\overline{s}$ are absorbing states because any sequence of draws from the Markov chain stops after reaching any of those situations. Alternatively, we can think that $\\mathbb{P}(s_{t+1}=s_t|s_{t}=\\overline{s})=\\mathbb{P}(s_{t+1}=s_t|s_{t}=0)=1$. We can then represent the $(\\overline{s}+1)\\times(\\overline{s}+1)$ transition matrix as:\n",
        "$$\n",
        "\\begin{align}\n",
        "\\begin{bmatrix}\n",
        "1 & 0 & 0 & 0 & 0 &\\cdots & 0 \\\\\n",
        "0.5 & 0 & 0.5 & 0 & 0 &\\cdots & 0 \\\\\n",
        "0 & 0.5 & 0 & 0.5 & 0 & \\cdots & 0 \\\\\n",
        "\\vdots & \\vdots & \\vdots & \\vdots & \\vdots& \\cdots & \\vdots \\\\\n",
        "0 & 0 & 0 & 0.5 & 0 & 0.5 & 0 \\\\\n",
        "0 & 0 & 0 & 0 & 0.5 & 0 & 0.5 \\\\\n",
        "0 & 0 & 0 & 0 & 0 & 0 & 1\n",
        "\\end{bmatrix}\n",
        "\\end{align}\n",
        "$$\n",
        "Before solving this with math, let's see some Monte Carlo simulation results (in this example, the gambler stops betting after reaching a fortune of 5 USD and starts with 1 USD):"
      ],
      "metadata": {
        "id": "kEdV3CERqAmI"
      }
    },
    {
      "cell_type": "code",
      "execution_count": 37,
      "metadata": {
        "colab": {
          "base_uri": "https://localhost:8080/"
        },
        "id": "k1liQzMUm-ri",
        "outputId": "542cb7ee-f709-4cff-e9a3-e4c145966e33"
      },
      "outputs": [
        {
          "output_type": "stream",
          "name": "stdout",
          "text": [
            "Transition matrix:\n",
            " [[1.  0.  0.  0.  0.  0.  0.  0.  0.  0.  0.  0. ]\n",
            " [0.5 0.  0.5 0.  0.  0.  0.  0.  0.  0.  0.  0. ]\n",
            " [0.  0.5 0.  0.5 0.  0.  0.  0.  0.  0.  0.  0. ]\n",
            " [0.  0.  0.5 0.  0.5 0.  0.  0.  0.  0.  0.  0. ]\n",
            " [0.  0.  0.  0.5 0.  0.5 0.  0.  0.  0.  0.  0. ]\n",
            " [0.  0.  0.  0.  0.5 0.  0.5 0.  0.  0.  0.  0. ]\n",
            " [0.  0.  0.  0.  0.  0.5 0.  0.5 0.  0.  0.  0. ]\n",
            " [0.  0.  0.  0.  0.  0.  0.5 0.  0.5 0.  0.  0. ]\n",
            " [0.  0.  0.  0.  0.  0.  0.  0.5 0.  0.5 0.  0. ]\n",
            " [0.  0.  0.  0.  0.  0.  0.  0.  0.5 0.  0.5 0. ]\n",
            " [0.  0.  0.  0.  0.  0.  0.  0.  0.  0.5 0.  0.5]\n",
            " [0.  0.  0.  0.  0.  0.  0.  0.  0.  0.  0.  1. ]]\n"
          ]
        }
      ],
      "source": [
        "\n",
        "# LIBRARIES WE USE IN THE NOTEBOOK\n",
        "import matplotlib.pyplot as plt\n",
        "import numpy as np\n",
        "from numpy.random import rand, seed\n",
        "from scipy.stats import norm\n",
        "# seed random number generator\n",
        "seed(123)\n",
        "\n",
        "p= 0.5\n",
        "\n",
        "TARGET_PURSE = 11\n",
        "INIT_PURSE = 10\n",
        "\n",
        "N_STATES = TARGET_PURSE + 1\n",
        "\n",
        "S = np.zeros((N_STATES, 1))\n",
        "P = np.zeros((N_STATES, N_STATES))\n",
        "\n",
        "P[0, 0] = 1.0\n",
        "P[N_STATES - 1, N_STATES - 1] = 1.0\n",
        "\n",
        "for ii in range(1, N_STATES - 1):\n",
        "    for jj in range(0, N_STATES):\n",
        "        if jj == ii - 1 :\n",
        "          P[ii, jj] = 1-p\n",
        "        if jj == ii + 1 :\n",
        "          P[ii, jj] = p\n",
        "\n",
        "print(\"Transition matrix:\\n\", P)"
      ]
    },
    {
      "cell_type": "code",
      "source": [
        "N_HISTORIES = 10000  # number of histories or simulations\n",
        "LEN_HIST = 100  # Length of each simulation\n",
        "histories = np.zeros((N_HISTORIES, LEN_HIST))\n",
        "histories[:, 0] = INIT_PURSE * np.ones(N_HISTORIES)\n",
        "randarray = rand(N_HISTORIES, LEN_HIST)\n",
        "\n",
        "for i in range(0, N_HISTORIES):\n",
        "    for j in range(1, LEN_HIST):\n",
        "        histories[i, j] = (\n",
        "            histories[i, j - 1] + (randarray[i, j] >= 0.5) - (randarray[i, j] < 0.5)\n",
        "        )\n",
        "        if histories[i, j] == TARGET_PURSE or histories[i, j] < 1:\n",
        "            histories[i, j + 1 : LEN_HIST + 1] = histories[i, j]  # noQA E203\n",
        "            break\n",
        "\n",
        "target_num = np.sum(np.max(histories, axis=1) == TARGET_PURSE)\n",
        "\n",
        "end_gamble = np.zeros(N_HISTORIES)\n",
        "end_gamble_sum = 0\n",
        "\n",
        "for i in range(0, N_HISTORIES):\n",
        "    if np.max(histories[i, :]) == TARGET_PURSE:\n",
        "        where_gamble_ends_T = np.where((histories[i, :] == TARGET_PURSE))\n",
        "        end_gamble[i] = where_gamble_ends_T[0][0]\n",
        "        end_gamble_sum += 1\n",
        "    elif np.min(histories[i, :]) < 1:\n",
        "        where_gamble_ends_0 = np.where((histories[i, :] < 1))\n",
        "        end_gamble[i] = where_gamble_ends_0[0][0]\n",
        "        end_gamble_sum += 1\n",
        "    else:\n",
        "        end_gamble[i] = 0.0\n",
        "\n",
        "broke_num = np.sum(np.min(histories, axis=1) < 1)\n",
        "\n",
        "print(\n",
        "    \"Probability of getting the target:\",\n",
        "    target_num / N_HISTORIES,\n",
        "    \"\\nProbability of losing all the money:\",\n",
        "    broke_num / N_HISTORIES,\n",
        ")\n",
        "print(\n",
        "    \"Expected time until reaching a stopping result:\",\n",
        "    np.sum(end_gamble) / end_gamble_sum,\n",
        "    \"\\nTotal number of simulations:\",\n",
        "    end_gamble_sum,\n",
        ")"
      ],
      "metadata": {
        "colab": {
          "base_uri": "https://localhost:8080/"
        },
        "id": "mLFJzT9QnP-R",
        "outputId": "fd564ee8-0fe7-41f0-fc97-f867354fd03b"
      },
      "execution_count": 38,
      "outputs": [
        {
          "output_type": "stream",
          "name": "stdout",
          "text": [
            "Probability of getting the target: 0.9065 \n",
            "Probability of losing all the money: 0.0875\n",
            "Expected time until reaching a stopping result: 9.10010060362173 \n",
            "Total number of simulations: 9940\n"
          ]
        }
      ]
    },
    {
      "cell_type": "code",
      "source": [],
      "metadata": {
        "id": "5RN9wr9unsyK"
      },
      "execution_count": 36,
      "outputs": []
    }
  ]
}