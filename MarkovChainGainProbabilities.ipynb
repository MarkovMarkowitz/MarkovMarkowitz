{
  "nbformat": 4,
  "nbformat_minor": 0,
  "metadata": {
    "colab": {
      "provenance": [],
      "authorship_tag": "ABX9TyPGuDlk5duzttnBaZnA6WjA",
      "include_colab_link": true
    },
    "kernelspec": {
      "name": "python3",
      "display_name": "Python 3"
    },
    "language_info": {
      "name": "python"
    }
  },
  "cells": [
    {
      "cell_type": "markdown",
      "metadata": {
        "id": "view-in-github",
        "colab_type": "text"
      },
      "source": [
        "<a href=\"https://colab.research.google.com/github/MarkovMarkowitz/MarkovMarkowitz/blob/main/MarkovChainGainProbabilities.ipynb\" target=\"_parent\"><img src=\"https://colab.research.google.com/assets/colab-badge.svg\" alt=\"Open In Colab\"/></a>"
      ]
    },
    {
      "cell_type": "code",
      "execution_count": 34,
      "metadata": {
        "colab": {
          "base_uri": "https://localhost:8080/"
        },
        "id": "k1liQzMUm-ri",
        "outputId": "cc43d948-98f0-4b72-b06e-24666225cbb8"
      },
      "outputs": [
        {
          "output_type": "stream",
          "name": "stdout",
          "text": [
            "Transition matrix:\n",
            " [[1.  0.  0.  0.  0.  0.  0.  0.  0.  0.  0.  0. ]\n",
            " [0.4 0.  0.6 0.  0.  0.  0.  0.  0.  0.  0.  0. ]\n",
            " [0.  0.4 0.  0.6 0.  0.  0.  0.  0.  0.  0.  0. ]\n",
            " [0.  0.  0.4 0.  0.6 0.  0.  0.  0.  0.  0.  0. ]\n",
            " [0.  0.  0.  0.4 0.  0.6 0.  0.  0.  0.  0.  0. ]\n",
            " [0.  0.  0.  0.  0.4 0.  0.6 0.  0.  0.  0.  0. ]\n",
            " [0.  0.  0.  0.  0.  0.4 0.  0.6 0.  0.  0.  0. ]\n",
            " [0.  0.  0.  0.  0.  0.  0.4 0.  0.6 0.  0.  0. ]\n",
            " [0.  0.  0.  0.  0.  0.  0.  0.4 0.  0.6 0.  0. ]\n",
            " [0.  0.  0.  0.  0.  0.  0.  0.  0.4 0.  0.6 0. ]\n",
            " [0.  0.  0.  0.  0.  0.  0.  0.  0.  0.4 0.  0.6]\n",
            " [0.  0.  0.  0.  0.  0.  0.  0.  0.  0.  0.  1. ]]\n"
          ]
        }
      ],
      "source": [
        "# LIBRARIES WE USE IN THE NOTEBOOK\n",
        "import matplotlib.pyplot as plt\n",
        "import numpy as np\n",
        "from numpy.random import rand, seed\n",
        "from scipy.stats import norm\n",
        "# seed random number generator\n",
        "seed(123)\n",
        "\n",
        "p= 0.6\n",
        "\n",
        "TARGET_PURSE = 11\n",
        "INIT_PURSE = 10\n",
        "\n",
        "N_STATES = TARGET_PURSE + 1\n",
        "\n",
        "S = np.zeros((N_STATES, 1))\n",
        "P = np.zeros((N_STATES, N_STATES))\n",
        "\n",
        "P[0, 0] = 1.0\n",
        "P[N_STATES - 1, N_STATES - 1] = 1.0\n",
        "\n",
        "for ii in range(1, N_STATES - 1):\n",
        "    for jj in range(0, N_STATES):\n",
        "        if jj == ii - 1 :\n",
        "          P[ii, jj] = 1-p\n",
        "        if jj == ii + 1 :\n",
        "          P[ii, jj] = p\n",
        "\n",
        "print(\"Transition matrix:\\n\", P)"
      ]
    },
    {
      "cell_type": "code",
      "source": [
        "N_HISTORIES = 10000  # number of histories or simulations\n",
        "LEN_HIST = 100  # Length of each simulation\n",
        "histories = np.zeros((N_HISTORIES, LEN_HIST))\n",
        "histories[:, 0] = INIT_PURSE * np.ones(N_HISTORIES)\n",
        "randarray = rand(N_HISTORIES, LEN_HIST)\n",
        "\n",
        "for i in range(0, N_HISTORIES):\n",
        "    for j in range(1, LEN_HIST):\n",
        "        histories[i, j] = (\n",
        "            histories[i, j - 1] + (randarray[i, j] >= 0.5) - (randarray[i, j] < 0.5)\n",
        "        )\n",
        "        if histories[i, j] == TARGET_PURSE or histories[i, j] < 1:\n",
        "            histories[i, j + 1 : LEN_HIST + 1] = histories[i, j]  # noQA E203\n",
        "            break\n",
        "\n",
        "target_num = np.sum(np.max(histories, axis=1) == TARGET_PURSE)\n",
        "\n",
        "end_gamble = np.zeros(N_HISTORIES)\n",
        "end_gamble_sum = 0\n",
        "\n",
        "for i in range(0, N_HISTORIES):\n",
        "    if np.max(histories[i, :]) == TARGET_PURSE:\n",
        "        where_gamble_ends_T = np.where((histories[i, :] == TARGET_PURSE))\n",
        "        end_gamble[i] = where_gamble_ends_T[0][0]\n",
        "        end_gamble_sum += 1\n",
        "    elif np.min(histories[i, :]) < 1:\n",
        "        where_gamble_ends_0 = np.where((histories[i, :] < 1))\n",
        "        end_gamble[i] = where_gamble_ends_0[0][0]\n",
        "        end_gamble_sum += 1\n",
        "    else:\n",
        "        end_gamble[i] = 0.0\n",
        "\n",
        "broke_num = np.sum(np.min(histories, axis=1) < 1)\n",
        "\n",
        "print(\n",
        "    \"Probability of getting the target:\",\n",
        "    target_num / N_HISTORIES,\n",
        "    \"\\nProbability of losing all the money:\",\n",
        "    broke_num / N_HISTORIES,\n",
        ")\n",
        "print(\n",
        "    \"Expected time until reaching a stopping result:\",\n",
        "    np.sum(end_gamble) / end_gamble_sum,\n",
        "    \"\\nTotal number of simulations:\",\n",
        "    end_gamble_sum,\n",
        ")"
      ],
      "metadata": {
        "colab": {
          "base_uri": "https://localhost:8080/"
        },
        "id": "mLFJzT9QnP-R",
        "outputId": "55379e25-fa1f-4dd6-b135-15d00c0bd9fc"
      },
      "execution_count": 35,
      "outputs": [
        {
          "output_type": "stream",
          "name": "stdout",
          "text": [
            "Probability of getting the target: 0.9065 \n",
            "Probability of losing all the money: 0.0875\n",
            "Expected time until reaching a stopping result: 9.10010060362173 \n",
            "Total number of simulations: 9940\n"
          ]
        }
      ]
    },
    {
      "cell_type": "code",
      "source": [],
      "metadata": {
        "id": "5RN9wr9unsyK"
      },
      "execution_count": null,
      "outputs": []
    }
  ]
}